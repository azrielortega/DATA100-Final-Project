{
 "cells": [
  {
   "cell_type": "markdown",
   "id": "af3c8c41",
   "metadata": {},
   "source": [
    "# Exploring Filipino Family Income and Expenditure"
   ]
  },
  {
   "cell_type": "markdown",
   "id": "954d2194",
   "metadata": {},
   "source": [
    "### Members:\n",
    "- Fernando Magallenes Jr.\n",
    "- Heinze Kristian Moneda\n",
    "- Azriel Matthew Ortega\n",
    "- Caleb James Sonoy\n",
    "- Darren Tan"
   ]
  },
  {
   "cell_type": "markdown",
   "id": "ceea1904",
   "metadata": {},
   "source": [
    "## Introduction\n",
    "Socioeconomic status refers to the position of a certain individual or group of people which is based on the combination of different economic factors such as income and expenditures (American Psychological Association, 2015a). In order to assess the socioeconomic status of person or group, survey questionnaires are usually done to get specific information such as educational attainment, income, occupation, family size, and relationships (American Psychological Association, 2015b). In the Philippines collecting this kind of data is done through the Family Income and Expenditure Survey (FIES) conducted by the Philippine Statistics Authority (PSA) .\n",
    "\n",
    "Assessing socioeconomic status in the Philippines, however is more difficult as there is no standard SEC models. But with the data collected from the FIES, It can provide the necessary information in order for the government to create policies regarding the socioeconomic status in the country (Philippines Statistics Authority, 2018).\n",
    "\n",
    "### Project Objectives\n",
    "As such, this project aims to do the following:\n",
    "- Perform exploratory data analysis on the different variables of dataset\n",
    "- Identify the different factors affecting the household income of Filipino families\n",
    "- Visualize data and get insights based on the analysis performed."
   ]
  },
  {
   "cell_type": "markdown",
   "id": "3ca533fe",
   "metadata": {},
   "source": [
    "## The Dataset\n",
    "In this project, we will explore the dataset called `Filipino Family Income and Expenditure`, which contains different information about the household income and expenditure of Filipino families on the different regions in the Philippines. The dataset is provided by the Philippine Statistics Authority (PSA) through their Family Income and Expenditure Survey (FIES). This survey is done every 3 years with its goal of provided data regarding the income and expenditure of Filipino families, and other information related on how these incomes are affected by other factors. The source of this dataset can be found on https://www.kaggle.com/grosvenpaul/family-income-and-expenditure\n",
    "\n",
    "### Format\n",
    "The format of the dataset to be use in this project is in `.csv` format\n",
    "\n",
    "### Process of Data Collection\n",
    "According to the [Philippine Statistics Authority](https://psa.gov.ph/sites/default/files/FIES%202018%20Final%20Report.pdf), the data is collected through an interview in two different segments using the same questionnaire. Collection for the first segment was done from January 01, 2018 to June 30, 2018. The second segment on the other hand was collected from July 01, 2018 to December 31, 2018. \n",
    "\n",
    "### Dataset Content\n",
    "Upon opening, the dataset contains **40,000** observations and **60** variables.\n",
    "\n",
    "The **variables** of the dataset are as follows:\n",
    "- **Total Household Income**: Total household income, in Philippine peso.\n",
    "- **Region** : Region in the Philippines where the household is located.\n",
    "- **Total Food Expenditure** : Total food expenditure of the household.\n",
    "- **Main Source of Income** : Main source of income of the household.\n",
    "- **Agricultural Household indicator** : Agricultural household indicator.\n",
    "- **Bread and Cereals Expenditure** : Bread and cereals expenditure of the household, in Philippine peso.\n",
    "- **Total Rice Expenditure**: Total rice expenditure of the household, in Philippine peso.\n",
    "- **Meat Expenditure** : Meat expenditure of the household, in Philippine peso.\n",
    "- **Total Fish and marine products Expenditure** : Total fish and marine products expenditure of the household, in Philippine peso.\n",
    "- **Fruit Expenditure** : Fruit expenditure of the household, in Philippine peso.\n",
    "- **Vegetables Expenditure** : Vegetables expenditure of the household, in Philippine peso.\n",
    "- **Restaurant and hotels Expenditure** : Restaurant and hotels expenditure of the household, in Philippine peso.\n",
    "- **Alcoholic Beverages Expenditure**: Alcoholic beverages expenditure of the household, in Philippine peso.\n",
    "- **Tobacco Expenditure** : Tobacco expenditure of the household, in Philippine peso.\n",
    "- **Clothing, Footwear and Other Wear Expenditure** : Clothing, footwear and other wear expenditure of the household, in Philippine peso.\n",
    "- **Housing and water Expenditure** : Housing and water expenditure of the household, in Philippine peso.\n",
    "- **Imputed House Rental Value** : Imputed house rental value of the household, in Philippine peso.\n",
    "- **Medical Care Expenditure** : Medical care expenditure of the household, in Philippine peso.\n",
    "- **Transportation Expenditure** : Transportation expenditure of the household, in Philippine peso.\n",
    "- **Communication Expenditure** : Communication expenditure of the household, in Philippine peso.\n",
    "- **Education Expenditure** : Education expenditure of the household, in Philippine peso.\n",
    "- **Miscellaneous Goods and Services Expenditure** : Miscellaneous goods and services expenditure of the household, in Philippine peso.\n",
    "- **Special Occasions Expenditure** : Special occasions expenditure of the household, in Philippine peso.\n",
    "- **Crop Farming and Gardening expenses** : Crop farming and gardening expenses of the household, in Philippine peso.\n",
    "- **Total Income from Entrepreneurial Acitivites** : Total income from entrepreneurial activites of the household, in Philippine peso.\n",
    "- **Household Head Sex** : Household head sex.\n",
    "- **Household Head Age**: Household head age.\n",
    "- **Household Head Marital Status** : Household head marital status\n",
    "- **Household Head Highest Grade Completed** : Household head highest grade completed.\n",
    "- **Household Head Job or Business Indicator** : Household head job or business indicator.\n",
    "- **Household Head Occupation** : Household head occupation\n",
    "- **Household Head Class of Worker** : Household head class of worker\n",
    "- **Type of Household** : Type of household.\n",
    "- **Total Number of Family members** : Total number of family members.\n",
    "- **Members with age less than 5 year old** : Members with age less than 5 years old.\n",
    "- **Members with age 5 - 17 years old** : Members with age 5 - 17 years old.\n",
    "- **Total number of family members employed** : Total number of family members employed.\n",
    "- **Type of Building/House** : Type of building/ house.\n",
    "- **Type of Roof** : Type of roof.\n",
    "- **Type of Walls** : Type of walls.\n",
    "- **House Floor Area** : House floor area.\n",
    "- **House Age** : House age.\n",
    "- **Number of bedrooms**: Number of bedrooms.\n",
    "- **Tenure Status**: Tenure status.\n",
    "- **Toilet Facilities** : Toilet facilities.\n",
    "- **Electricity** : Electricity.\n",
    "- **Main Source of Water Supply** : Main source of water supply.\n",
    "- **Number of Television** : Number of television.\n",
    "- **Number of CD/VCD/DVD** : Number of CD/ VCD/ DVD.\n",
    "- **Number of Component/Stereo set** : Number of component/ stereo set.\n",
    "- **Number of Refrigerator/Freezer** : Number of refrigerator/ freezer.\n",
    "- **Number of Washing Machine** : Number of washing machine.\n",
    "- **Number of Airconditioner** : Number of air conditioner.\n",
    "- **Number of Car, Jeep, Van** : Number of car, jeep, van.\n",
    "- **Number of Landline/wireless telephones** : Number of landline/ wireless telephones.\n",
    "- **Number of Cellular phone** : Number of cellular phone.\n",
    "- **Number of Personal Computer** : Number of personal computer.\n",
    "- **Number of Stove with Oven/Gas Range** : Number of stove with oven/ gas range.\n",
    "- **Number of Motorized Banca** : Number of motorized banca.\n",
    "- **Number of Motorcycle/Tricycle** : Number of motorcycle/ tricycle."
   ]
  },
  {
   "cell_type": "markdown",
   "id": "be820373",
   "metadata": {},
   "source": [
    "## Importing Libraries\n",
    "\n",
    "In order to analyze the dataset the following modules are required to be imported in python.\n",
    "\n",
    "- numpy is a library made up of multidimensional array objects and a collection of routines for processing those arrays.\n",
    "- pandas is a software library for Python that is designed for data manipulation and data analysis.\n",
    "- matplotlib is a software libary for data visualization, which allows us to easily render various types of graphs."
   ]
  },
  {
   "cell_type": "code",
   "execution_count": 1,
   "id": "c4d321fe",
   "metadata": {},
   "outputs": [
    {
     "name": "stderr",
     "output_type": "stream",
     "text": [
      "C:\\Users\\Matt\\anaconda3\\lib\\site-packages\\scipy\\__init__.py:146: UserWarning: A NumPy version >=1.16.5 and <1.23.0 is required for this version of SciPy (detected version 1.23.0\n",
      "  warnings.warn(f\"A NumPy version >={np_minversion} and <{np_maxversion}\"\n"
     ]
    }
   ],
   "source": [
    "import numpy as np\n",
    "import pandas as pd\n",
    "import matplotlib.pyplot as plt\n",
    "import scipy.stats as st\n",
    "import seaborn as sns"
   ]
  },
  {
   "cell_type": "markdown",
   "id": "814c793c",
   "metadata": {},
   "source": [
    "## Importing the Dataset\n",
    "\n",
    "First step is to load the dataset using the pandas library. To load the dataset into a pandas Dataframe object, we call the `read_csv` function. The arguments needed for the function is the path to the csv file."
   ]
  },
  {
   "cell_type": "code",
   "execution_count": 2,
   "id": "54c296bc",
   "metadata": {},
   "outputs": [],
   "source": [
    "income_df = pd.read_csv(\"Family Income and Expenditure.csv\")"
   ]
  },
  {
   "cell_type": "code",
   "execution_count": 3,
   "id": "8c89fcb4",
   "metadata": {},
   "outputs": [
    {
     "name": "stdout",
     "output_type": "stream",
     "text": [
      "<class 'pandas.core.frame.DataFrame'>\n",
      "RangeIndex: 41544 entries, 0 to 41543\n",
      "Data columns (total 60 columns):\n",
      " #   Column                                         Non-Null Count  Dtype \n",
      "---  ------                                         --------------  ----- \n",
      " 0   Total Household Income                         41544 non-null  int64 \n",
      " 1   Region                                         41544 non-null  object\n",
      " 2   Total Food Expenditure                         41544 non-null  int64 \n",
      " 3   Main Source of Income                          41544 non-null  object\n",
      " 4   Agricultural Household indicator               41544 non-null  int64 \n",
      " 5   Bread and Cereals Expenditure                  41544 non-null  int64 \n",
      " 6   Total Rice Expenditure                         41544 non-null  int64 \n",
      " 7   Meat Expenditure                               41544 non-null  int64 \n",
      " 8   Total Fish and  marine products Expenditure    41544 non-null  int64 \n",
      " 9   Fruit Expenditure                              41544 non-null  int64 \n",
      " 10  Vegetables Expenditure                         41544 non-null  int64 \n",
      " 11  Restaurant and hotels Expenditure              41544 non-null  int64 \n",
      " 12  Alcoholic Beverages Expenditure                41544 non-null  int64 \n",
      " 13  Tobacco Expenditure                            41544 non-null  int64 \n",
      " 14  Clothing, Footwear and Other Wear Expenditure  41544 non-null  int64 \n",
      " 15  Housing and water Expenditure                  41544 non-null  int64 \n",
      " 16  Imputed House Rental Value                     41544 non-null  int64 \n",
      " 17  Medical Care Expenditure                       41544 non-null  int64 \n",
      " 18  Transportation Expenditure                     41544 non-null  int64 \n",
      " 19  Communication Expenditure                      41544 non-null  int64 \n",
      " 20  Education Expenditure                          41544 non-null  int64 \n",
      " 21  Miscellaneous Goods and Services Expenditure   41544 non-null  int64 \n",
      " 22  Special Occasions Expenditure                  41544 non-null  int64 \n",
      " 23  Crop Farming and Gardening expenses            41544 non-null  int64 \n",
      " 24  Total Income from Entrepreneurial Acitivites   41544 non-null  int64 \n",
      " 25  Household Head Sex                             41544 non-null  object\n",
      " 26  Household Head Age                             41544 non-null  int64 \n",
      " 27  Household Head Marital Status                  41544 non-null  object\n",
      " 28  Household Head Highest Grade Completed         41544 non-null  object\n",
      " 29  Household Head Job or Business Indicator       41544 non-null  object\n",
      " 30  Household Head Occupation                      34008 non-null  object\n",
      " 31  Household Head Class of Worker                 34008 non-null  object\n",
      " 32  Type of Household                              41544 non-null  object\n",
      " 33  Total Number of Family members                 41544 non-null  int64 \n",
      " 34  Members with age less than 5 year old          41544 non-null  int64 \n",
      " 35  Members with age 5 - 17 years old              41544 non-null  int64 \n",
      " 36  Total number of family members employed        41544 non-null  int64 \n",
      " 37  Type of Building/House                         41544 non-null  object\n",
      " 38  Type of Roof                                   41544 non-null  object\n",
      " 39  Type of Walls                                  41544 non-null  object\n",
      " 40  House Floor Area                               41544 non-null  int64 \n",
      " 41  House Age                                      41544 non-null  int64 \n",
      " 42  Number of bedrooms                             41544 non-null  int64 \n",
      " 43  Tenure Status                                  41544 non-null  object\n",
      " 44  Toilet Facilities                              41544 non-null  object\n",
      " 45  Electricity                                    41544 non-null  int64 \n",
      " 46  Main Source of Water Supply                    41544 non-null  object\n",
      " 47  Number of Television                           41544 non-null  int64 \n",
      " 48  Number of CD/VCD/DVD                           41544 non-null  int64 \n",
      " 49  Number of Component/Stereo set                 41544 non-null  int64 \n",
      " 50  Number of Refrigerator/Freezer                 41544 non-null  int64 \n",
      " 51  Number of Washing Machine                      41544 non-null  int64 \n",
      " 52  Number of Airconditioner                       41544 non-null  int64 \n",
      " 53  Number of Car, Jeep, Van                       41544 non-null  int64 \n",
      " 54  Number of Landline/wireless telephones         41544 non-null  int64 \n",
      " 55  Number of Cellular phone                       41544 non-null  int64 \n",
      " 56  Number of Personal Computer                    41544 non-null  int64 \n",
      " 57  Number of Stove with Oven/Gas Range            41544 non-null  int64 \n",
      " 58  Number of Motorized Banca                      41544 non-null  int64 \n",
      " 59  Number of Motorcycle/Tricycle                  41544 non-null  int64 \n",
      "dtypes: int64(45), object(15)\n",
      "memory usage: 19.0+ MB\n"
     ]
    }
   ],
   "source": [
    "income_df.info()"
   ]
  },
  {
   "cell_type": "code",
   "execution_count": 4,
   "id": "339a09fe",
   "metadata": {},
   "outputs": [
    {
     "data": {
      "text/html": [
       "<div>\n",
       "<style scoped>\n",
       "    .dataframe tbody tr th:only-of-type {\n",
       "        vertical-align: middle;\n",
       "    }\n",
       "\n",
       "    .dataframe tbody tr th {\n",
       "        vertical-align: top;\n",
       "    }\n",
       "\n",
       "    .dataframe thead th {\n",
       "        text-align: right;\n",
       "    }\n",
       "</style>\n",
       "<table border=\"1\" class=\"dataframe\">\n",
       "  <thead>\n",
       "    <tr style=\"text-align: right;\">\n",
       "      <th></th>\n",
       "      <th>Total Household Income</th>\n",
       "      <th>Region</th>\n",
       "      <th>Total Food Expenditure</th>\n",
       "      <th>Main Source of Income</th>\n",
       "      <th>Agricultural Household indicator</th>\n",
       "      <th>Bread and Cereals Expenditure</th>\n",
       "      <th>Total Rice Expenditure</th>\n",
       "      <th>Meat Expenditure</th>\n",
       "      <th>Total Fish and  marine products Expenditure</th>\n",
       "      <th>Fruit Expenditure</th>\n",
       "      <th>...</th>\n",
       "      <th>Number of Refrigerator/Freezer</th>\n",
       "      <th>Number of Washing Machine</th>\n",
       "      <th>Number of Airconditioner</th>\n",
       "      <th>Number of Car, Jeep, Van</th>\n",
       "      <th>Number of Landline/wireless telephones</th>\n",
       "      <th>Number of Cellular phone</th>\n",
       "      <th>Number of Personal Computer</th>\n",
       "      <th>Number of Stove with Oven/Gas Range</th>\n",
       "      <th>Number of Motorized Banca</th>\n",
       "      <th>Number of Motorcycle/Tricycle</th>\n",
       "    </tr>\n",
       "  </thead>\n",
       "  <tbody>\n",
       "    <tr>\n",
       "      <th>0</th>\n",
       "      <td>480332</td>\n",
       "      <td>CAR</td>\n",
       "      <td>117848</td>\n",
       "      <td>Wage/Salaries</td>\n",
       "      <td>0</td>\n",
       "      <td>42140</td>\n",
       "      <td>38300</td>\n",
       "      <td>24676</td>\n",
       "      <td>16806</td>\n",
       "      <td>3325</td>\n",
       "      <td>...</td>\n",
       "      <td>1</td>\n",
       "      <td>1</td>\n",
       "      <td>0</td>\n",
       "      <td>0</td>\n",
       "      <td>0</td>\n",
       "      <td>2</td>\n",
       "      <td>1</td>\n",
       "      <td>0</td>\n",
       "      <td>0</td>\n",
       "      <td>1</td>\n",
       "    </tr>\n",
       "    <tr>\n",
       "      <th>1</th>\n",
       "      <td>198235</td>\n",
       "      <td>CAR</td>\n",
       "      <td>67766</td>\n",
       "      <td>Wage/Salaries</td>\n",
       "      <td>0</td>\n",
       "      <td>17329</td>\n",
       "      <td>13008</td>\n",
       "      <td>17434</td>\n",
       "      <td>11073</td>\n",
       "      <td>2035</td>\n",
       "      <td>...</td>\n",
       "      <td>0</td>\n",
       "      <td>1</td>\n",
       "      <td>0</td>\n",
       "      <td>0</td>\n",
       "      <td>0</td>\n",
       "      <td>3</td>\n",
       "      <td>1</td>\n",
       "      <td>0</td>\n",
       "      <td>0</td>\n",
       "      <td>2</td>\n",
       "    </tr>\n",
       "    <tr>\n",
       "      <th>2</th>\n",
       "      <td>82785</td>\n",
       "      <td>CAR</td>\n",
       "      <td>61609</td>\n",
       "      <td>Wage/Salaries</td>\n",
       "      <td>1</td>\n",
       "      <td>34182</td>\n",
       "      <td>32001</td>\n",
       "      <td>7783</td>\n",
       "      <td>2590</td>\n",
       "      <td>1730</td>\n",
       "      <td>...</td>\n",
       "      <td>0</td>\n",
       "      <td>0</td>\n",
       "      <td>0</td>\n",
       "      <td>0</td>\n",
       "      <td>0</td>\n",
       "      <td>0</td>\n",
       "      <td>0</td>\n",
       "      <td>0</td>\n",
       "      <td>0</td>\n",
       "      <td>0</td>\n",
       "    </tr>\n",
       "    <tr>\n",
       "      <th>3</th>\n",
       "      <td>107589</td>\n",
       "      <td>CAR</td>\n",
       "      <td>78189</td>\n",
       "      <td>Wage/Salaries</td>\n",
       "      <td>0</td>\n",
       "      <td>34030</td>\n",
       "      <td>28659</td>\n",
       "      <td>10914</td>\n",
       "      <td>10812</td>\n",
       "      <td>690</td>\n",
       "      <td>...</td>\n",
       "      <td>0</td>\n",
       "      <td>0</td>\n",
       "      <td>0</td>\n",
       "      <td>0</td>\n",
       "      <td>0</td>\n",
       "      <td>1</td>\n",
       "      <td>0</td>\n",
       "      <td>0</td>\n",
       "      <td>0</td>\n",
       "      <td>0</td>\n",
       "    </tr>\n",
       "    <tr>\n",
       "      <th>4</th>\n",
       "      <td>189322</td>\n",
       "      <td>CAR</td>\n",
       "      <td>94625</td>\n",
       "      <td>Wage/Salaries</td>\n",
       "      <td>0</td>\n",
       "      <td>34820</td>\n",
       "      <td>30167</td>\n",
       "      <td>18391</td>\n",
       "      <td>11309</td>\n",
       "      <td>1395</td>\n",
       "      <td>...</td>\n",
       "      <td>1</td>\n",
       "      <td>0</td>\n",
       "      <td>0</td>\n",
       "      <td>0</td>\n",
       "      <td>0</td>\n",
       "      <td>3</td>\n",
       "      <td>0</td>\n",
       "      <td>0</td>\n",
       "      <td>0</td>\n",
       "      <td>1</td>\n",
       "    </tr>\n",
       "    <tr>\n",
       "      <th>...</th>\n",
       "      <td>...</td>\n",
       "      <td>...</td>\n",
       "      <td>...</td>\n",
       "      <td>...</td>\n",
       "      <td>...</td>\n",
       "      <td>...</td>\n",
       "      <td>...</td>\n",
       "      <td>...</td>\n",
       "      <td>...</td>\n",
       "      <td>...</td>\n",
       "      <td>...</td>\n",
       "      <td>...</td>\n",
       "      <td>...</td>\n",
       "      <td>...</td>\n",
       "      <td>...</td>\n",
       "      <td>...</td>\n",
       "      <td>...</td>\n",
       "      <td>...</td>\n",
       "      <td>...</td>\n",
       "      <td>...</td>\n",
       "      <td>...</td>\n",
       "    </tr>\n",
       "    <tr>\n",
       "      <th>41539</th>\n",
       "      <td>119773</td>\n",
       "      <td>XII - SOCCSKSARGEN</td>\n",
       "      <td>44875</td>\n",
       "      <td>Enterpreneurial Activities</td>\n",
       "      <td>1</td>\n",
       "      <td>23675</td>\n",
       "      <td>21542</td>\n",
       "      <td>1476</td>\n",
       "      <td>6120</td>\n",
       "      <td>1632</td>\n",
       "      <td>...</td>\n",
       "      <td>0</td>\n",
       "      <td>0</td>\n",
       "      <td>0</td>\n",
       "      <td>0</td>\n",
       "      <td>0</td>\n",
       "      <td>1</td>\n",
       "      <td>0</td>\n",
       "      <td>0</td>\n",
       "      <td>0</td>\n",
       "      <td>0</td>\n",
       "    </tr>\n",
       "    <tr>\n",
       "      <th>41540</th>\n",
       "      <td>137320</td>\n",
       "      <td>XII - SOCCSKSARGEN</td>\n",
       "      <td>31157</td>\n",
       "      <td>Enterpreneurial Activities</td>\n",
       "      <td>1</td>\n",
       "      <td>2691</td>\n",
       "      <td>1273</td>\n",
       "      <td>1886</td>\n",
       "      <td>4386</td>\n",
       "      <td>1840</td>\n",
       "      <td>...</td>\n",
       "      <td>0</td>\n",
       "      <td>0</td>\n",
       "      <td>0</td>\n",
       "      <td>0</td>\n",
       "      <td>0</td>\n",
       "      <td>3</td>\n",
       "      <td>0</td>\n",
       "      <td>0</td>\n",
       "      <td>0</td>\n",
       "      <td>0</td>\n",
       "    </tr>\n",
       "    <tr>\n",
       "      <th>41541</th>\n",
       "      <td>133171</td>\n",
       "      <td>XII - SOCCSKSARGEN</td>\n",
       "      <td>45882</td>\n",
       "      <td>Enterpreneurial Activities</td>\n",
       "      <td>2</td>\n",
       "      <td>28646</td>\n",
       "      <td>27339</td>\n",
       "      <td>480</td>\n",
       "      <td>4796</td>\n",
       "      <td>1232</td>\n",
       "      <td>...</td>\n",
       "      <td>0</td>\n",
       "      <td>0</td>\n",
       "      <td>0</td>\n",
       "      <td>0</td>\n",
       "      <td>0</td>\n",
       "      <td>1</td>\n",
       "      <td>0</td>\n",
       "      <td>0</td>\n",
       "      <td>0</td>\n",
       "      <td>0</td>\n",
       "    </tr>\n",
       "    <tr>\n",
       "      <th>41542</th>\n",
       "      <td>129500</td>\n",
       "      <td>XII - SOCCSKSARGEN</td>\n",
       "      <td>81416</td>\n",
       "      <td>Enterpreneurial Activities</td>\n",
       "      <td>1</td>\n",
       "      <td>29996</td>\n",
       "      <td>26655</td>\n",
       "      <td>2359</td>\n",
       "      <td>17730</td>\n",
       "      <td>2923</td>\n",
       "      <td>...</td>\n",
       "      <td>0</td>\n",
       "      <td>0</td>\n",
       "      <td>0</td>\n",
       "      <td>0</td>\n",
       "      <td>0</td>\n",
       "      <td>2</td>\n",
       "      <td>0</td>\n",
       "      <td>0</td>\n",
       "      <td>0</td>\n",
       "      <td>0</td>\n",
       "    </tr>\n",
       "    <tr>\n",
       "      <th>41543</th>\n",
       "      <td>128598</td>\n",
       "      <td>XII - SOCCSKSARGEN</td>\n",
       "      <td>78195</td>\n",
       "      <td>Enterpreneurial Activities</td>\n",
       "      <td>1</td>\n",
       "      <td>43485</td>\n",
       "      <td>41205</td>\n",
       "      <td>1985</td>\n",
       "      <td>7735</td>\n",
       "      <td>2062</td>\n",
       "      <td>...</td>\n",
       "      <td>0</td>\n",
       "      <td>0</td>\n",
       "      <td>0</td>\n",
       "      <td>0</td>\n",
       "      <td>0</td>\n",
       "      <td>1</td>\n",
       "      <td>0</td>\n",
       "      <td>0</td>\n",
       "      <td>0</td>\n",
       "      <td>0</td>\n",
       "    </tr>\n",
       "  </tbody>\n",
       "</table>\n",
       "<p>41544 rows × 60 columns</p>\n",
       "</div>"
      ],
      "text/plain": [
       "       Total Household Income              Region  Total Food Expenditure  \\\n",
       "0                      480332                 CAR                  117848   \n",
       "1                      198235                 CAR                   67766   \n",
       "2                       82785                 CAR                   61609   \n",
       "3                      107589                 CAR                   78189   \n",
       "4                      189322                 CAR                   94625   \n",
       "...                       ...                 ...                     ...   \n",
       "41539                  119773  XII - SOCCSKSARGEN                   44875   \n",
       "41540                  137320  XII - SOCCSKSARGEN                   31157   \n",
       "41541                  133171  XII - SOCCSKSARGEN                   45882   \n",
       "41542                  129500  XII - SOCCSKSARGEN                   81416   \n",
       "41543                  128598  XII - SOCCSKSARGEN                   78195   \n",
       "\n",
       "            Main Source of Income  Agricultural Household indicator  \\\n",
       "0                   Wage/Salaries                                 0   \n",
       "1                   Wage/Salaries                                 0   \n",
       "2                   Wage/Salaries                                 1   \n",
       "3                   Wage/Salaries                                 0   \n",
       "4                   Wage/Salaries                                 0   \n",
       "...                           ...                               ...   \n",
       "41539  Enterpreneurial Activities                                 1   \n",
       "41540  Enterpreneurial Activities                                 1   \n",
       "41541  Enterpreneurial Activities                                 2   \n",
       "41542  Enterpreneurial Activities                                 1   \n",
       "41543  Enterpreneurial Activities                                 1   \n",
       "\n",
       "       Bread and Cereals Expenditure  Total Rice Expenditure  \\\n",
       "0                              42140                   38300   \n",
       "1                              17329                   13008   \n",
       "2                              34182                   32001   \n",
       "3                              34030                   28659   \n",
       "4                              34820                   30167   \n",
       "...                              ...                     ...   \n",
       "41539                          23675                   21542   \n",
       "41540                           2691                    1273   \n",
       "41541                          28646                   27339   \n",
       "41542                          29996                   26655   \n",
       "41543                          43485                   41205   \n",
       "\n",
       "       Meat Expenditure  Total Fish and  marine products Expenditure  \\\n",
       "0                 24676                                        16806   \n",
       "1                 17434                                        11073   \n",
       "2                  7783                                         2590   \n",
       "3                 10914                                        10812   \n",
       "4                 18391                                        11309   \n",
       "...                 ...                                          ...   \n",
       "41539              1476                                         6120   \n",
       "41540              1886                                         4386   \n",
       "41541               480                                         4796   \n",
       "41542              2359                                        17730   \n",
       "41543              1985                                         7735   \n",
       "\n",
       "       Fruit Expenditure  ...  Number of Refrigerator/Freezer  \\\n",
       "0                   3325  ...                               1   \n",
       "1                   2035  ...                               0   \n",
       "2                   1730  ...                               0   \n",
       "3                    690  ...                               0   \n",
       "4                   1395  ...                               1   \n",
       "...                  ...  ...                             ...   \n",
       "41539               1632  ...                               0   \n",
       "41540               1840  ...                               0   \n",
       "41541               1232  ...                               0   \n",
       "41542               2923  ...                               0   \n",
       "41543               2062  ...                               0   \n",
       "\n",
       "       Number of Washing Machine  Number of Airconditioner  \\\n",
       "0                              1                         0   \n",
       "1                              1                         0   \n",
       "2                              0                         0   \n",
       "3                              0                         0   \n",
       "4                              0                         0   \n",
       "...                          ...                       ...   \n",
       "41539                          0                         0   \n",
       "41540                          0                         0   \n",
       "41541                          0                         0   \n",
       "41542                          0                         0   \n",
       "41543                          0                         0   \n",
       "\n",
       "       Number of Car, Jeep, Van  Number of Landline/wireless telephones  \\\n",
       "0                             0                                       0   \n",
       "1                             0                                       0   \n",
       "2                             0                                       0   \n",
       "3                             0                                       0   \n",
       "4                             0                                       0   \n",
       "...                         ...                                     ...   \n",
       "41539                         0                                       0   \n",
       "41540                         0                                       0   \n",
       "41541                         0                                       0   \n",
       "41542                         0                                       0   \n",
       "41543                         0                                       0   \n",
       "\n",
       "       Number of Cellular phone  Number of Personal Computer  \\\n",
       "0                             2                            1   \n",
       "1                             3                            1   \n",
       "2                             0                            0   \n",
       "3                             1                            0   \n",
       "4                             3                            0   \n",
       "...                         ...                          ...   \n",
       "41539                         1                            0   \n",
       "41540                         3                            0   \n",
       "41541                         1                            0   \n",
       "41542                         2                            0   \n",
       "41543                         1                            0   \n",
       "\n",
       "       Number of Stove with Oven/Gas Range  Number of Motorized Banca  \\\n",
       "0                                        0                          0   \n",
       "1                                        0                          0   \n",
       "2                                        0                          0   \n",
       "3                                        0                          0   \n",
       "4                                        0                          0   \n",
       "...                                    ...                        ...   \n",
       "41539                                    0                          0   \n",
       "41540                                    0                          0   \n",
       "41541                                    0                          0   \n",
       "41542                                    0                          0   \n",
       "41543                                    0                          0   \n",
       "\n",
       "       Number of Motorcycle/Tricycle  \n",
       "0                                  1  \n",
       "1                                  2  \n",
       "2                                  0  \n",
       "3                                  0  \n",
       "4                                  1  \n",
       "...                              ...  \n",
       "41539                              0  \n",
       "41540                              0  \n",
       "41541                              0  \n",
       "41542                              0  \n",
       "41543                              0  \n",
       "\n",
       "[41544 rows x 60 columns]"
      ]
     },
     "execution_count": 4,
     "metadata": {},
     "output_type": "execute_result"
    }
   ],
   "source": [
    "income_df"
   ]
  },
  {
   "cell_type": "markdown",
   "id": "3c681df0",
   "metadata": {},
   "source": [
    "## Exploratory Data Analysis"
   ]
  },
  {
   "cell_type": "markdown",
   "id": "102440ed",
   "metadata": {},
   "source": [
    "Before doing some data analysis, let's see what data we will be handling and what kind of initial features do we have in the dataset. Let's first get the shape of the dataframe by getting the `.shape` of the dataframe"
   ]
  },
  {
   "cell_type": "code",
   "execution_count": 5,
   "id": "917ffe71-2c9c-4e0e-bf40-35a0e217c662",
   "metadata": {},
   "outputs": [
    {
     "data": {
      "text/plain": [
       "(41544, 60)"
      ]
     },
     "execution_count": 5,
     "metadata": {},
     "output_type": "execute_result"
    }
   ],
   "source": [
    "income_df.shape"
   ]
  },
  {
   "cell_type": "markdown",
   "id": "5681254b",
   "metadata": {},
   "source": [
    "Now let's see all of the quantiative and qualitative features we have on our dataset"
   ]
  },
  {
   "cell_type": "code",
   "execution_count": 6,
   "id": "e1cca877-3c74-4118-ac70-1f1cca93db31",
   "metadata": {},
   "outputs": [
    {
     "name": "stdout",
     "output_type": "stream",
     "text": [
      "Total Household Income\n",
      "Total Food Expenditure\n",
      "Agricultural Household indicator\n",
      "Bread and Cereals Expenditure\n",
      "Total Rice Expenditure\n",
      "Meat Expenditure\n",
      "Total Fish and  marine products Expenditure\n",
      "Fruit Expenditure\n",
      "Vegetables Expenditure\n",
      "Restaurant and hotels Expenditure\n",
      "Alcoholic Beverages Expenditure\n",
      "Tobacco Expenditure\n",
      "Clothing, Footwear and Other Wear Expenditure\n",
      "Housing and water Expenditure\n",
      "Imputed House Rental Value\n",
      "Medical Care Expenditure\n",
      "Transportation Expenditure\n",
      "Communication Expenditure\n",
      "Education Expenditure\n",
      "Miscellaneous Goods and Services Expenditure\n",
      "Special Occasions Expenditure\n",
      "Crop Farming and Gardening expenses\n",
      "Total Income from Entrepreneurial Acitivites\n",
      "Household Head Age\n",
      "Total Number of Family members\n",
      "Members with age less than 5 year old\n",
      "Members with age 5 - 17 years old\n",
      "Total number of family members employed\n",
      "House Floor Area\n",
      "House Age\n",
      "Number of bedrooms\n",
      "Electricity\n",
      "Number of Television\n",
      "Number of CD/VCD/DVD\n",
      "Number of Component/Stereo set\n",
      "Number of Refrigerator/Freezer\n",
      "Number of Washing Machine\n",
      "Number of Airconditioner\n",
      "Number of Car, Jeep, Van\n",
      "Number of Landline/wireless telephones\n",
      "Number of Cellular phone\n",
      "Number of Personal Computer\n",
      "Number of Stove with Oven/Gas Range\n",
      "Number of Motorized Banca\n",
      "Number of Motorcycle/Tricycle\n"
     ]
    }
   ],
   "source": [
    "quant_income_df = income_df.select_dtypes(include=['int16', 'int32', 'int64', 'float16', 'float32', 'float64'])\n",
    "for col in quant_income_df.columns:\n",
    "    print(f\"{col}\")"
   ]
  },
  {
   "cell_type": "code",
   "execution_count": 7,
   "id": "14093c9e-80ff-448e-9061-d130244251e0",
   "metadata": {},
   "outputs": [
    {
     "name": "stdout",
     "output_type": "stream",
     "text": [
      "Region\n",
      "Main Source of Income\n",
      "Household Head Sex\n",
      "Household Head Marital Status\n",
      "Household Head Highest Grade Completed\n",
      "Household Head Job or Business Indicator\n",
      "Household Head Occupation\n",
      "Household Head Class of Worker\n",
      "Type of Household\n",
      "Type of Building/House\n",
      "Type of Roof\n",
      "Type of Walls\n",
      "Tenure Status\n",
      "Toilet Facilities\n",
      "Main Source of Water Supply\n"
     ]
    }
   ],
   "source": [
    "qual_income_df = income_df.select_dtypes(include=['object'])\n",
    "for col in qual_income_df.columns:\n",
    "    print(f\"{col}\")"
   ]
  },
  {
   "cell_type": "markdown",
   "id": "c3b95b7d-22ce-4e4b-ab06-18092b7c8bbd",
   "metadata": {},
   "source": [
    "There are 41544 instances of the dataset with 60 features, 15 of which are qualitative features while the 45 are quantitative.\n",
    "\n",
    "<i>Qualitative</i> : Region,Main Source of Income,Household Head Sex,Household Head Marital Status,Household Head Highest Grade Completed,Household Head Job or Business Indicator,Household Head Occupation,Household Head Class of Worker,Type of Household,Type of Building/House,Type of Roof,Type of Walls,Tenure Status,Toilet Facilities,Main Source of Water Supply,\n",
    "income_df.describe()\n",
    "\n",
    "<i>Quantitative</i>: Total Household Income, Total Food Expenditure, Agricultural Household indicator, Bread and Cereals Expenditure, Total Rice Expenditure, Meat Expenditure, Total Fish and  marine products Expenditure, Fruit Expenditure, Vegetables Expenditure, Restaurant and hotels Expenditure, Alcoholic Beverages Expenditure, Tobacco Expenditure, Clothing, Footwear and Other Wear Expenditure, Housing and water Expenditure, Imputed House Rental Value, Medical Care Expenditure, Transportation Expenditure, Communication Expenditure, Education Expenditure, Miscellaneous Goods and Services Expenditure, Special Occasions Expenditure, Crop Farming and Gardening expenses, Total Income from Entrepreneurial Acitivites, Household Head Age, Total Number of Family members, Members with age less than 5 year old, Members with age 5 - 17 years old, Total number of family members employed, House Floor Area, House Age, Number of bedrooms, Electricity, Number of Television, Number of CD/VCD/DVD, Number of Component/Stereo set, Number of Refrigerator/Freezer, Number of Washing Machine, Number of Airconditioner, Number of Car, Jeep, Van, Number of Landline/wireless telephones, Number of Cellular phone, Number of Personal Computer, Number of Stove with Oven/Gas Range, Number of Motorized Banca, Number of Motorcycle/Tricycle"
   ]
  },
  {
   "cell_type": "code",
   "execution_count": 8,
   "id": "b1e60f76-298a-43fb-8e47-26a44555a601",
   "metadata": {},
   "outputs": [
    {
     "data": {
      "text/html": [
       "<div>\n",
       "<style scoped>\n",
       "    .dataframe tbody tr th:only-of-type {\n",
       "        vertical-align: middle;\n",
       "    }\n",
       "\n",
       "    .dataframe tbody tr th {\n",
       "        vertical-align: top;\n",
       "    }\n",
       "\n",
       "    .dataframe thead th {\n",
       "        text-align: right;\n",
       "    }\n",
       "</style>\n",
       "<table border=\"1\" class=\"dataframe\">\n",
       "  <thead>\n",
       "    <tr style=\"text-align: right;\">\n",
       "      <th></th>\n",
       "      <th>Total Household Income</th>\n",
       "      <th>Total Food Expenditure</th>\n",
       "      <th>Agricultural Household indicator</th>\n",
       "      <th>Bread and Cereals Expenditure</th>\n",
       "      <th>Total Rice Expenditure</th>\n",
       "      <th>Meat Expenditure</th>\n",
       "      <th>Total Fish and  marine products Expenditure</th>\n",
       "      <th>Fruit Expenditure</th>\n",
       "      <th>Vegetables Expenditure</th>\n",
       "      <th>Restaurant and hotels Expenditure</th>\n",
       "      <th>...</th>\n",
       "      <th>Number of Refrigerator/Freezer</th>\n",
       "      <th>Number of Washing Machine</th>\n",
       "      <th>Number of Airconditioner</th>\n",
       "      <th>Number of Car, Jeep, Van</th>\n",
       "      <th>Number of Landline/wireless telephones</th>\n",
       "      <th>Number of Cellular phone</th>\n",
       "      <th>Number of Personal Computer</th>\n",
       "      <th>Number of Stove with Oven/Gas Range</th>\n",
       "      <th>Number of Motorized Banca</th>\n",
       "      <th>Number of Motorcycle/Tricycle</th>\n",
       "    </tr>\n",
       "  </thead>\n",
       "  <tbody>\n",
       "    <tr>\n",
       "      <th>count</th>\n",
       "      <td>4.154400e+04</td>\n",
       "      <td>41544.000000</td>\n",
       "      <td>41544.000000</td>\n",
       "      <td>41544.000000</td>\n",
       "      <td>41544.000000</td>\n",
       "      <td>41544.000000</td>\n",
       "      <td>41544.000000</td>\n",
       "      <td>41544.000000</td>\n",
       "      <td>41544.000000</td>\n",
       "      <td>41544.000000</td>\n",
       "      <td>...</td>\n",
       "      <td>41544.000000</td>\n",
       "      <td>41544.000000</td>\n",
       "      <td>41544.000000</td>\n",
       "      <td>41544.000000</td>\n",
       "      <td>41544.000000</td>\n",
       "      <td>41544.000000</td>\n",
       "      <td>41544.000000</td>\n",
       "      <td>41544.000000</td>\n",
       "      <td>41544.000000</td>\n",
       "      <td>41544.000000</td>\n",
       "    </tr>\n",
       "    <tr>\n",
       "      <th>mean</th>\n",
       "      <td>2.475556e+05</td>\n",
       "      <td>85099.158194</td>\n",
       "      <td>0.429858</td>\n",
       "      <td>25133.723642</td>\n",
       "      <td>18195.825005</td>\n",
       "      <td>10540.072574</td>\n",
       "      <td>10529.318337</td>\n",
       "      <td>2550.474990</td>\n",
       "      <td>5006.918568</td>\n",
       "      <td>15436.566075</td>\n",
       "      <td>...</td>\n",
       "      <td>0.394184</td>\n",
       "      <td>0.319806</td>\n",
       "      <td>0.129814</td>\n",
       "      <td>0.081215</td>\n",
       "      <td>0.060610</td>\n",
       "      <td>1.905738</td>\n",
       "      <td>0.315015</td>\n",
       "      <td>0.135038</td>\n",
       "      <td>0.013119</td>\n",
       "      <td>0.289885</td>\n",
       "    </tr>\n",
       "    <tr>\n",
       "      <th>std</th>\n",
       "      <td>2.868805e+05</td>\n",
       "      <td>51637.947682</td>\n",
       "      <td>0.676666</td>\n",
       "      <td>13466.482984</td>\n",
       "      <td>11727.224350</td>\n",
       "      <td>10497.727757</td>\n",
       "      <td>7812.201613</td>\n",
       "      <td>2969.752879</td>\n",
       "      <td>3300.175236</td>\n",
       "      <td>23705.195929</td>\n",
       "      <td>...</td>\n",
       "      <td>0.537025</td>\n",
       "      <td>0.478482</td>\n",
       "      <td>0.448673</td>\n",
       "      <td>0.346786</td>\n",
       "      <td>0.276732</td>\n",
       "      <td>1.558130</td>\n",
       "      <td>0.739698</td>\n",
       "      <td>0.354083</td>\n",
       "      <td>0.127171</td>\n",
       "      <td>0.558408</td>\n",
       "    </tr>\n",
       "    <tr>\n",
       "      <th>min</th>\n",
       "      <td>1.128500e+04</td>\n",
       "      <td>2947.000000</td>\n",
       "      <td>0.000000</td>\n",
       "      <td>0.000000</td>\n",
       "      <td>0.000000</td>\n",
       "      <td>0.000000</td>\n",
       "      <td>0.000000</td>\n",
       "      <td>0.000000</td>\n",
       "      <td>0.000000</td>\n",
       "      <td>0.000000</td>\n",
       "      <td>...</td>\n",
       "      <td>0.000000</td>\n",
       "      <td>0.000000</td>\n",
       "      <td>0.000000</td>\n",
       "      <td>0.000000</td>\n",
       "      <td>0.000000</td>\n",
       "      <td>0.000000</td>\n",
       "      <td>0.000000</td>\n",
       "      <td>0.000000</td>\n",
       "      <td>0.000000</td>\n",
       "      <td>0.000000</td>\n",
       "    </tr>\n",
       "    <tr>\n",
       "      <th>25%</th>\n",
       "      <td>1.048950e+05</td>\n",
       "      <td>51017.250000</td>\n",
       "      <td>0.000000</td>\n",
       "      <td>16556.000000</td>\n",
       "      <td>11020.000000</td>\n",
       "      <td>3353.750000</td>\n",
       "      <td>5504.000000</td>\n",
       "      <td>1024.750000</td>\n",
       "      <td>2873.000000</td>\n",
       "      <td>1930.000000</td>\n",
       "      <td>...</td>\n",
       "      <td>0.000000</td>\n",
       "      <td>0.000000</td>\n",
       "      <td>0.000000</td>\n",
       "      <td>0.000000</td>\n",
       "      <td>0.000000</td>\n",
       "      <td>1.000000</td>\n",
       "      <td>0.000000</td>\n",
       "      <td>0.000000</td>\n",
       "      <td>0.000000</td>\n",
       "      <td>0.000000</td>\n",
       "    </tr>\n",
       "    <tr>\n",
       "      <th>50%</th>\n",
       "      <td>1.640795e+05</td>\n",
       "      <td>72985.500000</td>\n",
       "      <td>0.000000</td>\n",
       "      <td>23324.000000</td>\n",
       "      <td>16620.000000</td>\n",
       "      <td>7332.500000</td>\n",
       "      <td>8695.000000</td>\n",
       "      <td>1820.000000</td>\n",
       "      <td>4314.000000</td>\n",
       "      <td>7314.000000</td>\n",
       "      <td>...</td>\n",
       "      <td>0.000000</td>\n",
       "      <td>0.000000</td>\n",
       "      <td>0.000000</td>\n",
       "      <td>0.000000</td>\n",
       "      <td>0.000000</td>\n",
       "      <td>2.000000</td>\n",
       "      <td>0.000000</td>\n",
       "      <td>0.000000</td>\n",
       "      <td>0.000000</td>\n",
       "      <td>0.000000</td>\n",
       "    </tr>\n",
       "    <tr>\n",
       "      <th>75%</th>\n",
       "      <td>2.911385e+05</td>\n",
       "      <td>105635.500000</td>\n",
       "      <td>1.000000</td>\n",
       "      <td>31439.000000</td>\n",
       "      <td>23920.000000</td>\n",
       "      <td>14292.000000</td>\n",
       "      <td>13388.000000</td>\n",
       "      <td>3100.000000</td>\n",
       "      <td>6304.250000</td>\n",
       "      <td>19921.250000</td>\n",
       "      <td>...</td>\n",
       "      <td>1.000000</td>\n",
       "      <td>1.000000</td>\n",
       "      <td>0.000000</td>\n",
       "      <td>0.000000</td>\n",
       "      <td>0.000000</td>\n",
       "      <td>3.000000</td>\n",
       "      <td>0.000000</td>\n",
       "      <td>0.000000</td>\n",
       "      <td>0.000000</td>\n",
       "      <td>0.000000</td>\n",
       "    </tr>\n",
       "    <tr>\n",
       "      <th>max</th>\n",
       "      <td>1.181599e+07</td>\n",
       "      <td>827565.000000</td>\n",
       "      <td>2.000000</td>\n",
       "      <td>765864.000000</td>\n",
       "      <td>758326.000000</td>\n",
       "      <td>261566.000000</td>\n",
       "      <td>188208.000000</td>\n",
       "      <td>273769.000000</td>\n",
       "      <td>74800.000000</td>\n",
       "      <td>725296.000000</td>\n",
       "      <td>...</td>\n",
       "      <td>5.000000</td>\n",
       "      <td>3.000000</td>\n",
       "      <td>5.000000</td>\n",
       "      <td>5.000000</td>\n",
       "      <td>4.000000</td>\n",
       "      <td>10.000000</td>\n",
       "      <td>6.000000</td>\n",
       "      <td>3.000000</td>\n",
       "      <td>3.000000</td>\n",
       "      <td>5.000000</td>\n",
       "    </tr>\n",
       "  </tbody>\n",
       "</table>\n",
       "<p>8 rows × 45 columns</p>\n",
       "</div>"
      ],
      "text/plain": [
       "       Total Household Income  Total Food Expenditure  \\\n",
       "count            4.154400e+04            41544.000000   \n",
       "mean             2.475556e+05            85099.158194   \n",
       "std              2.868805e+05            51637.947682   \n",
       "min              1.128500e+04             2947.000000   \n",
       "25%              1.048950e+05            51017.250000   \n",
       "50%              1.640795e+05            72985.500000   \n",
       "75%              2.911385e+05           105635.500000   \n",
       "max              1.181599e+07           827565.000000   \n",
       "\n",
       "       Agricultural Household indicator  Bread and Cereals Expenditure  \\\n",
       "count                      41544.000000                   41544.000000   \n",
       "mean                           0.429858                   25133.723642   \n",
       "std                            0.676666                   13466.482984   \n",
       "min                            0.000000                       0.000000   \n",
       "25%                            0.000000                   16556.000000   \n",
       "50%                            0.000000                   23324.000000   \n",
       "75%                            1.000000                   31439.000000   \n",
       "max                            2.000000                  765864.000000   \n",
       "\n",
       "       Total Rice Expenditure  Meat Expenditure  \\\n",
       "count            41544.000000      41544.000000   \n",
       "mean             18195.825005      10540.072574   \n",
       "std              11727.224350      10497.727757   \n",
       "min                  0.000000          0.000000   \n",
       "25%              11020.000000       3353.750000   \n",
       "50%              16620.000000       7332.500000   \n",
       "75%              23920.000000      14292.000000   \n",
       "max             758326.000000     261566.000000   \n",
       "\n",
       "       Total Fish and  marine products Expenditure  Fruit Expenditure  \\\n",
       "count                                 41544.000000       41544.000000   \n",
       "mean                                  10529.318337        2550.474990   \n",
       "std                                    7812.201613        2969.752879   \n",
       "min                                       0.000000           0.000000   \n",
       "25%                                    5504.000000        1024.750000   \n",
       "50%                                    8695.000000        1820.000000   \n",
       "75%                                   13388.000000        3100.000000   \n",
       "max                                  188208.000000      273769.000000   \n",
       "\n",
       "       Vegetables Expenditure  Restaurant and hotels Expenditure  ...  \\\n",
       "count            41544.000000                       41544.000000  ...   \n",
       "mean              5006.918568                       15436.566075  ...   \n",
       "std               3300.175236                       23705.195929  ...   \n",
       "min                  0.000000                           0.000000  ...   \n",
       "25%               2873.000000                        1930.000000  ...   \n",
       "50%               4314.000000                        7314.000000  ...   \n",
       "75%               6304.250000                       19921.250000  ...   \n",
       "max              74800.000000                      725296.000000  ...   \n",
       "\n",
       "       Number of Refrigerator/Freezer  Number of Washing Machine  \\\n",
       "count                    41544.000000               41544.000000   \n",
       "mean                         0.394184                   0.319806   \n",
       "std                          0.537025                   0.478482   \n",
       "min                          0.000000                   0.000000   \n",
       "25%                          0.000000                   0.000000   \n",
       "50%                          0.000000                   0.000000   \n",
       "75%                          1.000000                   1.000000   \n",
       "max                          5.000000                   3.000000   \n",
       "\n",
       "       Number of Airconditioner  Number of Car, Jeep, Van  \\\n",
       "count              41544.000000              41544.000000   \n",
       "mean                   0.129814                  0.081215   \n",
       "std                    0.448673                  0.346786   \n",
       "min                    0.000000                  0.000000   \n",
       "25%                    0.000000                  0.000000   \n",
       "50%                    0.000000                  0.000000   \n",
       "75%                    0.000000                  0.000000   \n",
       "max                    5.000000                  5.000000   \n",
       "\n",
       "       Number of Landline/wireless telephones  Number of Cellular phone  \\\n",
       "count                            41544.000000              41544.000000   \n",
       "mean                                 0.060610                  1.905738   \n",
       "std                                  0.276732                  1.558130   \n",
       "min                                  0.000000                  0.000000   \n",
       "25%                                  0.000000                  1.000000   \n",
       "50%                                  0.000000                  2.000000   \n",
       "75%                                  0.000000                  3.000000   \n",
       "max                                  4.000000                 10.000000   \n",
       "\n",
       "       Number of Personal Computer  Number of Stove with Oven/Gas Range  \\\n",
       "count                 41544.000000                         41544.000000   \n",
       "mean                      0.315015                             0.135038   \n",
       "std                       0.739698                             0.354083   \n",
       "min                       0.000000                             0.000000   \n",
       "25%                       0.000000                             0.000000   \n",
       "50%                       0.000000                             0.000000   \n",
       "75%                       0.000000                             0.000000   \n",
       "max                       6.000000                             3.000000   \n",
       "\n",
       "       Number of Motorized Banca  Number of Motorcycle/Tricycle  \n",
       "count               41544.000000                   41544.000000  \n",
       "mean                    0.013119                       0.289885  \n",
       "std                     0.127171                       0.558408  \n",
       "min                     0.000000                       0.000000  \n",
       "25%                     0.000000                       0.000000  \n",
       "50%                     0.000000                       0.000000  \n",
       "75%                     0.000000                       0.000000  \n",
       "max                     3.000000                       5.000000  \n",
       "\n",
       "[8 rows x 45 columns]"
      ]
     },
     "execution_count": 8,
     "metadata": {},
     "output_type": "execute_result"
    }
   ],
   "source": [
    "income_df.describe()"
   ]
  },
  {
   "cell_type": "markdown",
   "id": "002d8e60",
   "metadata": {},
   "source": [
    "Let's now check each column to check for patterns and findings regarding the dataset."
   ]
  },
  {
   "cell_type": "markdown",
   "id": "b2a3540b",
   "metadata": {},
   "source": [
    "### `Total Household Income`"
   ]
  },
  {
   "cell_type": "code",
   "execution_count": 9,
   "id": "e0eddc87",
   "metadata": {},
   "outputs": [
    {
     "data": {
      "text/plain": [
       "count       41544.00\n",
       "mean       247555.58\n",
       "std        286880.52\n",
       "min         11285.00\n",
       "25%        104895.00\n",
       "50%        164079.50\n",
       "75%        291138.50\n",
       "max      11815988.00\n",
       "Name: Total Household Income, dtype: float64"
      ]
     },
     "execution_count": 9,
     "metadata": {},
     "output_type": "execute_result"
    }
   ],
   "source": [
    "y = income_df['Total Household Income']\n",
    "y.describe().round(2)"
   ]
  },
  {
   "cell_type": "markdown",
   "id": "59afd324",
   "metadata": {},
   "source": [
    "In the Total Household Income feature, we can see that the average Total Household Income from the dataset is ₱247,555. Where in the lowest is ₱11285 and the highest being ₱11815988. Now let's see the distribution of the total household income."
   ]
  },
  {
   "cell_type": "code",
   "execution_count": 10,
   "id": "d818547c-9142-4ffb-b8a9-7bb015453aa9",
   "metadata": {},
   "outputs": [
    {
     "data": {
      "text/plain": [
       "<seaborn.axisgrid.FacetGrid at 0x2184a842ee0>"
      ]
     },
     "execution_count": 10,
     "metadata": {},
     "output_type": "execute_result"
    },
    {
     "data": {
      "image/png": "[encoded data removed]",
      "text/plain": [
       "<Figure size 360x360 with 1 Axes>"
      ]
     },
     "metadata": {
      "needs_background": "light"
     },
     "output_type": "display_data"
    }
   ],
   "source": [
    "sns.displot(y, bins=100)"
   ]
  },
  {
   "cell_type": "markdown",
   "id": "bbc71483",
   "metadata": {},
   "source": [
    "As we can see here, the distribution of the total household income is right askew."
   ]
  },
  {
   "cell_type": "markdown",
   "id": "1a17254f",
   "metadata": {},
   "source": [
    "### `Total Income from Entrepreneurial Activities`"
   ]
  },
  {
   "cell_type": "code",
   "execution_count": 11,
   "id": "005f5a97",
   "metadata": {},
   "outputs": [
    {
     "data": {
      "text/plain": [
       "count      41544.00\n",
       "mean       54376.24\n",
       "std       147142.79\n",
       "min            0.00\n",
       "25%            0.00\n",
       "50%        19222.00\n",
       "75%        65968.75\n",
       "max      9234485.00\n",
       "Name: Total Income from Entrepreneurial Acitivites, dtype: float64"
      ]
     },
     "execution_count": 11,
     "metadata": {},
     "output_type": "execute_result"
    }
   ],
   "source": [
    "y = income_df[\"Total Income from Entrepreneurial Acitivites\"]\n",
    "y.describe().round(2)"
   ]
  },
  {
   "cell_type": "markdown",
   "id": "e70a1ffa",
   "metadata": {},
   "source": [
    "In the Total Income from Entrepreneurial Activities feature, we can see that the average is ₱54,376. Where in the lowest is ₱0 and the highest being ₱9234485."
   ]
  },
  {
   "cell_type": "code",
   "execution_count": 12,
   "id": "86c69287",
   "metadata": {},
   "outputs": [
    {
     "data": {
      "text/plain": [
       "<seaborn.axisgrid.FacetGrid at 0x2184aa05340>"
      ]
     },
     "execution_count": 12,
     "metadata": {},
     "output_type": "execute_result"
    },
    {
     "data": {
      "image/png": "[encoded data removed]",
      "text/plain": [
       "<Figure size 360x360 with 1 Axes>"
      ]
     },
     "metadata": {
      "needs_background": "light"
     },
     "output_type": "display_data"
    }
   ],
   "source": [
    "sns.displot(y, bins=100)"
   ]
  },
  {
   "cell_type": "markdown",
   "id": "6681ccd2",
   "metadata": {},
   "source": [
    "### `Household Head - Age`"
   ]
  },
  {
   "cell_type": "markdown",
   "id": "c5af8b42",
   "metadata": {},
   "source": [
    "We now move on to the Household Head data"
   ]
  },
  {
   "cell_type": "code",
   "execution_count": 13,
   "id": "050de2fa",
   "metadata": {},
   "outputs": [
    {
     "data": {
      "text/plain": [
       "count    41544.000000\n",
       "mean        51.381451\n",
       "std         14.166081\n",
       "min          9.000000\n",
       "25%         41.000000\n",
       "50%         51.000000\n",
       "75%         61.000000\n",
       "max         99.000000\n",
       "Name: Household Head Age, dtype: float64"
      ]
     },
     "execution_count": 13,
     "metadata": {},
     "output_type": "execute_result"
    }
   ],
   "source": [
    "y = income_df[\"Household Head Age\"]\n",
    "y.describe()"
   ]
  },
  {
   "cell_type": "markdown",
   "id": "82ef81f8",
   "metadata": {},
   "source": [
    "The average age of the Household Head is 51 years old. Where in the lowest is 9 years old and the highest being 99 years old."
   ]
  },
  {
   "cell_type": "code",
   "execution_count": 14,
   "id": "a9319fa7",
   "metadata": {},
   "outputs": [
    {
     "data": {
      "text/plain": [
       "<seaborn.axisgrid.FacetGrid at 0x2184a8baf40>"
      ]
     },
     "execution_count": 14,
     "metadata": {},
     "output_type": "execute_result"
    },
    {
     "data": {
      "image/png": "[encoded data removed]",
      "text/plain": [
       "<Figure size 360x360 with 1 Axes>"
      ]
     },
     "metadata": {
      "needs_background": "light"
     },
     "output_type": "display_data"
    }
   ],
   "source": [
    "sns.displot(y)"
   ]
  },
  {
   "cell_type": "markdown",
   "id": "aa4506e8",
   "metadata": {},
   "source": [
    "We can see in the distribution, majority of the household heads are in the range of 40 - 60 years old."
   ]
  },
  {
   "cell_type": "markdown",
   "id": "df2ca9df",
   "metadata": {},
   "source": [
    "### `Household Head - Sex`"
   ]
  },
  {
   "cell_type": "code",
   "execution_count": 15,
   "id": "93fcba7e",
   "metadata": {},
   "outputs": [
    {
     "data": {
      "text/plain": [
       "Male      32483\n",
       "Female     9061\n",
       "Name: Household Head Sex, dtype: int64"
      ]
     },
     "execution_count": 15,
     "metadata": {},
     "output_type": "execute_result"
    }
   ],
   "source": [
    "y = income_df[\"Household Head Sex\"]\n",
    "y.value_counts()"
   ]
  },
  {
   "cell_type": "code",
   "execution_count": 16,
   "id": "52d5a7e8",
   "metadata": {},
   "outputs": [
    {
     "data": {
      "text/plain": [
       "<AxesSubplot:>"
      ]
     },
     "execution_count": 16,
     "metadata": {},
     "output_type": "execute_result"
    },
    {
     "data": {
      "image/png": "[encoded data removed]",
      "text/plain": [
       "<Figure size 720x720 with 1 Axes>"
      ]
     },
     "metadata": {
      "needs_background": "light"
     },
     "output_type": "display_data"
    }
   ],
   "source": [
    "y.value_counts().plot.bar(figsize=(10,10))"
   ]
  },
  {
   "cell_type": "markdown",
   "id": "9b4fd2af",
   "metadata": {},
   "source": [
    "Majority of the household heads are male, with the count of 32483, while the rest are female with 9061."
   ]
  },
  {
   "cell_type": "markdown",
   "id": "7d982723",
   "metadata": {},
   "source": [
    "### `Household Head - Marital Status`"
   ]
  },
  {
   "cell_type": "code",
   "execution_count": 17,
   "id": "2df168b6",
   "metadata": {},
   "outputs": [
    {
     "data": {
      "text/plain": [
       "Married               31347\n",
       "Widowed                6818\n",
       "Single                 1942\n",
       "Divorced/Separated     1425\n",
       "Annulled                 11\n",
       "Unknown                   1\n",
       "Name: Household Head Marital Status, dtype: int64"
      ]
     },
     "execution_count": 17,
     "metadata": {},
     "output_type": "execute_result"
    }
   ],
   "source": [
    "y = income_df[\"Household Head Marital Status\"]\n",
    "y.value_counts()"
   ]
  },
  {
   "cell_type": "markdown",
   "id": "32e574e3",
   "metadata": {},
   "source": [
    "In the marital status of household heads, we have 6 possible statuses:\n",
    "- Married\n",
    "- Widowed\n",
    "- Single\n",
    "- Divorced/Separated\n",
    "- Annlled\n",
    "- Unknown\n",
    "\n",
    "In the dataset, we can see that majority of the household heads are married. We can visualize the data above by usinga  bar graph."
   ]
  },
  {
   "cell_type": "code",
   "execution_count": 18,
   "id": "2d1ae797",
   "metadata": {},
   "outputs": [
    {
     "data": {
      "text/plain": [
       "<AxesSubplot:>"
      ]
     },
     "execution_count": 18,
     "metadata": {},
     "output_type": "execute_result"
    },
    {
     "data": {
      "image/png": "[encoded data removed]",
      "text/plain": [
       "<Figure size 720x720 with 1 Axes>"
      ]
     },
     "metadata": {
      "needs_background": "light"
     },
     "output_type": "display_data"
    }
   ],
   "source": [
    "y.value_counts().plot.bar(figsize=(10,10))"
   ]
  },
  {
   "cell_type": "markdown",
   "id": "9bcb07ef",
   "metadata": {},
   "source": [
    "### `Household Head - Highest Grade Completed`"
   ]
  },
  {
   "cell_type": "code",
   "execution_count": 19,
   "id": "969b1caf",
   "metadata": {},
   "outputs": [
    {
     "data": {
      "text/plain": [
       "High School Graduate                    9628\n",
       "Elementary Graduate                     7640\n",
       "Grade 4                                 2282\n",
       "Grade 5                                 2123\n",
       "Second Year High School                 2104\n",
       "Grade 3                                 1994\n",
       "Third Year High School                  1545\n",
       "Business and Administration Programs    1344\n",
       "Second Year College                     1343\n",
       "Grade 2                                 1311\n",
       "Name: Household Head Highest Grade Completed, dtype: int64"
      ]
     },
     "execution_count": 19,
     "metadata": {},
     "output_type": "execute_result"
    }
   ],
   "source": [
    "y = income_df[\"Household Head Highest Grade Completed\"]\n",
    "y.value_counts().nlargest(10)"
   ]
  },
  {
   "cell_type": "markdown",
   "id": "121e01a6",
   "metadata": {},
   "source": [
    "Shown above is the Top 10 highest grade completed by count. A lot of people managed to become High School Graduates, with the count of 9627. We can visualize the top 10 above in a bar graph."
   ]
  },
  {
   "cell_type": "code",
   "execution_count": 20,
   "id": "18461ea3",
   "metadata": {},
   "outputs": [
    {
     "data": {
      "text/plain": [
       "<AxesSubplot:>"
      ]
     },
     "execution_count": 20,
     "metadata": {},
     "output_type": "execute_result"
    },
    {
     "data": {
      "image/png": "[encoded data removed]",
      "text/plain": [
       "<Figure size 720x720 with 1 Axes>"
      ]
     },
     "metadata": {
      "needs_background": "light"
     },
     "output_type": "display_data"
    }
   ],
   "source": [
    "y.value_counts().nlargest(10).plot.bar(figsize=(10,10))"
   ]
  },
  {
   "cell_type": "markdown",
   "id": "f9bcd7e6",
   "metadata": {},
   "source": [
    "### `Household Head - Job or Business Indicator`"
   ]
  },
  {
   "cell_type": "code",
   "execution_count": 21,
   "id": "c963671f",
   "metadata": {},
   "outputs": [
    {
     "data": {
      "text/plain": [
       "With Job/Business    34008\n",
       "No Job/Business       7536\n",
       "Name: Household Head Job or Business Indicator, dtype: int64"
      ]
     },
     "execution_count": 21,
     "metadata": {},
     "output_type": "execute_result"
    }
   ],
   "source": [
    "y = income_df[\"Household Head Job or Business Indicator\"]\n",
    "y.value_counts()"
   ]
  },
  {
   "cell_type": "markdown",
   "id": "cfb27ae5",
   "metadata": {},
   "source": [
    "Household Head Job or Business Indicator has only two values, if with job/business or no job/business. In the dataset, 34008 have jobs/business while the rest don't have a job/business. We can visualize the data below using a bar graph. As we can see more than 50% have jobs or businesses."
   ]
  },
  {
   "cell_type": "code",
   "execution_count": 22,
   "id": "95c9397d",
   "metadata": {},
   "outputs": [
    {
     "data": {
      "text/plain": [
       "<AxesSubplot:>"
      ]
     },
     "execution_count": 22,
     "metadata": {},
     "output_type": "execute_result"
    },
    {
     "data": {
      "image/png": "[encoded data removed]",
      "text/plain": [
       "<Figure size 720x720 with 1 Axes>"
      ]
     },
     "metadata": {
      "needs_background": "light"
     },
     "output_type": "display_data"
    }
   ],
   "source": [
    "y.value_counts().plot.bar(figsize=(10,10))"
   ]
  },
  {
   "cell_type": "markdown",
   "id": "61eb9905",
   "metadata": {},
   "source": [
    "### `Household Head - Occupation`"
   ]
  },
  {
   "cell_type": "code",
   "execution_count": 23,
   "id": "ac051eb0",
   "metadata": {},
   "outputs": [
    {
     "data": {
      "text/plain": [
       "Farmhands and laborers                                                                 3478\n",
       "Rice farmers                                                                           2849\n",
       "General managers/managing proprietors in wholesale and retail trade                    2028\n",
       "General managers/managing proprietors in transportation, storage and communications    1932\n",
       "Corn farmers                                                                           1724\n",
       "Coconut farmers                                                                        1036\n",
       "Building construction laborers                                                         1014\n",
       "Inland and coastal waters fishermen                                                    1011\n",
       "Carpenters and joiners                                                                 1000\n",
       "Car, taxi and van drivers                                                               824\n",
       "Name: Household Head Occupation, dtype: int64"
      ]
     },
     "execution_count": 23,
     "metadata": {},
     "output_type": "execute_result"
    }
   ],
   "source": [
    "y = income_df[\"Household Head Occupation\"]\n",
    "y.value_counts().nlargest(10)"
   ]
  },
  {
   "cell_type": "markdown",
   "id": "4f981190",
   "metadata": {},
   "source": [
    "Above is the top 10 occupations of the household heads by count. The top 1 being farmhands and laborers with the count of 3478, followed by rice farms with 2849 then general managers with 2028. We can visualize the data above using a bar chart."
   ]
  },
  {
   "cell_type": "code",
   "execution_count": 24,
   "id": "d7b416dd",
   "metadata": {},
   "outputs": [
    {
     "data": {
      "text/plain": [
       "<AxesSubplot:>"
      ]
     },
     "execution_count": 24,
     "metadata": {},
     "output_type": "execute_result"
    },
    {
     "data": {
      "image/png": "[encoded data removed]",
      "text/plain": [
       "<Figure size 720x720 with 1 Axes>"
      ]
     },
     "metadata": {
      "needs_background": "light"
     },
     "output_type": "display_data"
    }
   ],
   "source": [
    "y.value_counts().nlargest(10).plot.bar(figsize=(10,10))"
   ]
  },
  {
   "cell_type": "markdown",
   "id": "db784aeb",
   "metadata": {},
   "source": [
    "### `Household Head - Class of Worker`"
   ]
  },
  {
   "cell_type": "code",
   "execution_count": 25,
   "id": "6209656b",
   "metadata": {},
   "outputs": [
    {
     "data": {
      "text/plain": [
       "Self-employed wihout any employee                             13766\n",
       "Worked for private establishment                              13731\n",
       "Worked for government/government corporation                   2820\n",
       "Employer in own family-operated farm or business               2581\n",
       "Worked for private household                                    811\n",
       "Worked without pay in own family-operated farm or business      285\n",
       "Worked with pay in own family-operated farm or business          14\n",
       "Name: Household Head Class of Worker, dtype: int64"
      ]
     },
     "execution_count": 25,
     "metadata": {},
     "output_type": "execute_result"
    }
   ],
   "source": [
    "y = income_df[\"Household Head Class of Worker\"]\n",
    "y.value_counts()"
   ]
  },
  {
   "cell_type": "markdown",
   "id": "9a98f74a",
   "metadata": {},
   "source": [
    "Many of the Household Heads are either Self-employed without any employee, or they are working for a private establishment. We can visualize the data above using a bar graph."
   ]
  },
  {
   "cell_type": "code",
   "execution_count": 26,
   "id": "a5a46ece",
   "metadata": {},
   "outputs": [
    {
     "data": {
      "text/plain": [
       "<AxesSubplot:>"
      ]
     },
     "execution_count": 26,
     "metadata": {},
     "output_type": "execute_result"
    },
    {
     "data": {
      "image/png": "[encoded data removed]",
      "text/plain": [
       "<Figure size 720x720 with 1 Axes>"
      ]
     },
     "metadata": {
      "needs_background": "light"
     },
     "output_type": "display_data"
    }
   ],
   "source": [
    "y.value_counts().plot.bar(figsize=(10,10))"
   ]
  },
  {
   "cell_type": "markdown",
   "id": "ca41f378",
   "metadata": {},
   "source": [
    "### `Total Number of Family members`"
   ]
  },
  {
   "cell_type": "code",
   "execution_count": 27,
   "id": "d8d19ad5",
   "metadata": {},
   "outputs": [
    {
     "data": {
      "text/plain": [
       "count    41544.000000\n",
       "mean         4.635182\n",
       "std          2.280252\n",
       "min          1.000000\n",
       "25%          3.000000\n",
       "50%          4.000000\n",
       "75%          6.000000\n",
       "max         26.000000\n",
       "Name: Total Number of Family members, dtype: float64"
      ]
     },
     "execution_count": 27,
     "metadata": {},
     "output_type": "execute_result"
    }
   ],
   "source": [
    "y = income_df[\"Total Number of Family members\"]\n",
    "y.describe()"
   ]
  },
  {
   "cell_type": "markdown",
   "id": "e79be892",
   "metadata": {},
   "source": [
    "In a family, the average number of family members is 4 - 5, where the lowest number is 1 and the highest being 26. We can visualize the distribution of data below."
   ]
  },
  {
   "cell_type": "code",
   "execution_count": 28,
   "id": "70184e9e",
   "metadata": {},
   "outputs": [
    {
     "data": {
      "text/plain": [
       "<seaborn.axisgrid.FacetGrid at 0x2184b001be0>"
      ]
     },
     "execution_count": 28,
     "metadata": {},
     "output_type": "execute_result"
    },
    {
     "data": {
      "image/png": "[encoded data removed]",
      "text/plain": [
       "<Figure size 360x360 with 1 Axes>"
      ]
     },
     "metadata": {
      "needs_background": "light"
     },
     "output_type": "display_data"
    }
   ],
   "source": [
    "sns.displot(y, bins = 25)"
   ]
  },
  {
   "cell_type": "markdown",
   "id": "07574e4d",
   "metadata": {},
   "source": [
    "### `Total Number of Family members employed`"
   ]
  },
  {
   "cell_type": "code",
   "execution_count": 29,
   "id": "07dbe7ef",
   "metadata": {},
   "outputs": [
    {
     "data": {
      "text/plain": [
       "1    15312\n",
       "0    11494\n",
       "2     9303\n",
       "3     3579\n",
       "4     1280\n",
       "5      415\n",
       "6      116\n",
       "7       33\n",
       "8       12\n",
       "Name: Total number of family members employed, dtype: int64"
      ]
     },
     "execution_count": 29,
     "metadata": {},
     "output_type": "execute_result"
    }
   ],
   "source": [
    "y = income_df[\"Total number of family members employed\"]\n",
    "y.value_counts()"
   ]
  },
  {
   "cell_type": "code",
   "execution_count": 30,
   "id": "a5056b26",
   "metadata": {},
   "outputs": [
    {
     "data": {
      "text/plain": [
       "count    41544.000000\n",
       "mean         1.272699\n",
       "std          1.149152\n",
       "min          0.000000\n",
       "25%          0.000000\n",
       "50%          1.000000\n",
       "75%          2.000000\n",
       "max          8.000000\n",
       "Name: Total number of family members employed, dtype: float64"
      ]
     },
     "execution_count": 30,
     "metadata": {},
     "output_type": "execute_result"
    }
   ],
   "source": [
    "y.describe()"
   ]
  },
  {
   "cell_type": "markdown",
   "id": "d1df43ba",
   "metadata": {},
   "source": [
    "In a family, the average total number of family members employed in the dataset is 1, the lowest being 0 and highest being 8. We can visualize the data above by using a bar graph."
   ]
  },
  {
   "cell_type": "code",
   "execution_count": 31,
   "id": "ce62f583",
   "metadata": {},
   "outputs": [
    {
     "data": {
      "text/plain": [
       "<AxesSubplot:>"
      ]
     },
     "execution_count": 31,
     "metadata": {},
     "output_type": "execute_result"
    },
    {
     "data": {
      "image/png": "[encoded data removed]",
      "text/plain": [
       "<Figure size 720x720 with 1 Axes>"
      ]
     },
     "metadata": {
      "needs_background": "light"
     },
     "output_type": "display_data"
    }
   ],
   "source": [
    "y.value_counts().plot.bar(figsize=(10,10))"
   ]
  },
  {
   "cell_type": "markdown",
   "id": "2146c296",
   "metadata": {},
   "source": [
    "### `Agricultural Household indicator`"
   ]
  },
  {
   "cell_type": "code",
   "execution_count": 32,
   "id": "ffd20ada",
   "metadata": {},
   "outputs": [
    {
     "data": {
      "text/plain": [
       "array([0, 1, 2], dtype=int64)"
      ]
     },
     "execution_count": 32,
     "metadata": {},
     "output_type": "execute_result"
    }
   ],
   "source": [
    "y = income_df['Agricultural Household indicator']\n",
    "y.unique()"
   ]
  },
  {
   "cell_type": "markdown",
   "id": "ee746d24",
   "metadata": {},
   "source": [
    "Agricultural Household Indicator has only three values, 0 1 and 2"
   ]
  },
  {
   "cell_type": "code",
   "execution_count": 33,
   "id": "94b7886e",
   "metadata": {},
   "outputs": [
    {
     "data": {
      "text/plain": [
       "0    28106\n",
       "1     9018\n",
       "2     4420\n",
       "Name: Agricultural Household indicator, dtype: int64"
      ]
     },
     "execution_count": 33,
     "metadata": {},
     "output_type": "execute_result"
    }
   ],
   "source": [
    "y.value_counts()"
   ]
  },
  {
   "cell_type": "markdown",
   "id": "10c4c9f2",
   "metadata": {},
   "source": [
    "Majority of the the dataset have an agricultural household indicator of 0 with a count of 28106. We can visualize the data above using a bar graph."
   ]
  },
  {
   "cell_type": "code",
   "execution_count": 34,
   "id": "bd9366dc",
   "metadata": {},
   "outputs": [
    {
     "data": {
      "text/plain": [
       "<AxesSubplot:>"
      ]
     },
     "execution_count": 34,
     "metadata": {},
     "output_type": "execute_result"
    },
    {
     "data": {
      "image/png": "[encoded data removed]",
      "text/plain": [
       "<Figure size 720x720 with 1 Axes>"
      ]
     },
     "metadata": {
      "needs_background": "light"
     },
     "output_type": "display_data"
    }
   ],
   "source": [
    "y.value_counts().plot.bar(figsize=(10,10))"
   ]
  },
  {
   "cell_type": "markdown",
   "id": "a38f75a1",
   "metadata": {},
   "source": [
    "### `Expenditures`"
   ]
  },
  {
   "cell_type": "markdown",
   "id": "eb289f38",
   "metadata": {},
   "source": [
    "Before handling the expenditures, we will be getting all of the expenditures in the dataset which are\n",
    "- Total Food Expenditure\n",
    "- Bread and Cereals Expenditure\n",
    "- Total Rice Expenditure\n",
    "- Meat Expenditure\n",
    "- Total Fish and  marine products Expenditure\n",
    "- Fruit Expenditure\n",
    "- Vegetables Expenditure\n",
    "- Restaurant and hotels Expenditure\n",
    "- Alcoholic Beverages Expenditure\n",
    "- Tobacco Expenditure\n",
    "- Clothing, Footwear and Other Wear Expenditure\n",
    "- Housing and water Expenditure\n",
    "- Medical Care Expenditure\n",
    "- Transportation Expenditure\n",
    "- Communication Expenditure\n",
    "- Education Expenditure\n",
    "- Miscellaneous Goods and Services Expenditure\n",
    "- Special Occasions Expenditure"
   ]
  },
  {
   "cell_type": "code",
   "execution_count": 35,
   "id": "8523fc9b",
   "metadata": {},
   "outputs": [
    {
     "data": {
      "text/html": [
       "<div>\n",
       "<style scoped>\n",
       "    .dataframe tbody tr th:only-of-type {\n",
       "        vertical-align: middle;\n",
       "    }\n",
       "\n",
       "    .dataframe tbody tr th {\n",
       "        vertical-align: top;\n",
       "    }\n",
       "\n",
       "    .dataframe thead th {\n",
       "        text-align: right;\n",
       "    }\n",
       "</style>\n",
       "<table border=\"1\" class=\"dataframe\">\n",
       "  <thead>\n",
       "    <tr style=\"text-align: right;\">\n",
       "      <th></th>\n",
       "      <th>Total Food Expenditure</th>\n",
       "      <th>Bread and Cereals Expenditure</th>\n",
       "      <th>Total Rice Expenditure</th>\n",
       "      <th>Meat Expenditure</th>\n",
       "      <th>Total Fish and  marine products Expenditure</th>\n",
       "      <th>Fruit Expenditure</th>\n",
       "      <th>Vegetables Expenditure</th>\n",
       "      <th>Restaurant and hotels Expenditure</th>\n",
       "      <th>Alcoholic Beverages Expenditure</th>\n",
       "      <th>Tobacco Expenditure</th>\n",
       "      <th>Clothing, Footwear and Other Wear Expenditure</th>\n",
       "      <th>Housing and water Expenditure</th>\n",
       "      <th>Medical Care Expenditure</th>\n",
       "      <th>Transportation Expenditure</th>\n",
       "      <th>Communication Expenditure</th>\n",
       "      <th>Education Expenditure</th>\n",
       "      <th>Miscellaneous Goods and Services Expenditure</th>\n",
       "      <th>Special Occasions Expenditure</th>\n",
       "    </tr>\n",
       "  </thead>\n",
       "  <tbody>\n",
       "    <tr>\n",
       "      <th>0</th>\n",
       "      <td>117848</td>\n",
       "      <td>42140</td>\n",
       "      <td>38300</td>\n",
       "      <td>24676</td>\n",
       "      <td>16806</td>\n",
       "      <td>3325</td>\n",
       "      <td>13460</td>\n",
       "      <td>3000</td>\n",
       "      <td>0</td>\n",
       "      <td>0</td>\n",
       "      <td>4607</td>\n",
       "      <td>63636</td>\n",
       "      <td>3457</td>\n",
       "      <td>4776</td>\n",
       "      <td>2880</td>\n",
       "      <td>36200</td>\n",
       "      <td>34056</td>\n",
       "      <td>7200</td>\n",
       "    </tr>\n",
       "    <tr>\n",
       "      <th>1</th>\n",
       "      <td>67766</td>\n",
       "      <td>17329</td>\n",
       "      <td>13008</td>\n",
       "      <td>17434</td>\n",
       "      <td>11073</td>\n",
       "      <td>2035</td>\n",
       "      <td>7833</td>\n",
       "      <td>2360</td>\n",
       "      <td>960</td>\n",
       "      <td>2132</td>\n",
       "      <td>8230</td>\n",
       "      <td>41370</td>\n",
       "      <td>3520</td>\n",
       "      <td>12900</td>\n",
       "      <td>5700</td>\n",
       "      <td>29300</td>\n",
       "      <td>9150</td>\n",
       "      <td>1500</td>\n",
       "    </tr>\n",
       "    <tr>\n",
       "      <th>2</th>\n",
       "      <td>61609</td>\n",
       "      <td>34182</td>\n",
       "      <td>32001</td>\n",
       "      <td>7783</td>\n",
       "      <td>2590</td>\n",
       "      <td>1730</td>\n",
       "      <td>3795</td>\n",
       "      <td>4545</td>\n",
       "      <td>270</td>\n",
       "      <td>4525</td>\n",
       "      <td>2735</td>\n",
       "      <td>14340</td>\n",
       "      <td>70</td>\n",
       "      <td>324</td>\n",
       "      <td>420</td>\n",
       "      <td>425</td>\n",
       "      <td>6450</td>\n",
       "      <td>500</td>\n",
       "    </tr>\n",
       "    <tr>\n",
       "      <th>3</th>\n",
       "      <td>78189</td>\n",
       "      <td>34030</td>\n",
       "      <td>28659</td>\n",
       "      <td>10914</td>\n",
       "      <td>10812</td>\n",
       "      <td>690</td>\n",
       "      <td>7887</td>\n",
       "      <td>6280</td>\n",
       "      <td>480</td>\n",
       "      <td>0</td>\n",
       "      <td>1390</td>\n",
       "      <td>16638</td>\n",
       "      <td>60</td>\n",
       "      <td>6840</td>\n",
       "      <td>660</td>\n",
       "      <td>300</td>\n",
       "      <td>3762</td>\n",
       "      <td>500</td>\n",
       "    </tr>\n",
       "    <tr>\n",
       "      <th>4</th>\n",
       "      <td>94625</td>\n",
       "      <td>34820</td>\n",
       "      <td>30167</td>\n",
       "      <td>18391</td>\n",
       "      <td>11309</td>\n",
       "      <td>1395</td>\n",
       "      <td>11260</td>\n",
       "      <td>6400</td>\n",
       "      <td>1040</td>\n",
       "      <td>0</td>\n",
       "      <td>4620</td>\n",
       "      <td>31122</td>\n",
       "      <td>140</td>\n",
       "      <td>6996</td>\n",
       "      <td>2100</td>\n",
       "      <td>0</td>\n",
       "      <td>8472</td>\n",
       "      <td>1000</td>\n",
       "    </tr>\n",
       "    <tr>\n",
       "      <th>...</th>\n",
       "      <td>...</td>\n",
       "      <td>...</td>\n",
       "      <td>...</td>\n",
       "      <td>...</td>\n",
       "      <td>...</td>\n",
       "      <td>...</td>\n",
       "      <td>...</td>\n",
       "      <td>...</td>\n",
       "      <td>...</td>\n",
       "      <td>...</td>\n",
       "      <td>...</td>\n",
       "      <td>...</td>\n",
       "      <td>...</td>\n",
       "      <td>...</td>\n",
       "      <td>...</td>\n",
       "      <td>...</td>\n",
       "      <td>...</td>\n",
       "      <td>...</td>\n",
       "    </tr>\n",
       "    <tr>\n",
       "      <th>41539</th>\n",
       "      <td>44875</td>\n",
       "      <td>23675</td>\n",
       "      <td>21542</td>\n",
       "      <td>1476</td>\n",
       "      <td>6120</td>\n",
       "      <td>1632</td>\n",
       "      <td>3882</td>\n",
       "      <td>1805</td>\n",
       "      <td>0</td>\n",
       "      <td>133</td>\n",
       "      <td>1395</td>\n",
       "      <td>18372</td>\n",
       "      <td>294</td>\n",
       "      <td>2124</td>\n",
       "      <td>600</td>\n",
       "      <td>50</td>\n",
       "      <td>3978</td>\n",
       "      <td>2500</td>\n",
       "    </tr>\n",
       "    <tr>\n",
       "      <th>41540</th>\n",
       "      <td>31157</td>\n",
       "      <td>2691</td>\n",
       "      <td>1273</td>\n",
       "      <td>1886</td>\n",
       "      <td>4386</td>\n",
       "      <td>1840</td>\n",
       "      <td>3110</td>\n",
       "      <td>9090</td>\n",
       "      <td>0</td>\n",
       "      <td>300</td>\n",
       "      <td>3136</td>\n",
       "      <td>17640</td>\n",
       "      <td>890</td>\n",
       "      <td>2568</td>\n",
       "      <td>1560</td>\n",
       "      <td>1550</td>\n",
       "      <td>6090</td>\n",
       "      <td>1500</td>\n",
       "    </tr>\n",
       "    <tr>\n",
       "      <th>41541</th>\n",
       "      <td>45882</td>\n",
       "      <td>28646</td>\n",
       "      <td>27339</td>\n",
       "      <td>480</td>\n",
       "      <td>4796</td>\n",
       "      <td>1232</td>\n",
       "      <td>3025</td>\n",
       "      <td>3330</td>\n",
       "      <td>0</td>\n",
       "      <td>0</td>\n",
       "      <td>2460</td>\n",
       "      <td>9240</td>\n",
       "      <td>540</td>\n",
       "      <td>2040</td>\n",
       "      <td>1080</td>\n",
       "      <td>0</td>\n",
       "      <td>3570</td>\n",
       "      <td>500</td>\n",
       "    </tr>\n",
       "    <tr>\n",
       "      <th>41542</th>\n",
       "      <td>81416</td>\n",
       "      <td>29996</td>\n",
       "      <td>26655</td>\n",
       "      <td>2359</td>\n",
       "      <td>17730</td>\n",
       "      <td>2923</td>\n",
       "      <td>7951</td>\n",
       "      <td>13660</td>\n",
       "      <td>0</td>\n",
       "      <td>630</td>\n",
       "      <td>3755</td>\n",
       "      <td>12438</td>\n",
       "      <td>314</td>\n",
       "      <td>2412</td>\n",
       "      <td>1020</td>\n",
       "      <td>5295</td>\n",
       "      <td>5760</td>\n",
       "      <td>1000</td>\n",
       "    </tr>\n",
       "    <tr>\n",
       "      <th>41543</th>\n",
       "      <td>78195</td>\n",
       "      <td>43485</td>\n",
       "      <td>41205</td>\n",
       "      <td>1985</td>\n",
       "      <td>7735</td>\n",
       "      <td>2062</td>\n",
       "      <td>7114</td>\n",
       "      <td>5750</td>\n",
       "      <td>0</td>\n",
       "      <td>120</td>\n",
       "      <td>2320</td>\n",
       "      <td>11316</td>\n",
       "      <td>330</td>\n",
       "      <td>1560</td>\n",
       "      <td>960</td>\n",
       "      <td>80</td>\n",
       "      <td>6060</td>\n",
       "      <td>2500</td>\n",
       "    </tr>\n",
       "  </tbody>\n",
       "</table>\n",
       "<p>41544 rows × 18 columns</p>\n",
       "</div>"
      ],
      "text/plain": [
       "       Total Food Expenditure  Bread and Cereals Expenditure  \\\n",
       "0                      117848                          42140   \n",
       "1                       67766                          17329   \n",
       "2                       61609                          34182   \n",
       "3                       78189                          34030   \n",
       "4                       94625                          34820   \n",
       "...                       ...                            ...   \n",
       "41539                   44875                          23675   \n",
       "41540                   31157                           2691   \n",
       "41541                   45882                          28646   \n",
       "41542                   81416                          29996   \n",
       "41543                   78195                          43485   \n",
       "\n",
       "       Total Rice Expenditure  Meat Expenditure  \\\n",
       "0                       38300             24676   \n",
       "1                       13008             17434   \n",
       "2                       32001              7783   \n",
       "3                       28659             10914   \n",
       "4                       30167             18391   \n",
       "...                       ...               ...   \n",
       "41539                   21542              1476   \n",
       "41540                    1273              1886   \n",
       "41541                   27339               480   \n",
       "41542                   26655              2359   \n",
       "41543                   41205              1985   \n",
       "\n",
       "       Total Fish and  marine products Expenditure  Fruit Expenditure  \\\n",
       "0                                            16806               3325   \n",
       "1                                            11073               2035   \n",
       "2                                             2590               1730   \n",
       "3                                            10812                690   \n",
       "4                                            11309               1395   \n",
       "...                                            ...                ...   \n",
       "41539                                         6120               1632   \n",
       "41540                                         4386               1840   \n",
       "41541                                         4796               1232   \n",
       "41542                                        17730               2923   \n",
       "41543                                         7735               2062   \n",
       "\n",
       "       Vegetables Expenditure  Restaurant and hotels Expenditure  \\\n",
       "0                       13460                               3000   \n",
       "1                        7833                               2360   \n",
       "2                        3795                               4545   \n",
       "3                        7887                               6280   \n",
       "4                       11260                               6400   \n",
       "...                       ...                                ...   \n",
       "41539                    3882                               1805   \n",
       "41540                    3110                               9090   \n",
       "41541                    3025                               3330   \n",
       "41542                    7951                              13660   \n",
       "41543                    7114                               5750   \n",
       "\n",
       "       Alcoholic Beverages Expenditure  Tobacco Expenditure  \\\n",
       "0                                    0                    0   \n",
       "1                                  960                 2132   \n",
       "2                                  270                 4525   \n",
       "3                                  480                    0   \n",
       "4                                 1040                    0   \n",
       "...                                ...                  ...   \n",
       "41539                                0                  133   \n",
       "41540                                0                  300   \n",
       "41541                                0                    0   \n",
       "41542                                0                  630   \n",
       "41543                                0                  120   \n",
       "\n",
       "       Clothing, Footwear and Other Wear Expenditure  \\\n",
       "0                                               4607   \n",
       "1                                               8230   \n",
       "2                                               2735   \n",
       "3                                               1390   \n",
       "4                                               4620   \n",
       "...                                              ...   \n",
       "41539                                           1395   \n",
       "41540                                           3136   \n",
       "41541                                           2460   \n",
       "41542                                           3755   \n",
       "41543                                           2320   \n",
       "\n",
       "       Housing and water Expenditure  Medical Care Expenditure  \\\n",
       "0                              63636                      3457   \n",
       "1                              41370                      3520   \n",
       "2                              14340                        70   \n",
       "3                              16638                        60   \n",
       "4                              31122                       140   \n",
       "...                              ...                       ...   \n",
       "41539                          18372                       294   \n",
       "41540                          17640                       890   \n",
       "41541                           9240                       540   \n",
       "41542                          12438                       314   \n",
       "41543                          11316                       330   \n",
       "\n",
       "       Transportation Expenditure  Communication Expenditure  \\\n",
       "0                            4776                       2880   \n",
       "1                           12900                       5700   \n",
       "2                             324                        420   \n",
       "3                            6840                        660   \n",
       "4                            6996                       2100   \n",
       "...                           ...                        ...   \n",
       "41539                        2124                        600   \n",
       "41540                        2568                       1560   \n",
       "41541                        2040                       1080   \n",
       "41542                        2412                       1020   \n",
       "41543                        1560                        960   \n",
       "\n",
       "       Education Expenditure  Miscellaneous Goods and Services Expenditure  \\\n",
       "0                      36200                                         34056   \n",
       "1                      29300                                          9150   \n",
       "2                        425                                          6450   \n",
       "3                        300                                          3762   \n",
       "4                          0                                          8472   \n",
       "...                      ...                                           ...   \n",
       "41539                     50                                          3978   \n",
       "41540                   1550                                          6090   \n",
       "41541                      0                                          3570   \n",
       "41542                   5295                                          5760   \n",
       "41543                     80                                          6060   \n",
       "\n",
       "       Special Occasions Expenditure  \n",
       "0                               7200  \n",
       "1                               1500  \n",
       "2                                500  \n",
       "3                                500  \n",
       "4                               1000  \n",
       "...                              ...  \n",
       "41539                           2500  \n",
       "41540                           1500  \n",
       "41541                            500  \n",
       "41542                           1000  \n",
       "41543                           2500  \n",
       "\n",
       "[41544 rows x 18 columns]"
      ]
     },
     "execution_count": 35,
     "metadata": {},
     "output_type": "execute_result"
    }
   ],
   "source": [
    "expenditures_df = income_df.filter(regex='Expenditure')\n",
    "expenditures_df"
   ]
  },
  {
   "cell_type": "markdown",
   "id": "05d0ac00",
   "metadata": {},
   "source": [
    "After getting all of the expenditures, lets check where do most people spend their money on to."
   ]
  },
  {
   "cell_type": "code",
   "execution_count": 36,
   "id": "724f81b1",
   "metadata": {},
   "outputs": [
    {
     "data": {
      "text/plain": [
       "Total Food Expenditure                          3535359428\n",
       "Housing and water Expenditure                   1594270434\n",
       "Bread and Cereals Expenditure                   1044155415\n",
       "Total Rice Expenditure                           755927354\n",
       "Restaurant and hotels Expenditure                641296701\n",
       "Miscellaneous Goods and Services Expenditure     520216944\n",
       "Transportation Expenditure                       490482774\n",
       "Meat Expenditure                                 437876775\n",
       "Total Fish and  marine products Expenditure      437430001\n",
       "Education Expenditure                            310479104\n",
       "dtype: int64"
      ]
     },
     "execution_count": 36,
     "metadata": {},
     "output_type": "execute_result"
    }
   ],
   "source": [
    "expenditures_sum = expenditures_df.sum()\n",
    "expenditures_sum.nlargest(10)"
   ]
  },
  {
   "cell_type": "markdown",
   "id": "b193f509",
   "metadata": {},
   "source": [
    "In the data above, we can see the top 10 largest expenditures families spend on. The top being Total Food Expenditure with ₱3,535,359,428, next is Housing and Water Expenditure with ₱1,594,270,434, and on third is Bread and Cereals Expenditure with ₱1,044,155,415. We can view all of the expenditures in the pie graph below."
   ]
  },
  {
   "cell_type": "code",
   "execution_count": 37,
   "id": "f5133193",
   "metadata": {},
   "outputs": [
    {
     "data": {
      "text/plain": [
       "<AxesSubplot:ylabel='None'>"
      ]
     },
     "execution_count": 37,
     "metadata": {},
     "output_type": "execute_result"
    },
    {
     "data": {
      "image/png": "[encoded data removed]",
      "text/plain": [
       "<Figure size 720x720 with 1 Axes>"
      ]
     },
     "metadata": {},
     "output_type": "display_data"
    }
   ],
   "source": [
    "expenditures_sum.plot.pie(figsize=(10,10))"
   ]
  },
  {
   "cell_type": "code",
   "execution_count": 38,
   "id": "c6141695",
   "metadata": {},
   "outputs": [
    {
     "name": "stdout",
     "output_type": "stream",
     "text": [
      "Highest expenditure is Total Food Expenditure with total of 3535359428 pesos\n",
      "Lowest expenditure is Alcoholic Beverages Expenditure with total of 45078070 pesos\n"
     ]
    }
   ],
   "source": [
    "print(f\"Highest expenditure is {expenditures_sum.idxmax()} with total of {expenditures_sum.max()} pesos\")\n",
    "print(f\"Lowest expenditure is {expenditures_sum.idxmin()} with total of {expenditures_sum.min()} pesos\")"
   ]
  },
  {
   "cell_type": "code",
   "execution_count": 39,
   "id": "04162844",
   "metadata": {},
   "outputs": [
    {
     "data": {
      "text/plain": [
       "<AxesSubplot:>"
      ]
     },
     "execution_count": 39,
     "metadata": {},
     "output_type": "execute_result"
    },
    {
     "data": {
      "image/png": "[encoded data removed]",
      "text/plain": [
       "<Figure size 720x720 with 1 Axes>"
      ]
     },
     "metadata": {
      "needs_background": "light"
     },
     "output_type": "display_data"
    }
   ],
   "source": [
    "expenditures_sum.nlargest(10).plot.bar(figsize=(10,10))"
   ]
  },
  {
   "cell_type": "markdown",
   "id": "089cfbdb",
   "metadata": {},
   "source": [
    "Above is a bar chart showing the top 10 largest expenditures made by families."
   ]
  },
  {
   "cell_type": "markdown",
   "id": "7ae2904c",
   "metadata": {},
   "source": [
    "### `Type of Household`"
   ]
  },
  {
   "cell_type": "code",
   "execution_count": 40,
   "id": "06f27ac5",
   "metadata": {},
   "outputs": [
    {
     "data": {
      "text/plain": [
       "Single Family                             28445\n",
       "Extended Family                           12932\n",
       "Two or More Nonrelated Persons/Members      167\n",
       "Name: Type of Household, dtype: int64"
      ]
     },
     "execution_count": 40,
     "metadata": {},
     "output_type": "execute_result"
    }
   ],
   "source": [
    "y = income_df['Type of Household']\n",
    "y.value_counts()"
   ]
  },
  {
   "cell_type": "markdown",
   "id": "97d903d1",
   "metadata": {},
   "source": [
    "There are three unique values of Types of Household\n",
    "- Single Family\n",
    "- Extended Family\n",
    "- Two or More Nonrelated Persons/Members\n",
    "\n",
    "Majority of the data are single family with the count of 28445. Extended Families have 12932, while Two or More Nonrelated Persons/Members are 167. We can visualize the data using the bar graph."
   ]
  },
  {
   "cell_type": "code",
   "execution_count": 41,
   "id": "04106318",
   "metadata": {
    "scrolled": false
   },
   "outputs": [
    {
     "data": {
      "text/plain": [
       "<AxesSubplot:>"
      ]
     },
     "execution_count": 41,
     "metadata": {},
     "output_type": "execute_result"
    },
    {
     "data": {
      "image/png": "[encoded data removed]",
      "text/plain": [
       "<Figure size 720x720 with 1 Axes>"
      ]
     },
     "metadata": {
      "needs_background": "light"
     },
     "output_type": "display_data"
    }
   ],
   "source": [
    "y.value_counts().plot.bar(figsize=(10,10))"
   ]
  },
  {
   "cell_type": "markdown",
   "id": "e4bf46b2",
   "metadata": {},
   "source": [
    "### `Type of Building/House`"
   ]
  },
  {
   "cell_type": "code",
   "execution_count": 42,
   "id": "2b3c0865",
   "metadata": {
    "scrolled": true
   },
   "outputs": [
    {
     "data": {
      "text/plain": [
       "Single house                                   39069\n",
       "Multi-unit residential                          1329\n",
       "Duplex                                          1084\n",
       "Commercial/industrial/agricultural building       51\n",
       "Institutional living quarter                       9\n",
       "Other building unit (e.g. cave, boat)              2\n",
       "Name: Type of Building/House, dtype: int64"
      ]
     },
     "execution_count": 42,
     "metadata": {},
     "output_type": "execute_result"
    }
   ],
   "source": [
    "y = income_df['Type of Building/House']\n",
    "y.value_counts()"
   ]
  },
  {
   "cell_type": "markdown",
   "id": "85386660",
   "metadata": {},
   "source": [
    "Majority of families in the dataset live in a Single house with the count of 39069. The rest live in Multi-unit residential, Duplex, Commercial/Industrial/Agricultural Buildings, Institutional Living quarters and other building units such as caves and boats. We can visualize the data using the bar graph."
   ]
  },
  {
   "cell_type": "code",
   "execution_count": 43,
   "id": "0a6acef6",
   "metadata": {
    "scrolled": false
   },
   "outputs": [
    {
     "data": {
      "text/plain": [
       "<AxesSubplot:>"
      ]
     },
     "execution_count": 43,
     "metadata": {},
     "output_type": "execute_result"
    },
    {
     "data": {
      "image/png": "[encoded data removed]",
      "text/plain": [
       "<Figure size 720x720 with 1 Axes>"
      ]
     },
     "metadata": {
      "needs_background": "light"
     },
     "output_type": "display_data"
    }
   ],
   "source": [
    "y.value_counts().plot.bar(figsize=(10,10))"
   ]
  },
  {
   "cell_type": "markdown",
   "id": "10550c36",
   "metadata": {},
   "source": [
    "### `House - Number of Bedrooms`"
   ]
  },
  {
   "cell_type": "code",
   "execution_count": 44,
   "id": "45a1f42a",
   "metadata": {
    "scrolled": false
   },
   "outputs": [
    {
     "data": {
      "text/plain": [
       "2    15456\n",
       "1    13431\n",
       "3     6111\n",
       "0     3930\n",
       "4     1875\n",
       "5      484\n",
       "6      169\n",
       "7       46\n",
       "8       29\n",
       "9       13\n",
       "Name: Number of bedrooms, dtype: int64"
      ]
     },
     "execution_count": 44,
     "metadata": {},
     "output_type": "execute_result"
    }
   ],
   "source": [
    "y = income_df['Number of bedrooms']\n",
    "y.value_counts()"
   ]
  },
  {
   "cell_type": "markdown",
   "id": "58c9445f",
   "metadata": {},
   "source": [
    "In a household, 15456 have 2 bedrooms in their household, 13431 have 1 bedroom and 6111 have 3 bedrooms in their household. The highest number of bedrooms a family have is 9 while the lowest is 0. We can visualize the data using a bar graph."
   ]
  },
  {
   "cell_type": "code",
   "execution_count": 45,
   "id": "80a68ec4",
   "metadata": {
    "scrolled": false
   },
   "outputs": [
    {
     "data": {
      "text/plain": [
       "<AxesSubplot:>"
      ]
     },
     "execution_count": 45,
     "metadata": {},
     "output_type": "execute_result"
    },
    {
     "data": {
      "image/png": "[encoded data removed]",
      "text/plain": [
       "<Figure size 720x720 with 1 Axes>"
      ]
     },
     "metadata": {
      "needs_background": "light"
     },
     "output_type": "display_data"
    }
   ],
   "source": [
    "y.value_counts().plot.bar(figsize=(10,10))"
   ]
  },
  {
   "cell_type": "markdown",
   "id": "e6527d6b",
   "metadata": {},
   "source": [
    "### `House - Number of Television`"
   ]
  },
  {
   "cell_type": "code",
   "execution_count": 46,
   "id": "d277e5be",
   "metadata": {
    "scrolled": false
   },
   "outputs": [
    {
     "data": {
      "text/plain": [
       "1    27089\n",
       "0    10717\n",
       "2     2955\n",
       "3      597\n",
       "4      133\n",
       "5       42\n",
       "6       11\n",
       "Name: Number of Television, dtype: int64"
      ]
     },
     "execution_count": 46,
     "metadata": {},
     "output_type": "execute_result"
    }
   ],
   "source": [
    "y = income_df['Number of Television']\n",
    "y.value_counts()"
   ]
  },
  {
   "cell_type": "markdown",
   "id": "f90b9391",
   "metadata": {},
   "source": [
    "In a household, 27089 have 1 television in their household, 10717 don't own a television and 2955 have 2 televisions in their household. The highest number of televisions a family have in the dataset is 6 while the lowest is 0. We can visualize the data using a bar graph."
   ]
  },
  {
   "cell_type": "code",
   "execution_count": 47,
   "id": "3ff55ad3",
   "metadata": {
    "scrolled": false
   },
   "outputs": [
    {
     "data": {
      "text/plain": [
       "<AxesSubplot:>"
      ]
     },
     "execution_count": 47,
     "metadata": {},
     "output_type": "execute_result"
    },
    {
     "data": {
      "image/png": "[encoded data removed]",
      "text/plain": [
       "<Figure size 720x720 with 1 Axes>"
      ]
     },
     "metadata": {
      "needs_background": "light"
     },
     "output_type": "display_data"
    }
   ],
   "source": [
    "y.value_counts().plot.bar(figsize=(10,10))"
   ]
  },
  {
   "cell_type": "markdown",
   "id": "04e845b1",
   "metadata": {},
   "source": [
    "### `House - Number of CD/VCD/DVD`"
   ]
  },
  {
   "cell_type": "code",
   "execution_count": 48,
   "id": "28e699ab",
   "metadata": {
    "scrolled": false
   },
   "outputs": [
    {
     "data": {
      "text/plain": [
       "0    24621\n",
       "1    15983\n",
       "2      752\n",
       "3      163\n",
       "4       20\n",
       "5        5\n",
       "Name: Number of CD/VCD/DVD, dtype: int64"
      ]
     },
     "execution_count": 48,
     "metadata": {},
     "output_type": "execute_result"
    }
   ],
   "source": [
    "y = income_df['Number of CD/VCD/DVD']\n",
    "y.value_counts()"
   ]
  },
  {
   "cell_type": "markdown",
   "id": "e990f167",
   "metadata": {},
   "source": [
    "In a household, 24621 don't own a CD/VCD/DVD in their household, 15983 own 1 CD/VCD/DVD and 752 own 2 CD/VCD/DVD in their houseshold. The highest number families own is 5 while the lowest is 0. We can visualize the data using a bar graph."
   ]
  },
  {
   "cell_type": "code",
   "execution_count": 49,
   "id": "e0452a94",
   "metadata": {
    "scrolled": false
   },
   "outputs": [
    {
     "data": {
      "text/plain": [
       "<AxesSubplot:>"
      ]
     },
     "execution_count": 49,
     "metadata": {},
     "output_type": "execute_result"
    },
    {
     "data": {
      "image/png": "[encoded data removed]",
      "text/plain": [
       "<Figure size 720x720 with 1 Axes>"
      ]
     },
     "metadata": {
      "needs_background": "light"
     },
     "output_type": "display_data"
    }
   ],
   "source": [
    "y.value_counts().plot.bar(figsize=(10,10))"
   ]
  },
  {
   "cell_type": "markdown",
   "id": "42d880fe",
   "metadata": {},
   "source": [
    "### `House - Number of Component/Stereo set`"
   ]
  },
  {
   "cell_type": "code",
   "execution_count": 50,
   "id": "a65e741a",
   "metadata": {
    "scrolled": false
   },
   "outputs": [
    {
     "data": {
      "text/plain": [
       "0    35058\n",
       "1     6284\n",
       "2      174\n",
       "3       13\n",
       "4       10\n",
       "5        5\n",
       "Name: Number of Component/Stereo set, dtype: int64"
      ]
     },
     "execution_count": 50,
     "metadata": {},
     "output_type": "execute_result"
    }
   ],
   "source": [
    "y = income_df['Number of Component/Stereo set']\n",
    "y.value_counts()"
   ]
  },
  {
   "cell_type": "markdown",
   "id": "b3498ba4",
   "metadata": {},
   "source": [
    "In a household, 35058 don't own a Stereo Set in their household, 6284 own 1 Stereo Sets and 174 own 2 Stereo Sets in their household. The highest number a family own is 5 while the lowest is 0. We can visualize the data using a bar graph."
   ]
  },
  {
   "cell_type": "code",
   "execution_count": 51,
   "id": "316a28d6",
   "metadata": {
    "scrolled": false
   },
   "outputs": [
    {
     "data": {
      "text/plain": [
       "<AxesSubplot:>"
      ]
     },
     "execution_count": 51,
     "metadata": {},
     "output_type": "execute_result"
    },
    {
     "data": {
      "image/png": "[encoded data removed]",
      "text/plain": [
       "<Figure size 720x720 with 1 Axes>"
      ]
     },
     "metadata": {
      "needs_background": "light"
     },
     "output_type": "display_data"
    }
   ],
   "source": [
    "y.value_counts().plot.bar(figsize=(10,10))"
   ]
  },
  {
   "cell_type": "markdown",
   "id": "58f7d4c4",
   "metadata": {},
   "source": [
    "### `House - Number of Refrigerator/Freezer`"
   ]
  },
  {
   "cell_type": "code",
   "execution_count": 52,
   "id": "254305cd",
   "metadata": {
    "scrolled": false
   },
   "outputs": [
    {
     "data": {
      "text/plain": [
       "0    25990\n",
       "1    14881\n",
       "2      569\n",
       "3       73\n",
       "4       17\n",
       "5       14\n",
       "Name: Number of Refrigerator/Freezer, dtype: int64"
      ]
     },
     "execution_count": 52,
     "metadata": {},
     "output_type": "execute_result"
    }
   ],
   "source": [
    "y = income_df['Number of Refrigerator/Freezer']\n",
    "y.value_counts()"
   ]
  },
  {
   "cell_type": "markdown",
   "id": "0b804592",
   "metadata": {},
   "source": [
    "In a household, 25990 don't own a Refrigerator or Freezer in their house, 14881 own 1 Refrigerators or Freezers and 569 own 2 Refrigerators or Freezers in their houses. The highest number a family own is 5 while the lowest is 0. We can visualize the data using a bar graph."
   ]
  },
  {
   "cell_type": "code",
   "execution_count": 53,
   "id": "a963999f",
   "metadata": {
    "scrolled": false
   },
   "outputs": [
    {
     "data": {
      "text/plain": [
       "<AxesSubplot:>"
      ]
     },
     "execution_count": 53,
     "metadata": {},
     "output_type": "execute_result"
    },
    {
     "data": {
      "image/png": "[encoded data removed]",
      "text/plain": [
       "<Figure size 720x720 with 1 Axes>"
      ]
     },
     "metadata": {
      "needs_background": "light"
     },
     "output_type": "display_data"
    }
   ],
   "source": [
    "y.value_counts().plot.bar(figsize=(10,10))"
   ]
  },
  {
   "cell_type": "markdown",
   "id": "f8383d93",
   "metadata": {},
   "source": [
    "### `House - Number of Washing Machine`"
   ]
  },
  {
   "cell_type": "code",
   "execution_count": 54,
   "id": "7d9171b4",
   "metadata": {
    "scrolled": false
   },
   "outputs": [
    {
     "data": {
      "text/plain": [
       "0    28484\n",
       "1    12845\n",
       "2      204\n",
       "3       11\n",
       "Name: Number of Washing Machine, dtype: int64"
      ]
     },
     "execution_count": 54,
     "metadata": {},
     "output_type": "execute_result"
    }
   ],
   "source": [
    "y = income_df['Number of Washing Machine']\n",
    "y.value_counts()"
   ]
  },
  {
   "cell_type": "markdown",
   "id": "cbb7efc5",
   "metadata": {},
   "source": [
    "In a household, 28484 don't own a Washing Machine in their house, 12845 own 1 Washing Machine and 204 own 2 Washing Machines in their houses. The highest number a family own is 3 while the lowest is 0. We can visualize the data using a bar graph."
   ]
  },
  {
   "cell_type": "code",
   "execution_count": 55,
   "id": "dc3b9c85",
   "metadata": {
    "scrolled": false
   },
   "outputs": [
    {
     "data": {
      "text/plain": [
       "<AxesSubplot:>"
      ]
     },
     "execution_count": 55,
     "metadata": {},
     "output_type": "execute_result"
    },
    {
     "data": {
      "image/png": "[encoded data removed]",
      "text/plain": [
       "<Figure size 720x720 with 1 Axes>"
      ]
     },
     "metadata": {
      "needs_background": "light"
     },
     "output_type": "display_data"
    }
   ],
   "source": [
    "y.value_counts().plot.bar(figsize=(10,10))"
   ]
  },
  {
   "cell_type": "markdown",
   "id": "5cc3c1dc",
   "metadata": {},
   "source": [
    "### `House - Number of Airconditioner`"
   ]
  },
  {
   "cell_type": "code",
   "execution_count": 56,
   "id": "5ae6e163",
   "metadata": {
    "scrolled": false
   },
   "outputs": [
    {
     "data": {
      "text/plain": [
       "0    37457\n",
       "1     3178\n",
       "2      622\n",
       "3      199\n",
       "4       66\n",
       "5       22\n",
       "Name: Number of Airconditioner, dtype: int64"
      ]
     },
     "execution_count": 56,
     "metadata": {},
     "output_type": "execute_result"
    }
   ],
   "source": [
    "y = income_df['Number of Airconditioner']\n",
    "y.value_counts()"
   ]
  },
  {
   "cell_type": "markdown",
   "id": "ebdbbe9a",
   "metadata": {},
   "source": [
    "In a household, 37457 don't own a Airconditioner in their household, 3178 own 1 Airconditioner and 622 own 2 Airconditioners in their household. The highest number a family own is 5 while the lowest is 0. We can visualize the data using a bar graph."
   ]
  },
  {
   "cell_type": "code",
   "execution_count": 57,
   "id": "cce8eaaa",
   "metadata": {
    "scrolled": false
   },
   "outputs": [
    {
     "data": {
      "text/plain": [
       "<AxesSubplot:>"
      ]
     },
     "execution_count": 57,
     "metadata": {},
     "output_type": "execute_result"
    },
    {
     "data": {
      "image/png": "[encoded data removed]",
      "text/plain": [
       "<Figure size 720x720 with 1 Axes>"
      ]
     },
     "metadata": {
      "needs_background": "light"
     },
     "output_type": "display_data"
    }
   ],
   "source": [
    "y.value_counts().plot.bar(figsize=(10,10))"
   ]
  },
  {
   "cell_type": "markdown",
   "id": "932d4618",
   "metadata": {},
   "source": [
    "### `House - Number of Car, Jeep, Van`"
   ]
  },
  {
   "cell_type": "code",
   "execution_count": 58,
   "id": "eb416221",
   "metadata": {
    "scrolled": false
   },
   "outputs": [
    {
     "data": {
      "text/plain": [
       "0    38876\n",
       "1     2136\n",
       "2      413\n",
       "3       77\n",
       "4       29\n",
       "5       13\n",
       "Name: Number of Car, Jeep, Van, dtype: int64"
      ]
     },
     "execution_count": 58,
     "metadata": {},
     "output_type": "execute_result"
    }
   ],
   "source": [
    "y = income_df['Number of Car, Jeep, Van']\n",
    "y.value_counts()"
   ]
  },
  {
   "cell_type": "markdown",
   "id": "7799b8a2",
   "metadata": {},
   "source": [
    "In a household, 38876 don't own a 4 wheel vehicle in their household, 2136 own 1 4 wheel vehicle and 413 own 2 4 wheel vehicles in their household. The highest number a family own is 5 while the lowest is 0. We can visualize the data using a bar graph."
   ]
  },
  {
   "cell_type": "code",
   "execution_count": 59,
   "id": "d0e6abd2",
   "metadata": {
    "scrolled": false
   },
   "outputs": [
    {
     "data": {
      "text/plain": [
       "<AxesSubplot:>"
      ]
     },
     "execution_count": 59,
     "metadata": {},
     "output_type": "execute_result"
    },
    {
     "data": {
      "image/png": "[encoded data removed]",
      "text/plain": [
       "<Figure size 720x720 with 1 Axes>"
      ]
     },
     "metadata": {
      "needs_background": "light"
     },
     "output_type": "display_data"
    }
   ],
   "source": [
    "y.value_counts().plot.bar(figsize=(10,10))"
   ]
  },
  {
   "cell_type": "markdown",
   "id": "45aa5ee1",
   "metadata": {},
   "source": [
    "### `House - Number of Landline/wireless telephones`"
   ]
  },
  {
   "cell_type": "code",
   "execution_count": 60,
   "id": "86b5698b",
   "metadata": {
    "scrolled": false
   },
   "outputs": [
    {
     "data": {
      "text/plain": [
       "0    39302\n",
       "1     2070\n",
       "2       96\n",
       "3       48\n",
       "4       28\n",
       "Name: Number of Landline/wireless telephones, dtype: int64"
      ]
     },
     "execution_count": 60,
     "metadata": {},
     "output_type": "execute_result"
    }
   ],
   "source": [
    "y = income_df['Number of Landline/wireless telephones']\n",
    "y.value_counts()"
   ]
  },
  {
   "cell_type": "markdown",
   "id": "c85a0d96",
   "metadata": {},
   "source": [
    "In a household, 39302 don't own a landline or wireless telephone in their household, 2070 own 1 landline or wireless telephone and 96 own 2 landline or wireless telephone in their household. The highest number a family own is 4 while the lowest is 0. We can visualize the data using a bar graph."
   ]
  },
  {
   "cell_type": "code",
   "execution_count": 61,
   "id": "dce357aa",
   "metadata": {
    "scrolled": false
   },
   "outputs": [
    {
     "data": {
      "text/plain": [
       "<AxesSubplot:>"
      ]
     },
     "execution_count": 61,
     "metadata": {},
     "output_type": "execute_result"
    },
    {
     "data": {
      "image/png": "[encoded data removed]",
      "text/plain": [
       "<Figure size 720x720 with 1 Axes>"
      ]
     },
     "metadata": {
      "needs_background": "light"
     },
     "output_type": "display_data"
    }
   ],
   "source": [
    "y.value_counts().plot.bar(figsize=(10,10))"
   ]
  },
  {
   "cell_type": "markdown",
   "id": "e45569ba",
   "metadata": {},
   "source": [
    "### `House - Number of Cellular phone`"
   ]
  },
  {
   "cell_type": "code",
   "execution_count": 62,
   "id": "d40a966c",
   "metadata": {
    "scrolled": false
   },
   "outputs": [
    {
     "data": {
      "text/plain": [
       "1     12484\n",
       "2     10377\n",
       "0      6939\n",
       "3      5820\n",
       "4      3281\n",
       "5      1467\n",
       "6       666\n",
       "7       242\n",
       "8       153\n",
       "10       66\n",
       "9        49\n",
       "Name: Number of Cellular phone, dtype: int64"
      ]
     },
     "execution_count": 62,
     "metadata": {},
     "output_type": "execute_result"
    }
   ],
   "source": [
    "y = income_df['Number of Cellular phone']\n",
    "y.value_counts()"
   ]
  },
  {
   "cell_type": "markdown",
   "id": "7b1c4891",
   "metadata": {},
   "source": [
    "In a household, 124848 own 1 cellular phone in their household, 10377 own 2 cellular phones and 6939 don't own a cellular phone. The highest number a family own is 10 while the lowest is 0. We can visualize the data using a bar graph."
   ]
  },
  {
   "cell_type": "code",
   "execution_count": 63,
   "id": "ddbece79",
   "metadata": {
    "scrolled": false
   },
   "outputs": [
    {
     "data": {
      "text/plain": [
       "<AxesSubplot:>"
      ]
     },
     "execution_count": 63,
     "metadata": {},
     "output_type": "execute_result"
    },
    {
     "data": {
      "image/png": "[encoded data removed]",
      "text/plain": [
       "<Figure size 720x720 with 1 Axes>"
      ]
     },
     "metadata": {
      "needs_background": "light"
     },
     "output_type": "display_data"
    }
   ],
   "source": [
    "y.value_counts().plot.bar(figsize=(10,10))"
   ]
  },
  {
   "cell_type": "markdown",
   "id": "138a1c6e",
   "metadata": {},
   "source": [
    "### `House - Number of Personal Computer`"
   ]
  },
  {
   "cell_type": "code",
   "execution_count": 64,
   "id": "4c203a2a",
   "metadata": {
    "scrolled": false
   },
   "outputs": [
    {
     "data": {
      "text/plain": [
       "0    32988\n",
       "1     5650\n",
       "2     1836\n",
       "3      667\n",
       "4      271\n",
       "5      112\n",
       "6       20\n",
       "Name: Number of Personal Computer, dtype: int64"
      ]
     },
     "execution_count": 64,
     "metadata": {},
     "output_type": "execute_result"
    }
   ],
   "source": [
    "y = income_df['Number of Personal Computer']\n",
    "y.value_counts()"
   ]
  },
  {
   "cell_type": "markdown",
   "id": "c3e4656b",
   "metadata": {},
   "source": [
    "In a household, 32988 don't own a personal computer in their household, 5650 own 1 personal computer and 1836 own 2 personal computers in their household. The highest number a family own is 6 while the lowest is 0. We can visualize the data using a bar graph."
   ]
  },
  {
   "cell_type": "code",
   "execution_count": 65,
   "id": "4875b8c8",
   "metadata": {
    "scrolled": false
   },
   "outputs": [
    {
     "data": {
      "text/plain": [
       "<AxesSubplot:>"
      ]
     },
     "execution_count": 65,
     "metadata": {},
     "output_type": "execute_result"
    },
    {
     "data": {
      "image/png": "[encoded data removed]",
      "text/plain": [
       "<Figure size 720x720 with 1 Axes>"
      ]
     },
     "metadata": {
      "needs_background": "light"
     },
     "output_type": "display_data"
    }
   ],
   "source": [
    "y.value_counts().plot.bar(figsize=(10,10))"
   ]
  },
  {
   "cell_type": "markdown",
   "id": "2855c35e",
   "metadata": {},
   "source": [
    "### `House - Number of Stove with Oven/Gas Range`"
   ]
  },
  {
   "cell_type": "code",
   "execution_count": 66,
   "id": "c9bafc16",
   "metadata": {
    "scrolled": false
   },
   "outputs": [
    {
     "data": {
      "text/plain": [
       "0    36101\n",
       "1     5287\n",
       "2      145\n",
       "3       11\n",
       "Name: Number of Stove with Oven/Gas Range, dtype: int64"
      ]
     },
     "execution_count": 66,
     "metadata": {},
     "output_type": "execute_result"
    }
   ],
   "source": [
    "y = income_df['Number of Stove with Oven/Gas Range']\n",
    "y.value_counts()"
   ]
  },
  {
   "cell_type": "markdown",
   "id": "e486adb8",
   "metadata": {},
   "source": [
    "In a household, 27089 own 1 personal computer in their household, 5650 own 1 personal computer and 1836 own 2 personal computers in their household. The highest number a family own is 4 while the lowest is 0. We can visualize the data using a bar graph."
   ]
  },
  {
   "cell_type": "code",
   "execution_count": 67,
   "id": "deb3b03b",
   "metadata": {
    "scrolled": false
   },
   "outputs": [
    {
     "data": {
      "text/plain": [
       "<AxesSubplot:>"
      ]
     },
     "execution_count": 67,
     "metadata": {},
     "output_type": "execute_result"
    },
    {
     "data": {
      "image/png": "[encoded data removed]",
      "text/plain": [
       "<Figure size 720x720 with 1 Axes>"
      ]
     },
     "metadata": {
      "needs_background": "light"
     },
     "output_type": "display_data"
    }
   ],
   "source": [
    "y.value_counts().plot.bar(figsize=(10,10))"
   ]
  },
  {
   "cell_type": "markdown",
   "id": "08737afb",
   "metadata": {},
   "source": [
    "### `House - Number of Motorized Banca`"
   ]
  },
  {
   "cell_type": "code",
   "execution_count": 68,
   "id": "760d0767",
   "metadata": {
    "scrolled": true
   },
   "outputs": [
    {
     "data": {
      "text/plain": [
       "0    41055\n",
       "1      444\n",
       "2       34\n",
       "3       11\n",
       "Name: Number of Motorized Banca, dtype: int64"
      ]
     },
     "execution_count": 68,
     "metadata": {},
     "output_type": "execute_result"
    }
   ],
   "source": [
    "y = income_df['Number of Motorized Banca']\n",
    "y.value_counts()"
   ]
  },
  {
   "cell_type": "markdown",
   "id": "5a092342",
   "metadata": {},
   "source": [
    "In a household, 41055 don't own a Motorized Banca in their household, 444 own 1 Motorized Banca and 34 own 2 Motorized Bancas in their household. The highest number a family own is 3 while the lowest is 0. We can visualize the data using a bar graph."
   ]
  },
  {
   "cell_type": "code",
   "execution_count": 69,
   "id": "de43f1df",
   "metadata": {
    "scrolled": false
   },
   "outputs": [
    {
     "data": {
      "text/plain": [
       "<AxesSubplot:>"
      ]
     },
     "execution_count": 69,
     "metadata": {},
     "output_type": "execute_result"
    },
    {
     "data": {
      "image/png": "[encoded data removed]",
      "text/plain": [
       "<Figure size 720x720 with 1 Axes>"
      ]
     },
     "metadata": {
      "needs_background": "light"
     },
     "output_type": "display_data"
    }
   ],
   "source": [
    "y.value_counts().plot.bar(figsize=(10,10))"
   ]
  },
  {
   "cell_type": "markdown",
   "id": "651ca9e6",
   "metadata": {},
   "source": [
    "### `House - Number of Motorcycle/Tricycle`"
   ]
  },
  {
   "cell_type": "code",
   "execution_count": 70,
   "id": "e2ed6829",
   "metadata": {
    "scrolled": true
   },
   "outputs": [
    {
     "data": {
      "text/plain": [
       "0    31282\n",
       "1     8811\n",
       "2     1199\n",
       "3      186\n",
       "4       54\n",
       "5       12\n",
       "Name: Number of Motorcycle/Tricycle, dtype: int64"
      ]
     },
     "execution_count": 70,
     "metadata": {},
     "output_type": "execute_result"
    }
   ],
   "source": [
    "y = income_df['Number of Motorcycle/Tricycle']\n",
    "y.value_counts()"
   ]
  },
  {
   "cell_type": "markdown",
   "id": "b212e738",
   "metadata": {},
   "source": [
    "In a household, 31282 don't own a Motorcycle/Tricycle in their household, 8811 own 1 Motorcycle/Trycicle and 1199 own 2 Motorcycles or Tricycles in their household. The highest number a family own is 5 while the lowest is 0. We can visualize the data using a bar graph."
   ]
  },
  {
   "cell_type": "code",
   "execution_count": 71,
   "id": "dd237f3d",
   "metadata": {
    "scrolled": false
   },
   "outputs": [
    {
     "data": {
      "text/plain": [
       "<AxesSubplot:>"
      ]
     },
     "execution_count": 71,
     "metadata": {},
     "output_type": "execute_result"
    },
    {
     "data": {
      "image/png": "[encoded data removed]",
      "text/plain": [
       "<Figure size 720x720 with 1 Axes>"
      ]
     },
     "metadata": {
      "needs_background": "light"
     },
     "output_type": "display_data"
    }
   ],
   "source": [
    "y.value_counts().plot.bar(figsize=(10,10))"
   ]
  },
  {
   "cell_type": "markdown",
   "id": "77089418",
   "metadata": {},
   "source": [
    "## Data Cleaning\n",
    "In this step, we will check if the dataset contains some errors or issues like null values, wrong encodings/spelling, duplicates, and inconsistencies. It is important to clean our data in order to avoid problems when performing analyses."
   ]
  },
  {
   "cell_type": "markdown",
   "id": "d1646b92",
   "metadata": {},
   "source": [
    "### Checking for Nulls"
   ]
  },
  {
   "cell_type": "code",
   "execution_count": 72,
   "id": "e23cb2d1",
   "metadata": {},
   "outputs": [
    {
     "data": {
      "text/plain": [
       "Total Household Income                              0\n",
       "Region                                              0\n",
       "Total Food Expenditure                              0\n",
       "Main Source of Income                               0\n",
       "Agricultural Household indicator                    0\n",
       "Bread and Cereals Expenditure                       0\n",
       "Total Rice Expenditure                              0\n",
       "Meat Expenditure                                    0\n",
       "Total Fish and  marine products Expenditure         0\n",
       "Fruit Expenditure                                   0\n",
       "Vegetables Expenditure                              0\n",
       "Restaurant and hotels Expenditure                   0\n",
       "Alcoholic Beverages Expenditure                     0\n",
       "Tobacco Expenditure                                 0\n",
       "Clothing, Footwear and Other Wear Expenditure       0\n",
       "Housing and water Expenditure                       0\n",
       "Imputed House Rental Value                          0\n",
       "Medical Care Expenditure                            0\n",
       "Transportation Expenditure                          0\n",
       "Communication Expenditure                           0\n",
       "Education Expenditure                               0\n",
       "Miscellaneous Goods and Services Expenditure        0\n",
       "Special Occasions Expenditure                       0\n",
       "Crop Farming and Gardening expenses                 0\n",
       "Total Income from Entrepreneurial Acitivites        0\n",
       "Household Head Sex                                  0\n",
       "Household Head Age                                  0\n",
       "Household Head Marital Status                       0\n",
       "Household Head Highest Grade Completed              0\n",
       "Household Head Job or Business Indicator            0\n",
       "Household Head Occupation                        7536\n",
       "Household Head Class of Worker                   7536\n",
       "Type of Household                                   0\n",
       "Total Number of Family members                      0\n",
       "Members with age less than 5 year old               0\n",
       "Members with age 5 - 17 years old                   0\n",
       "Total number of family members employed             0\n",
       "Type of Building/House                              0\n",
       "Type of Roof                                        0\n",
       "Type of Walls                                       0\n",
       "House Floor Area                                    0\n",
       "House Age                                           0\n",
       "Number of bedrooms                                  0\n",
       "Tenure Status                                       0\n",
       "Toilet Facilities                                   0\n",
       "Electricity                                         0\n",
       "Main Source of Water Supply                         0\n",
       "Number of Television                                0\n",
       "Number of CD/VCD/DVD                                0\n",
       "Number of Component/Stereo set                      0\n",
       "Number of Refrigerator/Freezer                      0\n",
       "Number of Washing Machine                           0\n",
       "Number of Airconditioner                            0\n",
       "Number of Car, Jeep, Van                            0\n",
       "Number of Landline/wireless telephones              0\n",
       "Number of Cellular phone                            0\n",
       "Number of Personal Computer                         0\n",
       "Number of Stove with Oven/Gas Range                 0\n",
       "Number of Motorized Banca                           0\n",
       "Number of Motorcycle/Tricycle                       0\n",
       "dtype: int64"
      ]
     },
     "execution_count": 72,
     "metadata": {},
     "output_type": "execute_result"
    }
   ],
   "source": [
    "income_df.isna().sum()"
   ]
  },
  {
   "cell_type": "markdown",
   "id": "14470c86",
   "metadata": {},
   "source": [
    "After performing null checking, we can see that there are null values in 2 variables like `Household Head Occupation` and `Household Head Class of Worker`. "
   ]
  },
  {
   "cell_type": "markdown",
   "id": "75fe7b81",
   "metadata": {},
   "source": [
    "### Replacing of Nulls\n",
    "It is shown that there is a significant number of observations with null values for both variables. Instead of removing them, we will replace them with a sentinent value of `Other` to identify these observations as they can still be used for analysis."
   ]
  },
  {
   "cell_type": "markdown",
   "id": "ec9a8c19",
   "metadata": {},
   "source": [
    "### `Household Head Occupation` variable"
   ]
  },
  {
   "cell_type": "code",
   "execution_count": 73,
   "id": "acef0110",
   "metadata": {},
   "outputs": [
    {
     "data": {
      "text/plain": [
       "Farmhands and laborers                                                                 3478\n",
       "Rice farmers                                                                           2849\n",
       "General managers/managing proprietors in wholesale and retail trade                    2028\n",
       "General managers/managing proprietors in transportation, storage and communications    1932\n",
       "Corn farmers                                                                           1724\n",
       "                                                                                       ... \n",
       "Petroleum and natural gas refining plant operators                                        1\n",
       "Builders (traditional materials)                                                          1\n",
       "Personal care and related workers, n. e. c.                                               1\n",
       "Riggers and cable splicers                                                                1\n",
       "Glass, ceramics and related plant operators n. e. c.                                      1\n",
       "Name: Household Head Occupation, Length: 378, dtype: int64"
      ]
     },
     "execution_count": 73,
     "metadata": {},
     "output_type": "execute_result"
    }
   ],
   "source": [
    "income_df['Household Head Occupation'].value_counts()"
   ]
  },
  {
   "cell_type": "code",
   "execution_count": 74,
   "id": "69df864b",
   "metadata": {},
   "outputs": [
    {
     "data": {
      "text/plain": [
       "array(['General elementary education teaching professionals',\n",
       "       'Transport conductors', 'Farmhands and laborers', 'Rice farmers',\n",
       "       'General managers/managing proprietors in transportation, storage and communications',\n",
       "       'Heavy truck and lorry drivers', nan, 'Hog raising farmers',\n",
       "       'Vegetable farmers',\n",
       "       'General managers/managing proprietors in wholesale and retail trade',\n",
       "       'Stocks clerks', 'Justices', 'Other social science professionals',\n",
       "       'Protective services workers n. e. c.', 'Secretaries',\n",
       "       'Electronics mechanics and servicers',\n",
       "       'Foresters and related scientists',\n",
       "       'Shop salespersons and demonstrators',\n",
       "       'College, university and higher education teaching professionals',\n",
       "       'General managers/managing proprietors of restaurants and hotels',\n",
       "       'Welders and flamecutters', 'Car, taxi and van drivers',\n",
       "       'Motor vehicle mechanics and related trades workers',\n",
       "       'Traditional chiefs and heads of villages', 'Motorcycle drivers',\n",
       "       'Statistical, mathematical and related associate professionals',\n",
       "       'Lineman, line installers and cable splicers',\n",
       "       'Carpenters and joiners', 'Building construction laborers',\n",
       "       'General managers/managing proprietors in manufacturing',\n",
       "       'Masons and related concrete finishers', 'Legislative officials',\n",
       "       'Inland and coastal waters fishermen',\n",
       "       'Painters and related workers',\n",
       "       'Construction and maintenance laborers: roads, dams and similar constructions',\n",
       "       'Helpers and cleaners in offices, hotels and other establishments',\n",
       "       'General managers/managing proprietors n. e. c.',\n",
       "       'Messengers, package and luggage porters and deliverers',\n",
       "       'Social work associate professionals',\n",
       "       'Hand packers and other manufacturing laborers',\n",
       "       'Door-to-door and telephone salespersons',\n",
       "       'Hand launderers and pressers', 'Sweepers and related laborers',\n",
       "       'Medical technologists',\n",
       "       'Production and operations managers in agriculture, hunting, forestry and fishery',\n",
       "       'Corn farmers', 'Cooks', 'School supervisors and principals',\n",
       "       'Tailors, dressmakers and hatters',\n",
       "       'Wood and related products assemblers',\n",
       "       'Police inspectors and detectives', 'Coconut farmers',\n",
       "       'Root crops farmers', 'Fruit tree farmers',\n",
       "       'Coffee and cacao farmers', 'Forestry laborers',\n",
       "       'Other office clerks',\n",
       "       'General managers/managing proprietors of business services',\n",
       "       'School principals', 'Civil engineers', 'Prison guards',\n",
       "       \"Ship's deck crews and related workers\", 'Assembling laborers',\n",
       "       'Tellers and other counter clerks',\n",
       "       'Government administrators (including career executive service officers)',\n",
       "       'Plumbers, pipe fitters and other related workers',\n",
       "       'Mechanical engineering technicians', 'Street ambulant vendors',\n",
       "       'Production supervisors and general foremen', 'Food preservers',\n",
       "       'Basketry weavers, brush makers and related workers',\n",
       "       'Statistical and finance clerks',\n",
       "       'Non-ordained religious associate professionals',\n",
       "       'Wood products machine operators',\n",
       "       'Building and related electricians',\n",
       "       'Production and operations managers in restaurant and hotels',\n",
       "       'Other supervisors, n. e. c.', 'Other orchard farmers',\n",
       "       'Building caretakers',\n",
       "       'Doorkeepers, watchpersons and related workers',\n",
       "       'Waiters, waitresses and bartenders',\n",
       "       \"Ships' deck officers and pilots\", 'Child care workers',\n",
       "       'Mining and quarrying laborers', 'Religious professionals',\n",
       "       'Earth-moving and related plant operators',\n",
       "       'General managers/managing proprietors in agriculture, hunting, forestry and fishing',\n",
       "       'Motorized farm and forestry plant operators',\n",
       "       'Domestic helpers and cleaners',\n",
       "       'Broadcasting and telecommunications equipment operators',\n",
       "       'General secondary education teaching professionals',\n",
       "       'Accounting and bookkeeping clerks',\n",
       "       'Chemical processing plant operators n. e. c.', 'Freight handlers',\n",
       "       'Fishery laborers and helpers', 'Data entry operators',\n",
       "       'Miners and quarry workers', 'Police officers',\n",
       "       'Cabinet/furniture makers and related workers', 'Duck raisers',\n",
       "       'Blacksmiths, hammersmiths, and forging-press workers',\n",
       "       'General managers/managing proprietors in personal care, cleaning and relative services',\n",
       "       'Butchers, fishmongers and related food preparers',\n",
       "       'Cotton and fiber crops farmers', 'Forest tree planters',\n",
       "       'Bet bookmakers and croupiers', 'Transport clerks',\n",
       "       'Enlisted personnel n. e. c.',\n",
       "       'Directors and chief executives of corporations',\n",
       "       'Combat soldiers', 'Concessionaires and loggers',\n",
       "       'Institution-based personal care workers',\n",
       "       'Market and sidewalk stall vendors',\n",
       "       'Minor forest products gatherers',\n",
       "       'Debt collectors and related workers',\n",
       "       'Vocational education teaching professionals',\n",
       "       'Wood processing plant operators', 'Shotfirers and blasters',\n",
       "       'Fruit, vegetable and nut processing machine operators',\n",
       "       'Lifting truck operators',\n",
       "       'Bakers, pastry cooks and confectionery makers',\n",
       "       'Photographic products machine operators',\n",
       "       'Rattan, bamboo and other wicker furniture makers',\n",
       "       'Chicken farmers', 'Mining-plant operators',\n",
       "       'Rubber products machine operators',\n",
       "       'Pawnbrokers and money lenders', 'Sheet-metal workers',\n",
       "       'Fish-farm cultivators (excluding prawns)',\n",
       "       'General managers/managing proprietors in construction',\n",
       "       'Stall and market salespersons',\n",
       "       'Handicraft workers in wood and related materials',\n",
       "       'Weavers, knitters and related workers',\n",
       "       'Traditional medicine practitioners',\n",
       "       'Personnel and industrial relations managers',\n",
       "       'Cement and other mineral products machine operators',\n",
       "       'Firefighters', 'Undertakers and embalmers',\n",
       "       'Hairdressers, barbers, beauticians and related workers',\n",
       "       'Shoe cleaning and other street services elementary occupations',\n",
       "       'Silk-screen, block and textile printers',\n",
       "       'Choreographers and dancers', 'Garbage collectors',\n",
       "       'Ornamental plant growers', 'Cashiers and ticket clerks',\n",
       "       'Varnishers and related painters', 'Accountants and auditors',\n",
       "       'Personal care and related workers, n. e. c.',\n",
       "       'Library and filing clerks', 'Cattle and dairy farmers',\n",
       "       'Structural-metal preparers, erectors and related workers',\n",
       "       'Other livestock farmers',\n",
       "       'Production and operations managers in transport, storage and communications',\n",
       "       'Sales and marketing managers',\n",
       "       'Grain and spice milling machine operators', 'Deep-sea fishermen',\n",
       "       'Mechanical engineers',\n",
       "       'Production and operations managers in manufacturing',\n",
       "       'Agronomists and related scientists',\n",
       "       'Research and development managers',\n",
       "       'Computer equipment operators',\n",
       "       'Other administrative associate professionals', 'Bookkeepers',\n",
       "       'Midwifery associate professionals',\n",
       "       'Other machine operators and assemblers',\n",
       "       'Sewers, Embroiderers and related workers',\n",
       "       'Safety, health and quality inspectors (vehicles, processes and products)',\n",
       "       'Electronic equipment assemblers',\n",
       "       'Textile, leather and related patternmakers and cutters',\n",
       "       'Roofers', 'Other field crop farmers', 'Sugarcane farmers',\n",
       "       'Power production plant operators', 'Other poultry farmers',\n",
       "       'Metal-wheel grinders, polishers and tool sharpeners',\n",
       "       'Other computer professionals', 'Electrical mechanics and fitters',\n",
       "       'Metal finishing, plating and coating machine operators',\n",
       "       'Professional nurses',\n",
       "       'Professional, technical and related officers',\n",
       "       'Charcoal makers and related workers',\n",
       "       'Athletes and related workers',\n",
       "       'Decorators and commercial designers',\n",
       "       'Automated assembly-line operators',\n",
       "       'Labor contractors and employment agents',\n",
       "       'Sugar production machine operators', 'Veterinary assistants',\n",
       "       'Glass makers, cutters, grinders and finishers',\n",
       "       'Production and operations managers in personal care, cleaning and relative services',\n",
       "       'Tool-makers and related workers',\n",
       "       'Transport and communications service supervisors n. e. c.',\n",
       "       'Other specialized managers', 'Riggers and cable splicers',\n",
       "       'Production and operations managers in wholesale and retail trade',\n",
       "       'Field legumes farmers', 'Staff officers', 'Estate agents',\n",
       "       'Technical and commercial sales representatives',\n",
       "       'Computer programmers', 'Receptionists and information clerks',\n",
       "       'Pharmacists', 'Housekeepers and related workers',\n",
       "       'Appraisers and valuers', 'Government tax and excise officials',\n",
       "       'Administrative secretaries and related associate professionals',\n",
       "       'Bus drivers', 'Teaching associate professionals', 'Architects',\n",
       "       'Finance and administration managers', 'Commanding officers',\n",
       "       'Nutritionists-dietitians', 'Professional midwives',\n",
       "       'Street, nightclub and related musicians, singers and dancers',\n",
       "       'Electrical Engineers',\n",
       "       'Mining and metallurgical engineering technicians', 'Draftsmen',\n",
       "       'Computer engineers and related professionals',\n",
       "       'Other life science technicians', 'Dairy products makers',\n",
       "       'Legal and related business associate professionals',\n",
       "       'Mail carriers and sorting clerks',\n",
       "       'Well drillers and borers and related workers',\n",
       "       'Other business professionals',\n",
       "       'Production and operations managers in construction',\n",
       "       'Farm technicians', 'Economists',\n",
       "       'Building frame and related trades workers n. e. c.', 'Chemists',\n",
       "       'Insurance representatives', 'Civil engineering technicians',\n",
       "       'Word processor and related operators', 'Production clerks',\n",
       "       'Meat and fish processing machine operators',\n",
       "       'Other personal services workers, n. e. c.',\n",
       "       'Crane, hoist and related plant operators',\n",
       "       'Composers, musicians and singers',\n",
       "       'Photographers and image and sound recording equipment operators',\n",
       "       'Hand or pedal vehicle drivers', 'Statisticians',\n",
       "       'Customs and immigration inspectors',\n",
       "       'Electronics and communications engineers',\n",
       "       'Fashion and other models',\n",
       "       'Metal melters, caster and rolling mill operators',\n",
       "       'Weaving and knitting machine operators',\n",
       "       'Personnel and human resource development professionals',\n",
       "       'Mechanical machinery assemblers',\n",
       "       'Workers reporting occupations unidentifiable or inadequately defined',\n",
       "       'Sales supervisors in retail trade', 'Metal drawers and extruders',\n",
       "       'Floor layers and tile setters', 'Systems analysts and designers',\n",
       "       'Government licensing officials',\n",
       "       'Librarians, archivists and curators',\n",
       "       'Incinerator, water treatment and related plant operators',\n",
       "       'Town planners and related professionals',\n",
       "       'Home-based personal care workers',\n",
       "       'Education methods specialists',\n",
       "       'Sculptors, painters and related artists', 'Buyers',\n",
       "       'Other health associate professionals (except nursing)',\n",
       "       'Precision instrument makers and repairers', 'Medical assistants',\n",
       "       'Medical doctors', 'Compositors, typesetters and related workers',\n",
       "       'Faith healers', 'Travel consultants and organizers',\n",
       "       'Air transport service supervisors', 'Companions and valets',\n",
       "       'Senior officials of humanitarian and other special-interest organizations',\n",
       "       'Electrical equipment assemblers',\n",
       "       'Metal, rubber and plastic products assemblers',\n",
       "       'Electronics and communications engineering technicians',\n",
       "       'Industrial engineers',\n",
       "       'Baked goods and cereal and chocolate products machine operators',\n",
       "       'Metal molders and coremakers', 'Lawyers', 'Dentists',\n",
       "       'Marine craft mechanics',\n",
       "       'Pre-elementary education teaching professionals',\n",
       "       'Bookbinders and related workers',\n",
       "       'Jewelry and precious metal workers', 'Travel guides',\n",
       "       'Social work professionals',\n",
       "       'Musical instrument makers and tuners',\n",
       "       'Machine-tool setters and setter operators',\n",
       "       'Stenographers and typists',\n",
       "       'Stone splitters, cutters and carvers',\n",
       "       'Ship and aircraft controllers and technicians',\n",
       "       'Photographic and related workers', 'Computer assistants',\n",
       "       'Aircraft engine mechanics and fitters',\n",
       "       'Production and operations managers in business services',\n",
       "       'Woodworking machine setters and setter-operators',\n",
       "       'Food and beverage tasters and graders',\n",
       "       'Technical and vocational instructors/trainors', 'Trade brokers',\n",
       "       'Radio, television and other announcers',\n",
       "       'Air traffic safety technicians', 'Other plant growers',\n",
       "       'Pressman letterpresses and related workers',\n",
       "       'Other health professionals (except nursing)',\n",
       "       'Mineral ore and stone-processing plant operators',\n",
       "       'Shoemakers and related workers',\n",
       "       'Agricultural or industrial machinery mechanics and fitters',\n",
       "       'Nonformal education teaching professionals other than technical and vocational trainors/instructors',\n",
       "       'Seaweeds cultivators', 'Upholsterers and related workers',\n",
       "       'Sales supervisors in wholesale trade', 'Insulation workers',\n",
       "       'Machine tool operators', 'Authors, journalists and other writers',\n",
       "       'Technician, skilled, semi-skilled workers',\n",
       "       'Tobacco preparers and tobacco products makers',\n",
       "       'Other physical science and engineering technicians',\n",
       "       'Other sales supervisors',\n",
       "       'Brewers and wine and other beverage machine operators',\n",
       "       'Supply and distribution managers', 'Papermaking plant operators',\n",
       "       'Pharmaceutical and toiletry products machine operators',\n",
       "       'Paperboard, textile and related products assemblers',\n",
       "       'Building and fire inspectors',\n",
       "       'Telecommunication equipment installers and repairers',\n",
       "       'Plastic products machine operators', 'Industrial robot operators',\n",
       "       'Chemical engineers', 'Dairy products machine operators',\n",
       "       'Fishermen n. e. c.',\n",
       "       'Science and mathematics teaching professionals',\n",
       "       'Dental assistants',\n",
       "       'Drivers of animal-drawn vehicles and machinery',\n",
       "       'Postal service supervisors',\n",
       "       'Science and mathematics elementary education teaching professionals',\n",
       "       'Hunting and trapping laborers',\n",
       "       'Other government associate professionals',\n",
       "       'Coding, proof-reading and related clerks',\n",
       "       'Geodetic engineers and related professionals',\n",
       "       'Business machines mechanics and repairers',\n",
       "       'Bleaching, dyeing and cleaning machine operators',\n",
       "       'Other finance and sales associate professionals',\n",
       "       'Life science technicians', 'Telephone switchboard operators',\n",
       "       'Other animal raisers', 'Pharmaceutical assistants',\n",
       "       'Petroleum and natural gas refining plant operators',\n",
       "       'Builders (traditional materials)',\n",
       "       'Maritime transport service supervisors',\n",
       "       'Service and related workers', 'Medical equipment operators',\n",
       "       'Electronics fitters',\n",
       "       'Fiber preparing, spinning and winding machine operators',\n",
       "       'Hunters and trappers',\n",
       "       'Other business services and trade brokers',\n",
       "       'Shoemaking and related machine operators',\n",
       "       'Other aqua products cultivators',\n",
       "       'Government social benefits officials',\n",
       "       'Potters and related clay and abrasive formers',\n",
       "       'Other creative or performing artists',\n",
       "       'Other teaching professionals', 'Tree nut farmers',\n",
       "       'Fiber preparers', 'Officers, n. e. c.',\n",
       "       'Nursing associate professionals',\n",
       "       'Vehicle, window and related cleaners',\n",
       "       'Other engineers and related professionals', 'Physiotherapists',\n",
       "       'Tanners', 'Glass and ceramics kiln and related machine operators',\n",
       "       'Textile and leather products machine operators n. e. c.',\n",
       "       'Optometrists and opticians', 'Locomotive engine drivers',\n",
       "       'Chemical products machine operators n. e. c.', 'Wood treaters',\n",
       "       'Electrical engineering technicians',\n",
       "       'Advertising and public relations managers',\n",
       "       'Paper pulp plant operators', 'Veterinarians',\n",
       "       'Sewing machine operators',\n",
       "       'Aircraft pilots, navigators and flight engineers',\n",
       "       'Glass, ceramics and related plant operators n. e. c.'],\n",
       "      dtype=object)"
      ]
     },
     "execution_count": 74,
     "metadata": {},
     "output_type": "execute_result"
    }
   ],
   "source": [
    "income_df['Household Head Occupation'].unique()"
   ]
  },
  {
   "cell_type": "code",
   "execution_count": 75,
   "id": "7cc3c972",
   "metadata": {},
   "outputs": [],
   "source": [
    "income_df['Household Head Occupation'] = income_df['Household Head Occupation'].replace(np.nan, 'Other')"
   ]
  },
  {
   "cell_type": "markdown",
   "id": "db8ef8b3",
   "metadata": {},
   "source": [
    "### `Household Head Class of Worker` variable"
   ]
  },
  {
   "cell_type": "code",
   "execution_count": 76,
   "id": "efc4a55d",
   "metadata": {},
   "outputs": [
    {
     "data": {
      "text/plain": [
       "Self-employed wihout any employee                             13766\n",
       "Worked for private establishment                              13731\n",
       "Worked for government/government corporation                   2820\n",
       "Employer in own family-operated farm or business               2581\n",
       "Worked for private household                                    811\n",
       "Worked without pay in own family-operated farm or business      285\n",
       "Worked with pay in own family-operated farm or business          14\n",
       "Name: Household Head Class of Worker, dtype: int64"
      ]
     },
     "execution_count": 76,
     "metadata": {},
     "output_type": "execute_result"
    }
   ],
   "source": [
    "income_df['Household Head Class of Worker'].value_counts()"
   ]
  },
  {
   "cell_type": "code",
   "execution_count": 77,
   "id": "3a216df8",
   "metadata": {},
   "outputs": [],
   "source": [
    "income_df['Household Head Class of Worker'] = income_df['Household Head Class of Worker'].replace(np.nan, 'Other')"
   ]
  },
  {
   "cell_type": "code",
   "execution_count": 78,
   "id": "f0a043d4",
   "metadata": {},
   "outputs": [
    {
     "data": {
      "text/plain": [
       "Total Household Income                           0\n",
       "Region                                           0\n",
       "Total Food Expenditure                           0\n",
       "Main Source of Income                            0\n",
       "Agricultural Household indicator                 0\n",
       "Bread and Cereals Expenditure                    0\n",
       "Total Rice Expenditure                           0\n",
       "Meat Expenditure                                 0\n",
       "Total Fish and  marine products Expenditure      0\n",
       "Fruit Expenditure                                0\n",
       "Vegetables Expenditure                           0\n",
       "Restaurant and hotels Expenditure                0\n",
       "Alcoholic Beverages Expenditure                  0\n",
       "Tobacco Expenditure                              0\n",
       "Clothing, Footwear and Other Wear Expenditure    0\n",
       "Housing and water Expenditure                    0\n",
       "Imputed House Rental Value                       0\n",
       "Medical Care Expenditure                         0\n",
       "Transportation Expenditure                       0\n",
       "Communication Expenditure                        0\n",
       "Education Expenditure                            0\n",
       "Miscellaneous Goods and Services Expenditure     0\n",
       "Special Occasions Expenditure                    0\n",
       "Crop Farming and Gardening expenses              0\n",
       "Total Income from Entrepreneurial Acitivites     0\n",
       "Household Head Sex                               0\n",
       "Household Head Age                               0\n",
       "Household Head Marital Status                    0\n",
       "Household Head Highest Grade Completed           0\n",
       "Household Head Job or Business Indicator         0\n",
       "Household Head Occupation                        0\n",
       "Household Head Class of Worker                   0\n",
       "Type of Household                                0\n",
       "Total Number of Family members                   0\n",
       "Members with age less than 5 year old            0\n",
       "Members with age 5 - 17 years old                0\n",
       "Total number of family members employed          0\n",
       "Type of Building/House                           0\n",
       "Type of Roof                                     0\n",
       "Type of Walls                                    0\n",
       "House Floor Area                                 0\n",
       "House Age                                        0\n",
       "Number of bedrooms                               0\n",
       "Tenure Status                                    0\n",
       "Toilet Facilities                                0\n",
       "Electricity                                      0\n",
       "Main Source of Water Supply                      0\n",
       "Number of Television                             0\n",
       "Number of CD/VCD/DVD                             0\n",
       "Number of Component/Stereo set                   0\n",
       "Number of Refrigerator/Freezer                   0\n",
       "Number of Washing Machine                        0\n",
       "Number of Airconditioner                         0\n",
       "Number of Car, Jeep, Van                         0\n",
       "Number of Landline/wireless telephones           0\n",
       "Number of Cellular phone                         0\n",
       "Number of Personal Computer                      0\n",
       "Number of Stove with Oven/Gas Range              0\n",
       "Number of Motorized Banca                        0\n",
       "Number of Motorcycle/Tricycle                    0\n",
       "dtype: int64"
      ]
     },
     "execution_count": 78,
     "metadata": {},
     "output_type": "execute_result"
    }
   ],
   "source": [
    "income_df.isna().sum()"
   ]
  },
  {
   "cell_type": "markdown",
   "id": "71e98b13",
   "metadata": {},
   "source": [
    "After performing another null checking, we can see there are no more null values found in all variables."
   ]
  },
  {
   "cell_type": "markdown",
   "id": "9847830b",
   "metadata": {},
   "source": [
    "### Checking for Wrong Encodings, Duplicates, and Inconsistencies\n",
    "Since all the null values are taken care of, we will now check the representations of the values in each categorical variable."
   ]
  },
  {
   "cell_type": "markdown",
   "id": "edc3e49e",
   "metadata": {},
   "source": [
    "### `Region` variable"
   ]
  },
  {
   "cell_type": "code",
   "execution_count": 79,
   "id": "5135c156",
   "metadata": {},
   "outputs": [
    {
     "data": {
      "text/plain": [
       "IVA - CALABARZON             4162\n",
       "NCR                          4130\n",
       "III - Central Luzon          3237\n",
       "VI - Western Visayas         2851\n",
       "VII - Central Visayas        2541\n",
       "V - Bicol Region             2472\n",
       "XI - Davao Region            2446\n",
       "I - Ilocos Region            2348\n",
       "VIII - Eastern Visayas       2337\n",
       " ARMM                        2248\n",
       "II - Cagayan Valley          2219\n",
       "XII - SOCCSKSARGEN           2122\n",
       "X - Northern Mindanao        1887\n",
       "IX - Zasmboanga Peninsula    1788\n",
       "Caraga                       1782\n",
       "CAR                          1725\n",
       "IVB - MIMAROPA               1249\n",
       "Name: Region, dtype: int64"
      ]
     },
     "execution_count": 79,
     "metadata": {},
     "output_type": "execute_result"
    }
   ],
   "source": [
    "income_df['Region'].value_counts()"
   ]
  },
  {
   "cell_type": "markdown",
   "id": "286705cb",
   "metadata": {},
   "source": [
    "After checking the `Region` variable, we can see that there are misrepresentations of whitespacing, wrong spelling, and inconsistency in the values such as ` ARMM`, `IX - Zasmboanga Peninsula`, and, `Caraga`, respectively, which are found to be dirty. We will replace these values with the appropriate representations.  "
   ]
  },
  {
   "cell_type": "code",
   "execution_count": 80,
   "id": "22dc79bd",
   "metadata": {},
   "outputs": [],
   "source": [
    "income_df['Region'] = income_df['Region'].replace(' ARMM', 'ARMM')\n",
    "income_df['Region'] = income_df['Region'].replace('IX - Zasmboanga Peninsula', 'IX - Zamboanga Peninsula')\n",
    "income_df['Region'] = income_df['Region'].replace('Caraga', 'XIII - Caraga')"
   ]
  },
  {
   "cell_type": "code",
   "execution_count": 81,
   "id": "785d2b57",
   "metadata": {},
   "outputs": [
    {
     "data": {
      "text/plain": [
       "IVA - CALABARZON            4162\n",
       "NCR                         4130\n",
       "III - Central Luzon         3237\n",
       "VI - Western Visayas        2851\n",
       "VII - Central Visayas       2541\n",
       "V - Bicol Region            2472\n",
       "XI - Davao Region           2446\n",
       "I - Ilocos Region           2348\n",
       "VIII - Eastern Visayas      2337\n",
       "ARMM                        2248\n",
       "II - Cagayan Valley         2219\n",
       "XII - SOCCSKSARGEN          2122\n",
       "X - Northern Mindanao       1887\n",
       "IX - Zamboanga Peninsula    1788\n",
       "XIII - Caraga               1782\n",
       "CAR                         1725\n",
       "IVB - MIMAROPA              1249\n",
       "Name: Region, dtype: int64"
      ]
     },
     "execution_count": 81,
     "metadata": {},
     "output_type": "execute_result"
    }
   ],
   "source": [
    "income_df['Region'].value_counts()"
   ]
  },
  {
   "cell_type": "markdown",
   "id": "1fac18d3",
   "metadata": {},
   "source": [
    "### `Main Source of Income` variable"
   ]
  },
  {
   "cell_type": "code",
   "execution_count": 82,
   "id": "bed6d38c",
   "metadata": {},
   "outputs": [
    {
     "data": {
      "text/plain": [
       "Wage/Salaries                 20388\n",
       "Other sources of Income       10836\n",
       "Enterpreneurial Activities    10320\n",
       "Name: Main Source of Income, dtype: int64"
      ]
     },
     "execution_count": 82,
     "metadata": {},
     "output_type": "execute_result"
    }
   ],
   "source": [
    "income_df['Main Source of Income'].value_counts()"
   ]
  },
  {
   "cell_type": "markdown",
   "id": "11621453",
   "metadata": {},
   "source": [
    "There seems to be no misrepresentations in `Main Source of Income variable` upon checking."
   ]
  },
  {
   "cell_type": "markdown",
   "id": "54d6461b",
   "metadata": {},
   "source": [
    "### `Agricultural Household indicator` variable"
   ]
  },
  {
   "cell_type": "code",
   "execution_count": 83,
   "id": "6d76a26f",
   "metadata": {},
   "outputs": [
    {
     "data": {
      "text/plain": [
       "0    28106\n",
       "1     9018\n",
       "2     4420\n",
       "Name: Agricultural Household indicator, dtype: int64"
      ]
     },
     "execution_count": 83,
     "metadata": {},
     "output_type": "execute_result"
    }
   ],
   "source": [
    "income_df['Agricultural Household indicator'].value_counts()"
   ]
  },
  {
   "cell_type": "markdown",
   "id": "e0dbce4d",
   "metadata": {},
   "source": [
    "There seems to be no misrepresentations in `Agricultural Household indicator` variable upon checking."
   ]
  },
  {
   "cell_type": "markdown",
   "id": "a22d422a",
   "metadata": {},
   "source": [
    "### `Household Head Sex` variable"
   ]
  },
  {
   "cell_type": "code",
   "execution_count": 84,
   "id": "428c690c",
   "metadata": {},
   "outputs": [
    {
     "data": {
      "text/plain": [
       "Male      32483\n",
       "Female     9061\n",
       "Name: Household Head Sex, dtype: int64"
      ]
     },
     "execution_count": 84,
     "metadata": {},
     "output_type": "execute_result"
    }
   ],
   "source": [
    "income_df['Household Head Sex'].value_counts()"
   ]
  },
  {
   "cell_type": "markdown",
   "id": "b5803e76",
   "metadata": {},
   "source": [
    "There seems to be no misrepresentations in `Household Head Sex variable` variable upon checking."
   ]
  },
  {
   "cell_type": "markdown",
   "id": "42cec0c4",
   "metadata": {},
   "source": [
    "### `Household Head Marital Status` variable"
   ]
  },
  {
   "cell_type": "code",
   "execution_count": 85,
   "id": "1840af87",
   "metadata": {},
   "outputs": [
    {
     "data": {
      "text/plain": [
       "Married               31347\n",
       "Widowed                6818\n",
       "Single                 1942\n",
       "Divorced/Separated     1425\n",
       "Annulled                 11\n",
       "Unknown                   1\n",
       "Name: Household Head Marital Status, dtype: int64"
      ]
     },
     "execution_count": 85,
     "metadata": {},
     "output_type": "execute_result"
    }
   ],
   "source": [
    "income_df['Household Head Marital Status'].value_counts()"
   ]
  },
  {
   "cell_type": "markdown",
   "id": "2bc94941",
   "metadata": {},
   "source": [
    "We can see that there is a value `Unknown` as the very least observation compared to other values upon checking so we decided to drop its entire row from the dataset by replacing it with a null value then calling the `dropna` function. "
   ]
  },
  {
   "cell_type": "code",
   "execution_count": 86,
   "id": "c98eae55",
   "metadata": {},
   "outputs": [],
   "source": [
    "income_df['Household Head Marital Status'] = income_df['Household Head Marital Status'].replace('Unknown', np.nan) "
   ]
  },
  {
   "cell_type": "code",
   "execution_count": 87,
   "id": "8bb2e9d2",
   "metadata": {},
   "outputs": [],
   "source": [
    "income_df = income_df.dropna()"
   ]
  },
  {
   "cell_type": "markdown",
   "id": "bab77d77",
   "metadata": {},
   "source": [
    "### `Household Head Highest Grade Completed` variable"
   ]
  },
  {
   "cell_type": "code",
   "execution_count": 88,
   "id": "90282d5f",
   "metadata": {},
   "outputs": [
    {
     "data": {
      "text/plain": [
       "High School Graduate                                                                                                                                                                                                   9627\n",
       "Elementary Graduate                                                                                                                                                                                                    7640\n",
       "Grade 4                                                                                                                                                                                                                2282\n",
       "Grade 5                                                                                                                                                                                                                2123\n",
       "Second Year High School                                                                                                                                                                                                2104\n",
       "Grade 3                                                                                                                                                                                                                1994\n",
       "Third Year High School                                                                                                                                                                                                 1545\n",
       "Business and Administration Programs                                                                                                                                                                                   1344\n",
       "Second Year College                                                                                                                                                                                                    1343\n",
       "Grade 2                                                                                                                                                                                                                1311\n",
       "First Year High School                                                                                                                                                                                                 1247\n",
       "No Grade Completed                                                                                                                                                                                                     1228\n",
       "Third Year College                                                                                                                                                                                                      924\n",
       "Teacher Training and Education Sciences Programs                                                                                                                                                                        922\n",
       "First Year College                                                                                                                                                                                                      907\n",
       "Grade 1                                                                                                                                                                                                                 874\n",
       "Engineering and Engineering Trades Programs                                                                                                                                                                             777\n",
       "Engineering and Engineering trades Programs                                                                                                                                                                             522\n",
       "Health Programs                                                                                                                                                                                                         339\n",
       "Computing/Information Technology Programs                                                                                                                                                                               293\n",
       "Security Services Programs                                                                                                                                                                                              252\n",
       "Post Baccalaureate                                                                                                                                                                                                      247\n",
       "Grade 6                                                                                                                                                                                                                 237\n",
       "Agriculture, Forestry, and Fishery Programs                                                                                                                                                                             230\n",
       "Transport Services Programs                                                                                                                                                                                             225\n",
       "Second Year Post Secondary                                                                                                                                                                                              140\n",
       "Social and Behavioral Science Programs                                                                                                                                                                                  132\n",
       "Fourth Year College                                                                                                                                                                                                     124\n",
       "First Year Post Secondary                                                                                                                                                                                               115\n",
       "Personal Services Programs                                                                                                                                                                                               89\n",
       "Humanities Programs                                                                                                                                                                                                      75\n",
       "Other Programs in Education at the Third Level, First Stage, of the Type that Leads to an Award not Equivalent to a First University or Baccalaureate Degree                                                             66\n",
       "Law Programs                                                                                                                                                                                                             39\n",
       "Basic Programs                                                                                                                                                                                                           33\n",
       "Architecture and Building Programs                                                                                                                                                                                       33\n",
       "Journalism and Information Programs                                                                                                                                                                                      31\n",
       "Arts Programs                                                                                                                                                                                                            23\n",
       "Life Sciences Programs                                                                                                                                                                                                   19\n",
       "Manufacturing and Processing Programs                                                                                                                                                                                    15\n",
       "Preschool                                                                                                                                                                                                                15\n",
       "Mathematics and Statistics Programs                                                                                                                                                                                      11\n",
       "Social Services Programs                                                                                                                                                                                                 11\n",
       "Other Programs of Education at the Third Level, First Stage, of the Type that Leads to a Baccalaureate or First University/Professional Degree (HIgher Education Level, First Stage, or Collegiate Education Level)       9\n",
       "Physical Sciences Programs                                                                                                                                                                                                9\n",
       "Veterinary Programs                                                                                                                                                                                                       9\n",
       "Environmental Protection Programs                                                                                                                                                                                         8\n",
       "Name: Household Head Highest Grade Completed, dtype: int64"
      ]
     },
     "execution_count": 88,
     "metadata": {},
     "output_type": "execute_result"
    }
   ],
   "source": [
    "income_df['Household Head Highest Grade Completed'].value_counts()"
   ]
  },
  {
   "cell_type": "markdown",
   "id": "b5519540",
   "metadata": {},
   "source": [
    "We can see that there is a dirty duplicate value with letter casing issue surrounding the word `trades` between `Engineering and Engineering Trades Programs` and `Engineering and Engineering trades Programs` upon checking, so we decided to filter it by replacing the one with the lower case letter 't' with upper case 'T'."
   ]
  },
  {
   "cell_type": "code",
   "execution_count": 89,
   "id": "8c939c01",
   "metadata": {},
   "outputs": [
    {
     "name": "stderr",
     "output_type": "stream",
     "text": [
      "C:\\Users\\Matt\\AppData\\Local\\Temp\\ipykernel_11656\\126417670.py:1: SettingWithCopyWarning: \n",
      "A value is trying to be set on a copy of a slice from a DataFrame.\n",
      "Try using .loc[row_indexer,col_indexer] = value instead\n",
      "\n",
      "See the caveats in the documentation: https://pandas.pydata.org/pandas-docs/stable/user_guide/indexing.html#returning-a-view-versus-a-copy\n",
      "  income_df['Household Head Highest Grade Completed'] = income_df['Household Head Highest Grade Completed'].replace('Engineering and Engineering trades Programs', 'Engineering and Engineering Trades Programs')\n"
     ]
    }
   ],
   "source": [
    "income_df['Household Head Highest Grade Completed'] = income_df['Household Head Highest Grade Completed'].replace('Engineering and Engineering trades Programs', 'Engineering and Engineering Trades Programs')"
   ]
  },
  {
   "cell_type": "code",
   "execution_count": 90,
   "id": "ac5572d1",
   "metadata": {},
   "outputs": [
    {
     "data": {
      "text/plain": [
       "High School Graduate                                                                                                                                                                                                   9627\n",
       "Elementary Graduate                                                                                                                                                                                                    7640\n",
       "Grade 4                                                                                                                                                                                                                2282\n",
       "Grade 5                                                                                                                                                                                                                2123\n",
       "Second Year High School                                                                                                                                                                                                2104\n",
       "Grade 3                                                                                                                                                                                                                1994\n",
       "Third Year High School                                                                                                                                                                                                 1545\n",
       "Business and Administration Programs                                                                                                                                                                                   1344\n",
       "Second Year College                                                                                                                                                                                                    1343\n",
       "Grade 2                                                                                                                                                                                                                1311\n",
       "Engineering and Engineering Trades Programs                                                                                                                                                                            1299\n",
       "First Year High School                                                                                                                                                                                                 1247\n",
       "No Grade Completed                                                                                                                                                                                                     1228\n",
       "Third Year College                                                                                                                                                                                                      924\n",
       "Teacher Training and Education Sciences Programs                                                                                                                                                                        922\n",
       "First Year College                                                                                                                                                                                                      907\n",
       "Grade 1                                                                                                                                                                                                                 874\n",
       "Health Programs                                                                                                                                                                                                         339\n",
       "Computing/Information Technology Programs                                                                                                                                                                               293\n",
       "Security Services Programs                                                                                                                                                                                              252\n",
       "Post Baccalaureate                                                                                                                                                                                                      247\n",
       "Grade 6                                                                                                                                                                                                                 237\n",
       "Agriculture, Forestry, and Fishery Programs                                                                                                                                                                             230\n",
       "Transport Services Programs                                                                                                                                                                                             225\n",
       "Second Year Post Secondary                                                                                                                                                                                              140\n",
       "Social and Behavioral Science Programs                                                                                                                                                                                  132\n",
       "Fourth Year College                                                                                                                                                                                                     124\n",
       "First Year Post Secondary                                                                                                                                                                                               115\n",
       "Personal Services Programs                                                                                                                                                                                               89\n",
       "Humanities Programs                                                                                                                                                                                                      75\n",
       "Other Programs in Education at the Third Level, First Stage, of the Type that Leads to an Award not Equivalent to a First University or Baccalaureate Degree                                                             66\n",
       "Law Programs                                                                                                                                                                                                             39\n",
       "Basic Programs                                                                                                                                                                                                           33\n",
       "Architecture and Building Programs                                                                                                                                                                                       33\n",
       "Journalism and Information Programs                                                                                                                                                                                      31\n",
       "Arts Programs                                                                                                                                                                                                            23\n",
       "Life Sciences Programs                                                                                                                                                                                                   19\n",
       "Manufacturing and Processing Programs                                                                                                                                                                                    15\n",
       "Preschool                                                                                                                                                                                                                15\n",
       "Mathematics and Statistics Programs                                                                                                                                                                                      11\n",
       "Social Services Programs                                                                                                                                                                                                 11\n",
       "Other Programs of Education at the Third Level, First Stage, of the Type that Leads to a Baccalaureate or First University/Professional Degree (HIgher Education Level, First Stage, or Collegiate Education Level)       9\n",
       "Physical Sciences Programs                                                                                                                                                                                                9\n",
       "Veterinary Programs                                                                                                                                                                                                       9\n",
       "Environmental Protection Programs                                                                                                                                                                                         8\n",
       "Name: Household Head Highest Grade Completed, dtype: int64"
      ]
     },
     "execution_count": 90,
     "metadata": {},
     "output_type": "execute_result"
    }
   ],
   "source": [
    "income_df['Household Head Highest Grade Completed'].value_counts()"
   ]
  },
  {
   "cell_type": "markdown",
   "id": "c16c2241",
   "metadata": {},
   "source": [
    "### `Household Head Job or Business Indicator`"
   ]
  },
  {
   "cell_type": "code",
   "execution_count": 91,
   "id": "e0e2f895",
   "metadata": {},
   "outputs": [
    {
     "data": {
      "text/plain": [
       "With Job/Business    34007\n",
       "No Job/Business       7536\n",
       "Name: Household Head Job or Business Indicator, dtype: int64"
      ]
     },
     "execution_count": 91,
     "metadata": {},
     "output_type": "execute_result"
    }
   ],
   "source": [
    "income_df['Household Head Job or Business Indicator'].value_counts()"
   ]
  },
  {
   "cell_type": "markdown",
   "id": "6d2bae5c",
   "metadata": {},
   "source": [
    "There seems to be no misrepresentations in `Household Head Job or Business Indicator` variable upon checking."
   ]
  },
  {
   "cell_type": "markdown",
   "id": "2abc66f7",
   "metadata": {},
   "source": [
    "### `Household Head Occupation` variable"
   ]
  },
  {
   "cell_type": "code",
   "execution_count": 92,
   "id": "a01eb9ef",
   "metadata": {},
   "outputs": [
    {
     "data": {
      "text/plain": [
       "array(['General elementary education teaching professionals',\n",
       "       'Transport conductors', 'Farmhands and laborers', 'Rice farmers',\n",
       "       'General managers/managing proprietors in transportation, storage and communications',\n",
       "       'Heavy truck and lorry drivers', 'Other', 'Hog raising farmers',\n",
       "       'Vegetable farmers',\n",
       "       'General managers/managing proprietors in wholesale and retail trade',\n",
       "       'Stocks clerks', 'Justices', 'Other social science professionals',\n",
       "       'Protective services workers n. e. c.', 'Secretaries',\n",
       "       'Electronics mechanics and servicers',\n",
       "       'Foresters and related scientists',\n",
       "       'Shop salespersons and demonstrators',\n",
       "       'College, university and higher education teaching professionals',\n",
       "       'General managers/managing proprietors of restaurants and hotels',\n",
       "       'Welders and flamecutters', 'Car, taxi and van drivers',\n",
       "       'Motor vehicle mechanics and related trades workers',\n",
       "       'Traditional chiefs and heads of villages', 'Motorcycle drivers',\n",
       "       'Statistical, mathematical and related associate professionals',\n",
       "       'Lineman, line installers and cable splicers',\n",
       "       'Carpenters and joiners', 'Building construction laborers',\n",
       "       'General managers/managing proprietors in manufacturing',\n",
       "       'Masons and related concrete finishers', 'Legislative officials',\n",
       "       'Inland and coastal waters fishermen',\n",
       "       'Painters and related workers',\n",
       "       'Construction and maintenance laborers: roads, dams and similar constructions',\n",
       "       'Helpers and cleaners in offices, hotels and other establishments',\n",
       "       'General managers/managing proprietors n. e. c.',\n",
       "       'Messengers, package and luggage porters and deliverers',\n",
       "       'Social work associate professionals',\n",
       "       'Hand packers and other manufacturing laborers',\n",
       "       'Door-to-door and telephone salespersons',\n",
       "       'Hand launderers and pressers', 'Sweepers and related laborers',\n",
       "       'Medical technologists',\n",
       "       'Production and operations managers in agriculture, hunting, forestry and fishery',\n",
       "       'Corn farmers', 'Cooks', 'School supervisors and principals',\n",
       "       'Tailors, dressmakers and hatters',\n",
       "       'Wood and related products assemblers',\n",
       "       'Police inspectors and detectives', 'Coconut farmers',\n",
       "       'Root crops farmers', 'Fruit tree farmers',\n",
       "       'Coffee and cacao farmers', 'Forestry laborers',\n",
       "       'Other office clerks',\n",
       "       'General managers/managing proprietors of business services',\n",
       "       'School principals', 'Civil engineers', 'Prison guards',\n",
       "       \"Ship's deck crews and related workers\", 'Assembling laborers',\n",
       "       'Tellers and other counter clerks',\n",
       "       'Government administrators (including career executive service officers)',\n",
       "       'Plumbers, pipe fitters and other related workers',\n",
       "       'Mechanical engineering technicians', 'Street ambulant vendors',\n",
       "       'Production supervisors and general foremen', 'Food preservers',\n",
       "       'Basketry weavers, brush makers and related workers',\n",
       "       'Statistical and finance clerks',\n",
       "       'Non-ordained religious associate professionals',\n",
       "       'Wood products machine operators',\n",
       "       'Building and related electricians',\n",
       "       'Production and operations managers in restaurant and hotels',\n",
       "       'Other supervisors, n. e. c.', 'Other orchard farmers',\n",
       "       'Building caretakers',\n",
       "       'Doorkeepers, watchpersons and related workers',\n",
       "       'Waiters, waitresses and bartenders',\n",
       "       \"Ships' deck officers and pilots\", 'Child care workers',\n",
       "       'Mining and quarrying laborers', 'Religious professionals',\n",
       "       'Earth-moving and related plant operators',\n",
       "       'General managers/managing proprietors in agriculture, hunting, forestry and fishing',\n",
       "       'Motorized farm and forestry plant operators',\n",
       "       'Domestic helpers and cleaners',\n",
       "       'Broadcasting and telecommunications equipment operators',\n",
       "       'General secondary education teaching professionals',\n",
       "       'Accounting and bookkeeping clerks',\n",
       "       'Chemical processing plant operators n. e. c.', 'Freight handlers',\n",
       "       'Fishery laborers and helpers', 'Data entry operators',\n",
       "       'Miners and quarry workers', 'Police officers',\n",
       "       'Cabinet/furniture makers and related workers', 'Duck raisers',\n",
       "       'Blacksmiths, hammersmiths, and forging-press workers',\n",
       "       'General managers/managing proprietors in personal care, cleaning and relative services',\n",
       "       'Butchers, fishmongers and related food preparers',\n",
       "       'Cotton and fiber crops farmers', 'Forest tree planters',\n",
       "       'Bet bookmakers and croupiers', 'Transport clerks',\n",
       "       'Enlisted personnel n. e. c.',\n",
       "       'Directors and chief executives of corporations',\n",
       "       'Combat soldiers', 'Concessionaires and loggers',\n",
       "       'Institution-based personal care workers',\n",
       "       'Market and sidewalk stall vendors',\n",
       "       'Minor forest products gatherers',\n",
       "       'Debt collectors and related workers',\n",
       "       'Vocational education teaching professionals',\n",
       "       'Wood processing plant operators', 'Shotfirers and blasters',\n",
       "       'Fruit, vegetable and nut processing machine operators',\n",
       "       'Lifting truck operators',\n",
       "       'Bakers, pastry cooks and confectionery makers',\n",
       "       'Photographic products machine operators',\n",
       "       'Rattan, bamboo and other wicker furniture makers',\n",
       "       'Chicken farmers', 'Mining-plant operators',\n",
       "       'Rubber products machine operators',\n",
       "       'Pawnbrokers and money lenders', 'Sheet-metal workers',\n",
       "       'Fish-farm cultivators (excluding prawns)',\n",
       "       'General managers/managing proprietors in construction',\n",
       "       'Stall and market salespersons',\n",
       "       'Handicraft workers in wood and related materials',\n",
       "       'Weavers, knitters and related workers',\n",
       "       'Traditional medicine practitioners',\n",
       "       'Personnel and industrial relations managers',\n",
       "       'Cement and other mineral products machine operators',\n",
       "       'Firefighters', 'Undertakers and embalmers',\n",
       "       'Hairdressers, barbers, beauticians and related workers',\n",
       "       'Shoe cleaning and other street services elementary occupations',\n",
       "       'Silk-screen, block and textile printers',\n",
       "       'Choreographers and dancers', 'Garbage collectors',\n",
       "       'Ornamental plant growers', 'Cashiers and ticket clerks',\n",
       "       'Varnishers and related painters', 'Accountants and auditors',\n",
       "       'Personal care and related workers, n. e. c.',\n",
       "       'Library and filing clerks', 'Cattle and dairy farmers',\n",
       "       'Structural-metal preparers, erectors and related workers',\n",
       "       'Other livestock farmers',\n",
       "       'Production and operations managers in transport, storage and communications',\n",
       "       'Sales and marketing managers',\n",
       "       'Grain and spice milling machine operators', 'Deep-sea fishermen',\n",
       "       'Mechanical engineers',\n",
       "       'Production and operations managers in manufacturing',\n",
       "       'Agronomists and related scientists',\n",
       "       'Research and development managers',\n",
       "       'Computer equipment operators',\n",
       "       'Other administrative associate professionals', 'Bookkeepers',\n",
       "       'Midwifery associate professionals',\n",
       "       'Other machine operators and assemblers',\n",
       "       'Sewers, Embroiderers and related workers',\n",
       "       'Safety, health and quality inspectors (vehicles, processes and products)',\n",
       "       'Electronic equipment assemblers',\n",
       "       'Textile, leather and related patternmakers and cutters',\n",
       "       'Roofers', 'Other field crop farmers', 'Sugarcane farmers',\n",
       "       'Power production plant operators', 'Other poultry farmers',\n",
       "       'Metal-wheel grinders, polishers and tool sharpeners',\n",
       "       'Other computer professionals', 'Electrical mechanics and fitters',\n",
       "       'Metal finishing, plating and coating machine operators',\n",
       "       'Professional nurses',\n",
       "       'Professional, technical and related officers',\n",
       "       'Charcoal makers and related workers',\n",
       "       'Athletes and related workers',\n",
       "       'Decorators and commercial designers',\n",
       "       'Automated assembly-line operators',\n",
       "       'Labor contractors and employment agents',\n",
       "       'Sugar production machine operators', 'Veterinary assistants',\n",
       "       'Glass makers, cutters, grinders and finishers',\n",
       "       'Production and operations managers in personal care, cleaning and relative services',\n",
       "       'Tool-makers and related workers',\n",
       "       'Transport and communications service supervisors n. e. c.',\n",
       "       'Other specialized managers', 'Riggers and cable splicers',\n",
       "       'Production and operations managers in wholesale and retail trade',\n",
       "       'Field legumes farmers', 'Staff officers', 'Estate agents',\n",
       "       'Technical and commercial sales representatives',\n",
       "       'Computer programmers', 'Receptionists and information clerks',\n",
       "       'Pharmacists', 'Housekeepers and related workers',\n",
       "       'Appraisers and valuers', 'Government tax and excise officials',\n",
       "       'Administrative secretaries and related associate professionals',\n",
       "       'Bus drivers', 'Teaching associate professionals', 'Architects',\n",
       "       'Finance and administration managers', 'Commanding officers',\n",
       "       'Nutritionists-dietitians', 'Professional midwives',\n",
       "       'Street, nightclub and related musicians, singers and dancers',\n",
       "       'Electrical Engineers',\n",
       "       'Mining and metallurgical engineering technicians', 'Draftsmen',\n",
       "       'Computer engineers and related professionals',\n",
       "       'Other life science technicians', 'Dairy products makers',\n",
       "       'Legal and related business associate professionals',\n",
       "       'Mail carriers and sorting clerks',\n",
       "       'Well drillers and borers and related workers',\n",
       "       'Other business professionals',\n",
       "       'Production and operations managers in construction',\n",
       "       'Farm technicians', 'Economists',\n",
       "       'Building frame and related trades workers n. e. c.', 'Chemists',\n",
       "       'Insurance representatives', 'Civil engineering technicians',\n",
       "       'Word processor and related operators', 'Production clerks',\n",
       "       'Meat and fish processing machine operators',\n",
       "       'Other personal services workers, n. e. c.',\n",
       "       'Crane, hoist and related plant operators',\n",
       "       'Composers, musicians and singers',\n",
       "       'Photographers and image and sound recording equipment operators',\n",
       "       'Hand or pedal vehicle drivers', 'Statisticians',\n",
       "       'Customs and immigration inspectors',\n",
       "       'Electronics and communications engineers',\n",
       "       'Fashion and other models',\n",
       "       'Metal melters, caster and rolling mill operators',\n",
       "       'Weaving and knitting machine operators',\n",
       "       'Personnel and human resource development professionals',\n",
       "       'Mechanical machinery assemblers',\n",
       "       'Workers reporting occupations unidentifiable or inadequately defined',\n",
       "       'Sales supervisors in retail trade', 'Metal drawers and extruders',\n",
       "       'Floor layers and tile setters', 'Systems analysts and designers',\n",
       "       'Government licensing officials',\n",
       "       'Librarians, archivists and curators',\n",
       "       'Incinerator, water treatment and related plant operators',\n",
       "       'Town planners and related professionals',\n",
       "       'Home-based personal care workers',\n",
       "       'Education methods specialists',\n",
       "       'Sculptors, painters and related artists', 'Buyers',\n",
       "       'Other health associate professionals (except nursing)',\n",
       "       'Precision instrument makers and repairers', 'Medical assistants',\n",
       "       'Medical doctors', 'Compositors, typesetters and related workers',\n",
       "       'Faith healers', 'Travel consultants and organizers',\n",
       "       'Air transport service supervisors', 'Companions and valets',\n",
       "       'Senior officials of humanitarian and other special-interest organizations',\n",
       "       'Electrical equipment assemblers',\n",
       "       'Metal, rubber and plastic products assemblers',\n",
       "       'Electronics and communications engineering technicians',\n",
       "       'Industrial engineers',\n",
       "       'Baked goods and cereal and chocolate products machine operators',\n",
       "       'Metal molders and coremakers', 'Lawyers', 'Dentists',\n",
       "       'Marine craft mechanics',\n",
       "       'Pre-elementary education teaching professionals',\n",
       "       'Bookbinders and related workers',\n",
       "       'Jewelry and precious metal workers', 'Travel guides',\n",
       "       'Social work professionals',\n",
       "       'Musical instrument makers and tuners',\n",
       "       'Machine-tool setters and setter operators',\n",
       "       'Stenographers and typists',\n",
       "       'Stone splitters, cutters and carvers',\n",
       "       'Ship and aircraft controllers and technicians',\n",
       "       'Photographic and related workers', 'Computer assistants',\n",
       "       'Aircraft engine mechanics and fitters',\n",
       "       'Production and operations managers in business services',\n",
       "       'Woodworking machine setters and setter-operators',\n",
       "       'Food and beverage tasters and graders',\n",
       "       'Technical and vocational instructors/trainors', 'Trade brokers',\n",
       "       'Radio, television and other announcers',\n",
       "       'Air traffic safety technicians', 'Other plant growers',\n",
       "       'Pressman letterpresses and related workers',\n",
       "       'Other health professionals (except nursing)',\n",
       "       'Mineral ore and stone-processing plant operators',\n",
       "       'Shoemakers and related workers',\n",
       "       'Agricultural or industrial machinery mechanics and fitters',\n",
       "       'Nonformal education teaching professionals other than technical and vocational trainors/instructors',\n",
       "       'Seaweeds cultivators', 'Upholsterers and related workers',\n",
       "       'Sales supervisors in wholesale trade', 'Insulation workers',\n",
       "       'Machine tool operators', 'Authors, journalists and other writers',\n",
       "       'Technician, skilled, semi-skilled workers',\n",
       "       'Tobacco preparers and tobacco products makers',\n",
       "       'Other physical science and engineering technicians',\n",
       "       'Other sales supervisors',\n",
       "       'Brewers and wine and other beverage machine operators',\n",
       "       'Supply and distribution managers', 'Papermaking plant operators',\n",
       "       'Pharmaceutical and toiletry products machine operators',\n",
       "       'Paperboard, textile and related products assemblers',\n",
       "       'Building and fire inspectors',\n",
       "       'Telecommunication equipment installers and repairers',\n",
       "       'Plastic products machine operators', 'Industrial robot operators',\n",
       "       'Chemical engineers', 'Dairy products machine operators',\n",
       "       'Fishermen n. e. c.',\n",
       "       'Science and mathematics teaching professionals',\n",
       "       'Dental assistants',\n",
       "       'Drivers of animal-drawn vehicles and machinery',\n",
       "       'Postal service supervisors',\n",
       "       'Science and mathematics elementary education teaching professionals',\n",
       "       'Hunting and trapping laborers',\n",
       "       'Other government associate professionals',\n",
       "       'Coding, proof-reading and related clerks',\n",
       "       'Geodetic engineers and related professionals',\n",
       "       'Business machines mechanics and repairers',\n",
       "       'Bleaching, dyeing and cleaning machine operators',\n",
       "       'Other finance and sales associate professionals',\n",
       "       'Life science technicians', 'Telephone switchboard operators',\n",
       "       'Other animal raisers', 'Pharmaceutical assistants',\n",
       "       'Petroleum and natural gas refining plant operators',\n",
       "       'Builders (traditional materials)',\n",
       "       'Maritime transport service supervisors',\n",
       "       'Service and related workers', 'Medical equipment operators',\n",
       "       'Electronics fitters',\n",
       "       'Fiber preparing, spinning and winding machine operators',\n",
       "       'Hunters and trappers',\n",
       "       'Other business services and trade brokers',\n",
       "       'Shoemaking and related machine operators',\n",
       "       'Other aqua products cultivators',\n",
       "       'Government social benefits officials',\n",
       "       'Potters and related clay and abrasive formers',\n",
       "       'Other creative or performing artists',\n",
       "       'Other teaching professionals', 'Tree nut farmers',\n",
       "       'Fiber preparers', 'Officers, n. e. c.',\n",
       "       'Nursing associate professionals',\n",
       "       'Vehicle, window and related cleaners',\n",
       "       'Other engineers and related professionals', 'Physiotherapists',\n",
       "       'Tanners', 'Glass and ceramics kiln and related machine operators',\n",
       "       'Textile and leather products machine operators n. e. c.',\n",
       "       'Optometrists and opticians', 'Locomotive engine drivers',\n",
       "       'Chemical products machine operators n. e. c.', 'Wood treaters',\n",
       "       'Electrical engineering technicians',\n",
       "       'Advertising and public relations managers',\n",
       "       'Paper pulp plant operators', 'Veterinarians',\n",
       "       'Sewing machine operators',\n",
       "       'Aircraft pilots, navigators and flight engineers',\n",
       "       'Glass, ceramics and related plant operators n. e. c.'],\n",
       "      dtype=object)"
      ]
     },
     "execution_count": 92,
     "metadata": {},
     "output_type": "execute_result"
    }
   ],
   "source": [
    "income_df['Household Head Occupation'].unique()"
   ]
  },
  {
   "cell_type": "markdown",
   "id": "298ab60c",
   "metadata": {},
   "source": [
    "There seems to be no misrepresentations in `Household Head Occupation` variable upon checking. This is the variable earlier that had significant number of observations with null values"
   ]
  },
  {
   "cell_type": "markdown",
   "id": "a26a05c2",
   "metadata": {},
   "source": [
    "### `Household Head Class of Worker` variable"
   ]
  },
  {
   "cell_type": "code",
   "execution_count": 93,
   "id": "a98d052e",
   "metadata": {},
   "outputs": [
    {
     "data": {
      "text/plain": [
       "Self-employed wihout any employee                             13765\n",
       "Worked for private establishment                              13731\n",
       "Other                                                          7536\n",
       "Worked for government/government corporation                   2820\n",
       "Employer in own family-operated farm or business               2581\n",
       "Worked for private household                                    811\n",
       "Worked without pay in own family-operated farm or business      285\n",
       "Worked with pay in own family-operated farm or business          14\n",
       "Name: Household Head Class of Worker, dtype: int64"
      ]
     },
     "execution_count": 93,
     "metadata": {},
     "output_type": "execute_result"
    }
   ],
   "source": [
    "income_df['Household Head Class of Worker'].value_counts()"
   ]
  },
  {
   "cell_type": "markdown",
   "id": "db27ccd9",
   "metadata": {},
   "source": [
    "There seems to be no misrepresentations in `Household Head Class of Worker` variable upon checking. This is also another variable earlier that had significant number of observations with null values"
   ]
  },
  {
   "cell_type": "markdown",
   "id": "09b1a142",
   "metadata": {},
   "source": [
    "### `Type of Household` variable"
   ]
  },
  {
   "cell_type": "code",
   "execution_count": 94,
   "id": "d1dd6dc9",
   "metadata": {},
   "outputs": [
    {
     "data": {
      "text/plain": [
       "Single Family                             28444\n",
       "Extended Family                           12932\n",
       "Two or More Nonrelated Persons/Members      167\n",
       "Name: Type of Household, dtype: int64"
      ]
     },
     "execution_count": 94,
     "metadata": {},
     "output_type": "execute_result"
    }
   ],
   "source": [
    "income_df['Type of Household'].value_counts()"
   ]
  },
  {
   "cell_type": "markdown",
   "id": "36d6ddf8",
   "metadata": {},
   "source": [
    "There seems to be no misrepresentations in `Type of Household` variable upon checking."
   ]
  },
  {
   "cell_type": "markdown",
   "id": "8ef0c268",
   "metadata": {},
   "source": [
    "### `Type of Building/House` variable"
   ]
  },
  {
   "cell_type": "code",
   "execution_count": 95,
   "id": "4b7e250b",
   "metadata": {},
   "outputs": [
    {
     "data": {
      "text/plain": [
       "Single house                                   39069\n",
       "Multi-unit residential                          1328\n",
       "Duplex                                          1084\n",
       "Commercial/industrial/agricultural building       51\n",
       "Institutional living quarter                       9\n",
       "Other building unit (e.g. cave, boat)              2\n",
       "Name: Type of Building/House, dtype: int64"
      ]
     },
     "execution_count": 95,
     "metadata": {},
     "output_type": "execute_result"
    }
   ],
   "source": [
    "income_df['Type of Building/House'].value_counts()"
   ]
  },
  {
   "cell_type": "markdown",
   "id": "0c84c3e4",
   "metadata": {},
   "source": [
    "There seems to be no misrepresentations in `Type of Building/House` variable upon checking."
   ]
  },
  {
   "cell_type": "markdown",
   "id": "093e3f41",
   "metadata": {},
   "source": [
    "### `Type of Roof` variable"
   ]
  },
  {
   "cell_type": "code",
   "execution_count": 96,
   "id": "f2174cb3",
   "metadata": {},
   "outputs": [
    {
     "data": {
      "text/plain": [
       "Strong material(galvanized,iron,al,tile,concrete,brick,stone,asbestos)    33342\n",
       "Light material (cogon,nipa,anahaw)                                         5074\n",
       "Mixed but predominantly strong materials                                   2002\n",
       "Mixed but predominantly light materials                                     845\n",
       "Salvaged/makeshift materials                                                212\n",
       "Mixed but predominantly salvaged materials                                   56\n",
       "Not Applicable                                                               12\n",
       "Name: Type of Roof, dtype: int64"
      ]
     },
     "execution_count": 96,
     "metadata": {},
     "output_type": "execute_result"
    }
   ],
   "source": [
    "income_df['Type of Roof'].value_counts()"
   ]
  },
  {
   "cell_type": "markdown",
   "id": "111a1169",
   "metadata": {},
   "source": [
    "There seems to be no misrepresentations in `Type of Roof` variable upon checking."
   ]
  },
  {
   "cell_type": "markdown",
   "id": "42e931c5",
   "metadata": {},
   "source": [
    "### `Type of Walls` variable"
   ]
  },
  {
   "cell_type": "code",
   "execution_count": 97,
   "id": "c0eb3a0e",
   "metadata": {},
   "outputs": [
    {
     "data": {
      "text/plain": [
       "Strong            27739\n",
       "Light              8267\n",
       "Quite Strong       3487\n",
       "Very Light         1582\n",
       "Salvaged            456\n",
       "NOt applicable       12\n",
       "Name: Type of Walls, dtype: int64"
      ]
     },
     "execution_count": 97,
     "metadata": {},
     "output_type": "execute_result"
    }
   ],
   "source": [
    "income_df['Type of Walls'].value_counts()"
   ]
  },
  {
   "cell_type": "markdown",
   "id": "1678d529",
   "metadata": {},
   "source": [
    "We can see that there is an inconsistency in the value `NOt applicable` so we decided to fix it following how it is represented in other variables."
   ]
  },
  {
   "cell_type": "markdown",
   "id": "6ef21835",
   "metadata": {},
   "source": [
    "### `Tenure Status` variable"
   ]
  },
  {
   "cell_type": "code",
   "execution_count": 98,
   "id": "eddeff51",
   "metadata": {},
   "outputs": [
    {
     "data": {
      "text/plain": [
       "Own or owner-like possession of house and lot        29540\n",
       "Own house, rent-free lot with consent of owner        6165\n",
       "Rent house/room including lot                         2203\n",
       "Rent-free house and lot with consent of owner         2014\n",
       "Own house, rent-free lot without consent of owner      995\n",
       "Own house, rent lot                                    425\n",
       "Rent-free house and lot without consent of owner       128\n",
       "Not Applicable                                          73\n",
       "Name: Tenure Status, dtype: int64"
      ]
     },
     "execution_count": 98,
     "metadata": {},
     "output_type": "execute_result"
    }
   ],
   "source": [
    "income_df['Tenure Status'].value_counts()"
   ]
  },
  {
   "cell_type": "markdown",
   "id": "925df57e",
   "metadata": {},
   "source": [
    "There seems to be no misrepresentations in `Tenure Status` variable upon checking."
   ]
  },
  {
   "cell_type": "markdown",
   "id": "bb002c17",
   "metadata": {},
   "source": [
    "### `Toilet Facilities` variable"
   ]
  },
  {
   "cell_type": "code",
   "execution_count": 99,
   "id": "d88e431f",
   "metadata": {},
   "outputs": [
    {
     "data": {
      "text/plain": [
       "Water-sealed, sewer septic tank, used exclusively by household    29161\n",
       "Water-sealed, sewer septic tank, shared with other household       3694\n",
       "Water-sealed, other depository, used exclusively by household      2343\n",
       "Closed pit                                                         2273\n",
       "None                                                               1580\n",
       "Open pit                                                           1189\n",
       "Water-sealed, other depository, shared with other household         950\n",
       "Others                                                              353\n",
       "Name: Toilet Facilities, dtype: int64"
      ]
     },
     "execution_count": 99,
     "metadata": {},
     "output_type": "execute_result"
    }
   ],
   "source": [
    "income_df['Toilet Facilities'].value_counts()"
   ]
  },
  {
   "cell_type": "markdown",
   "id": "0a0c2ed8",
   "metadata": {},
   "source": [
    "There seems to be no misrepresentations in `Toilet Facilities` variable upon checking."
   ]
  },
  {
   "cell_type": "markdown",
   "id": "2e4e3036",
   "metadata": {},
   "source": [
    "### `Main Source of Water Supply` variable"
   ]
  },
  {
   "cell_type": "code",
   "execution_count": 100,
   "id": "d6d42737",
   "metadata": {},
   "outputs": [
    {
     "data": {
      "text/plain": [
       "Own use, faucet, community water system    16092\n",
       "Shared, tubed/piped deep well               6242\n",
       "Shared, faucet, community water system      4614\n",
       "Own use, tubed/piped deep well              4587\n",
       "Dug well                                    3876\n",
       "Protected spring, river, stream, etc        2657\n",
       "Tubed/piped shallow well                    1394\n",
       "Peddler                                      851\n",
       "Unprotected spring, river, stream, etc       607\n",
       "Lake, river, rain and others                 496\n",
       "Others                                       127\n",
       "Name: Main Source of Water Supply, dtype: int64"
      ]
     },
     "execution_count": 100,
     "metadata": {},
     "output_type": "execute_result"
    }
   ],
   "source": [
    "income_df['Main Source of Water Supply'].value_counts()"
   ]
  },
  {
   "cell_type": "markdown",
   "id": "f487ccc4",
   "metadata": {},
   "source": [
    "There seems to be no misrepresentations in `Main Source of Water Supply` variable upon checking."
   ]
  },
  {
   "cell_type": "markdown",
   "id": "dc597c80",
   "metadata": {},
   "source": [
    "## Feature Extraction"
   ]
  },
  {
   "cell_type": "code",
   "execution_count": 101,
   "id": "60d4d131",
   "metadata": {},
   "outputs": [
    {
     "data": {
      "text/html": [
       "<div>\n",
       "<style scoped>\n",
       "    .dataframe tbody tr th:only-of-type {\n",
       "        vertical-align: middle;\n",
       "    }\n",
       "\n",
       "    .dataframe tbody tr th {\n",
       "        vertical-align: top;\n",
       "    }\n",
       "\n",
       "    .dataframe thead th {\n",
       "        text-align: right;\n",
       "    }\n",
       "</style>\n",
       "<table border=\"1\" class=\"dataframe\">\n",
       "  <thead>\n",
       "    <tr style=\"text-align: right;\">\n",
       "      <th></th>\n",
       "      <th>Total Household Income</th>\n",
       "      <th>Region</th>\n",
       "      <th>Total Food Expenditure</th>\n",
       "      <th>Main Source of Income</th>\n",
       "      <th>Agricultural Household indicator</th>\n",
       "      <th>Bread and Cereals Expenditure</th>\n",
       "      <th>Total Rice Expenditure</th>\n",
       "      <th>Meat Expenditure</th>\n",
       "      <th>Total Fish and  marine products Expenditure</th>\n",
       "      <th>Fruit Expenditure</th>\n",
       "      <th>...</th>\n",
       "      <th>Number of Refrigerator/Freezer</th>\n",
       "      <th>Number of Washing Machine</th>\n",
       "      <th>Number of Airconditioner</th>\n",
       "      <th>Number of Car, Jeep, Van</th>\n",
       "      <th>Number of Landline/wireless telephones</th>\n",
       "      <th>Number of Cellular phone</th>\n",
       "      <th>Number of Personal Computer</th>\n",
       "      <th>Number of Stove with Oven/Gas Range</th>\n",
       "      <th>Number of Motorized Banca</th>\n",
       "      <th>Number of Motorcycle/Tricycle</th>\n",
       "    </tr>\n",
       "  </thead>\n",
       "  <tbody>\n",
       "    <tr>\n",
       "      <th>0</th>\n",
       "      <td>480332</td>\n",
       "      <td>CAR</td>\n",
       "      <td>117848</td>\n",
       "      <td>Wage/Salaries</td>\n",
       "      <td>0</td>\n",
       "      <td>42140</td>\n",
       "      <td>38300</td>\n",
       "      <td>24676</td>\n",
       "      <td>16806</td>\n",
       "      <td>3325</td>\n",
       "      <td>...</td>\n",
       "      <td>1</td>\n",
       "      <td>1</td>\n",
       "      <td>0</td>\n",
       "      <td>0</td>\n",
       "      <td>0</td>\n",
       "      <td>2</td>\n",
       "      <td>1</td>\n",
       "      <td>0</td>\n",
       "      <td>0</td>\n",
       "      <td>1</td>\n",
       "    </tr>\n",
       "    <tr>\n",
       "      <th>1</th>\n",
       "      <td>198235</td>\n",
       "      <td>CAR</td>\n",
       "      <td>67766</td>\n",
       "      <td>Wage/Salaries</td>\n",
       "      <td>0</td>\n",
       "      <td>17329</td>\n",
       "      <td>13008</td>\n",
       "      <td>17434</td>\n",
       "      <td>11073</td>\n",
       "      <td>2035</td>\n",
       "      <td>...</td>\n",
       "      <td>0</td>\n",
       "      <td>1</td>\n",
       "      <td>0</td>\n",
       "      <td>0</td>\n",
       "      <td>0</td>\n",
       "      <td>3</td>\n",
       "      <td>1</td>\n",
       "      <td>0</td>\n",
       "      <td>0</td>\n",
       "      <td>2</td>\n",
       "    </tr>\n",
       "    <tr>\n",
       "      <th>2</th>\n",
       "      <td>82785</td>\n",
       "      <td>CAR</td>\n",
       "      <td>61609</td>\n",
       "      <td>Wage/Salaries</td>\n",
       "      <td>1</td>\n",
       "      <td>34182</td>\n",
       "      <td>32001</td>\n",
       "      <td>7783</td>\n",
       "      <td>2590</td>\n",
       "      <td>1730</td>\n",
       "      <td>...</td>\n",
       "      <td>0</td>\n",
       "      <td>0</td>\n",
       "      <td>0</td>\n",
       "      <td>0</td>\n",
       "      <td>0</td>\n",
       "      <td>0</td>\n",
       "      <td>0</td>\n",
       "      <td>0</td>\n",
       "      <td>0</td>\n",
       "      <td>0</td>\n",
       "    </tr>\n",
       "    <tr>\n",
       "      <th>3</th>\n",
       "      <td>107589</td>\n",
       "      <td>CAR</td>\n",
       "      <td>78189</td>\n",
       "      <td>Wage/Salaries</td>\n",
       "      <td>0</td>\n",
       "      <td>34030</td>\n",
       "      <td>28659</td>\n",
       "      <td>10914</td>\n",
       "      <td>10812</td>\n",
       "      <td>690</td>\n",
       "      <td>...</td>\n",
       "      <td>0</td>\n",
       "      <td>0</td>\n",
       "      <td>0</td>\n",
       "      <td>0</td>\n",
       "      <td>0</td>\n",
       "      <td>1</td>\n",
       "      <td>0</td>\n",
       "      <td>0</td>\n",
       "      <td>0</td>\n",
       "      <td>0</td>\n",
       "    </tr>\n",
       "    <tr>\n",
       "      <th>4</th>\n",
       "      <td>189322</td>\n",
       "      <td>CAR</td>\n",
       "      <td>94625</td>\n",
       "      <td>Wage/Salaries</td>\n",
       "      <td>0</td>\n",
       "      <td>34820</td>\n",
       "      <td>30167</td>\n",
       "      <td>18391</td>\n",
       "      <td>11309</td>\n",
       "      <td>1395</td>\n",
       "      <td>...</td>\n",
       "      <td>1</td>\n",
       "      <td>0</td>\n",
       "      <td>0</td>\n",
       "      <td>0</td>\n",
       "      <td>0</td>\n",
       "      <td>3</td>\n",
       "      <td>0</td>\n",
       "      <td>0</td>\n",
       "      <td>0</td>\n",
       "      <td>1</td>\n",
       "    </tr>\n",
       "    <tr>\n",
       "      <th>5</th>\n",
       "      <td>152883</td>\n",
       "      <td>CAR</td>\n",
       "      <td>73326</td>\n",
       "      <td>Wage/Salaries</td>\n",
       "      <td>0</td>\n",
       "      <td>29065</td>\n",
       "      <td>25190</td>\n",
       "      <td>15336</td>\n",
       "      <td>8572</td>\n",
       "      <td>2614</td>\n",
       "      <td>...</td>\n",
       "      <td>0</td>\n",
       "      <td>1</td>\n",
       "      <td>0</td>\n",
       "      <td>0</td>\n",
       "      <td>0</td>\n",
       "      <td>4</td>\n",
       "      <td>0</td>\n",
       "      <td>0</td>\n",
       "      <td>0</td>\n",
       "      <td>1</td>\n",
       "    </tr>\n",
       "    <tr>\n",
       "      <th>6</th>\n",
       "      <td>198621</td>\n",
       "      <td>CAR</td>\n",
       "      <td>104644</td>\n",
       "      <td>Wage/Salaries</td>\n",
       "      <td>0</td>\n",
       "      <td>40992</td>\n",
       "      <td>36312</td>\n",
       "      <td>12968</td>\n",
       "      <td>12310</td>\n",
       "      <td>2565</td>\n",
       "      <td>...</td>\n",
       "      <td>0</td>\n",
       "      <td>0</td>\n",
       "      <td>0</td>\n",
       "      <td>0</td>\n",
       "      <td>0</td>\n",
       "      <td>2</td>\n",
       "      <td>0</td>\n",
       "      <td>0</td>\n",
       "      <td>0</td>\n",
       "      <td>1</td>\n",
       "    </tr>\n",
       "    <tr>\n",
       "      <th>7</th>\n",
       "      <td>134961</td>\n",
       "      <td>CAR</td>\n",
       "      <td>95644</td>\n",
       "      <td>Other sources of Income</td>\n",
       "      <td>1</td>\n",
       "      <td>37168</td>\n",
       "      <td>28156</td>\n",
       "      <td>14640</td>\n",
       "      <td>15896</td>\n",
       "      <td>3365</td>\n",
       "      <td>...</td>\n",
       "      <td>0</td>\n",
       "      <td>1</td>\n",
       "      <td>0</td>\n",
       "      <td>0</td>\n",
       "      <td>0</td>\n",
       "      <td>2</td>\n",
       "      <td>0</td>\n",
       "      <td>0</td>\n",
       "      <td>0</td>\n",
       "      <td>1</td>\n",
       "    </tr>\n",
       "    <tr>\n",
       "      <th>8</th>\n",
       "      <td>171152</td>\n",
       "      <td>CAR</td>\n",
       "      <td>67348</td>\n",
       "      <td>Other sources of Income</td>\n",
       "      <td>0</td>\n",
       "      <td>23117</td>\n",
       "      <td>15845</td>\n",
       "      <td>11464</td>\n",
       "      <td>6685</td>\n",
       "      <td>1370</td>\n",
       "      <td>...</td>\n",
       "      <td>0</td>\n",
       "      <td>0</td>\n",
       "      <td>0</td>\n",
       "      <td>0</td>\n",
       "      <td>0</td>\n",
       "      <td>2</td>\n",
       "      <td>0</td>\n",
       "      <td>0</td>\n",
       "      <td>0</td>\n",
       "      <td>0</td>\n",
       "    </tr>\n",
       "    <tr>\n",
       "      <th>9</th>\n",
       "      <td>625753</td>\n",
       "      <td>CAR</td>\n",
       "      <td>158721</td>\n",
       "      <td>Enterpreneurial Activities</td>\n",
       "      <td>0</td>\n",
       "      <td>56003</td>\n",
       "      <td>43239</td>\n",
       "      <td>26488</td>\n",
       "      <td>25678</td>\n",
       "      <td>3880</td>\n",
       "      <td>...</td>\n",
       "      <td>1</td>\n",
       "      <td>0</td>\n",
       "      <td>0</td>\n",
       "      <td>1</td>\n",
       "      <td>0</td>\n",
       "      <td>4</td>\n",
       "      <td>1</td>\n",
       "      <td>0</td>\n",
       "      <td>0</td>\n",
       "      <td>0</td>\n",
       "    </tr>\n",
       "    <tr>\n",
       "      <th>10</th>\n",
       "      <td>147005</td>\n",
       "      <td>CAR</td>\n",
       "      <td>79530</td>\n",
       "      <td>Enterpreneurial Activities</td>\n",
       "      <td>1</td>\n",
       "      <td>36588</td>\n",
       "      <td>30167</td>\n",
       "      <td>11174</td>\n",
       "      <td>7674</td>\n",
       "      <td>1709</td>\n",
       "      <td>...</td>\n",
       "      <td>1</td>\n",
       "      <td>0</td>\n",
       "      <td>0</td>\n",
       "      <td>0</td>\n",
       "      <td>0</td>\n",
       "      <td>1</td>\n",
       "      <td>0</td>\n",
       "      <td>0</td>\n",
       "      <td>0</td>\n",
       "      <td>1</td>\n",
       "    </tr>\n",
       "    <tr>\n",
       "      <th>11</th>\n",
       "      <td>253130</td>\n",
       "      <td>CAR</td>\n",
       "      <td>111250</td>\n",
       "      <td>Wage/Salaries</td>\n",
       "      <td>0</td>\n",
       "      <td>46521</td>\n",
       "      <td>39217</td>\n",
       "      <td>20548</td>\n",
       "      <td>15841</td>\n",
       "      <td>1475</td>\n",
       "      <td>...</td>\n",
       "      <td>0</td>\n",
       "      <td>0</td>\n",
       "      <td>0</td>\n",
       "      <td>0</td>\n",
       "      <td>0</td>\n",
       "      <td>6</td>\n",
       "      <td>0</td>\n",
       "      <td>0</td>\n",
       "      <td>0</td>\n",
       "      <td>0</td>\n",
       "    </tr>\n",
       "    <tr>\n",
       "      <th>12</th>\n",
       "      <td>101111</td>\n",
       "      <td>CAR</td>\n",
       "      <td>88523</td>\n",
       "      <td>Enterpreneurial Activities</td>\n",
       "      <td>1</td>\n",
       "      <td>40531</td>\n",
       "      <td>36200</td>\n",
       "      <td>14322</td>\n",
       "      <td>8344</td>\n",
       "      <td>2200</td>\n",
       "      <td>...</td>\n",
       "      <td>0</td>\n",
       "      <td>0</td>\n",
       "      <td>0</td>\n",
       "      <td>0</td>\n",
       "      <td>0</td>\n",
       "      <td>1</td>\n",
       "      <td>0</td>\n",
       "      <td>0</td>\n",
       "      <td>0</td>\n",
       "      <td>0</td>\n",
       "    </tr>\n",
       "    <tr>\n",
       "      <th>13</th>\n",
       "      <td>128214</td>\n",
       "      <td>CAR</td>\n",
       "      <td>62262</td>\n",
       "      <td>Enterpreneurial Activities</td>\n",
       "      <td>1</td>\n",
       "      <td>26874</td>\n",
       "      <td>23130</td>\n",
       "      <td>10034</td>\n",
       "      <td>6971</td>\n",
       "      <td>2350</td>\n",
       "      <td>...</td>\n",
       "      <td>0</td>\n",
       "      <td>1</td>\n",
       "      <td>0</td>\n",
       "      <td>0</td>\n",
       "      <td>0</td>\n",
       "      <td>1</td>\n",
       "      <td>0</td>\n",
       "      <td>0</td>\n",
       "      <td>0</td>\n",
       "      <td>1</td>\n",
       "    </tr>\n",
       "    <tr>\n",
       "      <th>14</th>\n",
       "      <td>91525</td>\n",
       "      <td>CAR</td>\n",
       "      <td>45487</td>\n",
       "      <td>Other sources of Income</td>\n",
       "      <td>1</td>\n",
       "      <td>19668</td>\n",
       "      <td>16142</td>\n",
       "      <td>5430</td>\n",
       "      <td>6670</td>\n",
       "      <td>1860</td>\n",
       "      <td>...</td>\n",
       "      <td>0</td>\n",
       "      <td>0</td>\n",
       "      <td>0</td>\n",
       "      <td>0</td>\n",
       "      <td>0</td>\n",
       "      <td>0</td>\n",
       "      <td>0</td>\n",
       "      <td>0</td>\n",
       "      <td>0</td>\n",
       "      <td>0</td>\n",
       "    </tr>\n",
       "  </tbody>\n",
       "</table>\n",
       "<p>15 rows × 60 columns</p>\n",
       "</div>"
      ],
      "text/plain": [
       "    Total Household Income Region  Total Food Expenditure  \\\n",
       "0                   480332    CAR                  117848   \n",
       "1                   198235    CAR                   67766   \n",
       "2                    82785    CAR                   61609   \n",
       "3                   107589    CAR                   78189   \n",
       "4                   189322    CAR                   94625   \n",
       "5                   152883    CAR                   73326   \n",
       "6                   198621    CAR                  104644   \n",
       "7                   134961    CAR                   95644   \n",
       "8                   171152    CAR                   67348   \n",
       "9                   625753    CAR                  158721   \n",
       "10                  147005    CAR                   79530   \n",
       "11                  253130    CAR                  111250   \n",
       "12                  101111    CAR                   88523   \n",
       "13                  128214    CAR                   62262   \n",
       "14                   91525    CAR                   45487   \n",
       "\n",
       "         Main Source of Income  Agricultural Household indicator  \\\n",
       "0                Wage/Salaries                                 0   \n",
       "1                Wage/Salaries                                 0   \n",
       "2                Wage/Salaries                                 1   \n",
       "3                Wage/Salaries                                 0   \n",
       "4                Wage/Salaries                                 0   \n",
       "5                Wage/Salaries                                 0   \n",
       "6                Wage/Salaries                                 0   \n",
       "7      Other sources of Income                                 1   \n",
       "8      Other sources of Income                                 0   \n",
       "9   Enterpreneurial Activities                                 0   \n",
       "10  Enterpreneurial Activities                                 1   \n",
       "11               Wage/Salaries                                 0   \n",
       "12  Enterpreneurial Activities                                 1   \n",
       "13  Enterpreneurial Activities                                 1   \n",
       "14     Other sources of Income                                 1   \n",
       "\n",
       "    Bread and Cereals Expenditure  Total Rice Expenditure  Meat Expenditure  \\\n",
       "0                           42140                   38300             24676   \n",
       "1                           17329                   13008             17434   \n",
       "2                           34182                   32001              7783   \n",
       "3                           34030                   28659             10914   \n",
       "4                           34820                   30167             18391   \n",
       "5                           29065                   25190             15336   \n",
       "6                           40992                   36312             12968   \n",
       "7                           37168                   28156             14640   \n",
       "8                           23117                   15845             11464   \n",
       "9                           56003                   43239             26488   \n",
       "10                          36588                   30167             11174   \n",
       "11                          46521                   39217             20548   \n",
       "12                          40531                   36200             14322   \n",
       "13                          26874                   23130             10034   \n",
       "14                          19668                   16142              5430   \n",
       "\n",
       "    Total Fish and  marine products Expenditure  Fruit Expenditure  ...  \\\n",
       "0                                         16806               3325  ...   \n",
       "1                                         11073               2035  ...   \n",
       "2                                          2590               1730  ...   \n",
       "3                                         10812                690  ...   \n",
       "4                                         11309               1395  ...   \n",
       "5                                          8572               2614  ...   \n",
       "6                                         12310               2565  ...   \n",
       "7                                         15896               3365  ...   \n",
       "8                                          6685               1370  ...   \n",
       "9                                         25678               3880  ...   \n",
       "10                                         7674               1709  ...   \n",
       "11                                        15841               1475  ...   \n",
       "12                                         8344               2200  ...   \n",
       "13                                         6971               2350  ...   \n",
       "14                                         6670               1860  ...   \n",
       "\n",
       "    Number of Refrigerator/Freezer  Number of Washing Machine  \\\n",
       "0                                1                          1   \n",
       "1                                0                          1   \n",
       "2                                0                          0   \n",
       "3                                0                          0   \n",
       "4                                1                          0   \n",
       "5                                0                          1   \n",
       "6                                0                          0   \n",
       "7                                0                          1   \n",
       "8                                0                          0   \n",
       "9                                1                          0   \n",
       "10                               1                          0   \n",
       "11                               0                          0   \n",
       "12                               0                          0   \n",
       "13                               0                          1   \n",
       "14                               0                          0   \n",
       "\n",
       "    Number of Airconditioner  Number of Car, Jeep, Van  \\\n",
       "0                          0                         0   \n",
       "1                          0                         0   \n",
       "2                          0                         0   \n",
       "3                          0                         0   \n",
       "4                          0                         0   \n",
       "5                          0                         0   \n",
       "6                          0                         0   \n",
       "7                          0                         0   \n",
       "8                          0                         0   \n",
       "9                          0                         1   \n",
       "10                         0                         0   \n",
       "11                         0                         0   \n",
       "12                         0                         0   \n",
       "13                         0                         0   \n",
       "14                         0                         0   \n",
       "\n",
       "    Number of Landline/wireless telephones  Number of Cellular phone  \\\n",
       "0                                        0                         2   \n",
       "1                                        0                         3   \n",
       "2                                        0                         0   \n",
       "3                                        0                         1   \n",
       "4                                        0                         3   \n",
       "5                                        0                         4   \n",
       "6                                        0                         2   \n",
       "7                                        0                         2   \n",
       "8                                        0                         2   \n",
       "9                                        0                         4   \n",
       "10                                       0                         1   \n",
       "11                                       0                         6   \n",
       "12                                       0                         1   \n",
       "13                                       0                         1   \n",
       "14                                       0                         0   \n",
       "\n",
       "    Number of Personal Computer  Number of Stove with Oven/Gas Range  \\\n",
       "0                             1                                    0   \n",
       "1                             1                                    0   \n",
       "2                             0                                    0   \n",
       "3                             0                                    0   \n",
       "4                             0                                    0   \n",
       "5                             0                                    0   \n",
       "6                             0                                    0   \n",
       "7                             0                                    0   \n",
       "8                             0                                    0   \n",
       "9                             1                                    0   \n",
       "10                            0                                    0   \n",
       "11                            0                                    0   \n",
       "12                            0                                    0   \n",
       "13                            0                                    0   \n",
       "14                            0                                    0   \n",
       "\n",
       "    Number of Motorized Banca  Number of Motorcycle/Tricycle  \n",
       "0                           0                              1  \n",
       "1                           0                              2  \n",
       "2                           0                              0  \n",
       "3                           0                              0  \n",
       "4                           0                              1  \n",
       "5                           0                              1  \n",
       "6                           0                              1  \n",
       "7                           0                              1  \n",
       "8                           0                              0  \n",
       "9                           0                              0  \n",
       "10                          0                              1  \n",
       "11                          0                              0  \n",
       "12                          0                              0  \n",
       "13                          0                              1  \n",
       "14                          0                              0  \n",
       "\n",
       "[15 rows x 60 columns]"
      ]
     },
     "execution_count": 101,
     "metadata": {},
     "output_type": "execute_result"
    }
   ],
   "source": [
    "income_df.head(15)"
   ]
  },
  {
   "cell_type": "code",
   "execution_count": 102,
   "id": "849ba2a0",
   "metadata": {},
   "outputs": [
    {
     "data": {
      "text/plain": [
       "0    28106\n",
       "1     9018\n",
       "2     4419\n",
       "Name: Agricultural Household indicator, dtype: int64"
      ]
     },
     "execution_count": 102,
     "metadata": {},
     "output_type": "execute_result"
    }
   ],
   "source": [
    "### Are there supposed to be 2s here?\n",
    "income_df['Agricultural Household indicator'].value_counts()"
   ]
  },
  {
   "cell_type": "code",
   "execution_count": 103,
   "id": "1b63db49",
   "metadata": {
    "scrolled": true
   },
   "outputs": [
    {
     "data": {
      "text/html": [
       "<div>\n",
       "<style scoped>\n",
       "    .dataframe tbody tr th:only-of-type {\n",
       "        vertical-align: middle;\n",
       "    }\n",
       "\n",
       "    .dataframe tbody tr th {\n",
       "        vertical-align: top;\n",
       "    }\n",
       "\n",
       "    .dataframe thead th {\n",
       "        text-align: right;\n",
       "    }\n",
       "</style>\n",
       "<table border=\"1\" class=\"dataframe\">\n",
       "  <thead>\n",
       "    <tr style=\"text-align: right;\">\n",
       "      <th></th>\n",
       "      <th>Total Household Income</th>\n",
       "      <th>Region</th>\n",
       "      <th>Total Food Expenditure</th>\n",
       "      <th>Main Source of Income</th>\n",
       "      <th>Agricultural Household indicator</th>\n",
       "      <th>Bread and Cereals Expenditure</th>\n",
       "      <th>Total Rice Expenditure</th>\n",
       "      <th>Meat Expenditure</th>\n",
       "      <th>Total Fish and  marine products Expenditure</th>\n",
       "      <th>Fruit Expenditure</th>\n",
       "      <th>...</th>\n",
       "      <th>Number of Refrigerator/Freezer</th>\n",
       "      <th>Number of Washing Machine</th>\n",
       "      <th>Number of Airconditioner</th>\n",
       "      <th>Number of Car, Jeep, Van</th>\n",
       "      <th>Number of Landline/wireless telephones</th>\n",
       "      <th>Number of Cellular phone</th>\n",
       "      <th>Number of Personal Computer</th>\n",
       "      <th>Number of Stove with Oven/Gas Range</th>\n",
       "      <th>Number of Motorized Banca</th>\n",
       "      <th>Number of Motorcycle/Tricycle</th>\n",
       "    </tr>\n",
       "  </thead>\n",
       "  <tbody>\n",
       "    <tr>\n",
       "      <th>36634</th>\n",
       "      <td>97694</td>\n",
       "      <td>IX - Zamboanga Peninsula</td>\n",
       "      <td>23238</td>\n",
       "      <td>Wage/Salaries</td>\n",
       "      <td>2</td>\n",
       "      <td>9741</td>\n",
       "      <td>0</td>\n",
       "      <td>2452</td>\n",
       "      <td>4534</td>\n",
       "      <td>226</td>\n",
       "      <td>...</td>\n",
       "      <td>0</td>\n",
       "      <td>0</td>\n",
       "      <td>0</td>\n",
       "      <td>0</td>\n",
       "      <td>0</td>\n",
       "      <td>1</td>\n",
       "      <td>0</td>\n",
       "      <td>0</td>\n",
       "      <td>0</td>\n",
       "      <td>0</td>\n",
       "    </tr>\n",
       "    <tr>\n",
       "      <th>36635</th>\n",
       "      <td>99204</td>\n",
       "      <td>IX - Zamboanga Peninsula</td>\n",
       "      <td>55409</td>\n",
       "      <td>Other sources of Income</td>\n",
       "      <td>2</td>\n",
       "      <td>12095</td>\n",
       "      <td>120</td>\n",
       "      <td>11905</td>\n",
       "      <td>5662</td>\n",
       "      <td>805</td>\n",
       "      <td>...</td>\n",
       "      <td>0</td>\n",
       "      <td>0</td>\n",
       "      <td>0</td>\n",
       "      <td>0</td>\n",
       "      <td>0</td>\n",
       "      <td>1</td>\n",
       "      <td>0</td>\n",
       "      <td>0</td>\n",
       "      <td>0</td>\n",
       "      <td>0</td>\n",
       "    </tr>\n",
       "    <tr>\n",
       "      <th>36636</th>\n",
       "      <td>100990</td>\n",
       "      <td>IX - Zamboanga Peninsula</td>\n",
       "      <td>45618</td>\n",
       "      <td>Wage/Salaries</td>\n",
       "      <td>2</td>\n",
       "      <td>16731</td>\n",
       "      <td>4342</td>\n",
       "      <td>2401</td>\n",
       "      <td>8247</td>\n",
       "      <td>1140</td>\n",
       "      <td>...</td>\n",
       "      <td>0</td>\n",
       "      <td>0</td>\n",
       "      <td>0</td>\n",
       "      <td>0</td>\n",
       "      <td>0</td>\n",
       "      <td>1</td>\n",
       "      <td>0</td>\n",
       "      <td>0</td>\n",
       "      <td>0</td>\n",
       "      <td>0</td>\n",
       "    </tr>\n",
       "    <tr>\n",
       "      <th>36637</th>\n",
       "      <td>236742</td>\n",
       "      <td>NCR</td>\n",
       "      <td>136315</td>\n",
       "      <td>Enterpreneurial Activities</td>\n",
       "      <td>2</td>\n",
       "      <td>38729</td>\n",
       "      <td>32214</td>\n",
       "      <td>33926</td>\n",
       "      <td>20719</td>\n",
       "      <td>1315</td>\n",
       "      <td>...</td>\n",
       "      <td>0</td>\n",
       "      <td>0</td>\n",
       "      <td>0</td>\n",
       "      <td>0</td>\n",
       "      <td>0</td>\n",
       "      <td>3</td>\n",
       "      <td>0</td>\n",
       "      <td>0</td>\n",
       "      <td>0</td>\n",
       "      <td>0</td>\n",
       "    </tr>\n",
       "    <tr>\n",
       "      <th>36638</th>\n",
       "      <td>72663</td>\n",
       "      <td>NCR</td>\n",
       "      <td>41140</td>\n",
       "      <td>Other sources of Income</td>\n",
       "      <td>2</td>\n",
       "      <td>7942</td>\n",
       "      <td>4930</td>\n",
       "      <td>2990</td>\n",
       "      <td>5260</td>\n",
       "      <td>288</td>\n",
       "      <td>...</td>\n",
       "      <td>0</td>\n",
       "      <td>0</td>\n",
       "      <td>0</td>\n",
       "      <td>0</td>\n",
       "      <td>0</td>\n",
       "      <td>0</td>\n",
       "      <td>0</td>\n",
       "      <td>0</td>\n",
       "      <td>0</td>\n",
       "      <td>0</td>\n",
       "    </tr>\n",
       "    <tr>\n",
       "      <th>...</th>\n",
       "      <td>...</td>\n",
       "      <td>...</td>\n",
       "      <td>...</td>\n",
       "      <td>...</td>\n",
       "      <td>...</td>\n",
       "      <td>...</td>\n",
       "      <td>...</td>\n",
       "      <td>...</td>\n",
       "      <td>...</td>\n",
       "      <td>...</td>\n",
       "      <td>...</td>\n",
       "      <td>...</td>\n",
       "      <td>...</td>\n",
       "      <td>...</td>\n",
       "      <td>...</td>\n",
       "      <td>...</td>\n",
       "      <td>...</td>\n",
       "      <td>...</td>\n",
       "      <td>...</td>\n",
       "      <td>...</td>\n",
       "      <td>...</td>\n",
       "    </tr>\n",
       "    <tr>\n",
       "      <th>41535</th>\n",
       "      <td>166600</td>\n",
       "      <td>XII - SOCCSKSARGEN</td>\n",
       "      <td>90786</td>\n",
       "      <td>Other sources of Income</td>\n",
       "      <td>2</td>\n",
       "      <td>23658</td>\n",
       "      <td>20118</td>\n",
       "      <td>4406</td>\n",
       "      <td>23539</td>\n",
       "      <td>3899</td>\n",
       "      <td>...</td>\n",
       "      <td>0</td>\n",
       "      <td>0</td>\n",
       "      <td>0</td>\n",
       "      <td>0</td>\n",
       "      <td>0</td>\n",
       "      <td>4</td>\n",
       "      <td>0</td>\n",
       "      <td>0</td>\n",
       "      <td>0</td>\n",
       "      <td>0</td>\n",
       "    </tr>\n",
       "    <tr>\n",
       "      <th>41536</th>\n",
       "      <td>185100</td>\n",
       "      <td>XII - SOCCSKSARGEN</td>\n",
       "      <td>87008</td>\n",
       "      <td>Other sources of Income</td>\n",
       "      <td>2</td>\n",
       "      <td>19693</td>\n",
       "      <td>15918</td>\n",
       "      <td>9145</td>\n",
       "      <td>20584</td>\n",
       "      <td>3068</td>\n",
       "      <td>...</td>\n",
       "      <td>0</td>\n",
       "      <td>1</td>\n",
       "      <td>0</td>\n",
       "      <td>0</td>\n",
       "      <td>0</td>\n",
       "      <td>2</td>\n",
       "      <td>0</td>\n",
       "      <td>1</td>\n",
       "      <td>0</td>\n",
       "      <td>0</td>\n",
       "    </tr>\n",
       "    <tr>\n",
       "      <th>41537</th>\n",
       "      <td>72000</td>\n",
       "      <td>XII - SOCCSKSARGEN</td>\n",
       "      <td>56760</td>\n",
       "      <td>Wage/Salaries</td>\n",
       "      <td>2</td>\n",
       "      <td>18441</td>\n",
       "      <td>15424</td>\n",
       "      <td>2017</td>\n",
       "      <td>10623</td>\n",
       "      <td>1683</td>\n",
       "      <td>...</td>\n",
       "      <td>0</td>\n",
       "      <td>0</td>\n",
       "      <td>0</td>\n",
       "      <td>0</td>\n",
       "      <td>0</td>\n",
       "      <td>2</td>\n",
       "      <td>0</td>\n",
       "      <td>0</td>\n",
       "      <td>0</td>\n",
       "      <td>0</td>\n",
       "    </tr>\n",
       "    <tr>\n",
       "      <th>41538</th>\n",
       "      <td>130636</td>\n",
       "      <td>XII - SOCCSKSARGEN</td>\n",
       "      <td>81469</td>\n",
       "      <td>Wage/Salaries</td>\n",
       "      <td>2</td>\n",
       "      <td>28563</td>\n",
       "      <td>23457</td>\n",
       "      <td>4728</td>\n",
       "      <td>12496</td>\n",
       "      <td>3508</td>\n",
       "      <td>...</td>\n",
       "      <td>0</td>\n",
       "      <td>1</td>\n",
       "      <td>0</td>\n",
       "      <td>0</td>\n",
       "      <td>0</td>\n",
       "      <td>3</td>\n",
       "      <td>0</td>\n",
       "      <td>1</td>\n",
       "      <td>0</td>\n",
       "      <td>0</td>\n",
       "    </tr>\n",
       "    <tr>\n",
       "      <th>41541</th>\n",
       "      <td>133171</td>\n",
       "      <td>XII - SOCCSKSARGEN</td>\n",
       "      <td>45882</td>\n",
       "      <td>Enterpreneurial Activities</td>\n",
       "      <td>2</td>\n",
       "      <td>28646</td>\n",
       "      <td>27339</td>\n",
       "      <td>480</td>\n",
       "      <td>4796</td>\n",
       "      <td>1232</td>\n",
       "      <td>...</td>\n",
       "      <td>0</td>\n",
       "      <td>0</td>\n",
       "      <td>0</td>\n",
       "      <td>0</td>\n",
       "      <td>0</td>\n",
       "      <td>1</td>\n",
       "      <td>0</td>\n",
       "      <td>0</td>\n",
       "      <td>0</td>\n",
       "      <td>0</td>\n",
       "    </tr>\n",
       "  </tbody>\n",
       "</table>\n",
       "<p>4419 rows × 60 columns</p>\n",
       "</div>"
      ],
      "text/plain": [
       "       Total Household Income                    Region  \\\n",
       "36634                   97694  IX - Zamboanga Peninsula   \n",
       "36635                   99204  IX - Zamboanga Peninsula   \n",
       "36636                  100990  IX - Zamboanga Peninsula   \n",
       "36637                  236742                       NCR   \n",
       "36638                   72663                       NCR   \n",
       "...                       ...                       ...   \n",
       "41535                  166600        XII - SOCCSKSARGEN   \n",
       "41536                  185100        XII - SOCCSKSARGEN   \n",
       "41537                   72000        XII - SOCCSKSARGEN   \n",
       "41538                  130636        XII - SOCCSKSARGEN   \n",
       "41541                  133171        XII - SOCCSKSARGEN   \n",
       "\n",
       "       Total Food Expenditure       Main Source of Income  \\\n",
       "36634                   23238               Wage/Salaries   \n",
       "36635                   55409     Other sources of Income   \n",
       "36636                   45618               Wage/Salaries   \n",
       "36637                  136315  Enterpreneurial Activities   \n",
       "36638                   41140     Other sources of Income   \n",
       "...                       ...                         ...   \n",
       "41535                   90786     Other sources of Income   \n",
       "41536                   87008     Other sources of Income   \n",
       "41537                   56760               Wage/Salaries   \n",
       "41538                   81469               Wage/Salaries   \n",
       "41541                   45882  Enterpreneurial Activities   \n",
       "\n",
       "       Agricultural Household indicator  Bread and Cereals Expenditure  \\\n",
       "36634                                 2                           9741   \n",
       "36635                                 2                          12095   \n",
       "36636                                 2                          16731   \n",
       "36637                                 2                          38729   \n",
       "36638                                 2                           7942   \n",
       "...                                 ...                            ...   \n",
       "41535                                 2                          23658   \n",
       "41536                                 2                          19693   \n",
       "41537                                 2                          18441   \n",
       "41538                                 2                          28563   \n",
       "41541                                 2                          28646   \n",
       "\n",
       "       Total Rice Expenditure  Meat Expenditure  \\\n",
       "36634                       0              2452   \n",
       "36635                     120             11905   \n",
       "36636                    4342              2401   \n",
       "36637                   32214             33926   \n",
       "36638                    4930              2990   \n",
       "...                       ...               ...   \n",
       "41535                   20118              4406   \n",
       "41536                   15918              9145   \n",
       "41537                   15424              2017   \n",
       "41538                   23457              4728   \n",
       "41541                   27339               480   \n",
       "\n",
       "       Total Fish and  marine products Expenditure  Fruit Expenditure  ...  \\\n",
       "36634                                         4534                226  ...   \n",
       "36635                                         5662                805  ...   \n",
       "36636                                         8247               1140  ...   \n",
       "36637                                        20719               1315  ...   \n",
       "36638                                         5260                288  ...   \n",
       "...                                            ...                ...  ...   \n",
       "41535                                        23539               3899  ...   \n",
       "41536                                        20584               3068  ...   \n",
       "41537                                        10623               1683  ...   \n",
       "41538                                        12496               3508  ...   \n",
       "41541                                         4796               1232  ...   \n",
       "\n",
       "       Number of Refrigerator/Freezer  Number of Washing Machine  \\\n",
       "36634                               0                          0   \n",
       "36635                               0                          0   \n",
       "36636                               0                          0   \n",
       "36637                               0                          0   \n",
       "36638                               0                          0   \n",
       "...                               ...                        ...   \n",
       "41535                               0                          0   \n",
       "41536                               0                          1   \n",
       "41537                               0                          0   \n",
       "41538                               0                          1   \n",
       "41541                               0                          0   \n",
       "\n",
       "       Number of Airconditioner  Number of Car, Jeep, Van  \\\n",
       "36634                         0                         0   \n",
       "36635                         0                         0   \n",
       "36636                         0                         0   \n",
       "36637                         0                         0   \n",
       "36638                         0                         0   \n",
       "...                         ...                       ...   \n",
       "41535                         0                         0   \n",
       "41536                         0                         0   \n",
       "41537                         0                         0   \n",
       "41538                         0                         0   \n",
       "41541                         0                         0   \n",
       "\n",
       "       Number of Landline/wireless telephones  Number of Cellular phone  \\\n",
       "36634                                       0                         1   \n",
       "36635                                       0                         1   \n",
       "36636                                       0                         1   \n",
       "36637                                       0                         3   \n",
       "36638                                       0                         0   \n",
       "...                                       ...                       ...   \n",
       "41535                                       0                         4   \n",
       "41536                                       0                         2   \n",
       "41537                                       0                         2   \n",
       "41538                                       0                         3   \n",
       "41541                                       0                         1   \n",
       "\n",
       "       Number of Personal Computer  Number of Stove with Oven/Gas Range  \\\n",
       "36634                            0                                    0   \n",
       "36635                            0                                    0   \n",
       "36636                            0                                    0   \n",
       "36637                            0                                    0   \n",
       "36638                            0                                    0   \n",
       "...                            ...                                  ...   \n",
       "41535                            0                                    0   \n",
       "41536                            0                                    1   \n",
       "41537                            0                                    0   \n",
       "41538                            0                                    1   \n",
       "41541                            0                                    0   \n",
       "\n",
       "       Number of Motorized Banca  Number of Motorcycle/Tricycle  \n",
       "36634                          0                              0  \n",
       "36635                          0                              0  \n",
       "36636                          0                              0  \n",
       "36637                          0                              0  \n",
       "36638                          0                              0  \n",
       "...                          ...                            ...  \n",
       "41535                          0                              0  \n",
       "41536                          0                              0  \n",
       "41537                          0                              0  \n",
       "41538                          0                              0  \n",
       "41541                          0                              0  \n",
       "\n",
       "[4419 rows x 60 columns]"
      ]
     },
     "execution_count": 103,
     "metadata": {},
     "output_type": "execute_result"
    }
   ],
   "source": [
    "### Here are the rows with 2s\n",
    "income_df.loc[income_df['Agricultural Household indicator'] == 2]"
   ]
  },
  {
   "cell_type": "markdown",
   "id": "16cab6cd",
   "metadata": {},
   "source": [
    "## Data Visualization and Analysis"
   ]
  },
  {
   "cell_type": "markdown",
   "id": "da4adcb1",
   "metadata": {},
   "source": [
    "### Average Total Household Incomes Between Urban and Rural Households"
   ]
  },
  {
   "cell_type": "code",
   "execution_count": 104,
   "id": "bf3f7c6f",
   "metadata": {},
   "outputs": [],
   "source": [
    "# I'm not sure how to extract which households are urban or rural. I think I can use 'Agricultural Household indicator' instead?\n",
    "# I think it indicates which households are involved in agriculture which I think is similar enough?"
   ]
  },
  {
   "cell_type": "markdown",
   "id": "47fe45d0",
   "metadata": {},
   "source": [
    "### Educational Attainment of Household Head and Location"
   ]
  },
  {
   "cell_type": "code",
   "execution_count": 105,
   "id": "e126cffc",
   "metadata": {},
   "outputs": [],
   "source": [
    "# Household Head Highest Grade Completed\n",
    "# Region"
   ]
  },
  {
   "cell_type": "markdown",
   "id": "b5a2af27",
   "metadata": {},
   "source": [
    "### Average Food Expenditure of Household by Region"
   ]
  },
  {
   "cell_type": "code",
   "execution_count": 106,
   "id": "e28ff75f",
   "metadata": {},
   "outputs": [],
   "source": [
    "# Total Food Expenditure\n",
    "# Region"
   ]
  },
  {
   "cell_type": "markdown",
   "id": "69d5c0eb",
   "metadata": {},
   "source": [
    "### Average Total Income of Households with at Least One Minor"
   ]
  },
  {
   "cell_type": "code",
   "execution_count": 107,
   "id": "3356f0ca",
   "metadata": {},
   "outputs": [],
   "source": [
    "# Members with age less than 5 year old\n",
    "# Members with age 5 - 17 years old"
   ]
  },
  {
   "cell_type": "markdown",
   "id": "611149fc",
   "metadata": {},
   "source": [
    "### Average Expenditures on Clothing, Footwear, and Other Wear by Region"
   ]
  },
  {
   "cell_type": "code",
   "execution_count": 108,
   "id": "628d4cf0",
   "metadata": {},
   "outputs": [],
   "source": [
    "# Clothing, Footwear and Other Wear Expenditure\n",
    "# Region"
   ]
  },
  {
   "cell_type": "markdown",
   "id": "9dcc26ad",
   "metadata": {},
   "source": [
    "## Summary of Findings"
   ]
  },
  {
   "cell_type": "markdown",
   "id": "186358d9",
   "metadata": {},
   "source": [
    "## Recommendations"
   ]
  },
  {
   "cell_type": "markdown",
   "id": "9f1fbf23",
   "metadata": {},
   "source": [
    "## References"
   ]
  },
  {
   "cell_type": "markdown",
   "id": "9c1ce0e7",
   "metadata": {},
   "source": [
    "- American Psychological Association. (2015a). APA Dictionary of Psychology (2nd ed.).\n",
    "- American Psychological Association (2015b). Measuring Socioeconomic Status and Subjective Social Status. Https://Www.apa.org. https://www.apa.org/pi/ses/resources/class/measuring-status/#:~:text=These%20measures%20generally%20ask%20participants,wealth%2C%20and%20SES%20composite%20scores.\n",
    "- Francis Paul Flores. (2017). Filipino Family Income and Expenditure. Kaggle.com. https://www.kaggle.com/datasets/grosvenpaul/family-income-and-expenditure\n",
    "- Philippine Statistics Authority (2018). 2018 Family Income and Expenditure Survey.\n"
   ]
  },
  {
   "cell_type": "markdown",
   "id": "d9c15882",
   "metadata": {},
   "source": []
  }
 ],
 "metadata": {
  "kernelspec": {
   "display_name": "Python 3 (ipykernel)",
   "language": "python",
   "name": "python3"
  },
  "language_info": {
   "codemirror_mode": {
    "name": "ipython",
    "version": 3
   },
   "file_extension": ".py",
   "mimetype": "text/x-python",
   "name": "python",
   "nbconvert_exporter": "python",
   "pygments_lexer": "ipython3",
   "version": "3.8.5"
  }
 },
 "nbformat": 4,
 "nbformat_minor": 5
}
