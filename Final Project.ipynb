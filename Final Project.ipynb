{
 "cells": [
  {
   "cell_type": "markdown",
   "id": "af3c8c41",
   "metadata": {},
   "source": [
    "# Exploring Filipino Family Income and Expenditure"
   ]
  },
  {
   "cell_type": "markdown",
   "id": "954d2194",
   "metadata": {},
   "source": [
    "### Members:\n",
    "- Fernando Magallenes Jr.\n",
    "- Heinze Kristian Moneda\n",
    "- Azriel Matthew Ortega\n",
    "- Caleb James Sonoy\n",
    "- Darren Tan"
   ]
  },
  {
   "cell_type": "markdown",
   "id": "ceea1904",
   "metadata": {},
   "source": [
    "## Introduction\n",
    "Socioeconomic status refers to the position of a certain individual or group of people which is based on the combination of different economic factors such as income and expenditures (American Psychological Association, 2015a). In order to assess the socioeconomic status of person or group, survey questionnaires are usually done to get specific information such as educational attainment, income, occupation, family size, and relationships (American Psychological Association, 2015b). In the Philippines collecting this kind of data is done through the Family Income and Expenditure Survey (FIES) conducted by the Philippine Statistics Authority (PSA) .\n",
    "\n",
    "Assessing socioeconomic status in the Philippines, however is more difficult as there is no standard SEC models. But with the data collected from the FIES, It can provide the necessary information in order for the government to create policies regarding the socioeconomic status in the country (Philippines Statistics Authority, 2018).\n",
    "\n",
    "### Project Objectives\n",
    "As such, this project aims to do the following:\n",
    "- Perform exploratory data analysis on the different variables of dataset\n",
    "- Identify the different factors affecting the household income of Filipino families\n",
    "- Visualize data and get insights based on the analysis performed."
   ]
  },
  {
   "cell_type": "markdown",
   "id": "3ca533fe",
   "metadata": {},
   "source": [
    "## The Dataset\n",
    "In this project, we will explore the dataset called `Filipino Family Income and Expenditure`, which contains different information about the household income and expenditure of Filipino families on the different regions in the Philippines. The dataset is provided by the Philippine Statistics Authority (PSA) through their Family Income and Expenditure Survey (FIES). This survey is done every 3 years with its goal of provided data regarding the income and expenditure of Filipino families, and other information related on how these incomes are affected by other factors. The source of this dataset can be found on https://www.kaggle.com/grosvenpaul/family-income-and-expenditure\n",
    "\n",
    "### Format\n",
    "The format of the dataset to be use in this project is in `.csv` format\n",
    "\n",
    "### Process of Data Collection\n",
    "According to the [Philippine Statistics Authority](https://psa.gov.ph/sites/default/files/FIES%202018%20Final%20Report.pdf), the data is collected through an interview in two different segments using the same questionnaire. Collection for the first segment was done from January 01, 2018 to June 30, 2018. The second segment on the other hand was collected from July 01, 2018 to December 31, 2018. \n",
    "\n",
    "### Dataset Content\n",
    "Upon opening, the dataset contains **40,000** observations and **60** variables.\n",
    "\n",
    "The **variables** of the dataset are as follows:\n",
    "- **Total Household Income**: Total household income, in Philippine peso.\n",
    "- **Region** : Region in the Philippines where the household is located.\n",
    "- **Total Food Expenditure** : Total food expenditure of the household.\n",
    "- **Main Source of Income** : Main source of income of the household.\n",
    "- **Agricultural Household indicator** : Agricultural household indicator.\n",
    "- **Bread and Cereals Expenditure** : Bread and cereals expenditure of the household, in Philippine peso.\n",
    "- **Total Rice Expenditure**: Total rice expenditure of the household, in Philippine peso.\n",
    "- **Meat Expenditure** : Meat expenditure of the household, in Philippine peso.\n",
    "- **Total Fish and marine products Expenditure** : Total fish and marine products expenditure of the household, in Philippine peso.\n",
    "- **Fruit Expenditure** : Fruit expenditure of the household, in Philippine peso.\n",
    "- **Vegetables Expenditure** : Vegetables expenditure of the household, in Philippine peso.\n",
    "- **Restaurant and hotels Expenditure** : Restaurant and hotels expenditure of the household, in Philippine peso.\n",
    "- **Alcoholic Beverages Expenditure**: Alcoholic beverages expenditure of the household, in Philippine peso.\n",
    "- **Tobacco Expenditure** : Tobacco expenditure of the household, in Philippine peso.\n",
    "- **Clothing, Footwear and Other Wear Expenditure** : Clothing, footwear and other wear expenditure of the household, in Philippine peso.\n",
    "- **Housing and water Expenditure** : Housing and water expenditure of the household, in Philippine peso.\n",
    "- **Imputed House Rental Value** : Imputed house rental value of the household, in Philippine peso.\n",
    "- **Medical Care Expenditure** : Medical care expenditure of the household, in Philippine peso.\n",
    "- **Transportation Expenditure** : Transportation expenditure of the household, in Philippine peso.\n",
    "- **Communication Expenditure** : Communication expenditure of the household, in Philippine peso.\n",
    "- **Education Expenditure** : Education expenditure of the household, in Philippine peso.\n",
    "- **Miscellaneous Goods and Services Expenditure** : Miscellaneous goods and services expenditure of the household, in Philippine peso.\n",
    "- **Special Occasions Expenditure** : Special occasions expenditure of the household, in Philippine peso.\n",
    "- **Crop Farming and Gardening expenses** : Crop farming and gardening expenses of the household, in Philippine peso.\n",
    "- **Total Income from Entrepreneurial Acitivites** : Total income from entrepreneurial activites of the household, in Philippine peso.\n",
    "- **Household Head Sex** : Household head sex.\n",
    "- **Household Head Age**: Household head age.\n",
    "- **Household Head Marital Status** : Household head marital status\n",
    "- **Household Head Highest Grade Completed** : Household head highest grade completed.\n",
    "- **Household Head Job or Business Indicator** : Household head job or business indicator.\n",
    "- **Household Head Occupation** : Household head occupation\n",
    "- **Household Head Class of Worker** : Household head class of worker\n",
    "- **Type of Household** : Type of household.\n",
    "- **Total Number of Family members** : Total number of family members.\n",
    "- **Members with age less than 5 year old** : Members with age less than 5 years old.\n",
    "- **Members with age 5 - 17 years old** : Members with age 5 - 17 years old.\n",
    "- **Total number of family members employed** : Total number of family members employed.\n",
    "- **Type of Building/House** : Type of building/ house.\n",
    "- **Type of Roof** : Type of roof.\n",
    "- **Type of Walls** : Type of walls.\n",
    "- **House Floor Area** : House floor area.\n",
    "- **House Age** : House age.\n",
    "- **Number of bedrooms**: Number of bedrooms.\n",
    "- **Tenure Status**: Tenure status.\n",
    "- **Toilet Facilities** : Toilet facilities.\n",
    "- **Electricity** : Electricity.\n",
    "- **Main Source of Water Supply** : Main source of water supply.\n",
    "- **Number of Television** : Number of television.\n",
    "- **Number of CD/VCD/DVD** : Number of CD/ VCD/ DVD.\n",
    "- **Number of Component/Stereo set** : Number of component/ stereo set.\n",
    "- **Number of Refrigerator/Freezer** : Number of refrigerator/ freezer.\n",
    "- **Number of Washing Machine** : Number of washing machine.\n",
    "- **Number of Airconditioner** : Number of air conditioner.\n",
    "- **Number of Car, Jeep, Van** : Number of car, jeep, van.\n",
    "- **Number of Landline/wireless telephones** : Number of landline/ wireless telephones.\n",
    "- **Number of Cellular phone** : Number of cellular phone.\n",
    "- **Number of Personal Computer** : Number of personal computer.\n",
    "- **Number of Stove with Oven/Gas Range** : Number of stove with oven/ gas range.\n",
    "- **Number of Motorized Banca** : Number of motorized banca.\n",
    "- **Number of Motorcycle/Tricycle** : Number of motorcycle/ tricycle."
   ]
  },
  {
   "cell_type": "markdown",
   "id": "be820373",
   "metadata": {},
   "source": [
    "## Importing Libraries\n",
    "\n",
    "In order to analyze the dataset the following modules are required to be imported in python.\n",
    "\n",
    "- numpy is a library made up of multidimensional array objects and a collection of routines for processing those arrays.\n",
    "- pandas is a software library for Python that is designed for data manipulation and data analysis.\n",
    "- matplotlib is a software libary for data visualization, which allows us to easily render various types of graphs."
   ]
  },
  {
   "cell_type": "code",
   "execution_count": 1,
   "id": "c4d321fe",
   "metadata": {},
   "outputs": [],
   "source": [
    "import numpy as np\n",
    "import pandas as pd\n",
    "import matplotlib.pyplot as plt\n",
    "import scipy.stats as st\n",
    "import seaborn as sns"
   ]
  },
  {
   "cell_type": "markdown",
   "id": "814c793c",
   "metadata": {},
   "source": [
    "## Importing the Dataset\n",
    "\n",
    "First step is to load the dataset using the pandas library. To load the dataset into a pandas Dataframe object, we call the `read_csv` function. The arguments needed for the function is the path to the csv file."
   ]
  },
  {
   "cell_type": "code",
   "execution_count": 2,
   "id": "54c296bc",
   "metadata": {},
   "outputs": [],
   "source": [
    "income_df = pd.read_csv(\"Family Income and Expenditure.csv\")"
   ]
  },
  {
   "cell_type": "code",
   "execution_count": 3,
   "id": "8c89fcb4",
   "metadata": {},
   "outputs": [
    {
     "name": "stdout",
     "output_type": "stream",
     "text": [
      "<class 'pandas.core.frame.DataFrame'>\n",
      "RangeIndex: 41544 entries, 0 to 41543\n",
      "Data columns (total 60 columns):\n",
      " #   Column                                         Non-Null Count  Dtype \n",
      "---  ------                                         --------------  ----- \n",
      " 0   Total Household Income                         41544 non-null  int64 \n",
      " 1   Region                                         41544 non-null  object\n",
      " 2   Total Food Expenditure                         41544 non-null  int64 \n",
      " 3   Main Source of Income                          41544 non-null  object\n",
      " 4   Agricultural Household indicator               41544 non-null  int64 \n",
      " 5   Bread and Cereals Expenditure                  41544 non-null  int64 \n",
      " 6   Total Rice Expenditure                         41544 non-null  int64 \n",
      " 7   Meat Expenditure                               41544 non-null  int64 \n",
      " 8   Total Fish and  marine products Expenditure    41544 non-null  int64 \n",
      " 9   Fruit Expenditure                              41544 non-null  int64 \n",
      " 10  Vegetables Expenditure                         41544 non-null  int64 \n",
      " 11  Restaurant and hotels Expenditure              41544 non-null  int64 \n",
      " 12  Alcoholic Beverages Expenditure                41544 non-null  int64 \n",
      " 13  Tobacco Expenditure                            41544 non-null  int64 \n",
      " 14  Clothing, Footwear and Other Wear Expenditure  41544 non-null  int64 \n",
      " 15  Housing and water Expenditure                  41544 non-null  int64 \n",
      " 16  Imputed House Rental Value                     41544 non-null  int64 \n",
      " 17  Medical Care Expenditure                       41544 non-null  int64 \n",
      " 18  Transportation Expenditure                     41544 non-null  int64 \n",
      " 19  Communication Expenditure                      41544 non-null  int64 \n",
      " 20  Education Expenditure                          41544 non-null  int64 \n",
      " 21  Miscellaneous Goods and Services Expenditure   41544 non-null  int64 \n",
      " 22  Special Occasions Expenditure                  41544 non-null  int64 \n",
      " 23  Crop Farming and Gardening expenses            41544 non-null  int64 \n",
      " 24  Total Income from Entrepreneurial Acitivites   41544 non-null  int64 \n",
      " 25  Household Head Sex                             41544 non-null  object\n",
      " 26  Household Head Age                             41544 non-null  int64 \n",
      " 27  Household Head Marital Status                  41544 non-null  object\n",
      " 28  Household Head Highest Grade Completed         41544 non-null  object\n",
      " 29  Household Head Job or Business Indicator       41544 non-null  object\n",
      " 30  Household Head Occupation                      34008 non-null  object\n",
      " 31  Household Head Class of Worker                 34008 non-null  object\n",
      " 32  Type of Household                              41544 non-null  object\n",
      " 33  Total Number of Family members                 41544 non-null  int64 \n",
      " 34  Members with age less than 5 year old          41544 non-null  int64 \n",
      " 35  Members with age 5 - 17 years old              41544 non-null  int64 \n",
      " 36  Total number of family members employed        41544 non-null  int64 \n",
      " 37  Type of Building/House                         41544 non-null  object\n",
      " 38  Type of Roof                                   41544 non-null  object\n",
      " 39  Type of Walls                                  41544 non-null  object\n",
      " 40  House Floor Area                               41544 non-null  int64 \n",
      " 41  House Age                                      41544 non-null  int64 \n",
      " 42  Number of bedrooms                             41544 non-null  int64 \n",
      " 43  Tenure Status                                  41544 non-null  object\n",
      " 44  Toilet Facilities                              41544 non-null  object\n",
      " 45  Electricity                                    41544 non-null  int64 \n",
      " 46  Main Source of Water Supply                    41544 non-null  object\n",
      " 47  Number of Television                           41544 non-null  int64 \n",
      " 48  Number of CD/VCD/DVD                           41544 non-null  int64 \n",
      " 49  Number of Component/Stereo set                 41544 non-null  int64 \n",
      " 50  Number of Refrigerator/Freezer                 41544 non-null  int64 \n",
      " 51  Number of Washing Machine                      41544 non-null  int64 \n",
      " 52  Number of Airconditioner                       41544 non-null  int64 \n",
      " 53  Number of Car, Jeep, Van                       41544 non-null  int64 \n",
      " 54  Number of Landline/wireless telephones         41544 non-null  int64 \n",
      " 55  Number of Cellular phone                       41544 non-null  int64 \n",
      " 56  Number of Personal Computer                    41544 non-null  int64 \n",
      " 57  Number of Stove with Oven/Gas Range            41544 non-null  int64 \n",
      " 58  Number of Motorized Banca                      41544 non-null  int64 \n",
      " 59  Number of Motorcycle/Tricycle                  41544 non-null  int64 \n",
      "dtypes: int64(45), object(15)\n",
      "memory usage: 19.0+ MB\n"
     ]
    }
   ],
   "source": [
    "income_df.info()"
   ]
  },
  {
   "cell_type": "markdown",
   "id": "3c681df0",
   "metadata": {},
   "source": [
    "## Exploratory Data Analysis"
   ]
  },
  {
   "cell_type": "code",
   "execution_count": 4,
   "id": "917ffe71-2c9c-4e0e-bf40-35a0e217c662",
   "metadata": {},
   "outputs": [
    {
     "data": {
      "text/plain": [
       "(41544, 60)"
      ]
     },
     "execution_count": 4,
     "metadata": {},
     "output_type": "execute_result"
    }
   ],
   "source": [
    "income_df.shape"
   ]
  },
  {
   "cell_type": "code",
   "execution_count": 5,
   "id": "e1cca877-3c74-4118-ac70-1f1cca93db31",
   "metadata": {},
   "outputs": [
    {
     "name": "stdout",
     "output_type": "stream",
     "text": [
      "Total Household Income\n",
      "Total Food Expenditure\n",
      "Agricultural Household indicator\n",
      "Bread and Cereals Expenditure\n",
      "Total Rice Expenditure\n",
      "Meat Expenditure\n",
      "Total Fish and  marine products Expenditure\n",
      "Fruit Expenditure\n",
      "Vegetables Expenditure\n",
      "Restaurant and hotels Expenditure\n",
      "Alcoholic Beverages Expenditure\n",
      "Tobacco Expenditure\n",
      "Clothing, Footwear and Other Wear Expenditure\n",
      "Housing and water Expenditure\n",
      "Imputed House Rental Value\n",
      "Medical Care Expenditure\n",
      "Transportation Expenditure\n",
      "Communication Expenditure\n",
      "Education Expenditure\n",
      "Miscellaneous Goods and Services Expenditure\n",
      "Special Occasions Expenditure\n",
      "Crop Farming and Gardening expenses\n",
      "Total Income from Entrepreneurial Acitivites\n",
      "Household Head Age\n",
      "Total Number of Family members\n",
      "Members with age less than 5 year old\n",
      "Members with age 5 - 17 years old\n",
      "Total number of family members employed\n",
      "House Floor Area\n",
      "House Age\n",
      "Number of bedrooms\n",
      "Electricity\n",
      "Number of Television\n",
      "Number of CD/VCD/DVD\n",
      "Number of Component/Stereo set\n",
      "Number of Refrigerator/Freezer\n",
      "Number of Washing Machine\n",
      "Number of Airconditioner\n",
      "Number of Car, Jeep, Van\n",
      "Number of Landline/wireless telephones\n",
      "Number of Cellular phone\n",
      "Number of Personal Computer\n",
      "Number of Stove with Oven/Gas Range\n",
      "Number of Motorized Banca\n",
      "Number of Motorcycle/Tricycle\n"
     ]
    }
   ],
   "source": [
    "quant_income_df = income_df.select_dtypes(include=['int16', 'int32', 'int64', 'float16', 'float32', 'float64'])\n",
    "for col in quant_income_df.columns:\n",
    "    print(f\"{col}\")"
   ]
  },
  {
   "cell_type": "code",
   "execution_count": 6,
   "id": "14093c9e-80ff-448e-9061-d130244251e0",
   "metadata": {},
   "outputs": [
    {
     "name": "stdout",
     "output_type": "stream",
     "text": [
      "Region\n",
      "Main Source of Income\n",
      "Household Head Sex\n",
      "Household Head Marital Status\n",
      "Household Head Highest Grade Completed\n",
      "Household Head Job or Business Indicator\n",
      "Household Head Occupation\n",
      "Household Head Class of Worker\n",
      "Type of Household\n",
      "Type of Building/House\n",
      "Type of Roof\n",
      "Type of Walls\n",
      "Tenure Status\n",
      "Toilet Facilities\n",
      "Main Source of Water Supply\n"
     ]
    }
   ],
   "source": [
    "qual_income_df = income_df.select_dtypes(include=['object'])\n",
    "for col in qual_income_df.columns:\n",
    "    print(f\"{col}\")"
   ]
  },
  {
   "cell_type": "markdown",
   "id": "c3b95b7d-22ce-4e4b-ab06-18092b7c8bbd",
   "metadata": {},
   "source": [
    "There are 41544 instances of the dataset with 60 features, 15 of which are qualitative features while the 45 are quantitative.\n",
    "\n",
    "<i>Qualitative</i> : Region,Main Source of Income,Household Head Sex,Household Head Marital Status,Household Head Highest Grade Completed,Household Head Job or Business Indicator,Household Head Occupation,Household Head Class of Worker,Type of Household,Type of Building/House,Type of Roof,Type of Walls,Tenure Status,Toilet Facilities,Main Source of Water Supply,\n",
    "income_df.describe()\n",
    "\n",
    "<i>Quantitative</i>: Total Household Income, Total Food Expenditure, Agricultural Household indicator, Bread and Cereals Expenditure, Total Rice Expenditure, Meat Expenditure, Total Fish and  marine products Expenditure, Fruit Expenditure, Vegetables Expenditure, Restaurant and hotels Expenditure, Alcoholic Beverages Expenditure, Tobacco Expenditure, Clothing, Footwear and Other Wear Expenditure, Housing and water Expenditure, Imputed House Rental Value, Medical Care Expenditure, Transportation Expenditure, Communication Expenditure, Education Expenditure, Miscellaneous Goods and Services Expenditure, Special Occasions Expenditure, Crop Farming and Gardening expenses, Total Income from Entrepreneurial Acitivites, Household Head Age, Total Number of Family members, Members with age less than 5 year old, Members with age 5 - 17 years old, Total number of family members employed, House Floor Area, House Age, Number of bedrooms, Electricity, Number of Television, Number of CD/VCD/DVD, Number of Component/Stereo set, Number of Refrigerator/Freezer, Number of Washing Machine, Number of Airconditioner, Number of Car, Jeep, Van, Number of Landline/wireless telephones, Number of Cellular phone, Number of Personal Computer, Number of Stove with Oven/Gas Range, Number of Motorized Banca, Number of Motorcycle/Tricycle"
   ]
  },
  {
   "cell_type": "code",
   "execution_count": 7,
   "id": "b1e60f76-298a-43fb-8e47-26a44555a601",
   "metadata": {},
   "outputs": [
    {
     "data": {
      "text/html": [
       "<div>\n",
       "<style scoped>\n",
       "    .dataframe tbody tr th:only-of-type {\n",
       "        vertical-align: middle;\n",
       "    }\n",
       "\n",
       "    .dataframe tbody tr th {\n",
       "        vertical-align: top;\n",
       "    }\n",
       "\n",
       "    .dataframe thead th {\n",
       "        text-align: right;\n",
       "    }\n",
       "</style>\n",
       "<table border=\"1\" class=\"dataframe\">\n",
       "  <thead>\n",
       "    <tr style=\"text-align: right;\">\n",
       "      <th></th>\n",
       "      <th>Total Household Income</th>\n",
       "      <th>Total Food Expenditure</th>\n",
       "      <th>Agricultural Household indicator</th>\n",
       "      <th>Bread and Cereals Expenditure</th>\n",
       "      <th>Total Rice Expenditure</th>\n",
       "      <th>Meat Expenditure</th>\n",
       "      <th>Total Fish and  marine products Expenditure</th>\n",
       "      <th>Fruit Expenditure</th>\n",
       "      <th>Vegetables Expenditure</th>\n",
       "      <th>Restaurant and hotels Expenditure</th>\n",
       "      <th>...</th>\n",
       "      <th>Number of Refrigerator/Freezer</th>\n",
       "      <th>Number of Washing Machine</th>\n",
       "      <th>Number of Airconditioner</th>\n",
       "      <th>Number of Car, Jeep, Van</th>\n",
       "      <th>Number of Landline/wireless telephones</th>\n",
       "      <th>Number of Cellular phone</th>\n",
       "      <th>Number of Personal Computer</th>\n",
       "      <th>Number of Stove with Oven/Gas Range</th>\n",
       "      <th>Number of Motorized Banca</th>\n",
       "      <th>Number of Motorcycle/Tricycle</th>\n",
       "    </tr>\n",
       "  </thead>\n",
       "  <tbody>\n",
       "    <tr>\n",
       "      <th>count</th>\n",
       "      <td>4.154400e+04</td>\n",
       "      <td>41544.000000</td>\n",
       "      <td>41544.000000</td>\n",
       "      <td>41544.000000</td>\n",
       "      <td>41544.000000</td>\n",
       "      <td>41544.000000</td>\n",
       "      <td>41544.000000</td>\n",
       "      <td>41544.000000</td>\n",
       "      <td>41544.000000</td>\n",
       "      <td>41544.000000</td>\n",
       "      <td>...</td>\n",
       "      <td>41544.000000</td>\n",
       "      <td>41544.000000</td>\n",
       "      <td>41544.000000</td>\n",
       "      <td>41544.000000</td>\n",
       "      <td>41544.000000</td>\n",
       "      <td>41544.000000</td>\n",
       "      <td>41544.000000</td>\n",
       "      <td>41544.000000</td>\n",
       "      <td>41544.000000</td>\n",
       "      <td>41544.000000</td>\n",
       "    </tr>\n",
       "    <tr>\n",
       "      <th>mean</th>\n",
       "      <td>2.475556e+05</td>\n",
       "      <td>85099.158194</td>\n",
       "      <td>0.429858</td>\n",
       "      <td>25133.723642</td>\n",
       "      <td>18195.825005</td>\n",
       "      <td>10540.072574</td>\n",
       "      <td>10529.318337</td>\n",
       "      <td>2550.474990</td>\n",
       "      <td>5006.918568</td>\n",
       "      <td>15436.566075</td>\n",
       "      <td>...</td>\n",
       "      <td>0.394184</td>\n",
       "      <td>0.319806</td>\n",
       "      <td>0.129814</td>\n",
       "      <td>0.081215</td>\n",
       "      <td>0.060610</td>\n",
       "      <td>1.905738</td>\n",
       "      <td>0.315015</td>\n",
       "      <td>0.135038</td>\n",
       "      <td>0.013119</td>\n",
       "      <td>0.289885</td>\n",
       "    </tr>\n",
       "    <tr>\n",
       "      <th>std</th>\n",
       "      <td>2.868805e+05</td>\n",
       "      <td>51637.947682</td>\n",
       "      <td>0.676666</td>\n",
       "      <td>13466.482984</td>\n",
       "      <td>11727.224350</td>\n",
       "      <td>10497.727757</td>\n",
       "      <td>7812.201613</td>\n",
       "      <td>2969.752879</td>\n",
       "      <td>3300.175236</td>\n",
       "      <td>23705.195929</td>\n",
       "      <td>...</td>\n",
       "      <td>0.537025</td>\n",
       "      <td>0.478482</td>\n",
       "      <td>0.448673</td>\n",
       "      <td>0.346786</td>\n",
       "      <td>0.276732</td>\n",
       "      <td>1.558130</td>\n",
       "      <td>0.739698</td>\n",
       "      <td>0.354083</td>\n",
       "      <td>0.127171</td>\n",
       "      <td>0.558408</td>\n",
       "    </tr>\n",
       "    <tr>\n",
       "      <th>min</th>\n",
       "      <td>1.128500e+04</td>\n",
       "      <td>2947.000000</td>\n",
       "      <td>0.000000</td>\n",
       "      <td>0.000000</td>\n",
       "      <td>0.000000</td>\n",
       "      <td>0.000000</td>\n",
       "      <td>0.000000</td>\n",
       "      <td>0.000000</td>\n",
       "      <td>0.000000</td>\n",
       "      <td>0.000000</td>\n",
       "      <td>...</td>\n",
       "      <td>0.000000</td>\n",
       "      <td>0.000000</td>\n",
       "      <td>0.000000</td>\n",
       "      <td>0.000000</td>\n",
       "      <td>0.000000</td>\n",
       "      <td>0.000000</td>\n",
       "      <td>0.000000</td>\n",
       "      <td>0.000000</td>\n",
       "      <td>0.000000</td>\n",
       "      <td>0.000000</td>\n",
       "    </tr>\n",
       "    <tr>\n",
       "      <th>25%</th>\n",
       "      <td>1.048950e+05</td>\n",
       "      <td>51017.250000</td>\n",
       "      <td>0.000000</td>\n",
       "      <td>16556.000000</td>\n",
       "      <td>11020.000000</td>\n",
       "      <td>3353.750000</td>\n",
       "      <td>5504.000000</td>\n",
       "      <td>1024.750000</td>\n",
       "      <td>2873.000000</td>\n",
       "      <td>1930.000000</td>\n",
       "      <td>...</td>\n",
       "      <td>0.000000</td>\n",
       "      <td>0.000000</td>\n",
       "      <td>0.000000</td>\n",
       "      <td>0.000000</td>\n",
       "      <td>0.000000</td>\n",
       "      <td>1.000000</td>\n",
       "      <td>0.000000</td>\n",
       "      <td>0.000000</td>\n",
       "      <td>0.000000</td>\n",
       "      <td>0.000000</td>\n",
       "    </tr>\n",
       "    <tr>\n",
       "      <th>50%</th>\n",
       "      <td>1.640795e+05</td>\n",
       "      <td>72985.500000</td>\n",
       "      <td>0.000000</td>\n",
       "      <td>23324.000000</td>\n",
       "      <td>16620.000000</td>\n",
       "      <td>7332.500000</td>\n",
       "      <td>8695.000000</td>\n",
       "      <td>1820.000000</td>\n",
       "      <td>4314.000000</td>\n",
       "      <td>7314.000000</td>\n",
       "      <td>...</td>\n",
       "      <td>0.000000</td>\n",
       "      <td>0.000000</td>\n",
       "      <td>0.000000</td>\n",
       "      <td>0.000000</td>\n",
       "      <td>0.000000</td>\n",
       "      <td>2.000000</td>\n",
       "      <td>0.000000</td>\n",
       "      <td>0.000000</td>\n",
       "      <td>0.000000</td>\n",
       "      <td>0.000000</td>\n",
       "    </tr>\n",
       "    <tr>\n",
       "      <th>75%</th>\n",
       "      <td>2.911385e+05</td>\n",
       "      <td>105635.500000</td>\n",
       "      <td>1.000000</td>\n",
       "      <td>31439.000000</td>\n",
       "      <td>23920.000000</td>\n",
       "      <td>14292.000000</td>\n",
       "      <td>13388.000000</td>\n",
       "      <td>3100.000000</td>\n",
       "      <td>6304.250000</td>\n",
       "      <td>19921.250000</td>\n",
       "      <td>...</td>\n",
       "      <td>1.000000</td>\n",
       "      <td>1.000000</td>\n",
       "      <td>0.000000</td>\n",
       "      <td>0.000000</td>\n",
       "      <td>0.000000</td>\n",
       "      <td>3.000000</td>\n",
       "      <td>0.000000</td>\n",
       "      <td>0.000000</td>\n",
       "      <td>0.000000</td>\n",
       "      <td>0.000000</td>\n",
       "    </tr>\n",
       "    <tr>\n",
       "      <th>max</th>\n",
       "      <td>1.181599e+07</td>\n",
       "      <td>827565.000000</td>\n",
       "      <td>2.000000</td>\n",
       "      <td>765864.000000</td>\n",
       "      <td>758326.000000</td>\n",
       "      <td>261566.000000</td>\n",
       "      <td>188208.000000</td>\n",
       "      <td>273769.000000</td>\n",
       "      <td>74800.000000</td>\n",
       "      <td>725296.000000</td>\n",
       "      <td>...</td>\n",
       "      <td>5.000000</td>\n",
       "      <td>3.000000</td>\n",
       "      <td>5.000000</td>\n",
       "      <td>5.000000</td>\n",
       "      <td>4.000000</td>\n",
       "      <td>10.000000</td>\n",
       "      <td>6.000000</td>\n",
       "      <td>3.000000</td>\n",
       "      <td>3.000000</td>\n",
       "      <td>5.000000</td>\n",
       "    </tr>\n",
       "  </tbody>\n",
       "</table>\n",
       "<p>8 rows × 45 columns</p>\n",
       "</div>"
      ],
      "text/plain": [
       "       Total Household Income  Total Food Expenditure  \\\n",
       "count            4.154400e+04            41544.000000   \n",
       "mean             2.475556e+05            85099.158194   \n",
       "std              2.868805e+05            51637.947682   \n",
       "min              1.128500e+04             2947.000000   \n",
       "25%              1.048950e+05            51017.250000   \n",
       "50%              1.640795e+05            72985.500000   \n",
       "75%              2.911385e+05           105635.500000   \n",
       "max              1.181599e+07           827565.000000   \n",
       "\n",
       "       Agricultural Household indicator  Bread and Cereals Expenditure  \\\n",
       "count                      41544.000000                   41544.000000   \n",
       "mean                           0.429858                   25133.723642   \n",
       "std                            0.676666                   13466.482984   \n",
       "min                            0.000000                       0.000000   \n",
       "25%                            0.000000                   16556.000000   \n",
       "50%                            0.000000                   23324.000000   \n",
       "75%                            1.000000                   31439.000000   \n",
       "max                            2.000000                  765864.000000   \n",
       "\n",
       "       Total Rice Expenditure  Meat Expenditure  \\\n",
       "count            41544.000000      41544.000000   \n",
       "mean             18195.825005      10540.072574   \n",
       "std              11727.224350      10497.727757   \n",
       "min                  0.000000          0.000000   \n",
       "25%              11020.000000       3353.750000   \n",
       "50%              16620.000000       7332.500000   \n",
       "75%              23920.000000      14292.000000   \n",
       "max             758326.000000     261566.000000   \n",
       "\n",
       "       Total Fish and  marine products Expenditure  Fruit Expenditure  \\\n",
       "count                                 41544.000000       41544.000000   \n",
       "mean                                  10529.318337        2550.474990   \n",
       "std                                    7812.201613        2969.752879   \n",
       "min                                       0.000000           0.000000   \n",
       "25%                                    5504.000000        1024.750000   \n",
       "50%                                    8695.000000        1820.000000   \n",
       "75%                                   13388.000000        3100.000000   \n",
       "max                                  188208.000000      273769.000000   \n",
       "\n",
       "       Vegetables Expenditure  Restaurant and hotels Expenditure  ...  \\\n",
       "count            41544.000000                       41544.000000  ...   \n",
       "mean              5006.918568                       15436.566075  ...   \n",
       "std               3300.175236                       23705.195929  ...   \n",
       "min                  0.000000                           0.000000  ...   \n",
       "25%               2873.000000                        1930.000000  ...   \n",
       "50%               4314.000000                        7314.000000  ...   \n",
       "75%               6304.250000                       19921.250000  ...   \n",
       "max              74800.000000                      725296.000000  ...   \n",
       "\n",
       "       Number of Refrigerator/Freezer  Number of Washing Machine  \\\n",
       "count                    41544.000000               41544.000000   \n",
       "mean                         0.394184                   0.319806   \n",
       "std                          0.537025                   0.478482   \n",
       "min                          0.000000                   0.000000   \n",
       "25%                          0.000000                   0.000000   \n",
       "50%                          0.000000                   0.000000   \n",
       "75%                          1.000000                   1.000000   \n",
       "max                          5.000000                   3.000000   \n",
       "\n",
       "       Number of Airconditioner  Number of Car, Jeep, Van  \\\n",
       "count              41544.000000              41544.000000   \n",
       "mean                   0.129814                  0.081215   \n",
       "std                    0.448673                  0.346786   \n",
       "min                    0.000000                  0.000000   \n",
       "25%                    0.000000                  0.000000   \n",
       "50%                    0.000000                  0.000000   \n",
       "75%                    0.000000                  0.000000   \n",
       "max                    5.000000                  5.000000   \n",
       "\n",
       "       Number of Landline/wireless telephones  Number of Cellular phone  \\\n",
       "count                            41544.000000              41544.000000   \n",
       "mean                                 0.060610                  1.905738   \n",
       "std                                  0.276732                  1.558130   \n",
       "min                                  0.000000                  0.000000   \n",
       "25%                                  0.000000                  1.000000   \n",
       "50%                                  0.000000                  2.000000   \n",
       "75%                                  0.000000                  3.000000   \n",
       "max                                  4.000000                 10.000000   \n",
       "\n",
       "       Number of Personal Computer  Number of Stove with Oven/Gas Range  \\\n",
       "count                 41544.000000                         41544.000000   \n",
       "mean                      0.315015                             0.135038   \n",
       "std                       0.739698                             0.354083   \n",
       "min                       0.000000                             0.000000   \n",
       "25%                       0.000000                             0.000000   \n",
       "50%                       0.000000                             0.000000   \n",
       "75%                       0.000000                             0.000000   \n",
       "max                       6.000000                             3.000000   \n",
       "\n",
       "       Number of Motorized Banca  Number of Motorcycle/Tricycle  \n",
       "count               41544.000000                   41544.000000  \n",
       "mean                    0.013119                       0.289885  \n",
       "std                     0.127171                       0.558408  \n",
       "min                     0.000000                       0.000000  \n",
       "25%                     0.000000                       0.000000  \n",
       "50%                     0.000000                       0.000000  \n",
       "75%                     0.000000                       0.000000  \n",
       "max                     3.000000                       5.000000  \n",
       "\n",
       "[8 rows x 45 columns]"
      ]
     },
     "execution_count": 7,
     "metadata": {},
     "output_type": "execute_result"
    }
   ],
   "source": [
    "income_df.describe()"
   ]
  },
  {
   "cell_type": "markdown",
   "id": "b2a3540b",
   "metadata": {},
   "source": [
    "### `Total Household Income`"
   ]
  },
  {
   "cell_type": "code",
   "execution_count": 8,
   "id": "e0eddc87",
   "metadata": {},
   "outputs": [
    {
     "data": {
      "text/plain": [
       "count       41544.00\n",
       "mean       247555.58\n",
       "std        286880.52\n",
       "min         11285.00\n",
       "25%        104895.00\n",
       "50%        164079.50\n",
       "75%        291138.50\n",
       "max      11815988.00\n",
       "Name: Total Household Income, dtype: float64"
      ]
     },
     "execution_count": 8,
     "metadata": {},
     "output_type": "execute_result"
    }
   ],
   "source": [
    "y = income_df['Total Household Income']\n",
    "y.describe().round(2)"
   ]
  },
  {
   "cell_type": "code",
   "execution_count": 9,
   "id": "d818547c-9142-4ffb-b8a9-7bb015453aa9",
   "metadata": {},
   "outputs": [
    {
     "data": {
      "text/plain": [
       "<seaborn.axisgrid.FacetGrid at 0x197bd40aaf0>"
      ]
     },
     "execution_count": 9,
     "metadata": {},
     "output_type": "execute_result"
    },
    {
     "data": {
      "image/png": "[encoded data removed]",
      "text/plain": [
       "<Figure size 360x360 with 1 Axes>"
      ]
     },
     "metadata": {
      "needs_background": "light"
     },
     "output_type": "display_data"
    }
   ],
   "source": [
    "sns.displot(y, bins=100)"
   ]
  },
  {
   "cell_type": "markdown",
   "id": "1a17254f",
   "metadata": {},
   "source": [
    "### `Total Income from Entrepreneurial Activities`"
   ]
  },
  {
   "cell_type": "code",
   "execution_count": 10,
   "id": "005f5a97",
   "metadata": {},
   "outputs": [
    {
     "data": {
      "text/plain": [
       "count      41544.00\n",
       "mean       54376.24\n",
       "std       147142.79\n",
       "min            0.00\n",
       "25%            0.00\n",
       "50%        19222.00\n",
       "75%        65968.75\n",
       "max      9234485.00\n",
       "Name: Total Income from Entrepreneurial Acitivites, dtype: float64"
      ]
     },
     "execution_count": 10,
     "metadata": {},
     "output_type": "execute_result"
    }
   ],
   "source": [
    "y = income_df[\"Total Income from Entrepreneurial Acitivites\"]\n",
    "y.describe().round(2)"
   ]
  },
  {
   "cell_type": "markdown",
   "id": "6681ccd2",
   "metadata": {},
   "source": [
    "### `Household Head - Age`"
   ]
  },
  {
   "cell_type": "code",
   "execution_count": 11,
   "id": "050de2fa",
   "metadata": {},
   "outputs": [
    {
     "data": {
      "text/plain": [
       "count    41544.000000\n",
       "mean        51.381451\n",
       "std         14.166081\n",
       "min          9.000000\n",
       "25%         41.000000\n",
       "50%         51.000000\n",
       "75%         61.000000\n",
       "max         99.000000\n",
       "Name: Household Head Age, dtype: float64"
      ]
     },
     "execution_count": 11,
     "metadata": {},
     "output_type": "execute_result"
    }
   ],
   "source": [
    "y = income_df[\"Household Head Age\"]\n",
    "y.describe()"
   ]
  },
  {
   "cell_type": "code",
   "execution_count": 12,
   "id": "a9319fa7",
   "metadata": {},
   "outputs": [
    {
     "data": {
      "text/plain": [
       "<seaborn.axisgrid.FacetGrid at 0x197bd40a640>"
      ]
     },
     "execution_count": 12,
     "metadata": {},
     "output_type": "execute_result"
    },
    {
     "data": {
      "image/png": "[encoded data removed]",
      "text/plain": [
       "<Figure size 360x360 with 1 Axes>"
      ]
     },
     "metadata": {
      "needs_background": "light"
     },
     "output_type": "display_data"
    }
   ],
   "source": [
    "sns.displot(y)"
   ]
  },
  {
   "cell_type": "markdown",
   "id": "df2ca9df",
   "metadata": {},
   "source": [
    "### `Household Head - Sex`"
   ]
  },
  {
   "cell_type": "code",
   "execution_count": 13,
   "id": "93fcba7e",
   "metadata": {},
   "outputs": [
    {
     "data": {
      "text/plain": [
       "Male      32483\n",
       "Female     9061\n",
       "Name: Household Head Sex, dtype: int64"
      ]
     },
     "execution_count": 13,
     "metadata": {},
     "output_type": "execute_result"
    }
   ],
   "source": [
    "y = income_df[\"Household Head Sex\"]\n",
    "y.value_counts()"
   ]
  },
  {
   "cell_type": "code",
   "execution_count": 14,
   "id": "52d5a7e8",
   "metadata": {},
   "outputs": [
    {
     "data": {
      "text/plain": [
       "<AxesSubplot:>"
      ]
     },
     "execution_count": 14,
     "metadata": {},
     "output_type": "execute_result"
    },
    {
     "data": {
      "image/png": "[encoded data removed]",
      "text/plain": [
       "<Figure size 720x720 with 1 Axes>"
      ]
     },
     "metadata": {
      "needs_background": "light"
     },
     "output_type": "display_data"
    }
   ],
   "source": [
    "y.value_counts().plot.bar(figsize=(10,10))"
   ]
  },
  {
   "cell_type": "markdown",
   "id": "7d982723",
   "metadata": {},
   "source": [
    "### `Household Head - Marital Status`"
   ]
  },
  {
   "cell_type": "code",
   "execution_count": 15,
   "id": "2df168b6",
   "metadata": {},
   "outputs": [
    {
     "data": {
      "text/plain": [
       "Married               31347\n",
       "Widowed                6818\n",
       "Single                 1942\n",
       "Divorced/Separated     1425\n",
       "Annulled                 11\n",
       "Unknown                   1\n",
       "Name: Household Head Marital Status, dtype: int64"
      ]
     },
     "execution_count": 15,
     "metadata": {},
     "output_type": "execute_result"
    }
   ],
   "source": [
    "y = income_df[\"Household Head Marital Status\"]\n",
    "y.value_counts()"
   ]
  },
  {
   "cell_type": "code",
   "execution_count": 16,
   "id": "2d1ae797",
   "metadata": {},
   "outputs": [
    {
     "data": {
      "text/plain": [
       "<AxesSubplot:>"
      ]
     },
     "execution_count": 16,
     "metadata": {},
     "output_type": "execute_result"
    },
    {
     "data": {
      "image/png": "[encoded data removed]",
      "text/plain": [
       "<Figure size 720x720 with 1 Axes>"
      ]
     },
     "metadata": {
      "needs_background": "light"
     },
     "output_type": "display_data"
    }
   ],
   "source": [
    "y.value_counts().plot.bar(figsize=(10,10))"
   ]
  },
  {
   "cell_type": "markdown",
   "id": "9bcb07ef",
   "metadata": {},
   "source": [
    "### `Household Head - Highest Grade Completed`"
   ]
  },
  {
   "cell_type": "code",
   "execution_count": 17,
   "id": "969b1caf",
   "metadata": {},
   "outputs": [
    {
     "data": {
      "text/plain": [
       "High School Graduate                    9628\n",
       "Elementary Graduate                     7640\n",
       "Grade 4                                 2282\n",
       "Grade 5                                 2123\n",
       "Second Year High School                 2104\n",
       "Grade 3                                 1994\n",
       "Third Year High School                  1545\n",
       "Business and Administration Programs    1344\n",
       "Second Year College                     1343\n",
       "Grade 2                                 1311\n",
       "Name: Household Head Highest Grade Completed, dtype: int64"
      ]
     },
     "execution_count": 17,
     "metadata": {},
     "output_type": "execute_result"
    }
   ],
   "source": [
    "y = income_df[\"Household Head Highest Grade Completed\"]\n",
    "y.value_counts().nlargest(10)"
   ]
  },
  {
   "cell_type": "code",
   "execution_count": 18,
   "id": "18461ea3",
   "metadata": {},
   "outputs": [
    {
     "data": {
      "text/plain": [
       "<AxesSubplot:>"
      ]
     },
     "execution_count": 18,
     "metadata": {},
     "output_type": "execute_result"
    },
    {
     "data": {
      "image/png": "[encoded data removed]",
      "text/plain": [
       "<Figure size 720x720 with 1 Axes>"
      ]
     },
     "metadata": {
      "needs_background": "light"
     },
     "output_type": "display_data"
    }
   ],
   "source": [
    "y.value_counts().nlargest(10).plot.bar(figsize=(10,10))"
   ]
  },
  {
   "cell_type": "markdown",
   "id": "f9bcd7e6",
   "metadata": {},
   "source": [
    "### `Household Head - Job or Business Indicator`"
   ]
  },
  {
   "cell_type": "code",
   "execution_count": 19,
   "id": "c963671f",
   "metadata": {},
   "outputs": [
    {
     "data": {
      "text/plain": [
       "With Job/Business    34008\n",
       "No Job/Business       7536\n",
       "Name: Household Head Job or Business Indicator, dtype: int64"
      ]
     },
     "execution_count": 19,
     "metadata": {},
     "output_type": "execute_result"
    }
   ],
   "source": [
    "y = income_df[\"Household Head Job or Business Indicator\"]\n",
    "y.value_counts()"
   ]
  },
  {
   "cell_type": "code",
   "execution_count": 20,
   "id": "95c9397d",
   "metadata": {},
   "outputs": [
    {
     "data": {
      "text/plain": [
       "<AxesSubplot:>"
      ]
     },
     "execution_count": 20,
     "metadata": {},
     "output_type": "execute_result"
    },
    {
     "data": {
      "image/png": "[encoded data removed]",
      "text/plain": [
       "<Figure size 720x720 with 1 Axes>"
      ]
     },
     "metadata": {
      "needs_background": "light"
     },
     "output_type": "display_data"
    }
   ],
   "source": [
    "y.value_counts().plot.bar(figsize=(10,10))"
   ]
  },
  {
   "cell_type": "markdown",
   "id": "61eb9905",
   "metadata": {},
   "source": [
    "### `Household Head - Occupation`"
   ]
  },
  {
   "cell_type": "code",
   "execution_count": 21,
   "id": "ac051eb0",
   "metadata": {},
   "outputs": [
    {
     "data": {
      "text/plain": [
       "Farmhands and laborers                                                                 3478\n",
       "Rice farmers                                                                           2849\n",
       "General managers/managing proprietors in wholesale and retail trade                    2028\n",
       "General managers/managing proprietors in transportation, storage and communications    1932\n",
       "Corn farmers                                                                           1724\n",
       "Coconut farmers                                                                        1036\n",
       "Building construction laborers                                                         1014\n",
       "Inland and coastal waters fishermen                                                    1011\n",
       "Carpenters and joiners                                                                 1000\n",
       "Car, taxi and van drivers                                                               824\n",
       "Name: Household Head Occupation, dtype: int64"
      ]
     },
     "execution_count": 21,
     "metadata": {},
     "output_type": "execute_result"
    }
   ],
   "source": [
    "y = income_df[\"Household Head Occupation\"]\n",
    "y.value_counts().nlargest(10)"
   ]
  },
  {
   "cell_type": "code",
   "execution_count": 22,
   "id": "d7b416dd",
   "metadata": {},
   "outputs": [
    {
     "data": {
      "text/plain": [
       "<AxesSubplot:>"
      ]
     },
     "execution_count": 22,
     "metadata": {},
     "output_type": "execute_result"
    },
    {
     "data": {
      "image/png": "[encoded data removed]",
      "text/plain": [
       "<Figure size 720x720 with 1 Axes>"
      ]
     },
     "metadata": {
      "needs_background": "light"
     },
     "output_type": "display_data"
    }
   ],
   "source": [
    "y.value_counts().nlargest(10).plot.bar(figsize=(10,10))"
   ]
  },
  {
   "cell_type": "markdown",
   "id": "db784aeb",
   "metadata": {},
   "source": [
    "### `Household Head - Class of Worker`"
   ]
  },
  {
   "cell_type": "code",
   "execution_count": 23,
   "id": "6209656b",
   "metadata": {},
   "outputs": [
    {
     "data": {
      "text/plain": [
       "Self-employed wihout any employee                             13766\n",
       "Worked for private establishment                              13731\n",
       "Worked for government/government corporation                   2820\n",
       "Employer in own family-operated farm or business               2581\n",
       "Worked for private household                                    811\n",
       "Worked without pay in own family-operated farm or business      285\n",
       "Worked with pay in own family-operated farm or business          14\n",
       "Name: Household Head Class of Worker, dtype: int64"
      ]
     },
     "execution_count": 23,
     "metadata": {},
     "output_type": "execute_result"
    }
   ],
   "source": [
    "y = income_df[\"Household Head Class of Worker\"]\n",
    "y.value_counts()"
   ]
  },
  {
   "cell_type": "code",
   "execution_count": 24,
   "id": "a5a46ece",
   "metadata": {},
   "outputs": [
    {
     "data": {
      "text/plain": [
       "<AxesSubplot:>"
      ]
     },
     "execution_count": 24,
     "metadata": {},
     "output_type": "execute_result"
    },
    {
     "data": {
      "image/png": "[encoded data removed]",
      "text/plain": [
       "<Figure size 720x720 with 1 Axes>"
      ]
     },
     "metadata": {
      "needs_background": "light"
     },
     "output_type": "display_data"
    }
   ],
   "source": [
    "y.value_counts().plot.bar(figsize=(10,10))"
   ]
  },
  {
   "cell_type": "markdown",
   "id": "ca41f378",
   "metadata": {},
   "source": [
    "### `Total Number of Family members`"
   ]
  },
  {
   "cell_type": "code",
   "execution_count": 25,
   "id": "70184e9e",
   "metadata": {},
   "outputs": [
    {
     "data": {
      "text/plain": [
       "<seaborn.axisgrid.FacetGrid at 0x197be0beb80>"
      ]
     },
     "execution_count": 25,
     "metadata": {},
     "output_type": "execute_result"
    },
    {
     "data": {
      "image/png": "[encoded data removed]",
      "text/plain": [
       "<Figure size 360x360 with 1 Axes>"
      ]
     },
     "metadata": {
      "needs_background": "light"
     },
     "output_type": "display_data"
    }
   ],
   "source": [
    "y = income_df[\"Total Number of Family members\"]\n",
    "sns.displot(y, bins = 25)"
   ]
  },
  {
   "cell_type": "code",
   "execution_count": 26,
   "id": "d8d19ad5",
   "metadata": {},
   "outputs": [
    {
     "data": {
      "text/plain": [
       "count    41544.000000\n",
       "mean         4.635182\n",
       "std          2.280252\n",
       "min          1.000000\n",
       "25%          3.000000\n",
       "50%          4.000000\n",
       "75%          6.000000\n",
       "max         26.000000\n",
       "Name: Total Number of Family members, dtype: float64"
      ]
     },
     "execution_count": 26,
     "metadata": {},
     "output_type": "execute_result"
    }
   ],
   "source": [
    "y.describe()"
   ]
  },
  {
   "cell_type": "markdown",
   "id": "07574e4d",
   "metadata": {},
   "source": [
    "### `Total Number of Family members employed`"
   ]
  },
  {
   "cell_type": "code",
   "execution_count": 27,
   "id": "07dbe7ef",
   "metadata": {},
   "outputs": [
    {
     "data": {
      "text/plain": [
       "1    15312\n",
       "0    11494\n",
       "2     9303\n",
       "3     3579\n",
       "4     1280\n",
       "5      415\n",
       "6      116\n",
       "7       33\n",
       "8       12\n",
       "Name: Total number of family members employed, dtype: int64"
      ]
     },
     "execution_count": 27,
     "metadata": {},
     "output_type": "execute_result"
    }
   ],
   "source": [
    "y = income_df[\"Total number of family members employed\"]\n",
    "y.value_counts()"
   ]
  },
  {
   "cell_type": "code",
   "execution_count": 28,
   "id": "a5056b26",
   "metadata": {},
   "outputs": [
    {
     "data": {
      "text/plain": [
       "count    41544.000000\n",
       "mean         1.272699\n",
       "std          1.149152\n",
       "min          0.000000\n",
       "25%          0.000000\n",
       "50%          1.000000\n",
       "75%          2.000000\n",
       "max          8.000000\n",
       "Name: Total number of family members employed, dtype: float64"
      ]
     },
     "execution_count": 28,
     "metadata": {},
     "output_type": "execute_result"
    }
   ],
   "source": [
    "y.describe()"
   ]
  },
  {
   "cell_type": "code",
   "execution_count": 29,
   "id": "ce62f583",
   "metadata": {},
   "outputs": [
    {
     "data": {
      "text/plain": [
       "<AxesSubplot:>"
      ]
     },
     "execution_count": 29,
     "metadata": {},
     "output_type": "execute_result"
    },
    {
     "data": {
      "image/png": "[encoded data removed]",
      "text/plain": [
       "<Figure size 720x720 with 1 Axes>"
      ]
     },
     "metadata": {
      "needs_background": "light"
     },
     "output_type": "display_data"
    }
   ],
   "source": [
    "y.value_counts().plot.bar(figsize=(10,10))"
   ]
  },
  {
   "cell_type": "markdown",
   "id": "2146c296",
   "metadata": {},
   "source": [
    "### `Agricultural Household indicator`"
   ]
  },
  {
   "cell_type": "code",
   "execution_count": 30,
   "id": "ffd20ada",
   "metadata": {},
   "outputs": [
    {
     "data": {
      "text/plain": [
       "array([0, 1, 2], dtype=int64)"
      ]
     },
     "execution_count": 30,
     "metadata": {},
     "output_type": "execute_result"
    }
   ],
   "source": [
    "y = income_df['Agricultural Household indicator']\n",
    "y.unique()"
   ]
  },
  {
   "cell_type": "code",
   "execution_count": 31,
   "id": "94b7886e",
   "metadata": {},
   "outputs": [
    {
     "data": {
      "text/plain": [
       "0    28106\n",
       "1     9018\n",
       "2     4420\n",
       "Name: Agricultural Household indicator, dtype: int64"
      ]
     },
     "execution_count": 31,
     "metadata": {},
     "output_type": "execute_result"
    }
   ],
   "source": [
    "y.value_counts()"
   ]
  },
  {
   "cell_type": "code",
   "execution_count": 32,
   "id": "bd9366dc",
   "metadata": {},
   "outputs": [
    {
     "data": {
      "text/plain": [
       "<AxesSubplot:>"
      ]
     },
     "execution_count": 32,
     "metadata": {},
     "output_type": "execute_result"
    },
    {
     "data": {
      "image/png": "[encoded data removed]",
      "text/plain": [
       "<Figure size 720x720 with 1 Axes>"
      ]
     },
     "metadata": {
      "needs_background": "light"
     },
     "output_type": "display_data"
    }
   ],
   "source": [
    "y.value_counts().plot.bar(figsize=(10,10))"
   ]
  },
  {
   "cell_type": "markdown",
   "id": "a38f75a1",
   "metadata": {},
   "source": [
    "### `Expenditures`"
   ]
  },
  {
   "cell_type": "code",
   "execution_count": 33,
   "id": "8523fc9b",
   "metadata": {},
   "outputs": [
    {
     "data": {
      "text/html": [
       "<div>\n",
       "<style scoped>\n",
       "    .dataframe tbody tr th:only-of-type {\n",
       "        vertical-align: middle;\n",
       "    }\n",
       "\n",
       "    .dataframe tbody tr th {\n",
       "        vertical-align: top;\n",
       "    }\n",
       "\n",
       "    .dataframe thead th {\n",
       "        text-align: right;\n",
       "    }\n",
       "</style>\n",
       "<table border=\"1\" class=\"dataframe\">\n",
       "  <thead>\n",
       "    <tr style=\"text-align: right;\">\n",
       "      <th></th>\n",
       "      <th>Total Food Expenditure</th>\n",
       "      <th>Bread and Cereals Expenditure</th>\n",
       "      <th>Total Rice Expenditure</th>\n",
       "      <th>Meat Expenditure</th>\n",
       "      <th>Total Fish and  marine products Expenditure</th>\n",
       "      <th>Fruit Expenditure</th>\n",
       "      <th>Vegetables Expenditure</th>\n",
       "      <th>Restaurant and hotels Expenditure</th>\n",
       "      <th>Alcoholic Beverages Expenditure</th>\n",
       "      <th>Tobacco Expenditure</th>\n",
       "      <th>Clothing, Footwear and Other Wear Expenditure</th>\n",
       "      <th>Housing and water Expenditure</th>\n",
       "      <th>Medical Care Expenditure</th>\n",
       "      <th>Transportation Expenditure</th>\n",
       "      <th>Communication Expenditure</th>\n",
       "      <th>Education Expenditure</th>\n",
       "      <th>Miscellaneous Goods and Services Expenditure</th>\n",
       "      <th>Special Occasions Expenditure</th>\n",
       "    </tr>\n",
       "  </thead>\n",
       "  <tbody>\n",
       "    <tr>\n",
       "      <th>0</th>\n",
       "      <td>117848</td>\n",
       "      <td>42140</td>\n",
       "      <td>38300</td>\n",
       "      <td>24676</td>\n",
       "      <td>16806</td>\n",
       "      <td>3325</td>\n",
       "      <td>13460</td>\n",
       "      <td>3000</td>\n",
       "      <td>0</td>\n",
       "      <td>0</td>\n",
       "      <td>4607</td>\n",
       "      <td>63636</td>\n",
       "      <td>3457</td>\n",
       "      <td>4776</td>\n",
       "      <td>2880</td>\n",
       "      <td>36200</td>\n",
       "      <td>34056</td>\n",
       "      <td>7200</td>\n",
       "    </tr>\n",
       "    <tr>\n",
       "      <th>1</th>\n",
       "      <td>67766</td>\n",
       "      <td>17329</td>\n",
       "      <td>13008</td>\n",
       "      <td>17434</td>\n",
       "      <td>11073</td>\n",
       "      <td>2035</td>\n",
       "      <td>7833</td>\n",
       "      <td>2360</td>\n",
       "      <td>960</td>\n",
       "      <td>2132</td>\n",
       "      <td>8230</td>\n",
       "      <td>41370</td>\n",
       "      <td>3520</td>\n",
       "      <td>12900</td>\n",
       "      <td>5700</td>\n",
       "      <td>29300</td>\n",
       "      <td>9150</td>\n",
       "      <td>1500</td>\n",
       "    </tr>\n",
       "    <tr>\n",
       "      <th>2</th>\n",
       "      <td>61609</td>\n",
       "      <td>34182</td>\n",
       "      <td>32001</td>\n",
       "      <td>7783</td>\n",
       "      <td>2590</td>\n",
       "      <td>1730</td>\n",
       "      <td>3795</td>\n",
       "      <td>4545</td>\n",
       "      <td>270</td>\n",
       "      <td>4525</td>\n",
       "      <td>2735</td>\n",
       "      <td>14340</td>\n",
       "      <td>70</td>\n",
       "      <td>324</td>\n",
       "      <td>420</td>\n",
       "      <td>425</td>\n",
       "      <td>6450</td>\n",
       "      <td>500</td>\n",
       "    </tr>\n",
       "    <tr>\n",
       "      <th>3</th>\n",
       "      <td>78189</td>\n",
       "      <td>34030</td>\n",
       "      <td>28659</td>\n",
       "      <td>10914</td>\n",
       "      <td>10812</td>\n",
       "      <td>690</td>\n",
       "      <td>7887</td>\n",
       "      <td>6280</td>\n",
       "      <td>480</td>\n",
       "      <td>0</td>\n",
       "      <td>1390</td>\n",
       "      <td>16638</td>\n",
       "      <td>60</td>\n",
       "      <td>6840</td>\n",
       "      <td>660</td>\n",
       "      <td>300</td>\n",
       "      <td>3762</td>\n",
       "      <td>500</td>\n",
       "    </tr>\n",
       "    <tr>\n",
       "      <th>4</th>\n",
       "      <td>94625</td>\n",
       "      <td>34820</td>\n",
       "      <td>30167</td>\n",
       "      <td>18391</td>\n",
       "      <td>11309</td>\n",
       "      <td>1395</td>\n",
       "      <td>11260</td>\n",
       "      <td>6400</td>\n",
       "      <td>1040</td>\n",
       "      <td>0</td>\n",
       "      <td>4620</td>\n",
       "      <td>31122</td>\n",
       "      <td>140</td>\n",
       "      <td>6996</td>\n",
       "      <td>2100</td>\n",
       "      <td>0</td>\n",
       "      <td>8472</td>\n",
       "      <td>1000</td>\n",
       "    </tr>\n",
       "    <tr>\n",
       "      <th>...</th>\n",
       "      <td>...</td>\n",
       "      <td>...</td>\n",
       "      <td>...</td>\n",
       "      <td>...</td>\n",
       "      <td>...</td>\n",
       "      <td>...</td>\n",
       "      <td>...</td>\n",
       "      <td>...</td>\n",
       "      <td>...</td>\n",
       "      <td>...</td>\n",
       "      <td>...</td>\n",
       "      <td>...</td>\n",
       "      <td>...</td>\n",
       "      <td>...</td>\n",
       "      <td>...</td>\n",
       "      <td>...</td>\n",
       "      <td>...</td>\n",
       "      <td>...</td>\n",
       "    </tr>\n",
       "    <tr>\n",
       "      <th>41539</th>\n",
       "      <td>44875</td>\n",
       "      <td>23675</td>\n",
       "      <td>21542</td>\n",
       "      <td>1476</td>\n",
       "      <td>6120</td>\n",
       "      <td>1632</td>\n",
       "      <td>3882</td>\n",
       "      <td>1805</td>\n",
       "      <td>0</td>\n",
       "      <td>133</td>\n",
       "      <td>1395</td>\n",
       "      <td>18372</td>\n",
       "      <td>294</td>\n",
       "      <td>2124</td>\n",
       "      <td>600</td>\n",
       "      <td>50</td>\n",
       "      <td>3978</td>\n",
       "      <td>2500</td>\n",
       "    </tr>\n",
       "    <tr>\n",
       "      <th>41540</th>\n",
       "      <td>31157</td>\n",
       "      <td>2691</td>\n",
       "      <td>1273</td>\n",
       "      <td>1886</td>\n",
       "      <td>4386</td>\n",
       "      <td>1840</td>\n",
       "      <td>3110</td>\n",
       "      <td>9090</td>\n",
       "      <td>0</td>\n",
       "      <td>300</td>\n",
       "      <td>3136</td>\n",
       "      <td>17640</td>\n",
       "      <td>890</td>\n",
       "      <td>2568</td>\n",
       "      <td>1560</td>\n",
       "      <td>1550</td>\n",
       "      <td>6090</td>\n",
       "      <td>1500</td>\n",
       "    </tr>\n",
       "    <tr>\n",
       "      <th>41541</th>\n",
       "      <td>45882</td>\n",
       "      <td>28646</td>\n",
       "      <td>27339</td>\n",
       "      <td>480</td>\n",
       "      <td>4796</td>\n",
       "      <td>1232</td>\n",
       "      <td>3025</td>\n",
       "      <td>3330</td>\n",
       "      <td>0</td>\n",
       "      <td>0</td>\n",
       "      <td>2460</td>\n",
       "      <td>9240</td>\n",
       "      <td>540</td>\n",
       "      <td>2040</td>\n",
       "      <td>1080</td>\n",
       "      <td>0</td>\n",
       "      <td>3570</td>\n",
       "      <td>500</td>\n",
       "    </tr>\n",
       "    <tr>\n",
       "      <th>41542</th>\n",
       "      <td>81416</td>\n",
       "      <td>29996</td>\n",
       "      <td>26655</td>\n",
       "      <td>2359</td>\n",
       "      <td>17730</td>\n",
       "      <td>2923</td>\n",
       "      <td>7951</td>\n",
       "      <td>13660</td>\n",
       "      <td>0</td>\n",
       "      <td>630</td>\n",
       "      <td>3755</td>\n",
       "      <td>12438</td>\n",
       "      <td>314</td>\n",
       "      <td>2412</td>\n",
       "      <td>1020</td>\n",
       "      <td>5295</td>\n",
       "      <td>5760</td>\n",
       "      <td>1000</td>\n",
       "    </tr>\n",
       "    <tr>\n",
       "      <th>41543</th>\n",
       "      <td>78195</td>\n",
       "      <td>43485</td>\n",
       "      <td>41205</td>\n",
       "      <td>1985</td>\n",
       "      <td>7735</td>\n",
       "      <td>2062</td>\n",
       "      <td>7114</td>\n",
       "      <td>5750</td>\n",
       "      <td>0</td>\n",
       "      <td>120</td>\n",
       "      <td>2320</td>\n",
       "      <td>11316</td>\n",
       "      <td>330</td>\n",
       "      <td>1560</td>\n",
       "      <td>960</td>\n",
       "      <td>80</td>\n",
       "      <td>6060</td>\n",
       "      <td>2500</td>\n",
       "    </tr>\n",
       "  </tbody>\n",
       "</table>\n",
       "<p>41544 rows × 18 columns</p>\n",
       "</div>"
      ],
      "text/plain": [
       "       Total Food Expenditure  Bread and Cereals Expenditure  \\\n",
       "0                      117848                          42140   \n",
       "1                       67766                          17329   \n",
       "2                       61609                          34182   \n",
       "3                       78189                          34030   \n",
       "4                       94625                          34820   \n",
       "...                       ...                            ...   \n",
       "41539                   44875                          23675   \n",
       "41540                   31157                           2691   \n",
       "41541                   45882                          28646   \n",
       "41542                   81416                          29996   \n",
       "41543                   78195                          43485   \n",
       "\n",
       "       Total Rice Expenditure  Meat Expenditure  \\\n",
       "0                       38300             24676   \n",
       "1                       13008             17434   \n",
       "2                       32001              7783   \n",
       "3                       28659             10914   \n",
       "4                       30167             18391   \n",
       "...                       ...               ...   \n",
       "41539                   21542              1476   \n",
       "41540                    1273              1886   \n",
       "41541                   27339               480   \n",
       "41542                   26655              2359   \n",
       "41543                   41205              1985   \n",
       "\n",
       "       Total Fish and  marine products Expenditure  Fruit Expenditure  \\\n",
       "0                                            16806               3325   \n",
       "1                                            11073               2035   \n",
       "2                                             2590               1730   \n",
       "3                                            10812                690   \n",
       "4                                            11309               1395   \n",
       "...                                            ...                ...   \n",
       "41539                                         6120               1632   \n",
       "41540                                         4386               1840   \n",
       "41541                                         4796               1232   \n",
       "41542                                        17730               2923   \n",
       "41543                                         7735               2062   \n",
       "\n",
       "       Vegetables Expenditure  Restaurant and hotels Expenditure  \\\n",
       "0                       13460                               3000   \n",
       "1                        7833                               2360   \n",
       "2                        3795                               4545   \n",
       "3                        7887                               6280   \n",
       "4                       11260                               6400   \n",
       "...                       ...                                ...   \n",
       "41539                    3882                               1805   \n",
       "41540                    3110                               9090   \n",
       "41541                    3025                               3330   \n",
       "41542                    7951                              13660   \n",
       "41543                    7114                               5750   \n",
       "\n",
       "       Alcoholic Beverages Expenditure  Tobacco Expenditure  \\\n",
       "0                                    0                    0   \n",
       "1                                  960                 2132   \n",
       "2                                  270                 4525   \n",
       "3                                  480                    0   \n",
       "4                                 1040                    0   \n",
       "...                                ...                  ...   \n",
       "41539                                0                  133   \n",
       "41540                                0                  300   \n",
       "41541                                0                    0   \n",
       "41542                                0                  630   \n",
       "41543                                0                  120   \n",
       "\n",
       "       Clothing, Footwear and Other Wear Expenditure  \\\n",
       "0                                               4607   \n",
       "1                                               8230   \n",
       "2                                               2735   \n",
       "3                                               1390   \n",
       "4                                               4620   \n",
       "...                                              ...   \n",
       "41539                                           1395   \n",
       "41540                                           3136   \n",
       "41541                                           2460   \n",
       "41542                                           3755   \n",
       "41543                                           2320   \n",
       "\n",
       "       Housing and water Expenditure  Medical Care Expenditure  \\\n",
       "0                              63636                      3457   \n",
       "1                              41370                      3520   \n",
       "2                              14340                        70   \n",
       "3                              16638                        60   \n",
       "4                              31122                       140   \n",
       "...                              ...                       ...   \n",
       "41539                          18372                       294   \n",
       "41540                          17640                       890   \n",
       "41541                           9240                       540   \n",
       "41542                          12438                       314   \n",
       "41543                          11316                       330   \n",
       "\n",
       "       Transportation Expenditure  Communication Expenditure  \\\n",
       "0                            4776                       2880   \n",
       "1                           12900                       5700   \n",
       "2                             324                        420   \n",
       "3                            6840                        660   \n",
       "4                            6996                       2100   \n",
       "...                           ...                        ...   \n",
       "41539                        2124                        600   \n",
       "41540                        2568                       1560   \n",
       "41541                        2040                       1080   \n",
       "41542                        2412                       1020   \n",
       "41543                        1560                        960   \n",
       "\n",
       "       Education Expenditure  Miscellaneous Goods and Services Expenditure  \\\n",
       "0                      36200                                         34056   \n",
       "1                      29300                                          9150   \n",
       "2                        425                                          6450   \n",
       "3                        300                                          3762   \n",
       "4                          0                                          8472   \n",
       "...                      ...                                           ...   \n",
       "41539                     50                                          3978   \n",
       "41540                   1550                                          6090   \n",
       "41541                      0                                          3570   \n",
       "41542                   5295                                          5760   \n",
       "41543                     80                                          6060   \n",
       "\n",
       "       Special Occasions Expenditure  \n",
       "0                               7200  \n",
       "1                               1500  \n",
       "2                                500  \n",
       "3                                500  \n",
       "4                               1000  \n",
       "...                              ...  \n",
       "41539                           2500  \n",
       "41540                           1500  \n",
       "41541                            500  \n",
       "41542                           1000  \n",
       "41543                           2500  \n",
       "\n",
       "[41544 rows x 18 columns]"
      ]
     },
     "execution_count": 33,
     "metadata": {},
     "output_type": "execute_result"
    }
   ],
   "source": [
    "expenditures_df = income_df.filter(regex='Expenditure')\n",
    "expenditures_df"
   ]
  },
  {
   "cell_type": "code",
   "execution_count": 34,
   "id": "724f81b1",
   "metadata": {},
   "outputs": [
    {
     "data": {
      "text/plain": [
       "Total Food Expenditure                          3535359428\n",
       "Housing and water Expenditure                   1594270434\n",
       "Bread and Cereals Expenditure                   1044155415\n",
       "Total Rice Expenditure                           755927354\n",
       "Restaurant and hotels Expenditure                641296701\n",
       "Miscellaneous Goods and Services Expenditure     520216944\n",
       "Transportation Expenditure                       490482774\n",
       "Meat Expenditure                                 437876775\n",
       "Total Fish and  marine products Expenditure      437430001\n",
       "Education Expenditure                            310479104\n",
       "dtype: int64"
      ]
     },
     "execution_count": 34,
     "metadata": {},
     "output_type": "execute_result"
    }
   ],
   "source": [
    "expenditures_sum = expenditures_df.sum()\n",
    "expenditures_sum.nlargest(10)"
   ]
  },
  {
   "cell_type": "code",
   "execution_count": 35,
   "id": "f5133193",
   "metadata": {},
   "outputs": [
    {
     "data": {
      "text/plain": [
       "<AxesSubplot:ylabel='None'>"
      ]
     },
     "execution_count": 35,
     "metadata": {},
     "output_type": "execute_result"
    },
    {
     "data": {
      "image/png": "[encoded data removed]",
      "text/plain": [
       "<Figure size 720x720 with 1 Axes>"
      ]
     },
     "metadata": {},
     "output_type": "display_data"
    }
   ],
   "source": [
    "expenditures_sum.plot.pie(figsize=(10,10))"
   ]
  },
  {
   "cell_type": "code",
   "execution_count": 36,
   "id": "c6141695",
   "metadata": {},
   "outputs": [
    {
     "name": "stdout",
     "output_type": "stream",
     "text": [
      "Highest expenditure is Total Food Expenditure with total of 3535359428 pesos\n",
      "Lowest expenditure is Alcoholic Beverages Expenditure with total of 45078070 pesos\n"
     ]
    }
   ],
   "source": [
    "print(f\"Highest expenditure is {expenditures_sum.idxmax()} with total of {expenditures_sum.max()} pesos\")\n",
    "print(f\"Lowest expenditure is {expenditures_sum.idxmin()} with total of {expenditures_sum.min()} pesos\")"
   ]
  },
  {
   "cell_type": "code",
   "execution_count": 37,
   "id": "04162844",
   "metadata": {},
   "outputs": [
    {
     "data": {
      "text/plain": [
       "<AxesSubplot:>"
      ]
     },
     "execution_count": 37,
     "metadata": {},
     "output_type": "execute_result"
    },
    {
     "data": {
      "image/png": "[encoded data removed]",
      "text/plain": [
       "<Figure size 720x720 with 1 Axes>"
      ]
     },
     "metadata": {
      "needs_background": "light"
     },
     "output_type": "display_data"
    }
   ],
   "source": [
    "expenditures_sum.nlargest(10).plot.bar(figsize=(10,10))"
   ]
  },
  {
   "cell_type": "markdown",
   "id": "7ae2904c",
   "metadata": {},
   "source": [
    "### `Type of Household`"
   ]
  },
  {
   "cell_type": "code",
   "execution_count": 38,
   "id": "06f27ac5",
   "metadata": {},
   "outputs": [
    {
     "data": {
      "text/plain": [
       "Single Family                             28445\n",
       "Extended Family                           12932\n",
       "Two or More Nonrelated Persons/Members      167\n",
       "Name: Type of Household, dtype: int64"
      ]
     },
     "execution_count": 38,
     "metadata": {},
     "output_type": "execute_result"
    }
   ],
   "source": [
    "y = income_df['Type of Household']\n",
    "y.value_counts()"
   ]
  },
  {
   "cell_type": "code",
   "execution_count": 39,
   "id": "04106318",
   "metadata": {
    "scrolled": false
   },
   "outputs": [
    {
     "data": {
      "text/plain": [
       "<AxesSubplot:>"
      ]
     },
     "execution_count": 39,
     "metadata": {},
     "output_type": "execute_result"
    },
    {
     "data": {
      "image/png": "[encoded data removed]",
      "text/plain": [
       "<Figure size 720x720 with 1 Axes>"
      ]
     },
     "metadata": {
      "needs_background": "light"
     },
     "output_type": "display_data"
    }
   ],
   "source": [
    "y.value_counts().plot.bar(figsize=(10,10))"
   ]
  },
  {
   "cell_type": "markdown",
   "id": "e4bf46b2",
   "metadata": {},
   "source": [
    "### `Type of Building/House`"
   ]
  },
  {
   "cell_type": "code",
   "execution_count": 40,
   "id": "2b3c0865",
   "metadata": {
    "scrolled": true
   },
   "outputs": [
    {
     "data": {
      "text/plain": [
       "Single house                                   39069\n",
       "Multi-unit residential                          1329\n",
       "Duplex                                          1084\n",
       "Commercial/industrial/agricultural building       51\n",
       "Institutional living quarter                       9\n",
       "Other building unit (e.g. cave, boat)              2\n",
       "Name: Type of Building/House, dtype: int64"
      ]
     },
     "execution_count": 40,
     "metadata": {},
     "output_type": "execute_result"
    }
   ],
   "source": [
    "y = income_df['Type of Building/House']\n",
    "y.value_counts()"
   ]
  },
  {
   "cell_type": "code",
   "execution_count": 41,
   "id": "0a6acef6",
   "metadata": {
    "scrolled": false
   },
   "outputs": [
    {
     "data": {
      "text/plain": [
       "<AxesSubplot:>"
      ]
     },
     "execution_count": 41,
     "metadata": {},
     "output_type": "execute_result"
    },
    {
     "data": {
      "image/png": "[encoded data removed]",
      "text/plain": [
       "<Figure size 720x720 with 1 Axes>"
      ]
     },
     "metadata": {
      "needs_background": "light"
     },
     "output_type": "display_data"
    }
   ],
   "source": [
    "y.value_counts().plot.bar(figsize=(10,10))"
   ]
  },
  {
   "cell_type": "markdown",
   "id": "10550c36",
   "metadata": {},
   "source": [
    "### `House - Number of Bedrooms`"
   ]
  },
  {
   "cell_type": "code",
   "execution_count": 42,
   "id": "45a1f42a",
   "metadata": {
    "scrolled": false
   },
   "outputs": [
    {
     "data": {
      "text/plain": [
       "2    15456\n",
       "1    13431\n",
       "3     6111\n",
       "0     3930\n",
       "4     1875\n",
       "5      484\n",
       "6      169\n",
       "7       46\n",
       "8       29\n",
       "9       13\n",
       "Name: Number of bedrooms, dtype: int64"
      ]
     },
     "execution_count": 42,
     "metadata": {},
     "output_type": "execute_result"
    }
   ],
   "source": [
    "y = income_df['Number of bedrooms']\n",
    "y.value_counts()"
   ]
  },
  {
   "cell_type": "code",
   "execution_count": 43,
   "id": "80a68ec4",
   "metadata": {
    "scrolled": false
   },
   "outputs": [
    {
     "data": {
      "text/plain": [
       "<AxesSubplot:>"
      ]
     },
     "execution_count": 43,
     "metadata": {},
     "output_type": "execute_result"
    },
    {
     "data": {
      "image/png": "[encoded data removed]",
      "text/plain": [
       "<Figure size 720x720 with 1 Axes>"
      ]
     },
     "metadata": {
      "needs_background": "light"
     },
     "output_type": "display_data"
    }
   ],
   "source": [
    "y.value_counts().plot.bar(figsize=(10,10))"
   ]
  },
  {
   "cell_type": "markdown",
   "id": "e6527d6b",
   "metadata": {},
   "source": [
    "### `House - Number of Television`"
   ]
  },
  {
   "cell_type": "code",
   "execution_count": 44,
   "id": "d277e5be",
   "metadata": {
    "scrolled": false
   },
   "outputs": [
    {
     "data": {
      "text/plain": [
       "1    27089\n",
       "0    10717\n",
       "2     2955\n",
       "3      597\n",
       "4      133\n",
       "5       42\n",
       "6       11\n",
       "Name: Number of Television, dtype: int64"
      ]
     },
     "execution_count": 44,
     "metadata": {},
     "output_type": "execute_result"
    }
   ],
   "source": [
    "y = income_df['Number of Television']\n",
    "y.value_counts()"
   ]
  },
  {
   "cell_type": "code",
   "execution_count": 45,
   "id": "3ff55ad3",
   "metadata": {
    "scrolled": false
   },
   "outputs": [
    {
     "data": {
      "text/plain": [
       "<AxesSubplot:>"
      ]
     },
     "execution_count": 45,
     "metadata": {},
     "output_type": "execute_result"
    },
    {
     "data": {
      "image/png": "[encoded data removed]",
      "text/plain": [
       "<Figure size 720x720 with 1 Axes>"
      ]
     },
     "metadata": {
      "needs_background": "light"
     },
     "output_type": "display_data"
    }
   ],
   "source": [
    "y.value_counts().plot.bar(figsize=(10,10))"
   ]
  },
  {
   "cell_type": "markdown",
   "id": "04e845b1",
   "metadata": {},
   "source": [
    "### `House - Number of CD/VCD/DVD`"
   ]
  },
  {
   "cell_type": "code",
   "execution_count": 46,
   "id": "28e699ab",
   "metadata": {
    "scrolled": false
   },
   "outputs": [
    {
     "data": {
      "text/plain": [
       "0    24621\n",
       "1    15983\n",
       "2      752\n",
       "3      163\n",
       "4       20\n",
       "5        5\n",
       "Name: Number of CD/VCD/DVD, dtype: int64"
      ]
     },
     "execution_count": 46,
     "metadata": {},
     "output_type": "execute_result"
    }
   ],
   "source": [
    "y = income_df['Number of CD/VCD/DVD']\n",
    "y.value_counts()"
   ]
  },
  {
   "cell_type": "code",
   "execution_count": 47,
   "id": "e0452a94",
   "metadata": {
    "scrolled": false
   },
   "outputs": [
    {
     "data": {
      "text/plain": [
       "<AxesSubplot:>"
      ]
     },
     "execution_count": 47,
     "metadata": {},
     "output_type": "execute_result"
    },
    {
     "data": {
      "image/png": "[encoded data removed]",
      "text/plain": [
       "<Figure size 720x720 with 1 Axes>"
      ]
     },
     "metadata": {
      "needs_background": "light"
     },
     "output_type": "display_data"
    }
   ],
   "source": [
    "y.value_counts().plot.bar(figsize=(10,10))"
   ]
  },
  {
   "cell_type": "markdown",
   "id": "42d880fe",
   "metadata": {},
   "source": [
    "### `House - Number of Component/Stereo set`"
   ]
  },
  {
   "cell_type": "code",
   "execution_count": 48,
   "id": "a65e741a",
   "metadata": {
    "scrolled": false
   },
   "outputs": [
    {
     "data": {
      "text/plain": [
       "0    35058\n",
       "1     6284\n",
       "2      174\n",
       "3       13\n",
       "4       10\n",
       "5        5\n",
       "Name: Number of Component/Stereo set, dtype: int64"
      ]
     },
     "execution_count": 48,
     "metadata": {},
     "output_type": "execute_result"
    }
   ],
   "source": [
    "y = income_df['Number of Component/Stereo set']\n",
    "y.value_counts()"
   ]
  },
  {
   "cell_type": "code",
   "execution_count": 49,
   "id": "316a28d6",
   "metadata": {
    "scrolled": false
   },
   "outputs": [
    {
     "data": {
      "text/plain": [
       "<AxesSubplot:>"
      ]
     },
     "execution_count": 49,
     "metadata": {},
     "output_type": "execute_result"
    },
    {
     "data": {
      "image/png": "[encoded data removed]",
      "text/plain": [
       "<Figure size 720x720 with 1 Axes>"
      ]
     },
     "metadata": {
      "needs_background": "light"
     },
     "output_type": "display_data"
    }
   ],
   "source": [
    "y.value_counts().plot.bar(figsize=(10,10))"
   ]
  },
  {
   "cell_type": "markdown",
   "id": "58f7d4c4",
   "metadata": {},
   "source": [
    "### `House - Number of Refrigerator/Freezer`"
   ]
  },
  {
   "cell_type": "code",
   "execution_count": 50,
   "id": "254305cd",
   "metadata": {
    "scrolled": false
   },
   "outputs": [
    {
     "data": {
      "text/plain": [
       "0    25990\n",
       "1    14881\n",
       "2      569\n",
       "3       73\n",
       "4       17\n",
       "5       14\n",
       "Name: Number of Refrigerator/Freezer, dtype: int64"
      ]
     },
     "execution_count": 50,
     "metadata": {},
     "output_type": "execute_result"
    }
   ],
   "source": [
    "y = income_df['Number of Refrigerator/Freezer']\n",
    "y.value_counts()"
   ]
  },
  {
   "cell_type": "code",
   "execution_count": 51,
   "id": "a963999f",
   "metadata": {
    "scrolled": false
   },
   "outputs": [
    {
     "data": {
      "text/plain": [
       "<AxesSubplot:>"
      ]
     },
     "execution_count": 51,
     "metadata": {},
     "output_type": "execute_result"
    },
    {
     "data": {
      "image/png": "[encoded data removed]",
      "text/plain": [
       "<Figure size 720x720 with 1 Axes>"
      ]
     },
     "metadata": {
      "needs_background": "light"
     },
     "output_type": "display_data"
    }
   ],
   "source": [
    "y.value_counts().plot.bar(figsize=(10,10))"
   ]
  },
  {
   "cell_type": "markdown",
   "id": "f8383d93",
   "metadata": {},
   "source": [
    "### `House - Number of Washing Machine`"
   ]
  },
  {
   "cell_type": "code",
   "execution_count": 52,
   "id": "7d9171b4",
   "metadata": {
    "scrolled": false
   },
   "outputs": [
    {
     "data": {
      "text/plain": [
       "0    28484\n",
       "1    12845\n",
       "2      204\n",
       "3       11\n",
       "Name: Number of Washing Machine, dtype: int64"
      ]
     },
     "execution_count": 52,
     "metadata": {},
     "output_type": "execute_result"
    }
   ],
   "source": [
    "y = income_df['Number of Washing Machine']\n",
    "y.value_counts()"
   ]
  },
  {
   "cell_type": "code",
   "execution_count": 53,
   "id": "dc3b9c85",
   "metadata": {
    "scrolled": false
   },
   "outputs": [
    {
     "data": {
      "text/plain": [
       "<AxesSubplot:>"
      ]
     },
     "execution_count": 53,
     "metadata": {},
     "output_type": "execute_result"
    },
    {
     "data": {
      "image/png": "[encoded data removed]",
      "text/plain": [
       "<Figure size 720x720 with 1 Axes>"
      ]
     },
     "metadata": {
      "needs_background": "light"
     },
     "output_type": "display_data"
    }
   ],
   "source": [
    "y.value_counts().plot.bar(figsize=(10,10))"
   ]
  },
  {
   "cell_type": "markdown",
   "id": "5cc3c1dc",
   "metadata": {},
   "source": [
    "### `House - Number of Airconditioner`"
   ]
  },
  {
   "cell_type": "code",
   "execution_count": 54,
   "id": "5ae6e163",
   "metadata": {
    "scrolled": false
   },
   "outputs": [
    {
     "data": {
      "text/plain": [
       "0    37457\n",
       "1     3178\n",
       "2      622\n",
       "3      199\n",
       "4       66\n",
       "5       22\n",
       "Name: Number of Airconditioner, dtype: int64"
      ]
     },
     "execution_count": 54,
     "metadata": {},
     "output_type": "execute_result"
    }
   ],
   "source": [
    "y = income_df['Number of Airconditioner']\n",
    "y.value_counts()"
   ]
  },
  {
   "cell_type": "code",
   "execution_count": 55,
   "id": "cce8eaaa",
   "metadata": {
    "scrolled": false
   },
   "outputs": [
    {
     "data": {
      "text/plain": [
       "<AxesSubplot:>"
      ]
     },
     "execution_count": 55,
     "metadata": {},
     "output_type": "execute_result"
    },
    {
     "data": {
      "image/png": "[encoded data removed]",
      "text/plain": [
       "<Figure size 720x720 with 1 Axes>"
      ]
     },
     "metadata": {
      "needs_background": "light"
     },
     "output_type": "display_data"
    }
   ],
   "source": [
    "y.value_counts().plot.bar(figsize=(10,10))"
   ]
  },
  {
   "cell_type": "markdown",
   "id": "932d4618",
   "metadata": {},
   "source": [
    "### `House - Number of Car, Jeep, Van`"
   ]
  },
  {
   "cell_type": "code",
   "execution_count": 56,
   "id": "eb416221",
   "metadata": {
    "scrolled": false
   },
   "outputs": [
    {
     "data": {
      "text/plain": [
       "0    38876\n",
       "1     2136\n",
       "2      413\n",
       "3       77\n",
       "4       29\n",
       "5       13\n",
       "Name: Number of Car, Jeep, Van, dtype: int64"
      ]
     },
     "execution_count": 56,
     "metadata": {},
     "output_type": "execute_result"
    }
   ],
   "source": [
    "y = income_df['Number of Car, Jeep, Van']\n",
    "y.value_counts()"
   ]
  },
  {
   "cell_type": "code",
   "execution_count": 57,
   "id": "d0e6abd2",
   "metadata": {
    "scrolled": false
   },
   "outputs": [
    {
     "data": {
      "text/plain": [
       "<AxesSubplot:>"
      ]
     },
     "execution_count": 57,
     "metadata": {},
     "output_type": "execute_result"
    },
    {
     "data": {
      "image/png": "[encoded data removed]",
      "text/plain": [
       "<Figure size 720x720 with 1 Axes>"
      ]
     },
     "metadata": {
      "needs_background": "light"
     },
     "output_type": "display_data"
    }
   ],
   "source": [
    "y.value_counts().plot.bar(figsize=(10,10))"
   ]
  },
  {
   "cell_type": "markdown",
   "id": "45aa5ee1",
   "metadata": {},
   "source": [
    "### `House - Number of Landline/wireless telephones`"
   ]
  },
  {
   "cell_type": "code",
   "execution_count": 58,
   "id": "86b5698b",
   "metadata": {
    "scrolled": false
   },
   "outputs": [
    {
     "data": {
      "text/plain": [
       "0    39302\n",
       "1     2070\n",
       "2       96\n",
       "3       48\n",
       "4       28\n",
       "Name: Number of Landline/wireless telephones, dtype: int64"
      ]
     },
     "execution_count": 58,
     "metadata": {},
     "output_type": "execute_result"
    }
   ],
   "source": [
    "y = income_df['Number of Landline/wireless telephones']\n",
    "y.value_counts()"
   ]
  },
  {
   "cell_type": "code",
   "execution_count": 59,
   "id": "dce357aa",
   "metadata": {
    "scrolled": false
   },
   "outputs": [
    {
     "data": {
      "text/plain": [
       "<AxesSubplot:>"
      ]
     },
     "execution_count": 59,
     "metadata": {},
     "output_type": "execute_result"
    },
    {
     "data": {
      "image/png": "[encoded data removed]",
      "text/plain": [
       "<Figure size 720x720 with 1 Axes>"
      ]
     },
     "metadata": {
      "needs_background": "light"
     },
     "output_type": "display_data"
    }
   ],
   "source": [
    "y.value_counts().plot.bar(figsize=(10,10))"
   ]
  },
  {
   "cell_type": "markdown",
   "id": "e45569ba",
   "metadata": {},
   "source": [
    "### `House - Number of Cellular phone`"
   ]
  },
  {
   "cell_type": "code",
   "execution_count": 60,
   "id": "d40a966c",
   "metadata": {
    "scrolled": false
   },
   "outputs": [
    {
     "data": {
      "text/plain": [
       "1     12484\n",
       "2     10377\n",
       "0      6939\n",
       "3      5820\n",
       "4      3281\n",
       "5      1467\n",
       "6       666\n",
       "7       242\n",
       "8       153\n",
       "10       66\n",
       "9        49\n",
       "Name: Number of Cellular phone, dtype: int64"
      ]
     },
     "execution_count": 60,
     "metadata": {},
     "output_type": "execute_result"
    }
   ],
   "source": [
    "y = income_df['Number of Cellular phone']\n",
    "y.value_counts()"
   ]
  },
  {
   "cell_type": "code",
   "execution_count": 61,
   "id": "ddbece79",
   "metadata": {
    "scrolled": false
   },
   "outputs": [
    {
     "data": {
      "text/plain": [
       "<AxesSubplot:>"
      ]
     },
     "execution_count": 61,
     "metadata": {},
     "output_type": "execute_result"
    },
    {
     "data": {
      "image/png": "[encoded data removed]",
      "text/plain": [
       "<Figure size 720x720 with 1 Axes>"
      ]
     },
     "metadata": {
      "needs_background": "light"
     },
     "output_type": "display_data"
    }
   ],
   "source": [
    "y.value_counts().plot.bar(figsize=(10,10))"
   ]
  },
  {
   "cell_type": "markdown",
   "id": "138a1c6e",
   "metadata": {},
   "source": [
    "### `House - Number of Personal Computer`"
   ]
  },
  {
   "cell_type": "code",
   "execution_count": 62,
   "id": "4c203a2a",
   "metadata": {
    "scrolled": false
   },
   "outputs": [
    {
     "data": {
      "text/plain": [
       "0    32988\n",
       "1     5650\n",
       "2     1836\n",
       "3      667\n",
       "4      271\n",
       "5      112\n",
       "6       20\n",
       "Name: Number of Personal Computer, dtype: int64"
      ]
     },
     "execution_count": 62,
     "metadata": {},
     "output_type": "execute_result"
    }
   ],
   "source": [
    "y = income_df['Number of Personal Computer']\n",
    "y.value_counts()"
   ]
  },
  {
   "cell_type": "code",
   "execution_count": 63,
   "id": "4875b8c8",
   "metadata": {
    "scrolled": false
   },
   "outputs": [
    {
     "data": {
      "text/plain": [
       "<AxesSubplot:>"
      ]
     },
     "execution_count": 63,
     "metadata": {},
     "output_type": "execute_result"
    },
    {
     "data": {
      "image/png": "[encoded data removed]",
      "text/plain": [
       "<Figure size 720x720 with 1 Axes>"
      ]
     },
     "metadata": {
      "needs_background": "light"
     },
     "output_type": "display_data"
    }
   ],
   "source": [
    "y.value_counts().plot.bar(figsize=(10,10))"
   ]
  },
  {
   "cell_type": "markdown",
   "id": "2855c35e",
   "metadata": {},
   "source": [
    "### `House - Number of Stove with Oven/Gas Range`"
   ]
  },
  {
   "cell_type": "code",
   "execution_count": 64,
   "id": "c9bafc16",
   "metadata": {
    "scrolled": false
   },
   "outputs": [
    {
     "data": {
      "text/plain": [
       "1    27089\n",
       "0    10717\n",
       "2     2955\n",
       "3      597\n",
       "4      133\n",
       "5       42\n",
       "6       11\n",
       "Name: Number of Television, dtype: int64"
      ]
     },
     "execution_count": 64,
     "metadata": {},
     "output_type": "execute_result"
    }
   ],
   "source": [
    "y = income_df['Number of Television']\n",
    "y.value_counts()"
   ]
  },
  {
   "cell_type": "code",
   "execution_count": 65,
   "id": "deb3b03b",
   "metadata": {
    "scrolled": false
   },
   "outputs": [
    {
     "data": {
      "text/plain": [
       "<AxesSubplot:>"
      ]
     },
     "execution_count": 65,
     "metadata": {},
     "output_type": "execute_result"
    },
    {
     "data": {
      "image/png": "[encoded data removed]",
      "text/plain": [
       "<Figure size 720x720 with 1 Axes>"
      ]
     },
     "metadata": {
      "needs_background": "light"
     },
     "output_type": "display_data"
    }
   ],
   "source": [
    "y.value_counts().plot.bar(figsize=(10,10))"
   ]
  },
  {
   "cell_type": "markdown",
   "id": "08737afb",
   "metadata": {},
   "source": [
    "### `House - Number of Motorized Banca`"
   ]
  },
  {
   "cell_type": "code",
   "execution_count": 66,
   "id": "760d0767",
   "metadata": {
    "scrolled": true
   },
   "outputs": [
    {
     "data": {
      "text/plain": [
       "1    27089\n",
       "0    10717\n",
       "2     2955\n",
       "3      597\n",
       "4      133\n",
       "5       42\n",
       "6       11\n",
       "Name: Number of Television, dtype: int64"
      ]
     },
     "execution_count": 66,
     "metadata": {},
     "output_type": "execute_result"
    }
   ],
   "source": [
    "y = income_df['Number of Television']\n",
    "y.value_counts()"
   ]
  },
  {
   "cell_type": "code",
   "execution_count": 67,
   "id": "de43f1df",
   "metadata": {
    "scrolled": false
   },
   "outputs": [
    {
     "data": {
      "text/plain": [
       "<AxesSubplot:>"
      ]
     },
     "execution_count": 67,
     "metadata": {},
     "output_type": "execute_result"
    },
    {
     "data": {
      "image/png": "[encoded data removed]",
      "text/plain": [
       "<Figure size 720x720 with 1 Axes>"
      ]
     },
     "metadata": {
      "needs_background": "light"
     },
     "output_type": "display_data"
    }
   ],
   "source": [
    "y.value_counts().plot.bar(figsize=(10,10))"
   ]
  },
  {
   "cell_type": "markdown",
   "id": "651ca9e6",
   "metadata": {},
   "source": [
    "### `House - Number of Motorcycle/Tricycle`"
   ]
  },
  {
   "cell_type": "code",
   "execution_count": 68,
   "id": "e2ed6829",
   "metadata": {
    "scrolled": true
   },
   "outputs": [
    {
     "data": {
      "text/plain": [
       "0    31282\n",
       "1     8811\n",
       "2     1199\n",
       "3      186\n",
       "4       54\n",
       "5       12\n",
       "Name: Number of Motorcycle/Tricycle, dtype: int64"
      ]
     },
     "execution_count": 68,
     "metadata": {},
     "output_type": "execute_result"
    }
   ],
   "source": [
    "y = income_df['Number of Motorcycle/Tricycle']\n",
    "y.value_counts()"
   ]
  },
  {
   "cell_type": "code",
   "execution_count": 69,
   "id": "dd237f3d",
   "metadata": {
    "scrolled": false
   },
   "outputs": [
    {
     "data": {
      "text/plain": [
       "<AxesSubplot:>"
      ]
     },
     "execution_count": 69,
     "metadata": {},
     "output_type": "execute_result"
    },
    {
     "data": {
      "image/png": "[encoded data removed]",
      "text/plain": [
       "<Figure size 720x720 with 1 Axes>"
      ]
     },
     "metadata": {
      "needs_background": "light"
     },
     "output_type": "display_data"
    }
   ],
   "source": [
    "y.value_counts().plot.bar(figsize=(10,10))"
   ]
  },
  {
   "cell_type": "markdown",
   "id": "77089418",
   "metadata": {},
   "source": [
    "## Data Cleaning\n",
    "In this step, we will check if the dataset contains some errors or issues like null values, wrong encodings/spelling, duplicates, and inconsistencies. It is important to clean our data in order to avoid problems when performing analyses."
   ]
  },
  {
   "cell_type": "markdown",
   "id": "d1646b92",
   "metadata": {},
   "source": [
    "### Checking for Nulls"
   ]
  },
  {
   "cell_type": "code",
   "execution_count": 70,
   "id": "e23cb2d1",
   "metadata": {},
   "outputs": [
    {
     "data": {
      "text/plain": [
       "Total Household Income                              0\n",
       "Region                                              0\n",
       "Total Food Expenditure                              0\n",
       "Main Source of Income                               0\n",
       "Agricultural Household indicator                    0\n",
       "Bread and Cereals Expenditure                       0\n",
       "Total Rice Expenditure                              0\n",
       "Meat Expenditure                                    0\n",
       "Total Fish and  marine products Expenditure         0\n",
       "Fruit Expenditure                                   0\n",
       "Vegetables Expenditure                              0\n",
       "Restaurant and hotels Expenditure                   0\n",
       "Alcoholic Beverages Expenditure                     0\n",
       "Tobacco Expenditure                                 0\n",
       "Clothing, Footwear and Other Wear Expenditure       0\n",
       "Housing and water Expenditure                       0\n",
       "Imputed House Rental Value                          0\n",
       "Medical Care Expenditure                            0\n",
       "Transportation Expenditure                          0\n",
       "Communication Expenditure                           0\n",
       "Education Expenditure                               0\n",
       "Miscellaneous Goods and Services Expenditure        0\n",
       "Special Occasions Expenditure                       0\n",
       "Crop Farming and Gardening expenses                 0\n",
       "Total Income from Entrepreneurial Acitivites        0\n",
       "Household Head Sex                                  0\n",
       "Household Head Age                                  0\n",
       "Household Head Marital Status                       0\n",
       "Household Head Highest Grade Completed              0\n",
       "Household Head Job or Business Indicator            0\n",
       "Household Head Occupation                        7536\n",
       "Household Head Class of Worker                   7536\n",
       "Type of Household                                   0\n",
       "Total Number of Family members                      0\n",
       "Members with age less than 5 year old               0\n",
       "Members with age 5 - 17 years old                   0\n",
       "Total number of family members employed             0\n",
       "Type of Building/House                              0\n",
       "Type of Roof                                        0\n",
       "Type of Walls                                       0\n",
       "House Floor Area                                    0\n",
       "House Age                                           0\n",
       "Number of bedrooms                                  0\n",
       "Tenure Status                                       0\n",
       "Toilet Facilities                                   0\n",
       "Electricity                                         0\n",
       "Main Source of Water Supply                         0\n",
       "Number of Television                                0\n",
       "Number of CD/VCD/DVD                                0\n",
       "Number of Component/Stereo set                      0\n",
       "Number of Refrigerator/Freezer                      0\n",
       "Number of Washing Machine                           0\n",
       "Number of Airconditioner                            0\n",
       "Number of Car, Jeep, Van                            0\n",
       "Number of Landline/wireless telephones              0\n",
       "Number of Cellular phone                            0\n",
       "Number of Personal Computer                         0\n",
       "Number of Stove with Oven/Gas Range                 0\n",
       "Number of Motorized Banca                           0\n",
       "Number of Motorcycle/Tricycle                       0\n",
       "dtype: int64"
      ]
     },
     "execution_count": 70,
     "metadata": {},
     "output_type": "execute_result"
    }
   ],
   "source": [
    "income_df.isna().sum()"
   ]
  },
  {
   "cell_type": "markdown",
   "id": "14470c86",
   "metadata": {},
   "source": [
    "After performing null checking, we can see that there are null values in 2 variables like `Household Head Occupation` and `Household Head Class of Worker`. "
   ]
  },
  {
   "cell_type": "markdown",
   "id": "75fe7b81",
   "metadata": {},
   "source": [
    "### Replacing of Nulls\n",
    "It is shown that there is a significant number of observations with null values for both variables. Instead of removing them, we will replace them with a sentinent value of `Other` to identify these observations as they can still be used for analysis."
   ]
  },
  {
   "cell_type": "markdown",
   "id": "ec9a8c19",
   "metadata": {},
   "source": [
    "### `Household Head Occupation` variable"
   ]
  },
  {
   "cell_type": "code",
   "execution_count": 71,
   "id": "acef0110",
   "metadata": {},
   "outputs": [
    {
     "data": {
      "text/plain": [
       "Farmhands and laborers                                                                 3478\n",
       "Rice farmers                                                                           2849\n",
       "General managers/managing proprietors in wholesale and retail trade                    2028\n",
       "General managers/managing proprietors in transportation, storage and communications    1932\n",
       "Corn farmers                                                                           1724\n",
       "                                                                                       ... \n",
       "Petroleum and natural gas refining plant operators                                        1\n",
       "Builders (traditional materials)                                                          1\n",
       "Personal care and related workers, n. e. c.                                               1\n",
       "Riggers and cable splicers                                                                1\n",
       "Glass, ceramics and related plant operators n. e. c.                                      1\n",
       "Name: Household Head Occupation, Length: 378, dtype: int64"
      ]
     },
     "execution_count": 71,
     "metadata": {},
     "output_type": "execute_result"
    }
   ],
   "source": [
    "income_df['Household Head Occupation'].value_counts()"
   ]
  },
  {
   "cell_type": "code",
   "execution_count": 72,
   "id": "69df864b",
   "metadata": {},
   "outputs": [
    {
     "data": {
      "text/plain": [
       "array(['General elementary education teaching professionals',\n",
       "       'Transport conductors', 'Farmhands and laborers', 'Rice farmers',\n",
       "       'General managers/managing proprietors in transportation, storage and communications',\n",
       "       'Heavy truck and lorry drivers', nan, 'Hog raising farmers',\n",
       "       'Vegetable farmers',\n",
       "       'General managers/managing proprietors in wholesale and retail trade',\n",
       "       'Stocks clerks', 'Justices', 'Other social science professionals',\n",
       "       'Protective services workers n. e. c.', 'Secretaries',\n",
       "       'Electronics mechanics and servicers',\n",
       "       'Foresters and related scientists',\n",
       "       'Shop salespersons and demonstrators',\n",
       "       'College, university and higher education teaching professionals',\n",
       "       'General managers/managing proprietors of restaurants and hotels',\n",
       "       'Welders and flamecutters', 'Car, taxi and van drivers',\n",
       "       'Motor vehicle mechanics and related trades workers',\n",
       "       'Traditional chiefs and heads of villages', 'Motorcycle drivers',\n",
       "       'Statistical, mathematical and related associate professionals',\n",
       "       'Lineman, line installers and cable splicers',\n",
       "       'Carpenters and joiners', 'Building construction laborers',\n",
       "       'General managers/managing proprietors in manufacturing',\n",
       "       'Masons and related concrete finishers', 'Legislative officials',\n",
       "       'Inland and coastal waters fishermen',\n",
       "       'Painters and related workers',\n",
       "       'Construction and maintenance laborers: roads, dams and similar constructions',\n",
       "       'Helpers and cleaners in offices, hotels and other establishments',\n",
       "       'General managers/managing proprietors n. e. c.',\n",
       "       'Messengers, package and luggage porters and deliverers',\n",
       "       'Social work associate professionals',\n",
       "       'Hand packers and other manufacturing laborers',\n",
       "       'Door-to-door and telephone salespersons',\n",
       "       'Hand launderers and pressers', 'Sweepers and related laborers',\n",
       "       'Medical technologists',\n",
       "       'Production and operations managers in agriculture, hunting, forestry and fishery',\n",
       "       'Corn farmers', 'Cooks', 'School supervisors and principals',\n",
       "       'Tailors, dressmakers and hatters',\n",
       "       'Wood and related products assemblers',\n",
       "       'Police inspectors and detectives', 'Coconut farmers',\n",
       "       'Root crops farmers', 'Fruit tree farmers',\n",
       "       'Coffee and cacao farmers', 'Forestry laborers',\n",
       "       'Other office clerks',\n",
       "       'General managers/managing proprietors of business services',\n",
       "       'School principals', 'Civil engineers', 'Prison guards',\n",
       "       \"Ship's deck crews and related workers\", 'Assembling laborers',\n",
       "       'Tellers and other counter clerks',\n",
       "       'Government administrators (including career executive service officers)',\n",
       "       'Plumbers, pipe fitters and other related workers',\n",
       "       'Mechanical engineering technicians', 'Street ambulant vendors',\n",
       "       'Production supervisors and general foremen', 'Food preservers',\n",
       "       'Basketry weavers, brush makers and related workers',\n",
       "       'Statistical and finance clerks',\n",
       "       'Non-ordained religious associate professionals',\n",
       "       'Wood products machine operators',\n",
       "       'Building and related electricians',\n",
       "       'Production and operations managers in restaurant and hotels',\n",
       "       'Other supervisors, n. e. c.', 'Other orchard farmers',\n",
       "       'Building caretakers',\n",
       "       'Doorkeepers, watchpersons and related workers',\n",
       "       'Waiters, waitresses and bartenders',\n",
       "       \"Ships' deck officers and pilots\", 'Child care workers',\n",
       "       'Mining and quarrying laborers', 'Religious professionals',\n",
       "       'Earth-moving and related plant operators',\n",
       "       'General managers/managing proprietors in agriculture, hunting, forestry and fishing',\n",
       "       'Motorized farm and forestry plant operators',\n",
       "       'Domestic helpers and cleaners',\n",
       "       'Broadcasting and telecommunications equipment operators',\n",
       "       'General secondary education teaching professionals',\n",
       "       'Accounting and bookkeeping clerks',\n",
       "       'Chemical processing plant operators n. e. c.', 'Freight handlers',\n",
       "       'Fishery laborers and helpers', 'Data entry operators',\n",
       "       'Miners and quarry workers', 'Police officers',\n",
       "       'Cabinet/furniture makers and related workers', 'Duck raisers',\n",
       "       'Blacksmiths, hammersmiths, and forging-press workers',\n",
       "       'General managers/managing proprietors in personal care, cleaning and relative services',\n",
       "       'Butchers, fishmongers and related food preparers',\n",
       "       'Cotton and fiber crops farmers', 'Forest tree planters',\n",
       "       'Bet bookmakers and croupiers', 'Transport clerks',\n",
       "       'Enlisted personnel n. e. c.',\n",
       "       'Directors and chief executives of corporations',\n",
       "       'Combat soldiers', 'Concessionaires and loggers',\n",
       "       'Institution-based personal care workers',\n",
       "       'Market and sidewalk stall vendors',\n",
       "       'Minor forest products gatherers',\n",
       "       'Debt collectors and related workers',\n",
       "       'Vocational education teaching professionals',\n",
       "       'Wood processing plant operators', 'Shotfirers and blasters',\n",
       "       'Fruit, vegetable and nut processing machine operators',\n",
       "       'Lifting truck operators',\n",
       "       'Bakers, pastry cooks and confectionery makers',\n",
       "       'Photographic products machine operators',\n",
       "       'Rattan, bamboo and other wicker furniture makers',\n",
       "       'Chicken farmers', 'Mining-plant operators',\n",
       "       'Rubber products machine operators',\n",
       "       'Pawnbrokers and money lenders', 'Sheet-metal workers',\n",
       "       'Fish-farm cultivators (excluding prawns)',\n",
       "       'General managers/managing proprietors in construction',\n",
       "       'Stall and market salespersons',\n",
       "       'Handicraft workers in wood and related materials',\n",
       "       'Weavers, knitters and related workers',\n",
       "       'Traditional medicine practitioners',\n",
       "       'Personnel and industrial relations managers',\n",
       "       'Cement and other mineral products machine operators',\n",
       "       'Firefighters', 'Undertakers and embalmers',\n",
       "       'Hairdressers, barbers, beauticians and related workers',\n",
       "       'Shoe cleaning and other street services elementary occupations',\n",
       "       'Silk-screen, block and textile printers',\n",
       "       'Choreographers and dancers', 'Garbage collectors',\n",
       "       'Ornamental plant growers', 'Cashiers and ticket clerks',\n",
       "       'Varnishers and related painters', 'Accountants and auditors',\n",
       "       'Personal care and related workers, n. e. c.',\n",
       "       'Library and filing clerks', 'Cattle and dairy farmers',\n",
       "       'Structural-metal preparers, erectors and related workers',\n",
       "       'Other livestock farmers',\n",
       "       'Production and operations managers in transport, storage and communications',\n",
       "       'Sales and marketing managers',\n",
       "       'Grain and spice milling machine operators', 'Deep-sea fishermen',\n",
       "       'Mechanical engineers',\n",
       "       'Production and operations managers in manufacturing',\n",
       "       'Agronomists and related scientists',\n",
       "       'Research and development managers',\n",
       "       'Computer equipment operators',\n",
       "       'Other administrative associate professionals', 'Bookkeepers',\n",
       "       'Midwifery associate professionals',\n",
       "       'Other machine operators and assemblers',\n",
       "       'Sewers, Embroiderers and related workers',\n",
       "       'Safety, health and quality inspectors (vehicles, processes and products)',\n",
       "       'Electronic equipment assemblers',\n",
       "       'Textile, leather and related patternmakers and cutters',\n",
       "       'Roofers', 'Other field crop farmers', 'Sugarcane farmers',\n",
       "       'Power production plant operators', 'Other poultry farmers',\n",
       "       'Metal-wheel grinders, polishers and tool sharpeners',\n",
       "       'Other computer professionals', 'Electrical mechanics and fitters',\n",
       "       'Metal finishing, plating and coating machine operators',\n",
       "       'Professional nurses',\n",
       "       'Professional, technical and related officers',\n",
       "       'Charcoal makers and related workers',\n",
       "       'Athletes and related workers',\n",
       "       'Decorators and commercial designers',\n",
       "       'Automated assembly-line operators',\n",
       "       'Labor contractors and employment agents',\n",
       "       'Sugar production machine operators', 'Veterinary assistants',\n",
       "       'Glass makers, cutters, grinders and finishers',\n",
       "       'Production and operations managers in personal care, cleaning and relative services',\n",
       "       'Tool-makers and related workers',\n",
       "       'Transport and communications service supervisors n. e. c.',\n",
       "       'Other specialized managers', 'Riggers and cable splicers',\n",
       "       'Production and operations managers in wholesale and retail trade',\n",
       "       'Field legumes farmers', 'Staff officers', 'Estate agents',\n",
       "       'Technical and commercial sales representatives',\n",
       "       'Computer programmers', 'Receptionists and information clerks',\n",
       "       'Pharmacists', 'Housekeepers and related workers',\n",
       "       'Appraisers and valuers', 'Government tax and excise officials',\n",
       "       'Administrative secretaries and related associate professionals',\n",
       "       'Bus drivers', 'Teaching associate professionals', 'Architects',\n",
       "       'Finance and administration managers', 'Commanding officers',\n",
       "       'Nutritionists-dietitians', 'Professional midwives',\n",
       "       'Street, nightclub and related musicians, singers and dancers',\n",
       "       'Electrical Engineers',\n",
       "       'Mining and metallurgical engineering technicians', 'Draftsmen',\n",
       "       'Computer engineers and related professionals',\n",
       "       'Other life science technicians', 'Dairy products makers',\n",
       "       'Legal and related business associate professionals',\n",
       "       'Mail carriers and sorting clerks',\n",
       "       'Well drillers and borers and related workers',\n",
       "       'Other business professionals',\n",
       "       'Production and operations managers in construction',\n",
       "       'Farm technicians', 'Economists',\n",
       "       'Building frame and related trades workers n. e. c.', 'Chemists',\n",
       "       'Insurance representatives', 'Civil engineering technicians',\n",
       "       'Word processor and related operators', 'Production clerks',\n",
       "       'Meat and fish processing machine operators',\n",
       "       'Other personal services workers, n. e. c.',\n",
       "       'Crane, hoist and related plant operators',\n",
       "       'Composers, musicians and singers',\n",
       "       'Photographers and image and sound recording equipment operators',\n",
       "       'Hand or pedal vehicle drivers', 'Statisticians',\n",
       "       'Customs and immigration inspectors',\n",
       "       'Electronics and communications engineers',\n",
       "       'Fashion and other models',\n",
       "       'Metal melters, caster and rolling mill operators',\n",
       "       'Weaving and knitting machine operators',\n",
       "       'Personnel and human resource development professionals',\n",
       "       'Mechanical machinery assemblers',\n",
       "       'Workers reporting occupations unidentifiable or inadequately defined',\n",
       "       'Sales supervisors in retail trade', 'Metal drawers and extruders',\n",
       "       'Floor layers and tile setters', 'Systems analysts and designers',\n",
       "       'Government licensing officials',\n",
       "       'Librarians, archivists and curators',\n",
       "       'Incinerator, water treatment and related plant operators',\n",
       "       'Town planners and related professionals',\n",
       "       'Home-based personal care workers',\n",
       "       'Education methods specialists',\n",
       "       'Sculptors, painters and related artists', 'Buyers',\n",
       "       'Other health associate professionals (except nursing)',\n",
       "       'Precision instrument makers and repairers', 'Medical assistants',\n",
       "       'Medical doctors', 'Compositors, typesetters and related workers',\n",
       "       'Faith healers', 'Travel consultants and organizers',\n",
       "       'Air transport service supervisors', 'Companions and valets',\n",
       "       'Senior officials of humanitarian and other special-interest organizations',\n",
       "       'Electrical equipment assemblers',\n",
       "       'Metal, rubber and plastic products assemblers',\n",
       "       'Electronics and communications engineering technicians',\n",
       "       'Industrial engineers',\n",
       "       'Baked goods and cereal and chocolate products machine operators',\n",
       "       'Metal molders and coremakers', 'Lawyers', 'Dentists',\n",
       "       'Marine craft mechanics',\n",
       "       'Pre-elementary education teaching professionals',\n",
       "       'Bookbinders and related workers',\n",
       "       'Jewelry and precious metal workers', 'Travel guides',\n",
       "       'Social work professionals',\n",
       "       'Musical instrument makers and tuners',\n",
       "       'Machine-tool setters and setter operators',\n",
       "       'Stenographers and typists',\n",
       "       'Stone splitters, cutters and carvers',\n",
       "       'Ship and aircraft controllers and technicians',\n",
       "       'Photographic and related workers', 'Computer assistants',\n",
       "       'Aircraft engine mechanics and fitters',\n",
       "       'Production and operations managers in business services',\n",
       "       'Woodworking machine setters and setter-operators',\n",
       "       'Food and beverage tasters and graders',\n",
       "       'Technical and vocational instructors/trainors', 'Trade brokers',\n",
       "       'Radio, television and other announcers',\n",
       "       'Air traffic safety technicians', 'Other plant growers',\n",
       "       'Pressman letterpresses and related workers',\n",
       "       'Other health professionals (except nursing)',\n",
       "       'Mineral ore and stone-processing plant operators',\n",
       "       'Shoemakers and related workers',\n",
       "       'Agricultural or industrial machinery mechanics and fitters',\n",
       "       'Nonformal education teaching professionals other than technical and vocational trainors/instructors',\n",
       "       'Seaweeds cultivators', 'Upholsterers and related workers',\n",
       "       'Sales supervisors in wholesale trade', 'Insulation workers',\n",
       "       'Machine tool operators', 'Authors, journalists and other writers',\n",
       "       'Technician, skilled, semi-skilled workers',\n",
       "       'Tobacco preparers and tobacco products makers',\n",
       "       'Other physical science and engineering technicians',\n",
       "       'Other sales supervisors',\n",
       "       'Brewers and wine and other beverage machine operators',\n",
       "       'Supply and distribution managers', 'Papermaking plant operators',\n",
       "       'Pharmaceutical and toiletry products machine operators',\n",
       "       'Paperboard, textile and related products assemblers',\n",
       "       'Building and fire inspectors',\n",
       "       'Telecommunication equipment installers and repairers',\n",
       "       'Plastic products machine operators', 'Industrial robot operators',\n",
       "       'Chemical engineers', 'Dairy products machine operators',\n",
       "       'Fishermen n. e. c.',\n",
       "       'Science and mathematics teaching professionals',\n",
       "       'Dental assistants',\n",
       "       'Drivers of animal-drawn vehicles and machinery',\n",
       "       'Postal service supervisors',\n",
       "       'Science and mathematics elementary education teaching professionals',\n",
       "       'Hunting and trapping laborers',\n",
       "       'Other government associate professionals',\n",
       "       'Coding, proof-reading and related clerks',\n",
       "       'Geodetic engineers and related professionals',\n",
       "       'Business machines mechanics and repairers',\n",
       "       'Bleaching, dyeing and cleaning machine operators',\n",
       "       'Other finance and sales associate professionals',\n",
       "       'Life science technicians', 'Telephone switchboard operators',\n",
       "       'Other animal raisers', 'Pharmaceutical assistants',\n",
       "       'Petroleum and natural gas refining plant operators',\n",
       "       'Builders (traditional materials)',\n",
       "       'Maritime transport service supervisors',\n",
       "       'Service and related workers', 'Medical equipment operators',\n",
       "       'Electronics fitters',\n",
       "       'Fiber preparing, spinning and winding machine operators',\n",
       "       'Hunters and trappers',\n",
       "       'Other business services and trade brokers',\n",
       "       'Shoemaking and related machine operators',\n",
       "       'Other aqua products cultivators',\n",
       "       'Government social benefits officials',\n",
       "       'Potters and related clay and abrasive formers',\n",
       "       'Other creative or performing artists',\n",
       "       'Other teaching professionals', 'Tree nut farmers',\n",
       "       'Fiber preparers', 'Officers, n. e. c.',\n",
       "       'Nursing associate professionals',\n",
       "       'Vehicle, window and related cleaners',\n",
       "       'Other engineers and related professionals', 'Physiotherapists',\n",
       "       'Tanners', 'Glass and ceramics kiln and related machine operators',\n",
       "       'Textile and leather products machine operators n. e. c.',\n",
       "       'Optometrists and opticians', 'Locomotive engine drivers',\n",
       "       'Chemical products machine operators n. e. c.', 'Wood treaters',\n",
       "       'Electrical engineering technicians',\n",
       "       'Advertising and public relations managers',\n",
       "       'Paper pulp plant operators', 'Veterinarians',\n",
       "       'Sewing machine operators',\n",
       "       'Aircraft pilots, navigators and flight engineers',\n",
       "       'Glass, ceramics and related plant operators n. e. c.'],\n",
       "      dtype=object)"
      ]
     },
     "execution_count": 72,
     "metadata": {},
     "output_type": "execute_result"
    }
   ],
   "source": [
    "income_df['Household Head Occupation'].unique()"
   ]
  },
  {
   "cell_type": "code",
   "execution_count": 73,
   "id": "7cc3c972",
   "metadata": {},
   "outputs": [],
   "source": [
    "income_df['Household Head Occupation'] = income_df['Household Head Occupation'].replace(np.nan, 'Other')"
   ]
  },
  {
   "cell_type": "markdown",
   "id": "db8ef8b3",
   "metadata": {},
   "source": [
    "### `Household Head Class of Worker` variable"
   ]
  },
  {
   "cell_type": "code",
   "execution_count": 74,
   "id": "efc4a55d",
   "metadata": {},
   "outputs": [
    {
     "data": {
      "text/plain": [
       "Self-employed wihout any employee                             13766\n",
       "Worked for private establishment                              13731\n",
       "Worked for government/government corporation                   2820\n",
       "Employer in own family-operated farm or business               2581\n",
       "Worked for private household                                    811\n",
       "Worked without pay in own family-operated farm or business      285\n",
       "Worked with pay in own family-operated farm or business          14\n",
       "Name: Household Head Class of Worker, dtype: int64"
      ]
     },
     "execution_count": 74,
     "metadata": {},
     "output_type": "execute_result"
    }
   ],
   "source": [
    "income_df['Household Head Class of Worker'].value_counts()"
   ]
  },
  {
   "cell_type": "code",
   "execution_count": 75,
   "id": "3a216df8",
   "metadata": {},
   "outputs": [],
   "source": [
    "income_df['Household Head Class of Worker'] = income_df['Household Head Class of Worker'].replace(np.nan, 'Other')"
   ]
  },
  {
   "cell_type": "code",
   "execution_count": 76,
   "id": "f0a043d4",
   "metadata": {},
   "outputs": [
    {
     "data": {
      "text/plain": [
       "Total Household Income                           0\n",
       "Region                                           0\n",
       "Total Food Expenditure                           0\n",
       "Main Source of Income                            0\n",
       "Agricultural Household indicator                 0\n",
       "Bread and Cereals Expenditure                    0\n",
       "Total Rice Expenditure                           0\n",
       "Meat Expenditure                                 0\n",
       "Total Fish and  marine products Expenditure      0\n",
       "Fruit Expenditure                                0\n",
       "Vegetables Expenditure                           0\n",
       "Restaurant and hotels Expenditure                0\n",
       "Alcoholic Beverages Expenditure                  0\n",
       "Tobacco Expenditure                              0\n",
       "Clothing, Footwear and Other Wear Expenditure    0\n",
       "Housing and water Expenditure                    0\n",
       "Imputed House Rental Value                       0\n",
       "Medical Care Expenditure                         0\n",
       "Transportation Expenditure                       0\n",
       "Communication Expenditure                        0\n",
       "Education Expenditure                            0\n",
       "Miscellaneous Goods and Services Expenditure     0\n",
       "Special Occasions Expenditure                    0\n",
       "Crop Farming and Gardening expenses              0\n",
       "Total Income from Entrepreneurial Acitivites     0\n",
       "Household Head Sex                               0\n",
       "Household Head Age                               0\n",
       "Household Head Marital Status                    0\n",
       "Household Head Highest Grade Completed           0\n",
       "Household Head Job or Business Indicator         0\n",
       "Household Head Occupation                        0\n",
       "Household Head Class of Worker                   0\n",
       "Type of Household                                0\n",
       "Total Number of Family members                   0\n",
       "Members with age less than 5 year old            0\n",
       "Members with age 5 - 17 years old                0\n",
       "Total number of family members employed          0\n",
       "Type of Building/House                           0\n",
       "Type of Roof                                     0\n",
       "Type of Walls                                    0\n",
       "House Floor Area                                 0\n",
       "House Age                                        0\n",
       "Number of bedrooms                               0\n",
       "Tenure Status                                    0\n",
       "Toilet Facilities                                0\n",
       "Electricity                                      0\n",
       "Main Source of Water Supply                      0\n",
       "Number of Television                             0\n",
       "Number of CD/VCD/DVD                             0\n",
       "Number of Component/Stereo set                   0\n",
       "Number of Refrigerator/Freezer                   0\n",
       "Number of Washing Machine                        0\n",
       "Number of Airconditioner                         0\n",
       "Number of Car, Jeep, Van                         0\n",
       "Number of Landline/wireless telephones           0\n",
       "Number of Cellular phone                         0\n",
       "Number of Personal Computer                      0\n",
       "Number of Stove with Oven/Gas Range              0\n",
       "Number of Motorized Banca                        0\n",
       "Number of Motorcycle/Tricycle                    0\n",
       "dtype: int64"
      ]
     },
     "execution_count": 76,
     "metadata": {},
     "output_type": "execute_result"
    }
   ],
   "source": [
    "income_df.isna().sum()"
   ]
  },
  {
   "cell_type": "markdown",
   "id": "71e98b13",
   "metadata": {},
   "source": [
    "After performing another null checking, we can see there are no more null values found in all variables."
   ]
  },
  {
   "cell_type": "markdown",
   "id": "9847830b",
   "metadata": {},
   "source": [
    "### Checking for Wrong Encodings, Duplicates, and Inconsistencies\n",
    "Since all the null values are taken care of, we will now check the representations of the values in each categorical variable."
   ]
  },
  {
   "cell_type": "markdown",
   "id": "edc3e49e",
   "metadata": {},
   "source": [
    "### `Region` variable"
   ]
  },
  {
   "cell_type": "code",
   "execution_count": 77,
   "id": "5135c156",
   "metadata": {},
   "outputs": [
    {
     "data": {
      "text/plain": [
       "IVA - CALABARZON             4162\n",
       "NCR                          4130\n",
       "III - Central Luzon          3237\n",
       "VI - Western Visayas         2851\n",
       "VII - Central Visayas        2541\n",
       "V - Bicol Region             2472\n",
       "XI - Davao Region            2446\n",
       "I - Ilocos Region            2348\n",
       "VIII - Eastern Visayas       2337\n",
       " ARMM                        2248\n",
       "II - Cagayan Valley          2219\n",
       "XII - SOCCSKSARGEN           2122\n",
       "X - Northern Mindanao        1887\n",
       "IX - Zasmboanga Peninsula    1788\n",
       "Caraga                       1782\n",
       "CAR                          1725\n",
       "IVB - MIMAROPA               1249\n",
       "Name: Region, dtype: int64"
      ]
     },
     "execution_count": 77,
     "metadata": {},
     "output_type": "execute_result"
    }
   ],
   "source": [
    "income_df['Region'].value_counts()"
   ]
  },
  {
   "cell_type": "markdown",
   "id": "286705cb",
   "metadata": {},
   "source": [
    "After checking the `Region` variable, we can see that there are misrepresentations of whitespacing, wrong spelling, and inconsistency in the values such as ` ARMM`, `IX - Zasmboanga Peninsula`, and, `Caraga`, respectively, which are found to be dirty. We will replace these values with the appropriate representations.  "
   ]
  },
  {
   "cell_type": "code",
   "execution_count": 78,
   "id": "22dc79bd",
   "metadata": {},
   "outputs": [],
   "source": [
    "income_df['Region'] = income_df['Region'].replace(' ARMM', 'ARMM')\n",
    "income_df['Region'] = income_df['Region'].replace('IX - Zasmboanga Peninsula', 'IX - Zamboanga Peninsula')\n",
    "income_df['Region'] = income_df['Region'].replace('Caraga', 'XIII - Caraga')"
   ]
  },
  {
   "cell_type": "code",
   "execution_count": 79,
   "id": "785d2b57",
   "metadata": {},
   "outputs": [
    {
     "data": {
      "text/plain": [
       "IVA - CALABARZON            4162\n",
       "NCR                         4130\n",
       "III - Central Luzon         3237\n",
       "VI - Western Visayas        2851\n",
       "VII - Central Visayas       2541\n",
       "V - Bicol Region            2472\n",
       "XI - Davao Region           2446\n",
       "I - Ilocos Region           2348\n",
       "VIII - Eastern Visayas      2337\n",
       "ARMM                        2248\n",
       "II - Cagayan Valley         2219\n",
       "XII - SOCCSKSARGEN          2122\n",
       "X - Northern Mindanao       1887\n",
       "IX - Zamboanga Peninsula    1788\n",
       "XIII - Caraga               1782\n",
       "CAR                         1725\n",
       "IVB - MIMAROPA              1249\n",
       "Name: Region, dtype: int64"
      ]
     },
     "execution_count": 79,
     "metadata": {},
     "output_type": "execute_result"
    }
   ],
   "source": [
    "income_df['Region'].value_counts()"
   ]
  },
  {
   "cell_type": "markdown",
   "id": "1fac18d3",
   "metadata": {},
   "source": [
    "### `Main Source of Income` variable"
   ]
  },
  {
   "cell_type": "code",
   "execution_count": 80,
   "id": "bed6d38c",
   "metadata": {},
   "outputs": [
    {
     "data": {
      "text/plain": [
       "Wage/Salaries                 20388\n",
       "Other sources of Income       10836\n",
       "Enterpreneurial Activities    10320\n",
       "Name: Main Source of Income, dtype: int64"
      ]
     },
     "execution_count": 80,
     "metadata": {},
     "output_type": "execute_result"
    }
   ],
   "source": [
    "income_df['Main Source of Income'].value_counts()"
   ]
  },
  {
   "cell_type": "markdown",
   "id": "11621453",
   "metadata": {},
   "source": [
    "There seems to be no misrepresentations in `Main Source of Income variable` upon checking."
   ]
  },
  {
   "cell_type": "markdown",
   "id": "54d6461b",
   "metadata": {},
   "source": [
    "### `Agricultural Household indicator` variable"
   ]
  },
  {
   "cell_type": "code",
   "execution_count": 81,
   "id": "6d76a26f",
   "metadata": {},
   "outputs": [
    {
     "data": {
      "text/plain": [
       "0    28106\n",
       "1     9018\n",
       "2     4420\n",
       "Name: Agricultural Household indicator, dtype: int64"
      ]
     },
     "execution_count": 81,
     "metadata": {},
     "output_type": "execute_result"
    }
   ],
   "source": [
    "income_df['Agricultural Household indicator'].value_counts()"
   ]
  },
  {
   "cell_type": "markdown",
   "id": "e0dbce4d",
   "metadata": {},
   "source": [
    "There seems to be no misrepresentations in `Agricultural Household indicator` upon checking."
   ]
  },
  {
   "cell_type": "markdown",
   "id": "a22d422a",
   "metadata": {},
   "source": [
    "### `Household Head Sex` variable"
   ]
  },
  {
   "cell_type": "code",
   "execution_count": 82,
   "id": "428c690c",
   "metadata": {},
   "outputs": [
    {
     "data": {
      "text/plain": [
       "Male      32483\n",
       "Female     9061\n",
       "Name: Household Head Sex, dtype: int64"
      ]
     },
     "execution_count": 82,
     "metadata": {},
     "output_type": "execute_result"
    }
   ],
   "source": [
    "income_df['Household Head Sex'].value_counts()"
   ]
  },
  {
   "cell_type": "markdown",
   "id": "b5803e76",
   "metadata": {},
   "source": [
    "There seems to be no misrepresentations in `Household Head Sex variable` variable upon checking."
   ]
  },
  {
   "cell_type": "markdown",
   "id": "42cec0c4",
   "metadata": {},
   "source": [
    "### `Household Head Marital Status` variable"
   ]
  },
  {
   "cell_type": "code",
   "execution_count": 83,
   "id": "1840af87",
   "metadata": {},
   "outputs": [
    {
     "data": {
      "text/plain": [
       "Married               31347\n",
       "Widowed                6818\n",
       "Single                 1942\n",
       "Divorced/Separated     1425\n",
       "Annulled                 11\n",
       "Unknown                   1\n",
       "Name: Household Head Marital Status, dtype: int64"
      ]
     },
     "execution_count": 83,
     "metadata": {},
     "output_type": "execute_result"
    }
   ],
   "source": [
    "income_df['Household Head Marital Status'].value_counts()"
   ]
  },
  {
   "cell_type": "markdown",
   "id": "2bc94941",
   "metadata": {},
   "source": [
    "We can see that there is a value `Unknown` as the very least observation compared to other values upon checking so we decided to drop its entire row from the dataset by replacing it with a null value then calling the `dropna` function. "
   ]
  },
  {
   "cell_type": "code",
   "execution_count": 84,
   "id": "c98eae55",
   "metadata": {},
   "outputs": [],
   "source": [
    "income_df['Household Head Marital Status'] = income_df['Household Head Marital Status'].replace('Unknown', np.nan) "
   ]
  },
  {
   "cell_type": "code",
   "execution_count": 85,
   "id": "8bb2e9d2",
   "metadata": {},
   "outputs": [],
   "source": [
    "income_df = income_df.dropna()"
   ]
  },
  {
   "cell_type": "markdown",
   "id": "bab77d77",
   "metadata": {},
   "source": [
    "### `Household Head Highest Grade Completed` variable"
   ]
  },
  {
   "cell_type": "code",
   "execution_count": 86,
   "id": "90282d5f",
   "metadata": {},
   "outputs": [
    {
     "data": {
      "text/plain": [
       "High School Graduate                                                                                                                                                                                                   9627\n",
       "Elementary Graduate                                                                                                                                                                                                    7640\n",
       "Grade 4                                                                                                                                                                                                                2282\n",
       "Grade 5                                                                                                                                                                                                                2123\n",
       "Second Year High School                                                                                                                                                                                                2104\n",
       "Grade 3                                                                                                                                                                                                                1994\n",
       "Third Year High School                                                                                                                                                                                                 1545\n",
       "Business and Administration Programs                                                                                                                                                                                   1344\n",
       "Second Year College                                                                                                                                                                                                    1343\n",
       "Grade 2                                                                                                                                                                                                                1311\n",
       "First Year High School                                                                                                                                                                                                 1247\n",
       "No Grade Completed                                                                                                                                                                                                     1228\n",
       "Third Year College                                                                                                                                                                                                      924\n",
       "Teacher Training and Education Sciences Programs                                                                                                                                                                        922\n",
       "First Year College                                                                                                                                                                                                      907\n",
       "Grade 1                                                                                                                                                                                                                 874\n",
       "Engineering and Engineering Trades Programs                                                                                                                                                                             777\n",
       "Engineering and Engineering trades Programs                                                                                                                                                                             522\n",
       "Health Programs                                                                                                                                                                                                         339\n",
       "Computing/Information Technology Programs                                                                                                                                                                               293\n",
       "Security Services Programs                                                                                                                                                                                              252\n",
       "Post Baccalaureate                                                                                                                                                                                                      247\n",
       "Grade 6                                                                                                                                                                                                                 237\n",
       "Agriculture, Forestry, and Fishery Programs                                                                                                                                                                             230\n",
       "Transport Services Programs                                                                                                                                                                                             225\n",
       "Second Year Post Secondary                                                                                                                                                                                              140\n",
       "Social and Behavioral Science Programs                                                                                                                                                                                  132\n",
       "Fourth Year College                                                                                                                                                                                                     124\n",
       "First Year Post Secondary                                                                                                                                                                                               115\n",
       "Personal Services Programs                                                                                                                                                                                               89\n",
       "Humanities Programs                                                                                                                                                                                                      75\n",
       "Other Programs in Education at the Third Level, First Stage, of the Type that Leads to an Award not Equivalent to a First University or Baccalaureate Degree                                                             66\n",
       "Law Programs                                                                                                                                                                                                             39\n",
       "Basic Programs                                                                                                                                                                                                           33\n",
       "Architecture and Building Programs                                                                                                                                                                                       33\n",
       "Journalism and Information Programs                                                                                                                                                                                      31\n",
       "Arts Programs                                                                                                                                                                                                            23\n",
       "Life Sciences Programs                                                                                                                                                                                                   19\n",
       "Manufacturing and Processing Programs                                                                                                                                                                                    15\n",
       "Preschool                                                                                                                                                                                                                15\n",
       "Mathematics and Statistics Programs                                                                                                                                                                                      11\n",
       "Social Services Programs                                                                                                                                                                                                 11\n",
       "Other Programs of Education at the Third Level, First Stage, of the Type that Leads to a Baccalaureate or First University/Professional Degree (HIgher Education Level, First Stage, or Collegiate Education Level)       9\n",
       "Physical Sciences Programs                                                                                                                                                                                                9\n",
       "Veterinary Programs                                                                                                                                                                                                       9\n",
       "Environmental Protection Programs                                                                                                                                                                                         8\n",
       "Name: Household Head Highest Grade Completed, dtype: int64"
      ]
     },
     "execution_count": 86,
     "metadata": {},
     "output_type": "execute_result"
    }
   ],
   "source": [
    "income_df['Household Head Highest Grade Completed'].value_counts()"
   ]
  },
  {
   "cell_type": "markdown",
   "id": "b5519540",
   "metadata": {},
   "source": [
    "We can see that there is a dirty duplicate value with letter casing issue surrounding the word `trades` between `Engineering and Engineering Trades Programs` and `Engineering and Engineering trades Programs` upon checking, so we decided to filter it by replacing the one with the lower case letter 't' with upper case 'T'."
   ]
  },
  {
   "cell_type": "code",
   "execution_count": 87,
   "id": "8c939c01",
   "metadata": {},
   "outputs": [],
   "source": [
    "income_df['Household Head Highest Grade Completed'] = income_df['Household Head Highest Grade Completed'].replace('Engineering and Engineering trades Programs', 'Engineering and Engineering Trades Programs')"
   ]
  },
  {
   "cell_type": "code",
   "execution_count": 88,
   "id": "ac5572d1",
   "metadata": {},
   "outputs": [
    {
     "data": {
      "text/plain": [
       "High School Graduate                                                                                                                                                                                                   9627\n",
       "Elementary Graduate                                                                                                                                                                                                    7640\n",
       "Grade 4                                                                                                                                                                                                                2282\n",
       "Grade 5                                                                                                                                                                                                                2123\n",
       "Second Year High School                                                                                                                                                                                                2104\n",
       "Grade 3                                                                                                                                                                                                                1994\n",
       "Third Year High School                                                                                                                                                                                                 1545\n",
       "Business and Administration Programs                                                                                                                                                                                   1344\n",
       "Second Year College                                                                                                                                                                                                    1343\n",
       "Grade 2                                                                                                                                                                                                                1311\n",
       "Engineering and Engineering Trades Programs                                                                                                                                                                            1299\n",
       "First Year High School                                                                                                                                                                                                 1247\n",
       "No Grade Completed                                                                                                                                                                                                     1228\n",
       "Third Year College                                                                                                                                                                                                      924\n",
       "Teacher Training and Education Sciences Programs                                                                                                                                                                        922\n",
       "First Year College                                                                                                                                                                                                      907\n",
       "Grade 1                                                                                                                                                                                                                 874\n",
       "Health Programs                                                                                                                                                                                                         339\n",
       "Computing/Information Technology Programs                                                                                                                                                                               293\n",
       "Security Services Programs                                                                                                                                                                                              252\n",
       "Post Baccalaureate                                                                                                                                                                                                      247\n",
       "Grade 6                                                                                                                                                                                                                 237\n",
       "Agriculture, Forestry, and Fishery Programs                                                                                                                                                                             230\n",
       "Transport Services Programs                                                                                                                                                                                             225\n",
       "Second Year Post Secondary                                                                                                                                                                                              140\n",
       "Social and Behavioral Science Programs                                                                                                                                                                                  132\n",
       "Fourth Year College                                                                                                                                                                                                     124\n",
       "First Year Post Secondary                                                                                                                                                                                               115\n",
       "Personal Services Programs                                                                                                                                                                                               89\n",
       "Humanities Programs                                                                                                                                                                                                      75\n",
       "Other Programs in Education at the Third Level, First Stage, of the Type that Leads to an Award not Equivalent to a First University or Baccalaureate Degree                                                             66\n",
       "Law Programs                                                                                                                                                                                                             39\n",
       "Basic Programs                                                                                                                                                                                                           33\n",
       "Architecture and Building Programs                                                                                                                                                                                       33\n",
       "Journalism and Information Programs                                                                                                                                                                                      31\n",
       "Arts Programs                                                                                                                                                                                                            23\n",
       "Life Sciences Programs                                                                                                                                                                                                   19\n",
       "Manufacturing and Processing Programs                                                                                                                                                                                    15\n",
       "Preschool                                                                                                                                                                                                                15\n",
       "Mathematics and Statistics Programs                                                                                                                                                                                      11\n",
       "Social Services Programs                                                                                                                                                                                                 11\n",
       "Other Programs of Education at the Third Level, First Stage, of the Type that Leads to a Baccalaureate or First University/Professional Degree (HIgher Education Level, First Stage, or Collegiate Education Level)       9\n",
       "Physical Sciences Programs                                                                                                                                                                                                9\n",
       "Veterinary Programs                                                                                                                                                                                                       9\n",
       "Environmental Protection Programs                                                                                                                                                                                         8\n",
       "Name: Household Head Highest Grade Completed, dtype: int64"
      ]
     },
     "execution_count": 88,
     "metadata": {},
     "output_type": "execute_result"
    }
   ],
   "source": [
    "income_df['Household Head Highest Grade Completed'].value_counts()"
   ]
  },
  {
   "cell_type": "markdown",
   "id": "c16c2241",
   "metadata": {},
   "source": [
    "### `Household Head Job or Business Indicator`"
   ]
  },
  {
   "cell_type": "code",
   "execution_count": 89,
   "id": "e0e2f895",
   "metadata": {},
   "outputs": [
    {
     "data": {
      "text/plain": [
       "With Job/Business    34007\n",
       "No Job/Business       7536\n",
       "Name: Household Head Job or Business Indicator, dtype: int64"
      ]
     },
     "execution_count": 89,
     "metadata": {},
     "output_type": "execute_result"
    }
   ],
   "source": [
    "income_df['Household Head Job or Business Indicator'].value_counts()"
   ]
  },
  {
   "cell_type": "markdown",
   "id": "6d2bae5c",
   "metadata": {},
   "source": [
    "There seems to be no misrepresentations in `Household Head Job or Business Indicator` variable upon checking."
   ]
  },
  {
   "cell_type": "markdown",
   "id": "2abc66f7",
   "metadata": {},
   "source": [
    "### `Household Head Occupation` variable"
   ]
  },
  {
   "cell_type": "code",
   "execution_count": 90,
   "id": "a01eb9ef",
   "metadata": {},
   "outputs": [
    {
     "data": {
      "text/plain": [
       "array(['General elementary education teaching professionals',\n",
       "       'Transport conductors', 'Farmhands and laborers', 'Rice farmers',\n",
       "       'General managers/managing proprietors in transportation, storage and communications',\n",
       "       'Heavy truck and lorry drivers', 'Other', 'Hog raising farmers',\n",
       "       'Vegetable farmers',\n",
       "       'General managers/managing proprietors in wholesale and retail trade',\n",
       "       'Stocks clerks', 'Justices', 'Other social science professionals',\n",
       "       'Protective services workers n. e. c.', 'Secretaries',\n",
       "       'Electronics mechanics and servicers',\n",
       "       'Foresters and related scientists',\n",
       "       'Shop salespersons and demonstrators',\n",
       "       'College, university and higher education teaching professionals',\n",
       "       'General managers/managing proprietors of restaurants and hotels',\n",
       "       'Welders and flamecutters', 'Car, taxi and van drivers',\n",
       "       'Motor vehicle mechanics and related trades workers',\n",
       "       'Traditional chiefs and heads of villages', 'Motorcycle drivers',\n",
       "       'Statistical, mathematical and related associate professionals',\n",
       "       'Lineman, line installers and cable splicers',\n",
       "       'Carpenters and joiners', 'Building construction laborers',\n",
       "       'General managers/managing proprietors in manufacturing',\n",
       "       'Masons and related concrete finishers', 'Legislative officials',\n",
       "       'Inland and coastal waters fishermen',\n",
       "       'Painters and related workers',\n",
       "       'Construction and maintenance laborers: roads, dams and similar constructions',\n",
       "       'Helpers and cleaners in offices, hotels and other establishments',\n",
       "       'General managers/managing proprietors n. e. c.',\n",
       "       'Messengers, package and luggage porters and deliverers',\n",
       "       'Social work associate professionals',\n",
       "       'Hand packers and other manufacturing laborers',\n",
       "       'Door-to-door and telephone salespersons',\n",
       "       'Hand launderers and pressers', 'Sweepers and related laborers',\n",
       "       'Medical technologists',\n",
       "       'Production and operations managers in agriculture, hunting, forestry and fishery',\n",
       "       'Corn farmers', 'Cooks', 'School supervisors and principals',\n",
       "       'Tailors, dressmakers and hatters',\n",
       "       'Wood and related products assemblers',\n",
       "       'Police inspectors and detectives', 'Coconut farmers',\n",
       "       'Root crops farmers', 'Fruit tree farmers',\n",
       "       'Coffee and cacao farmers', 'Forestry laborers',\n",
       "       'Other office clerks',\n",
       "       'General managers/managing proprietors of business services',\n",
       "       'School principals', 'Civil engineers', 'Prison guards',\n",
       "       \"Ship's deck crews and related workers\", 'Assembling laborers',\n",
       "       'Tellers and other counter clerks',\n",
       "       'Government administrators (including career executive service officers)',\n",
       "       'Plumbers, pipe fitters and other related workers',\n",
       "       'Mechanical engineering technicians', 'Street ambulant vendors',\n",
       "       'Production supervisors and general foremen', 'Food preservers',\n",
       "       'Basketry weavers, brush makers and related workers',\n",
       "       'Statistical and finance clerks',\n",
       "       'Non-ordained religious associate professionals',\n",
       "       'Wood products machine operators',\n",
       "       'Building and related electricians',\n",
       "       'Production and operations managers in restaurant and hotels',\n",
       "       'Other supervisors, n. e. c.', 'Other orchard farmers',\n",
       "       'Building caretakers',\n",
       "       'Doorkeepers, watchpersons and related workers',\n",
       "       'Waiters, waitresses and bartenders',\n",
       "       \"Ships' deck officers and pilots\", 'Child care workers',\n",
       "       'Mining and quarrying laborers', 'Religious professionals',\n",
       "       'Earth-moving and related plant operators',\n",
       "       'General managers/managing proprietors in agriculture, hunting, forestry and fishing',\n",
       "       'Motorized farm and forestry plant operators',\n",
       "       'Domestic helpers and cleaners',\n",
       "       'Broadcasting and telecommunications equipment operators',\n",
       "       'General secondary education teaching professionals',\n",
       "       'Accounting and bookkeeping clerks',\n",
       "       'Chemical processing plant operators n. e. c.', 'Freight handlers',\n",
       "       'Fishery laborers and helpers', 'Data entry operators',\n",
       "       'Miners and quarry workers', 'Police officers',\n",
       "       'Cabinet/furniture makers and related workers', 'Duck raisers',\n",
       "       'Blacksmiths, hammersmiths, and forging-press workers',\n",
       "       'General managers/managing proprietors in personal care, cleaning and relative services',\n",
       "       'Butchers, fishmongers and related food preparers',\n",
       "       'Cotton and fiber crops farmers', 'Forest tree planters',\n",
       "       'Bet bookmakers and croupiers', 'Transport clerks',\n",
       "       'Enlisted personnel n. e. c.',\n",
       "       'Directors and chief executives of corporations',\n",
       "       'Combat soldiers', 'Concessionaires and loggers',\n",
       "       'Institution-based personal care workers',\n",
       "       'Market and sidewalk stall vendors',\n",
       "       'Minor forest products gatherers',\n",
       "       'Debt collectors and related workers',\n",
       "       'Vocational education teaching professionals',\n",
       "       'Wood processing plant operators', 'Shotfirers and blasters',\n",
       "       'Fruit, vegetable and nut processing machine operators',\n",
       "       'Lifting truck operators',\n",
       "       'Bakers, pastry cooks and confectionery makers',\n",
       "       'Photographic products machine operators',\n",
       "       'Rattan, bamboo and other wicker furniture makers',\n",
       "       'Chicken farmers', 'Mining-plant operators',\n",
       "       'Rubber products machine operators',\n",
       "       'Pawnbrokers and money lenders', 'Sheet-metal workers',\n",
       "       'Fish-farm cultivators (excluding prawns)',\n",
       "       'General managers/managing proprietors in construction',\n",
       "       'Stall and market salespersons',\n",
       "       'Handicraft workers in wood and related materials',\n",
       "       'Weavers, knitters and related workers',\n",
       "       'Traditional medicine practitioners',\n",
       "       'Personnel and industrial relations managers',\n",
       "       'Cement and other mineral products machine operators',\n",
       "       'Firefighters', 'Undertakers and embalmers',\n",
       "       'Hairdressers, barbers, beauticians and related workers',\n",
       "       'Shoe cleaning and other street services elementary occupations',\n",
       "       'Silk-screen, block and textile printers',\n",
       "       'Choreographers and dancers', 'Garbage collectors',\n",
       "       'Ornamental plant growers', 'Cashiers and ticket clerks',\n",
       "       'Varnishers and related painters', 'Accountants and auditors',\n",
       "       'Personal care and related workers, n. e. c.',\n",
       "       'Library and filing clerks', 'Cattle and dairy farmers',\n",
       "       'Structural-metal preparers, erectors and related workers',\n",
       "       'Other livestock farmers',\n",
       "       'Production and operations managers in transport, storage and communications',\n",
       "       'Sales and marketing managers',\n",
       "       'Grain and spice milling machine operators', 'Deep-sea fishermen',\n",
       "       'Mechanical engineers',\n",
       "       'Production and operations managers in manufacturing',\n",
       "       'Agronomists and related scientists',\n",
       "       'Research and development managers',\n",
       "       'Computer equipment operators',\n",
       "       'Other administrative associate professionals', 'Bookkeepers',\n",
       "       'Midwifery associate professionals',\n",
       "       'Other machine operators and assemblers',\n",
       "       'Sewers, Embroiderers and related workers',\n",
       "       'Safety, health and quality inspectors (vehicles, processes and products)',\n",
       "       'Electronic equipment assemblers',\n",
       "       'Textile, leather and related patternmakers and cutters',\n",
       "       'Roofers', 'Other field crop farmers', 'Sugarcane farmers',\n",
       "       'Power production plant operators', 'Other poultry farmers',\n",
       "       'Metal-wheel grinders, polishers and tool sharpeners',\n",
       "       'Other computer professionals', 'Electrical mechanics and fitters',\n",
       "       'Metal finishing, plating and coating machine operators',\n",
       "       'Professional nurses',\n",
       "       'Professional, technical and related officers',\n",
       "       'Charcoal makers and related workers',\n",
       "       'Athletes and related workers',\n",
       "       'Decorators and commercial designers',\n",
       "       'Automated assembly-line operators',\n",
       "       'Labor contractors and employment agents',\n",
       "       'Sugar production machine operators', 'Veterinary assistants',\n",
       "       'Glass makers, cutters, grinders and finishers',\n",
       "       'Production and operations managers in personal care, cleaning and relative services',\n",
       "       'Tool-makers and related workers',\n",
       "       'Transport and communications service supervisors n. e. c.',\n",
       "       'Other specialized managers', 'Riggers and cable splicers',\n",
       "       'Production and operations managers in wholesale and retail trade',\n",
       "       'Field legumes farmers', 'Staff officers', 'Estate agents',\n",
       "       'Technical and commercial sales representatives',\n",
       "       'Computer programmers', 'Receptionists and information clerks',\n",
       "       'Pharmacists', 'Housekeepers and related workers',\n",
       "       'Appraisers and valuers', 'Government tax and excise officials',\n",
       "       'Administrative secretaries and related associate professionals',\n",
       "       'Bus drivers', 'Teaching associate professionals', 'Architects',\n",
       "       'Finance and administration managers', 'Commanding officers',\n",
       "       'Nutritionists-dietitians', 'Professional midwives',\n",
       "       'Street, nightclub and related musicians, singers and dancers',\n",
       "       'Electrical Engineers',\n",
       "       'Mining and metallurgical engineering technicians', 'Draftsmen',\n",
       "       'Computer engineers and related professionals',\n",
       "       'Other life science technicians', 'Dairy products makers',\n",
       "       'Legal and related business associate professionals',\n",
       "       'Mail carriers and sorting clerks',\n",
       "       'Well drillers and borers and related workers',\n",
       "       'Other business professionals',\n",
       "       'Production and operations managers in construction',\n",
       "       'Farm technicians', 'Economists',\n",
       "       'Building frame and related trades workers n. e. c.', 'Chemists',\n",
       "       'Insurance representatives', 'Civil engineering technicians',\n",
       "       'Word processor and related operators', 'Production clerks',\n",
       "       'Meat and fish processing machine operators',\n",
       "       'Other personal services workers, n. e. c.',\n",
       "       'Crane, hoist and related plant operators',\n",
       "       'Composers, musicians and singers',\n",
       "       'Photographers and image and sound recording equipment operators',\n",
       "       'Hand or pedal vehicle drivers', 'Statisticians',\n",
       "       'Customs and immigration inspectors',\n",
       "       'Electronics and communications engineers',\n",
       "       'Fashion and other models',\n",
       "       'Metal melters, caster and rolling mill operators',\n",
       "       'Weaving and knitting machine operators',\n",
       "       'Personnel and human resource development professionals',\n",
       "       'Mechanical machinery assemblers',\n",
       "       'Workers reporting occupations unidentifiable or inadequately defined',\n",
       "       'Sales supervisors in retail trade', 'Metal drawers and extruders',\n",
       "       'Floor layers and tile setters', 'Systems analysts and designers',\n",
       "       'Government licensing officials',\n",
       "       'Librarians, archivists and curators',\n",
       "       'Incinerator, water treatment and related plant operators',\n",
       "       'Town planners and related professionals',\n",
       "       'Home-based personal care workers',\n",
       "       'Education methods specialists',\n",
       "       'Sculptors, painters and related artists', 'Buyers',\n",
       "       'Other health associate professionals (except nursing)',\n",
       "       'Precision instrument makers and repairers', 'Medical assistants',\n",
       "       'Medical doctors', 'Compositors, typesetters and related workers',\n",
       "       'Faith healers', 'Travel consultants and organizers',\n",
       "       'Air transport service supervisors', 'Companions and valets',\n",
       "       'Senior officials of humanitarian and other special-interest organizations',\n",
       "       'Electrical equipment assemblers',\n",
       "       'Metal, rubber and plastic products assemblers',\n",
       "       'Electronics and communications engineering technicians',\n",
       "       'Industrial engineers',\n",
       "       'Baked goods and cereal and chocolate products machine operators',\n",
       "       'Metal molders and coremakers', 'Lawyers', 'Dentists',\n",
       "       'Marine craft mechanics',\n",
       "       'Pre-elementary education teaching professionals',\n",
       "       'Bookbinders and related workers',\n",
       "       'Jewelry and precious metal workers', 'Travel guides',\n",
       "       'Social work professionals',\n",
       "       'Musical instrument makers and tuners',\n",
       "       'Machine-tool setters and setter operators',\n",
       "       'Stenographers and typists',\n",
       "       'Stone splitters, cutters and carvers',\n",
       "       'Ship and aircraft controllers and technicians',\n",
       "       'Photographic and related workers', 'Computer assistants',\n",
       "       'Aircraft engine mechanics and fitters',\n",
       "       'Production and operations managers in business services',\n",
       "       'Woodworking machine setters and setter-operators',\n",
       "       'Food and beverage tasters and graders',\n",
       "       'Technical and vocational instructors/trainors', 'Trade brokers',\n",
       "       'Radio, television and other announcers',\n",
       "       'Air traffic safety technicians', 'Other plant growers',\n",
       "       'Pressman letterpresses and related workers',\n",
       "       'Other health professionals (except nursing)',\n",
       "       'Mineral ore and stone-processing plant operators',\n",
       "       'Shoemakers and related workers',\n",
       "       'Agricultural or industrial machinery mechanics and fitters',\n",
       "       'Nonformal education teaching professionals other than technical and vocational trainors/instructors',\n",
       "       'Seaweeds cultivators', 'Upholsterers and related workers',\n",
       "       'Sales supervisors in wholesale trade', 'Insulation workers',\n",
       "       'Machine tool operators', 'Authors, journalists and other writers',\n",
       "       'Technician, skilled, semi-skilled workers',\n",
       "       'Tobacco preparers and tobacco products makers',\n",
       "       'Other physical science and engineering technicians',\n",
       "       'Other sales supervisors',\n",
       "       'Brewers and wine and other beverage machine operators',\n",
       "       'Supply and distribution managers', 'Papermaking plant operators',\n",
       "       'Pharmaceutical and toiletry products machine operators',\n",
       "       'Paperboard, textile and related products assemblers',\n",
       "       'Building and fire inspectors',\n",
       "       'Telecommunication equipment installers and repairers',\n",
       "       'Plastic products machine operators', 'Industrial robot operators',\n",
       "       'Chemical engineers', 'Dairy products machine operators',\n",
       "       'Fishermen n. e. c.',\n",
       "       'Science and mathematics teaching professionals',\n",
       "       'Dental assistants',\n",
       "       'Drivers of animal-drawn vehicles and machinery',\n",
       "       'Postal service supervisors',\n",
       "       'Science and mathematics elementary education teaching professionals',\n",
       "       'Hunting and trapping laborers',\n",
       "       'Other government associate professionals',\n",
       "       'Coding, proof-reading and related clerks',\n",
       "       'Geodetic engineers and related professionals',\n",
       "       'Business machines mechanics and repairers',\n",
       "       'Bleaching, dyeing and cleaning machine operators',\n",
       "       'Other finance and sales associate professionals',\n",
       "       'Life science technicians', 'Telephone switchboard operators',\n",
       "       'Other animal raisers', 'Pharmaceutical assistants',\n",
       "       'Petroleum and natural gas refining plant operators',\n",
       "       'Builders (traditional materials)',\n",
       "       'Maritime transport service supervisors',\n",
       "       'Service and related workers', 'Medical equipment operators',\n",
       "       'Electronics fitters',\n",
       "       'Fiber preparing, spinning and winding machine operators',\n",
       "       'Hunters and trappers',\n",
       "       'Other business services and trade brokers',\n",
       "       'Shoemaking and related machine operators',\n",
       "       'Other aqua products cultivators',\n",
       "       'Government social benefits officials',\n",
       "       'Potters and related clay and abrasive formers',\n",
       "       'Other creative or performing artists',\n",
       "       'Other teaching professionals', 'Tree nut farmers',\n",
       "       'Fiber preparers', 'Officers, n. e. c.',\n",
       "       'Nursing associate professionals',\n",
       "       'Vehicle, window and related cleaners',\n",
       "       'Other engineers and related professionals', 'Physiotherapists',\n",
       "       'Tanners', 'Glass and ceramics kiln and related machine operators',\n",
       "       'Textile and leather products machine operators n. e. c.',\n",
       "       'Optometrists and opticians', 'Locomotive engine drivers',\n",
       "       'Chemical products machine operators n. e. c.', 'Wood treaters',\n",
       "       'Electrical engineering technicians',\n",
       "       'Advertising and public relations managers',\n",
       "       'Paper pulp plant operators', 'Veterinarians',\n",
       "       'Sewing machine operators',\n",
       "       'Aircraft pilots, navigators and flight engineers',\n",
       "       'Glass, ceramics and related plant operators n. e. c.'],\n",
       "      dtype=object)"
      ]
     },
     "execution_count": 90,
     "metadata": {},
     "output_type": "execute_result"
    }
   ],
   "source": [
    "income_df['Household Head Occupation'].unique()"
   ]
  },
  {
   "cell_type": "markdown",
   "id": "298ab60c",
   "metadata": {},
   "source": [
    "There seems to be no misrepresentations in `Household Head Occupation` variable upon checking. This is the variable earlier that had significant number of observations with null values"
   ]
  },
  {
   "cell_type": "markdown",
   "id": "a26a05c2",
   "metadata": {},
   "source": [
    "### `Household Head Class of Worker` variable"
   ]
  },
  {
   "cell_type": "code",
   "execution_count": 91,
   "id": "a98d052e",
   "metadata": {},
   "outputs": [
    {
     "data": {
      "text/plain": [
       "Self-employed wihout any employee                             13765\n",
       "Worked for private establishment                              13731\n",
       "Other                                                          7536\n",
       "Worked for government/government corporation                   2820\n",
       "Employer in own family-operated farm or business               2581\n",
       "Worked for private household                                    811\n",
       "Worked without pay in own family-operated farm or business      285\n",
       "Worked with pay in own family-operated farm or business          14\n",
       "Name: Household Head Class of Worker, dtype: int64"
      ]
     },
     "execution_count": 91,
     "metadata": {},
     "output_type": "execute_result"
    }
   ],
   "source": [
    "income_df['Household Head Class of Worker'].value_counts()"
   ]
  },
  {
   "cell_type": "markdown",
   "id": "db27ccd9",
   "metadata": {},
   "source": [
    "There seems to be no misrepresentations in `Household Head Class of Worker` variable upon checking. This is also another variable earlier that had significant number of observations with null values"
   ]
  },
  {
   "cell_type": "markdown",
   "id": "09b1a142",
   "metadata": {},
   "source": [
    "### `Type of Household` variable"
   ]
  },
  {
   "cell_type": "code",
   "execution_count": 92,
   "id": "d1dd6dc9",
   "metadata": {},
   "outputs": [
    {
     "data": {
      "text/plain": [
       "Single Family                             28444\n",
       "Extended Family                           12932\n",
       "Two or More Nonrelated Persons/Members      167\n",
       "Name: Type of Household, dtype: int64"
      ]
     },
     "execution_count": 92,
     "metadata": {},
     "output_type": "execute_result"
    }
   ],
   "source": [
    "income_df['Type of Household'].value_counts()"
   ]
  },
  {
   "cell_type": "markdown",
   "id": "36d6ddf8",
   "metadata": {},
   "source": [
    "There seems to be no misrepresentations in `Type of Household` variable upon checking."
   ]
  },
  {
   "cell_type": "markdown",
   "id": "8ef0c268",
   "metadata": {},
   "source": [
    "### `Type of Building/House` variable"
   ]
  },
  {
   "cell_type": "code",
   "execution_count": 93,
   "id": "4b7e250b",
   "metadata": {},
   "outputs": [
    {
     "data": {
      "text/plain": [
       "Single house                                   39069\n",
       "Multi-unit residential                          1328\n",
       "Duplex                                          1084\n",
       "Commercial/industrial/agricultural building       51\n",
       "Institutional living quarter                       9\n",
       "Other building unit (e.g. cave, boat)              2\n",
       "Name: Type of Building/House, dtype: int64"
      ]
     },
     "execution_count": 93,
     "metadata": {},
     "output_type": "execute_result"
    }
   ],
   "source": [
    "income_df['Type of Building/House'].value_counts()"
   ]
  },
  {
   "cell_type": "markdown",
   "id": "0c84c3e4",
   "metadata": {},
   "source": [
    "There seems to be no misrepresentations in `Type of Building/House` variable upon checking."
   ]
  },
  {
   "cell_type": "markdown",
   "id": "093e3f41",
   "metadata": {},
   "source": [
    "### `Type of Roof` variable"
   ]
  },
  {
   "cell_type": "code",
   "execution_count": 94,
   "id": "f2174cb3",
   "metadata": {},
   "outputs": [
    {
     "data": {
      "text/plain": [
       "Strong material(galvanized,iron,al,tile,concrete,brick,stone,asbestos)    33342\n",
       "Light material (cogon,nipa,anahaw)                                         5074\n",
       "Mixed but predominantly strong materials                                   2002\n",
       "Mixed but predominantly light materials                                     845\n",
       "Salvaged/makeshift materials                                                212\n",
       "Mixed but predominantly salvaged materials                                   56\n",
       "Not Applicable                                                               12\n",
       "Name: Type of Roof, dtype: int64"
      ]
     },
     "execution_count": 94,
     "metadata": {},
     "output_type": "execute_result"
    }
   ],
   "source": [
    "income_df['Type of Roof'].value_counts()"
   ]
  },
  {
   "cell_type": "markdown",
   "id": "111a1169",
   "metadata": {},
   "source": [
    "There seems to be no misrepresentations in `Type of Roof` variable upon checking."
   ]
  },
  {
   "cell_type": "markdown",
   "id": "42e931c5",
   "metadata": {},
   "source": [
    "### `Type of Walls` variable"
   ]
  },
  {
   "cell_type": "code",
   "execution_count": 95,
   "id": "c0eb3a0e",
   "metadata": {},
   "outputs": [
    {
     "data": {
      "text/plain": [
       "Strong            27739\n",
       "Light              8267\n",
       "Quite Strong       3487\n",
       "Very Light         1582\n",
       "Salvaged            456\n",
       "NOt applicable       12\n",
       "Name: Type of Walls, dtype: int64"
      ]
     },
     "execution_count": 95,
     "metadata": {},
     "output_type": "execute_result"
    }
   ],
   "source": [
    "income_df['Type of Walls'].value_counts()"
   ]
  },
  {
   "cell_type": "markdown",
   "id": "1678d529",
   "metadata": {},
   "source": [
    "We can see that there is an inconsistency in the value `NOt applicable` so we decided to fix it following how it is represented in other variables."
   ]
  },
  {
   "cell_type": "markdown",
   "id": "6ef21835",
   "metadata": {},
   "source": [
    "### `Tenure Status` variable"
   ]
  },
  {
   "cell_type": "code",
   "execution_count": 96,
   "id": "eddeff51",
   "metadata": {},
   "outputs": [
    {
     "data": {
      "text/plain": [
       "Own or owner-like possession of house and lot        29540\n",
       "Own house, rent-free lot with consent of owner        6165\n",
       "Rent house/room including lot                         2203\n",
       "Rent-free house and lot with consent of owner         2014\n",
       "Own house, rent-free lot without consent of owner      995\n",
       "Own house, rent lot                                    425\n",
       "Rent-free house and lot without consent of owner       128\n",
       "Not Applicable                                          73\n",
       "Name: Tenure Status, dtype: int64"
      ]
     },
     "execution_count": 96,
     "metadata": {},
     "output_type": "execute_result"
    }
   ],
   "source": [
    "income_df['Tenure Status'].value_counts()"
   ]
  },
  {
   "cell_type": "markdown",
   "id": "925df57e",
   "metadata": {},
   "source": [
    "There seems to be no misrepresentations in `Tenure Status` variable upon checking."
   ]
  },
  {
   "cell_type": "markdown",
   "id": "bb002c17",
   "metadata": {},
   "source": [
    "### `Toilet Facilities` variable"
   ]
  },
  {
   "cell_type": "code",
   "execution_count": 97,
   "id": "d88e431f",
   "metadata": {},
   "outputs": [
    {
     "data": {
      "text/plain": [
       "Water-sealed, sewer septic tank, used exclusively by household    29161\n",
       "Water-sealed, sewer septic tank, shared with other household       3694\n",
       "Water-sealed, other depository, used exclusively by household      2343\n",
       "Closed pit                                                         2273\n",
       "None                                                               1580\n",
       "Open pit                                                           1189\n",
       "Water-sealed, other depository, shared with other household         950\n",
       "Others                                                              353\n",
       "Name: Toilet Facilities, dtype: int64"
      ]
     },
     "execution_count": 97,
     "metadata": {},
     "output_type": "execute_result"
    }
   ],
   "source": [
    "income_df['Toilet Facilities'].value_counts()"
   ]
  },
  {
   "cell_type": "markdown",
   "id": "0a0c2ed8",
   "metadata": {},
   "source": [
    "There seems to be no misrepresentations in `Toilet Facilities` variable upon checking."
   ]
  },
  {
   "cell_type": "markdown",
   "id": "2e4e3036",
   "metadata": {},
   "source": [
    "### `Main Source of Water Supply` variable"
   ]
  },
  {
   "cell_type": "code",
   "execution_count": 98,
   "id": "d6d42737",
   "metadata": {},
   "outputs": [
    {
     "data": {
      "text/plain": [
       "Own use, faucet, community water system    16092\n",
       "Shared, tubed/piped deep well               6242\n",
       "Shared, faucet, community water system      4614\n",
       "Own use, tubed/piped deep well              4587\n",
       "Dug well                                    3876\n",
       "Protected spring, river, stream, etc        2657\n",
       "Tubed/piped shallow well                    1394\n",
       "Peddler                                      851\n",
       "Unprotected spring, river, stream, etc       607\n",
       "Lake, river, rain and others                 496\n",
       "Others                                       127\n",
       "Name: Main Source of Water Supply, dtype: int64"
      ]
     },
     "execution_count": 98,
     "metadata": {},
     "output_type": "execute_result"
    }
   ],
   "source": [
    "income_df['Main Source of Water Supply'].value_counts()"
   ]
  },
  {
   "cell_type": "markdown",
   "id": "f487ccc4",
   "metadata": {},
   "source": [
    "There seems to be no misrepresentations in `Main Source of Water Supply` variable upon checking."
   ]
  },
  {
   "cell_type": "markdown",
   "id": "dc597c80",
   "metadata": {},
   "source": [
    "## Feature Extraction"
   ]
  },
  {
   "cell_type": "markdown",
   "id": "362b4e38",
   "metadata": {},
   "source": [
    "### Getting Households with and without Minors"
   ]
  },
  {
   "cell_type": "markdown",
   "id": "2f2f2296",
   "metadata": {},
   "source": [
    "The dataframe does not have a column for households with minors. However it has columns for the number of minors (one for those that are younger than 5 years old and another one for those older than 5 years old but younger than 18 years old. The column for `Household with Minors (0-17yrs)` was created.\n",
    "\n",
    "This column does not seek to total the number of minors per house but to indicate the presence of minors."
   ]
  },
  {
   "cell_type": "code",
   "execution_count": 99,
   "id": "c6276ae1",
   "metadata": {},
   "outputs": [],
   "source": [
    "income_df['Household with Minors (0-17yrs)'] = income_df['Members with age less than 5 year old'] + income_df['Members with age 5 - 17 years old']\n",
    "income_df['Household with Minors (0-17yrs)'] = income_df['Household with Minors (0-17yrs)'].where(income_df['Household with Minors (0-17yrs)'] == 0, 1)"
   ]
  },
  {
   "cell_type": "markdown",
   "id": "9c6e4980",
   "metadata": {},
   "source": [
    "The number of minors from the two aforementioned columns were added together. At this step, the column `Household with Minors (0-17yrs)` had the number of minors in each household. To turn this column into an indicator of the presence of minors in a household, non-zero values present within `Household with Minors (0-17yrs)` were turned into a `1`. A value of `0` in the column would indicate that there are no minors within a house."
   ]
  },
  {
   "cell_type": "code",
   "execution_count": 100,
   "id": "a70aa89a",
   "metadata": {},
   "outputs": [
    {
     "data": {
      "text/plain": [
       "1    30060\n",
       "0    11483\n",
       "Name: Household with Minors (0-17yrs), dtype: int64"
      ]
     },
     "execution_count": 100,
     "metadata": {},
     "output_type": "execute_result"
    }
   ],
   "source": [
    "income_df['Household with Minors (0-17yrs)'].value_counts()"
   ]
  },
  {
   "cell_type": "markdown",
   "id": "72cf921d",
   "metadata": {},
   "source": [
    "The results of this feature extraction is shown above."
   ]
  },
  {
   "cell_type": "markdown",
   "id": "01443c25",
   "metadata": {},
   "source": [
    "# Data Visualization and Analysis"
   ]
  },
  {
   "cell_type": "markdown",
   "id": "da4adcb1",
   "metadata": {},
   "source": [
    "### Average Total Household Incomes Between Rural and Urban Households"
   ]
  },
  {
   "cell_type": "markdown",
   "id": "69f39f79",
   "metadata": {},
   "source": [
    "#### Get a Sample"
   ]
  },
  {
   "cell_type": "markdown",
   "id": "2f990620",
   "metadata": {},
   "source": [
    "Here, we will get a total of **100** samples for this since we will be comparing the `total household income` of both `urban` (50) and `rural` (50) households."
   ]
  },
  {
   "cell_type": "code",
   "execution_count": 122,
   "id": "1669594d",
   "metadata": {},
   "outputs": [
    {
     "data": {
      "text/html": [
       "<div>\n",
       "<style scoped>\n",
       "    .dataframe tbody tr th:only-of-type {\n",
       "        vertical-align: middle;\n",
       "    }\n",
       "\n",
       "    .dataframe tbody tr th {\n",
       "        vertical-align: top;\n",
       "    }\n",
       "\n",
       "    .dataframe thead th {\n",
       "        text-align: right;\n",
       "    }\n",
       "</style>\n",
       "<table border=\"1\" class=\"dataframe\">\n",
       "  <thead>\n",
       "    <tr style=\"text-align: right;\">\n",
       "      <th></th>\n",
       "      <th>Total Household Income</th>\n",
       "      <th>Region</th>\n",
       "      <th>Total Food Expenditure</th>\n",
       "      <th>Main Source of Income</th>\n",
       "      <th>Agricultural Household indicator</th>\n",
       "      <th>Bread and Cereals Expenditure</th>\n",
       "      <th>Total Rice Expenditure</th>\n",
       "      <th>Meat Expenditure</th>\n",
       "      <th>Total Fish and  marine products Expenditure</th>\n",
       "      <th>Fruit Expenditure</th>\n",
       "      <th>...</th>\n",
       "      <th>Number of Airconditioner</th>\n",
       "      <th>Number of Car, Jeep, Van</th>\n",
       "      <th>Number of Landline/wireless telephones</th>\n",
       "      <th>Number of Cellular phone</th>\n",
       "      <th>Number of Personal Computer</th>\n",
       "      <th>Number of Stove with Oven/Gas Range</th>\n",
       "      <th>Number of Motorized Banca</th>\n",
       "      <th>Number of Motorcycle/Tricycle</th>\n",
       "      <th>Household with Minors (0-17yrs)</th>\n",
       "      <th>Members that are minors</th>\n",
       "    </tr>\n",
       "  </thead>\n",
       "  <tbody>\n",
       "    <tr>\n",
       "      <th>37038</th>\n",
       "      <td>371690</td>\n",
       "      <td>NCR</td>\n",
       "      <td>130204</td>\n",
       "      <td>Wage/Salaries</td>\n",
       "      <td>2</td>\n",
       "      <td>22630</td>\n",
       "      <td>15288</td>\n",
       "      <td>20499</td>\n",
       "      <td>14400</td>\n",
       "      <td>3632</td>\n",
       "      <td>...</td>\n",
       "      <td>0</td>\n",
       "      <td>0</td>\n",
       "      <td>0</td>\n",
       "      <td>4</td>\n",
       "      <td>0</td>\n",
       "      <td>0</td>\n",
       "      <td>0</td>\n",
       "      <td>0</td>\n",
       "      <td>1</td>\n",
       "      <td>1</td>\n",
       "    </tr>\n",
       "    <tr>\n",
       "      <th>38804</th>\n",
       "      <td>256386</td>\n",
       "      <td>NCR</td>\n",
       "      <td>116040</td>\n",
       "      <td>Wage/Salaries</td>\n",
       "      <td>2</td>\n",
       "      <td>24316</td>\n",
       "      <td>19140</td>\n",
       "      <td>11042</td>\n",
       "      <td>11051</td>\n",
       "      <td>2670</td>\n",
       "      <td>...</td>\n",
       "      <td>0</td>\n",
       "      <td>0</td>\n",
       "      <td>0</td>\n",
       "      <td>1</td>\n",
       "      <td>0</td>\n",
       "      <td>0</td>\n",
       "      <td>0</td>\n",
       "      <td>0</td>\n",
       "      <td>1</td>\n",
       "      <td>1</td>\n",
       "    </tr>\n",
       "    <tr>\n",
       "      <th>39028</th>\n",
       "      <td>100575</td>\n",
       "      <td>NCR</td>\n",
       "      <td>32928</td>\n",
       "      <td>Other sources of Income</td>\n",
       "      <td>2</td>\n",
       "      <td>8274</td>\n",
       "      <td>3840</td>\n",
       "      <td>2273</td>\n",
       "      <td>1301</td>\n",
       "      <td>620</td>\n",
       "      <td>...</td>\n",
       "      <td>0</td>\n",
       "      <td>0</td>\n",
       "      <td>0</td>\n",
       "      <td>1</td>\n",
       "      <td>0</td>\n",
       "      <td>0</td>\n",
       "      <td>0</td>\n",
       "      <td>0</td>\n",
       "      <td>0</td>\n",
       "      <td>0</td>\n",
       "    </tr>\n",
       "    <tr>\n",
       "      <th>20774</th>\n",
       "      <td>893492</td>\n",
       "      <td>NCR</td>\n",
       "      <td>217123</td>\n",
       "      <td>Wage/Salaries</td>\n",
       "      <td>0</td>\n",
       "      <td>27519</td>\n",
       "      <td>16618</td>\n",
       "      <td>39102</td>\n",
       "      <td>13353</td>\n",
       "      <td>10960</td>\n",
       "      <td>...</td>\n",
       "      <td>1</td>\n",
       "      <td>0</td>\n",
       "      <td>1</td>\n",
       "      <td>6</td>\n",
       "      <td>1</td>\n",
       "      <td>0</td>\n",
       "      <td>0</td>\n",
       "      <td>0</td>\n",
       "      <td>0</td>\n",
       "      <td>0</td>\n",
       "    </tr>\n",
       "    <tr>\n",
       "      <th>36799</th>\n",
       "      <td>398546</td>\n",
       "      <td>NCR</td>\n",
       "      <td>175908</td>\n",
       "      <td>Wage/Salaries</td>\n",
       "      <td>2</td>\n",
       "      <td>32304</td>\n",
       "      <td>14023</td>\n",
       "      <td>26469</td>\n",
       "      <td>10558</td>\n",
       "      <td>5985</td>\n",
       "      <td>...</td>\n",
       "      <td>0</td>\n",
       "      <td>0</td>\n",
       "      <td>0</td>\n",
       "      <td>2</td>\n",
       "      <td>1</td>\n",
       "      <td>0</td>\n",
       "      <td>0</td>\n",
       "      <td>0</td>\n",
       "      <td>1</td>\n",
       "      <td>2</td>\n",
       "    </tr>\n",
       "    <tr>\n",
       "      <th>...</th>\n",
       "      <td>...</td>\n",
       "      <td>...</td>\n",
       "      <td>...</td>\n",
       "      <td>...</td>\n",
       "      <td>...</td>\n",
       "      <td>...</td>\n",
       "      <td>...</td>\n",
       "      <td>...</td>\n",
       "      <td>...</td>\n",
       "      <td>...</td>\n",
       "      <td>...</td>\n",
       "      <td>...</td>\n",
       "      <td>...</td>\n",
       "      <td>...</td>\n",
       "      <td>...</td>\n",
       "      <td>...</td>\n",
       "      <td>...</td>\n",
       "      <td>...</td>\n",
       "      <td>...</td>\n",
       "      <td>...</td>\n",
       "      <td>...</td>\n",
       "    </tr>\n",
       "    <tr>\n",
       "      <th>29436</th>\n",
       "      <td>477254</td>\n",
       "      <td>NaN</td>\n",
       "      <td>106719</td>\n",
       "      <td>Wage/Salaries</td>\n",
       "      <td>0</td>\n",
       "      <td>16006</td>\n",
       "      <td>11960</td>\n",
       "      <td>8060</td>\n",
       "      <td>8684</td>\n",
       "      <td>1505</td>\n",
       "      <td>...</td>\n",
       "      <td>0</td>\n",
       "      <td>0</td>\n",
       "      <td>0</td>\n",
       "      <td>4</td>\n",
       "      <td>1</td>\n",
       "      <td>0</td>\n",
       "      <td>0</td>\n",
       "      <td>0</td>\n",
       "      <td>1</td>\n",
       "      <td>1</td>\n",
       "    </tr>\n",
       "    <tr>\n",
       "      <th>11823</th>\n",
       "      <td>53048</td>\n",
       "      <td>XI - Davao Region</td>\n",
       "      <td>29919</td>\n",
       "      <td>Enterpreneurial Activities</td>\n",
       "      <td>1</td>\n",
       "      <td>11769</td>\n",
       "      <td>0</td>\n",
       "      <td>2066</td>\n",
       "      <td>5750</td>\n",
       "      <td>1331</td>\n",
       "      <td>...</td>\n",
       "      <td>0</td>\n",
       "      <td>0</td>\n",
       "      <td>0</td>\n",
       "      <td>0</td>\n",
       "      <td>0</td>\n",
       "      <td>0</td>\n",
       "      <td>0</td>\n",
       "      <td>0</td>\n",
       "      <td>1</td>\n",
       "      <td>1</td>\n",
       "    </tr>\n",
       "    <tr>\n",
       "      <th>13347</th>\n",
       "      <td>125839</td>\n",
       "      <td>I - Ilocos Region</td>\n",
       "      <td>69073</td>\n",
       "      <td>Other sources of Income</td>\n",
       "      <td>1</td>\n",
       "      <td>15781</td>\n",
       "      <td>9740</td>\n",
       "      <td>10745</td>\n",
       "      <td>10535</td>\n",
       "      <td>2960</td>\n",
       "      <td>...</td>\n",
       "      <td>0</td>\n",
       "      <td>0</td>\n",
       "      <td>0</td>\n",
       "      <td>1</td>\n",
       "      <td>0</td>\n",
       "      <td>0</td>\n",
       "      <td>0</td>\n",
       "      <td>0</td>\n",
       "      <td>1</td>\n",
       "      <td>1</td>\n",
       "    </tr>\n",
       "    <tr>\n",
       "      <th>10103</th>\n",
       "      <td>588398</td>\n",
       "      <td>VII - Central Visayas</td>\n",
       "      <td>119580</td>\n",
       "      <td>Enterpreneurial Activities</td>\n",
       "      <td>0</td>\n",
       "      <td>21525</td>\n",
       "      <td>15912</td>\n",
       "      <td>34239</td>\n",
       "      <td>24152</td>\n",
       "      <td>6337</td>\n",
       "      <td>...</td>\n",
       "      <td>2</td>\n",
       "      <td>4</td>\n",
       "      <td>1</td>\n",
       "      <td>3</td>\n",
       "      <td>1</td>\n",
       "      <td>1</td>\n",
       "      <td>0</td>\n",
       "      <td>0</td>\n",
       "      <td>0</td>\n",
       "      <td>0</td>\n",
       "    </tr>\n",
       "    <tr>\n",
       "      <th>20231</th>\n",
       "      <td>177249</td>\n",
       "      <td>ARMM</td>\n",
       "      <td>46800</td>\n",
       "      <td>Enterpreneurial Activities</td>\n",
       "      <td>1</td>\n",
       "      <td>25756</td>\n",
       "      <td>21720</td>\n",
       "      <td>1230</td>\n",
       "      <td>7297</td>\n",
       "      <td>1018</td>\n",
       "      <td>...</td>\n",
       "      <td>0</td>\n",
       "      <td>0</td>\n",
       "      <td>0</td>\n",
       "      <td>3</td>\n",
       "      <td>0</td>\n",
       "      <td>0</td>\n",
       "      <td>0</td>\n",
       "      <td>0</td>\n",
       "      <td>1</td>\n",
       "      <td>1</td>\n",
       "    </tr>\n",
       "  </tbody>\n",
       "</table>\n",
       "<p>100 rows × 62 columns</p>\n",
       "</div>"
      ],
      "text/plain": [
       "       Total Household Income                 Region  Total Food Expenditure  \\\n",
       "37038                  371690                    NCR                  130204   \n",
       "38804                  256386                    NCR                  116040   \n",
       "39028                  100575                    NCR                   32928   \n",
       "20774                  893492                    NCR                  217123   \n",
       "36799                  398546                    NCR                  175908   \n",
       "...                       ...                    ...                     ...   \n",
       "29436                  477254                    NaN                  106719   \n",
       "11823                   53048      XI - Davao Region                   29919   \n",
       "13347                  125839      I - Ilocos Region                   69073   \n",
       "10103                  588398  VII - Central Visayas                  119580   \n",
       "20231                  177249                   ARMM                   46800   \n",
       "\n",
       "            Main Source of Income  Agricultural Household indicator  \\\n",
       "37038               Wage/Salaries                                 2   \n",
       "38804               Wage/Salaries                                 2   \n",
       "39028     Other sources of Income                                 2   \n",
       "20774               Wage/Salaries                                 0   \n",
       "36799               Wage/Salaries                                 2   \n",
       "...                           ...                               ...   \n",
       "29436               Wage/Salaries                                 0   \n",
       "11823  Enterpreneurial Activities                                 1   \n",
       "13347     Other sources of Income                                 1   \n",
       "10103  Enterpreneurial Activities                                 0   \n",
       "20231  Enterpreneurial Activities                                 1   \n",
       "\n",
       "       Bread and Cereals Expenditure  Total Rice Expenditure  \\\n",
       "37038                          22630                   15288   \n",
       "38804                          24316                   19140   \n",
       "39028                           8274                    3840   \n",
       "20774                          27519                   16618   \n",
       "36799                          32304                   14023   \n",
       "...                              ...                     ...   \n",
       "29436                          16006                   11960   \n",
       "11823                          11769                       0   \n",
       "13347                          15781                    9740   \n",
       "10103                          21525                   15912   \n",
       "20231                          25756                   21720   \n",
       "\n",
       "       Meat Expenditure  Total Fish and  marine products Expenditure  \\\n",
       "37038             20499                                        14400   \n",
       "38804             11042                                        11051   \n",
       "39028              2273                                         1301   \n",
       "20774             39102                                        13353   \n",
       "36799             26469                                        10558   \n",
       "...                 ...                                          ...   \n",
       "29436              8060                                         8684   \n",
       "11823              2066                                         5750   \n",
       "13347             10745                                        10535   \n",
       "10103             34239                                        24152   \n",
       "20231              1230                                         7297   \n",
       "\n",
       "       Fruit Expenditure  ...  Number of Airconditioner  \\\n",
       "37038               3632  ...                         0   \n",
       "38804               2670  ...                         0   \n",
       "39028                620  ...                         0   \n",
       "20774              10960  ...                         1   \n",
       "36799               5985  ...                         0   \n",
       "...                  ...  ...                       ...   \n",
       "29436               1505  ...                         0   \n",
       "11823               1331  ...                         0   \n",
       "13347               2960  ...                         0   \n",
       "10103               6337  ...                         2   \n",
       "20231               1018  ...                         0   \n",
       "\n",
       "       Number of Car, Jeep, Van  Number of Landline/wireless telephones  \\\n",
       "37038                         0                                       0   \n",
       "38804                         0                                       0   \n",
       "39028                         0                                       0   \n",
       "20774                         0                                       1   \n",
       "36799                         0                                       0   \n",
       "...                         ...                                     ...   \n",
       "29436                         0                                       0   \n",
       "11823                         0                                       0   \n",
       "13347                         0                                       0   \n",
       "10103                         4                                       1   \n",
       "20231                         0                                       0   \n",
       "\n",
       "       Number of Cellular phone  Number of Personal Computer  \\\n",
       "37038                         4                            0   \n",
       "38804                         1                            0   \n",
       "39028                         1                            0   \n",
       "20774                         6                            1   \n",
       "36799                         2                            1   \n",
       "...                         ...                          ...   \n",
       "29436                         4                            1   \n",
       "11823                         0                            0   \n",
       "13347                         1                            0   \n",
       "10103                         3                            1   \n",
       "20231                         3                            0   \n",
       "\n",
       "       Number of Stove with Oven/Gas Range  Number of Motorized Banca  \\\n",
       "37038                                    0                          0   \n",
       "38804                                    0                          0   \n",
       "39028                                    0                          0   \n",
       "20774                                    0                          0   \n",
       "36799                                    0                          0   \n",
       "...                                    ...                        ...   \n",
       "29436                                    0                          0   \n",
       "11823                                    0                          0   \n",
       "13347                                    0                          0   \n",
       "10103                                    1                          0   \n",
       "20231                                    0                          0   \n",
       "\n",
       "       Number of Motorcycle/Tricycle  Household with Minors (0-17yrs)  \\\n",
       "37038                              0                                1   \n",
       "38804                              0                                1   \n",
       "39028                              0                                0   \n",
       "20774                              0                                0   \n",
       "36799                              0                                1   \n",
       "...                              ...                              ...   \n",
       "29436                              0                                1   \n",
       "11823                              0                                1   \n",
       "13347                              0                                1   \n",
       "10103                              0                                0   \n",
       "20231                              0                                1   \n",
       "\n",
       "       Members that are minors  \n",
       "37038                        1  \n",
       "38804                        1  \n",
       "39028                        0  \n",
       "20774                        0  \n",
       "36799                        2  \n",
       "...                        ...  \n",
       "29436                        1  \n",
       "11823                        1  \n",
       "13347                        1  \n",
       "10103                        0  \n",
       "20231                        1  \n",
       "\n",
       "[100 rows x 62 columns]"
      ]
     },
     "execution_count": 122,
     "metadata": {},
     "output_type": "execute_result"
    }
   ],
   "source": [
    "n = 50 # sample size\n",
    "income_urban_sample = income_df[income_df['Region'] == \"NCR\"].sample(n, random_state = 1)\n",
    "income_rural_sample = income_df[income_df['Region'] != \"NCR\"].sample(n, random_state = 1)\n",
    "\n",
    "frames = [income_urban_sample, income_rural_sample]\n",
    "income_sample_df = pd.concat(frames)\n",
    "income_sample_df"
   ]
  },
  {
   "cell_type": "markdown",
   "id": "8b4c0498",
   "metadata": {},
   "source": [
    "We will add a column for the `Classification` of each region, which is either `Urban` or `Rural`."
   ]
  },
  {
   "cell_type": "code",
   "execution_count": 123,
   "id": "622bf3ea",
   "metadata": {},
   "outputs": [
    {
     "data": {
      "text/html": [
       "<div>\n",
       "<style scoped>\n",
       "    .dataframe tbody tr th:only-of-type {\n",
       "        vertical-align: middle;\n",
       "    }\n",
       "\n",
       "    .dataframe tbody tr th {\n",
       "        vertical-align: top;\n",
       "    }\n",
       "\n",
       "    .dataframe thead th {\n",
       "        text-align: right;\n",
       "    }\n",
       "</style>\n",
       "<table border=\"1\" class=\"dataframe\">\n",
       "  <thead>\n",
       "    <tr style=\"text-align: right;\">\n",
       "      <th></th>\n",
       "      <th>Total Household Income</th>\n",
       "      <th>Region</th>\n",
       "      <th>Total Food Expenditure</th>\n",
       "      <th>Main Source of Income</th>\n",
       "      <th>Agricultural Household indicator</th>\n",
       "      <th>Bread and Cereals Expenditure</th>\n",
       "      <th>Total Rice Expenditure</th>\n",
       "      <th>Meat Expenditure</th>\n",
       "      <th>Total Fish and  marine products Expenditure</th>\n",
       "      <th>Fruit Expenditure</th>\n",
       "      <th>...</th>\n",
       "      <th>Number of Car, Jeep, Van</th>\n",
       "      <th>Number of Landline/wireless telephones</th>\n",
       "      <th>Number of Cellular phone</th>\n",
       "      <th>Number of Personal Computer</th>\n",
       "      <th>Number of Stove with Oven/Gas Range</th>\n",
       "      <th>Number of Motorized Banca</th>\n",
       "      <th>Number of Motorcycle/Tricycle</th>\n",
       "      <th>Household with Minors (0-17yrs)</th>\n",
       "      <th>Members that are minors</th>\n",
       "      <th>Classification</th>\n",
       "    </tr>\n",
       "  </thead>\n",
       "  <tbody>\n",
       "    <tr>\n",
       "      <th>37038</th>\n",
       "      <td>371690</td>\n",
       "      <td>NCR</td>\n",
       "      <td>130204</td>\n",
       "      <td>Wage/Salaries</td>\n",
       "      <td>2</td>\n",
       "      <td>22630</td>\n",
       "      <td>15288</td>\n",
       "      <td>20499</td>\n",
       "      <td>14400</td>\n",
       "      <td>3632</td>\n",
       "      <td>...</td>\n",
       "      <td>0</td>\n",
       "      <td>0</td>\n",
       "      <td>4</td>\n",
       "      <td>0</td>\n",
       "      <td>0</td>\n",
       "      <td>0</td>\n",
       "      <td>0</td>\n",
       "      <td>1</td>\n",
       "      <td>1</td>\n",
       "      <td>Urban</td>\n",
       "    </tr>\n",
       "    <tr>\n",
       "      <th>38804</th>\n",
       "      <td>256386</td>\n",
       "      <td>NCR</td>\n",
       "      <td>116040</td>\n",
       "      <td>Wage/Salaries</td>\n",
       "      <td>2</td>\n",
       "      <td>24316</td>\n",
       "      <td>19140</td>\n",
       "      <td>11042</td>\n",
       "      <td>11051</td>\n",
       "      <td>2670</td>\n",
       "      <td>...</td>\n",
       "      <td>0</td>\n",
       "      <td>0</td>\n",
       "      <td>1</td>\n",
       "      <td>0</td>\n",
       "      <td>0</td>\n",
       "      <td>0</td>\n",
       "      <td>0</td>\n",
       "      <td>1</td>\n",
       "      <td>1</td>\n",
       "      <td>Urban</td>\n",
       "    </tr>\n",
       "    <tr>\n",
       "      <th>39028</th>\n",
       "      <td>100575</td>\n",
       "      <td>NCR</td>\n",
       "      <td>32928</td>\n",
       "      <td>Other sources of Income</td>\n",
       "      <td>2</td>\n",
       "      <td>8274</td>\n",
       "      <td>3840</td>\n",
       "      <td>2273</td>\n",
       "      <td>1301</td>\n",
       "      <td>620</td>\n",
       "      <td>...</td>\n",
       "      <td>0</td>\n",
       "      <td>0</td>\n",
       "      <td>1</td>\n",
       "      <td>0</td>\n",
       "      <td>0</td>\n",
       "      <td>0</td>\n",
       "      <td>0</td>\n",
       "      <td>0</td>\n",
       "      <td>0</td>\n",
       "      <td>Urban</td>\n",
       "    </tr>\n",
       "    <tr>\n",
       "      <th>20774</th>\n",
       "      <td>893492</td>\n",
       "      <td>NCR</td>\n",
       "      <td>217123</td>\n",
       "      <td>Wage/Salaries</td>\n",
       "      <td>0</td>\n",
       "      <td>27519</td>\n",
       "      <td>16618</td>\n",
       "      <td>39102</td>\n",
       "      <td>13353</td>\n",
       "      <td>10960</td>\n",
       "      <td>...</td>\n",
       "      <td>0</td>\n",
       "      <td>1</td>\n",
       "      <td>6</td>\n",
       "      <td>1</td>\n",
       "      <td>0</td>\n",
       "      <td>0</td>\n",
       "      <td>0</td>\n",
       "      <td>0</td>\n",
       "      <td>0</td>\n",
       "      <td>Urban</td>\n",
       "    </tr>\n",
       "    <tr>\n",
       "      <th>36799</th>\n",
       "      <td>398546</td>\n",
       "      <td>NCR</td>\n",
       "      <td>175908</td>\n",
       "      <td>Wage/Salaries</td>\n",
       "      <td>2</td>\n",
       "      <td>32304</td>\n",
       "      <td>14023</td>\n",
       "      <td>26469</td>\n",
       "      <td>10558</td>\n",
       "      <td>5985</td>\n",
       "      <td>...</td>\n",
       "      <td>0</td>\n",
       "      <td>0</td>\n",
       "      <td>2</td>\n",
       "      <td>1</td>\n",
       "      <td>0</td>\n",
       "      <td>0</td>\n",
       "      <td>0</td>\n",
       "      <td>1</td>\n",
       "      <td>2</td>\n",
       "      <td>Urban</td>\n",
       "    </tr>\n",
       "    <tr>\n",
       "      <th>...</th>\n",
       "      <td>...</td>\n",
       "      <td>...</td>\n",
       "      <td>...</td>\n",
       "      <td>...</td>\n",
       "      <td>...</td>\n",
       "      <td>...</td>\n",
       "      <td>...</td>\n",
       "      <td>...</td>\n",
       "      <td>...</td>\n",
       "      <td>...</td>\n",
       "      <td>...</td>\n",
       "      <td>...</td>\n",
       "      <td>...</td>\n",
       "      <td>...</td>\n",
       "      <td>...</td>\n",
       "      <td>...</td>\n",
       "      <td>...</td>\n",
       "      <td>...</td>\n",
       "      <td>...</td>\n",
       "      <td>...</td>\n",
       "      <td>...</td>\n",
       "    </tr>\n",
       "    <tr>\n",
       "      <th>29436</th>\n",
       "      <td>477254</td>\n",
       "      <td>NaN</td>\n",
       "      <td>106719</td>\n",
       "      <td>Wage/Salaries</td>\n",
       "      <td>0</td>\n",
       "      <td>16006</td>\n",
       "      <td>11960</td>\n",
       "      <td>8060</td>\n",
       "      <td>8684</td>\n",
       "      <td>1505</td>\n",
       "      <td>...</td>\n",
       "      <td>0</td>\n",
       "      <td>0</td>\n",
       "      <td>4</td>\n",
       "      <td>1</td>\n",
       "      <td>0</td>\n",
       "      <td>0</td>\n",
       "      <td>0</td>\n",
       "      <td>1</td>\n",
       "      <td>1</td>\n",
       "      <td>Rural</td>\n",
       "    </tr>\n",
       "    <tr>\n",
       "      <th>11823</th>\n",
       "      <td>53048</td>\n",
       "      <td>XI - Davao Region</td>\n",
       "      <td>29919</td>\n",
       "      <td>Enterpreneurial Activities</td>\n",
       "      <td>1</td>\n",
       "      <td>11769</td>\n",
       "      <td>0</td>\n",
       "      <td>2066</td>\n",
       "      <td>5750</td>\n",
       "      <td>1331</td>\n",
       "      <td>...</td>\n",
       "      <td>0</td>\n",
       "      <td>0</td>\n",
       "      <td>0</td>\n",
       "      <td>0</td>\n",
       "      <td>0</td>\n",
       "      <td>0</td>\n",
       "      <td>0</td>\n",
       "      <td>1</td>\n",
       "      <td>1</td>\n",
       "      <td>Rural</td>\n",
       "    </tr>\n",
       "    <tr>\n",
       "      <th>13347</th>\n",
       "      <td>125839</td>\n",
       "      <td>I - Ilocos Region</td>\n",
       "      <td>69073</td>\n",
       "      <td>Other sources of Income</td>\n",
       "      <td>1</td>\n",
       "      <td>15781</td>\n",
       "      <td>9740</td>\n",
       "      <td>10745</td>\n",
       "      <td>10535</td>\n",
       "      <td>2960</td>\n",
       "      <td>...</td>\n",
       "      <td>0</td>\n",
       "      <td>0</td>\n",
       "      <td>1</td>\n",
       "      <td>0</td>\n",
       "      <td>0</td>\n",
       "      <td>0</td>\n",
       "      <td>0</td>\n",
       "      <td>1</td>\n",
       "      <td>1</td>\n",
       "      <td>Rural</td>\n",
       "    </tr>\n",
       "    <tr>\n",
       "      <th>10103</th>\n",
       "      <td>588398</td>\n",
       "      <td>VII - Central Visayas</td>\n",
       "      <td>119580</td>\n",
       "      <td>Enterpreneurial Activities</td>\n",
       "      <td>0</td>\n",
       "      <td>21525</td>\n",
       "      <td>15912</td>\n",
       "      <td>34239</td>\n",
       "      <td>24152</td>\n",
       "      <td>6337</td>\n",
       "      <td>...</td>\n",
       "      <td>4</td>\n",
       "      <td>1</td>\n",
       "      <td>3</td>\n",
       "      <td>1</td>\n",
       "      <td>1</td>\n",
       "      <td>0</td>\n",
       "      <td>0</td>\n",
       "      <td>0</td>\n",
       "      <td>0</td>\n",
       "      <td>Rural</td>\n",
       "    </tr>\n",
       "    <tr>\n",
       "      <th>20231</th>\n",
       "      <td>177249</td>\n",
       "      <td>ARMM</td>\n",
       "      <td>46800</td>\n",
       "      <td>Enterpreneurial Activities</td>\n",
       "      <td>1</td>\n",
       "      <td>25756</td>\n",
       "      <td>21720</td>\n",
       "      <td>1230</td>\n",
       "      <td>7297</td>\n",
       "      <td>1018</td>\n",
       "      <td>...</td>\n",
       "      <td>0</td>\n",
       "      <td>0</td>\n",
       "      <td>3</td>\n",
       "      <td>0</td>\n",
       "      <td>0</td>\n",
       "      <td>0</td>\n",
       "      <td>0</td>\n",
       "      <td>1</td>\n",
       "      <td>1</td>\n",
       "      <td>Rural</td>\n",
       "    </tr>\n",
       "  </tbody>\n",
       "</table>\n",
       "<p>100 rows × 63 columns</p>\n",
       "</div>"
      ],
      "text/plain": [
       "       Total Household Income                 Region  Total Food Expenditure  \\\n",
       "37038                  371690                    NCR                  130204   \n",
       "38804                  256386                    NCR                  116040   \n",
       "39028                  100575                    NCR                   32928   \n",
       "20774                  893492                    NCR                  217123   \n",
       "36799                  398546                    NCR                  175908   \n",
       "...                       ...                    ...                     ...   \n",
       "29436                  477254                    NaN                  106719   \n",
       "11823                   53048      XI - Davao Region                   29919   \n",
       "13347                  125839      I - Ilocos Region                   69073   \n",
       "10103                  588398  VII - Central Visayas                  119580   \n",
       "20231                  177249                   ARMM                   46800   \n",
       "\n",
       "            Main Source of Income  Agricultural Household indicator  \\\n",
       "37038               Wage/Salaries                                 2   \n",
       "38804               Wage/Salaries                                 2   \n",
       "39028     Other sources of Income                                 2   \n",
       "20774               Wage/Salaries                                 0   \n",
       "36799               Wage/Salaries                                 2   \n",
       "...                           ...                               ...   \n",
       "29436               Wage/Salaries                                 0   \n",
       "11823  Enterpreneurial Activities                                 1   \n",
       "13347     Other sources of Income                                 1   \n",
       "10103  Enterpreneurial Activities                                 0   \n",
       "20231  Enterpreneurial Activities                                 1   \n",
       "\n",
       "       Bread and Cereals Expenditure  Total Rice Expenditure  \\\n",
       "37038                          22630                   15288   \n",
       "38804                          24316                   19140   \n",
       "39028                           8274                    3840   \n",
       "20774                          27519                   16618   \n",
       "36799                          32304                   14023   \n",
       "...                              ...                     ...   \n",
       "29436                          16006                   11960   \n",
       "11823                          11769                       0   \n",
       "13347                          15781                    9740   \n",
       "10103                          21525                   15912   \n",
       "20231                          25756                   21720   \n",
       "\n",
       "       Meat Expenditure  Total Fish and  marine products Expenditure  \\\n",
       "37038             20499                                        14400   \n",
       "38804             11042                                        11051   \n",
       "39028              2273                                         1301   \n",
       "20774             39102                                        13353   \n",
       "36799             26469                                        10558   \n",
       "...                 ...                                          ...   \n",
       "29436              8060                                         8684   \n",
       "11823              2066                                         5750   \n",
       "13347             10745                                        10535   \n",
       "10103             34239                                        24152   \n",
       "20231              1230                                         7297   \n",
       "\n",
       "       Fruit Expenditure  ...  Number of Car, Jeep, Van  \\\n",
       "37038               3632  ...                         0   \n",
       "38804               2670  ...                         0   \n",
       "39028                620  ...                         0   \n",
       "20774              10960  ...                         0   \n",
       "36799               5985  ...                         0   \n",
       "...                  ...  ...                       ...   \n",
       "29436               1505  ...                         0   \n",
       "11823               1331  ...                         0   \n",
       "13347               2960  ...                         0   \n",
       "10103               6337  ...                         4   \n",
       "20231               1018  ...                         0   \n",
       "\n",
       "       Number of Landline/wireless telephones  Number of Cellular phone  \\\n",
       "37038                                       0                         4   \n",
       "38804                                       0                         1   \n",
       "39028                                       0                         1   \n",
       "20774                                       1                         6   \n",
       "36799                                       0                         2   \n",
       "...                                       ...                       ...   \n",
       "29436                                       0                         4   \n",
       "11823                                       0                         0   \n",
       "13347                                       0                         1   \n",
       "10103                                       1                         3   \n",
       "20231                                       0                         3   \n",
       "\n",
       "       Number of Personal Computer  Number of Stove with Oven/Gas Range  \\\n",
       "37038                            0                                    0   \n",
       "38804                            0                                    0   \n",
       "39028                            0                                    0   \n",
       "20774                            1                                    0   \n",
       "36799                            1                                    0   \n",
       "...                            ...                                  ...   \n",
       "29436                            1                                    0   \n",
       "11823                            0                                    0   \n",
       "13347                            0                                    0   \n",
       "10103                            1                                    1   \n",
       "20231                            0                                    0   \n",
       "\n",
       "       Number of Motorized Banca  Number of Motorcycle/Tricycle  \\\n",
       "37038                          0                              0   \n",
       "38804                          0                              0   \n",
       "39028                          0                              0   \n",
       "20774                          0                              0   \n",
       "36799                          0                              0   \n",
       "...                          ...                            ...   \n",
       "29436                          0                              0   \n",
       "11823                          0                              0   \n",
       "13347                          0                              0   \n",
       "10103                          0                              0   \n",
       "20231                          0                              0   \n",
       "\n",
       "       Household with Minors (0-17yrs)  Members that are minors  \\\n",
       "37038                                1                        1   \n",
       "38804                                1                        1   \n",
       "39028                                0                        0   \n",
       "20774                                0                        0   \n",
       "36799                                1                        2   \n",
       "...                                ...                      ...   \n",
       "29436                                1                        1   \n",
       "11823                                1                        1   \n",
       "13347                                1                        1   \n",
       "10103                                0                        0   \n",
       "20231                                1                        1   \n",
       "\n",
       "       Classification  \n",
       "37038           Urban  \n",
       "38804           Urban  \n",
       "39028           Urban  \n",
       "20774           Urban  \n",
       "36799           Urban  \n",
       "...               ...  \n",
       "29436           Rural  \n",
       "11823           Rural  \n",
       "13347           Rural  \n",
       "10103           Rural  \n",
       "20231           Rural  \n",
       "\n",
       "[100 rows x 63 columns]"
      ]
     },
     "execution_count": 123,
     "metadata": {},
     "output_type": "execute_result"
    }
   ],
   "source": [
    "income_sample_df[\"Classification\"] = np.where(income_sample_df[\"Region\"] == \"NCR\", \"Urban\", \"Rural\")\n",
    "income_sample_df"
   ]
  },
  {
   "cell_type": "markdown",
   "id": "ad9643a4",
   "metadata": {},
   "source": [
    "Based on the `Classification` variable, we will get the `Total Household Income` variable.\n",
    "\n",
    "The boxplot below compares the two groups:"
   ]
  },
  {
   "cell_type": "code",
   "execution_count": 124,
   "id": "dfc27185",
   "metadata": {},
   "outputs": [
    {
     "data": {
      "text/plain": [
       "Rural         AxesSubplot(0.1,0.15;0.363636x0.75)\n",
       "Urban    AxesSubplot(0.536364,0.15;0.363636x0.75)\n",
       "dtype: object"
      ]
     },
     "execution_count": 124,
     "metadata": {},
     "output_type": "execute_result"
    },
    {
     "data": {
      "image/png": "[encoded data removed]",
      "text/plain": [
       "<Figure size 432x288 with 2 Axes>"
      ]
     },
     "metadata": {
      "needs_background": "light"
     },
     "output_type": "display_data"
    }
   ],
   "source": [
    "income_sample_df.groupby([\"Classification\"]).boxplot(column = \"Total Household Income\")"
   ]
  },
  {
   "cell_type": "markdown",
   "id": "9adde009",
   "metadata": {},
   "source": [
    "Based from the boxplot alone, it may seem that `rural` households tend to have less household income than `urban` ones. (claim)\n",
    "\n",
    "But is the difference really that significant? \n",
    "In order to make sure, a hypothesis test will be conducted."
   ]
  },
  {
   "cell_type": "markdown",
   "id": "f09f24b8",
   "metadata": {},
   "source": [
    "#### Hypothesis Test"
   ]
  },
  {
   "cell_type": "markdown",
   "id": "60badcab",
   "metadata": {},
   "source": [
    "Now, let us only focus on the `Total Household Income` variable. Let us compute the summary statistics for\n",
    "this variable."
   ]
  },
  {
   "cell_type": "code",
   "execution_count": 127,
   "id": "3c5a7a0d",
   "metadata": {},
   "outputs": [
    {
     "name": "stdout",
     "output_type": "stream",
     "text": [
      "Sample urban mean = 439553.82\n",
      "Sample rural mean = 221589.72\n",
      "Difference = 217964.10\n"
     ]
    }
   ],
   "source": [
    "agg = income_sample_df.groupby(\"Classification\").agg({\"Total Household Income\": [\"mean\", \"std\"]})\n",
    "sample_urban_mean = agg.loc[\"Urban\"].loc[\"Total Household Income\"].loc[\"mean\"]\n",
    "sample_rural_mean = agg.loc[\"Rural\"].loc[\"Total Household Income\"].loc[\"mean\"]\n",
    "\n",
    "print('Sample urban mean = {:.2f}'.format(sample_urban_mean))\n",
    "print('Sample rural mean = {:.2f}'.format(sample_rural_mean))\n",
    "\n",
    "diff = abs(sample_urban_mean - sample_rural_mean)\n",
    "print('Difference = {:.2f}'.format(diff))"
   ]
  },
  {
   "cell_type": "markdown",
   "id": "e50084cd",
   "metadata": {},
   "source": [
    "We set up our hypotheses as follows:\n",
    "𝐻0  (null hypothesis): The true difference is 0.\n",
    "𝐻𝐴  (alternative hypothesis): The true difference is not 0."
   ]
  },
  {
   "cell_type": "markdown",
   "id": "938135db",
   "metadata": {},
   "source": [
    "Now, we can use a *t*-test to compare the two means from the unpaired groups. This function\n",
    "assumes that the null hypothesis is that the difference between the two means is 0, while the alternative hypothesis is that the diference between them is not 0. We set the `equal_var` parameter to `False` because we don't want to assume that the population has equal variances."
   ]
  },
  {
   "cell_type": "code",
   "execution_count": 129,
   "id": "a562e1a5",
   "metadata": {},
   "outputs": [
    {
     "data": {
      "text/plain": [
       "Ttest_indResult(statistic=4.163232276631239, pvalue=7.875887830900579e-05)"
      ]
     },
     "execution_count": 129,
     "metadata": {},
     "output_type": "execute_result"
    }
   ],
   "source": [
    "st.ttest_ind(income_sample_df[income_sample_df[\"Classification\"] == \"Urban\"][\"Total Household Income\"],\n",
    "          income_sample_df[income_sample_df[\"Classification\"] == \"Rural\"][\"Total Household Income\"],\n",
    "          equal_var = False)"
   ]
  },
  {
   "cell_type": "markdown",
   "id": "49753a01",
   "metadata": {},
   "source": [
    "Under a significance level of 5%, the decision is to reject the null hypothesis. This means that there is sufficient evidence to support that there is a statistically significant difference between the `total household incomes` of `urban` and `rural` households."
   ]
  },
  {
   "cell_type": "markdown",
   "id": "47fe45d0",
   "metadata": {},
   "source": [
    "### Educational Attainment of Household Head and Location"
   ]
  },
  {
   "cell_type": "markdown",
   "id": "be8abe30",
   "metadata": {},
   "source": [
    "#### Get a Sample"
   ]
  },
  {
   "cell_type": "markdown",
   "id": "c18cc515",
   "metadata": {},
   "source": [
    "Here, we will get a total of **2000** samples for this since we will be using the `Household Head Highest Grade Completed` of both `urban` (1000) and `rural` (1000) households."
   ]
  },
  {
   "cell_type": "code",
   "execution_count": 131,
   "id": "441e450a",
   "metadata": {},
   "outputs": [
    {
     "data": {
      "text/html": [
       "<div>\n",
       "<style scoped>\n",
       "    .dataframe tbody tr th:only-of-type {\n",
       "        vertical-align: middle;\n",
       "    }\n",
       "\n",
       "    .dataframe tbody tr th {\n",
       "        vertical-align: top;\n",
       "    }\n",
       "\n",
       "    .dataframe thead th {\n",
       "        text-align: right;\n",
       "    }\n",
       "</style>\n",
       "<table border=\"1\" class=\"dataframe\">\n",
       "  <thead>\n",
       "    <tr style=\"text-align: right;\">\n",
       "      <th></th>\n",
       "      <th>Total Household Income</th>\n",
       "      <th>Region</th>\n",
       "      <th>Total Food Expenditure</th>\n",
       "      <th>Main Source of Income</th>\n",
       "      <th>Agricultural Household indicator</th>\n",
       "      <th>Bread and Cereals Expenditure</th>\n",
       "      <th>Total Rice Expenditure</th>\n",
       "      <th>Meat Expenditure</th>\n",
       "      <th>Total Fish and  marine products Expenditure</th>\n",
       "      <th>Fruit Expenditure</th>\n",
       "      <th>...</th>\n",
       "      <th>Number of Airconditioner</th>\n",
       "      <th>Number of Car, Jeep, Van</th>\n",
       "      <th>Number of Landline/wireless telephones</th>\n",
       "      <th>Number of Cellular phone</th>\n",
       "      <th>Number of Personal Computer</th>\n",
       "      <th>Number of Stove with Oven/Gas Range</th>\n",
       "      <th>Number of Motorized Banca</th>\n",
       "      <th>Number of Motorcycle/Tricycle</th>\n",
       "      <th>Household with Minors (0-17yrs)</th>\n",
       "      <th>Members that are minors</th>\n",
       "    </tr>\n",
       "  </thead>\n",
       "  <tbody>\n",
       "    <tr>\n",
       "      <th>37038</th>\n",
       "      <td>371690</td>\n",
       "      <td>NCR</td>\n",
       "      <td>130204</td>\n",
       "      <td>Wage/Salaries</td>\n",
       "      <td>2</td>\n",
       "      <td>22630</td>\n",
       "      <td>15288</td>\n",
       "      <td>20499</td>\n",
       "      <td>14400</td>\n",
       "      <td>3632</td>\n",
       "      <td>...</td>\n",
       "      <td>0</td>\n",
       "      <td>0</td>\n",
       "      <td>0</td>\n",
       "      <td>4</td>\n",
       "      <td>0</td>\n",
       "      <td>0</td>\n",
       "      <td>0</td>\n",
       "      <td>0</td>\n",
       "      <td>1</td>\n",
       "      <td>1</td>\n",
       "    </tr>\n",
       "    <tr>\n",
       "      <th>38804</th>\n",
       "      <td>256386</td>\n",
       "      <td>NCR</td>\n",
       "      <td>116040</td>\n",
       "      <td>Wage/Salaries</td>\n",
       "      <td>2</td>\n",
       "      <td>24316</td>\n",
       "      <td>19140</td>\n",
       "      <td>11042</td>\n",
       "      <td>11051</td>\n",
       "      <td>2670</td>\n",
       "      <td>...</td>\n",
       "      <td>0</td>\n",
       "      <td>0</td>\n",
       "      <td>0</td>\n",
       "      <td>1</td>\n",
       "      <td>0</td>\n",
       "      <td>0</td>\n",
       "      <td>0</td>\n",
       "      <td>0</td>\n",
       "      <td>1</td>\n",
       "      <td>1</td>\n",
       "    </tr>\n",
       "    <tr>\n",
       "      <th>39028</th>\n",
       "      <td>100575</td>\n",
       "      <td>NCR</td>\n",
       "      <td>32928</td>\n",
       "      <td>Other sources of Income</td>\n",
       "      <td>2</td>\n",
       "      <td>8274</td>\n",
       "      <td>3840</td>\n",
       "      <td>2273</td>\n",
       "      <td>1301</td>\n",
       "      <td>620</td>\n",
       "      <td>...</td>\n",
       "      <td>0</td>\n",
       "      <td>0</td>\n",
       "      <td>0</td>\n",
       "      <td>1</td>\n",
       "      <td>0</td>\n",
       "      <td>0</td>\n",
       "      <td>0</td>\n",
       "      <td>0</td>\n",
       "      <td>0</td>\n",
       "      <td>0</td>\n",
       "    </tr>\n",
       "    <tr>\n",
       "      <th>20774</th>\n",
       "      <td>893492</td>\n",
       "      <td>NCR</td>\n",
       "      <td>217123</td>\n",
       "      <td>Wage/Salaries</td>\n",
       "      <td>0</td>\n",
       "      <td>27519</td>\n",
       "      <td>16618</td>\n",
       "      <td>39102</td>\n",
       "      <td>13353</td>\n",
       "      <td>10960</td>\n",
       "      <td>...</td>\n",
       "      <td>1</td>\n",
       "      <td>0</td>\n",
       "      <td>1</td>\n",
       "      <td>6</td>\n",
       "      <td>1</td>\n",
       "      <td>0</td>\n",
       "      <td>0</td>\n",
       "      <td>0</td>\n",
       "      <td>0</td>\n",
       "      <td>0</td>\n",
       "    </tr>\n",
       "    <tr>\n",
       "      <th>36799</th>\n",
       "      <td>398546</td>\n",
       "      <td>NCR</td>\n",
       "      <td>175908</td>\n",
       "      <td>Wage/Salaries</td>\n",
       "      <td>2</td>\n",
       "      <td>32304</td>\n",
       "      <td>14023</td>\n",
       "      <td>26469</td>\n",
       "      <td>10558</td>\n",
       "      <td>5985</td>\n",
       "      <td>...</td>\n",
       "      <td>0</td>\n",
       "      <td>0</td>\n",
       "      <td>0</td>\n",
       "      <td>2</td>\n",
       "      <td>1</td>\n",
       "      <td>0</td>\n",
       "      <td>0</td>\n",
       "      <td>0</td>\n",
       "      <td>1</td>\n",
       "      <td>2</td>\n",
       "    </tr>\n",
       "    <tr>\n",
       "      <th>...</th>\n",
       "      <td>...</td>\n",
       "      <td>...</td>\n",
       "      <td>...</td>\n",
       "      <td>...</td>\n",
       "      <td>...</td>\n",
       "      <td>...</td>\n",
       "      <td>...</td>\n",
       "      <td>...</td>\n",
       "      <td>...</td>\n",
       "      <td>...</td>\n",
       "      <td>...</td>\n",
       "      <td>...</td>\n",
       "      <td>...</td>\n",
       "      <td>...</td>\n",
       "      <td>...</td>\n",
       "      <td>...</td>\n",
       "      <td>...</td>\n",
       "      <td>...</td>\n",
       "      <td>...</td>\n",
       "      <td>...</td>\n",
       "      <td>...</td>\n",
       "    </tr>\n",
       "    <tr>\n",
       "      <th>1993</th>\n",
       "      <td>199920</td>\n",
       "      <td>VI - Western Visayas</td>\n",
       "      <td>115506</td>\n",
       "      <td>Wage/Salaries</td>\n",
       "      <td>0</td>\n",
       "      <td>40904</td>\n",
       "      <td>36114</td>\n",
       "      <td>19498</td>\n",
       "      <td>10533</td>\n",
       "      <td>3400</td>\n",
       "      <td>...</td>\n",
       "      <td>0</td>\n",
       "      <td>0</td>\n",
       "      <td>0</td>\n",
       "      <td>4</td>\n",
       "      <td>0</td>\n",
       "      <td>0</td>\n",
       "      <td>0</td>\n",
       "      <td>0</td>\n",
       "      <td>1</td>\n",
       "      <td>2</td>\n",
       "    </tr>\n",
       "    <tr>\n",
       "      <th>1154</th>\n",
       "      <td>96002</td>\n",
       "      <td>XIII - Caraga</td>\n",
       "      <td>46373</td>\n",
       "      <td>Other sources of Income</td>\n",
       "      <td>0</td>\n",
       "      <td>22672</td>\n",
       "      <td>12480</td>\n",
       "      <td>2740</td>\n",
       "      <td>7790</td>\n",
       "      <td>890</td>\n",
       "      <td>...</td>\n",
       "      <td>0</td>\n",
       "      <td>0</td>\n",
       "      <td>0</td>\n",
       "      <td>1</td>\n",
       "      <td>0</td>\n",
       "      <td>0</td>\n",
       "      <td>0</td>\n",
       "      <td>0</td>\n",
       "      <td>0</td>\n",
       "      <td>0</td>\n",
       "    </tr>\n",
       "    <tr>\n",
       "      <th>17238</th>\n",
       "      <td>139164</td>\n",
       "      <td>NaN</td>\n",
       "      <td>78881</td>\n",
       "      <td>Wage/Salaries</td>\n",
       "      <td>0</td>\n",
       "      <td>19190</td>\n",
       "      <td>7961</td>\n",
       "      <td>11522</td>\n",
       "      <td>6205</td>\n",
       "      <td>1463</td>\n",
       "      <td>...</td>\n",
       "      <td>0</td>\n",
       "      <td>0</td>\n",
       "      <td>0</td>\n",
       "      <td>2</td>\n",
       "      <td>0</td>\n",
       "      <td>0</td>\n",
       "      <td>0</td>\n",
       "      <td>1</td>\n",
       "      <td>0</td>\n",
       "      <td>0</td>\n",
       "    </tr>\n",
       "    <tr>\n",
       "      <th>35820</th>\n",
       "      <td>74711</td>\n",
       "      <td>IX - Zamboanga Peninsula</td>\n",
       "      <td>58256</td>\n",
       "      <td>Enterpreneurial Activities</td>\n",
       "      <td>1</td>\n",
       "      <td>32699</td>\n",
       "      <td>0</td>\n",
       "      <td>510</td>\n",
       "      <td>5682</td>\n",
       "      <td>1042</td>\n",
       "      <td>...</td>\n",
       "      <td>0</td>\n",
       "      <td>0</td>\n",
       "      <td>0</td>\n",
       "      <td>0</td>\n",
       "      <td>0</td>\n",
       "      <td>0</td>\n",
       "      <td>0</td>\n",
       "      <td>0</td>\n",
       "      <td>1</td>\n",
       "      <td>7</td>\n",
       "    </tr>\n",
       "    <tr>\n",
       "      <th>19039</th>\n",
       "      <td>100066</td>\n",
       "      <td>VIII - Eastern Visayas</td>\n",
       "      <td>32773</td>\n",
       "      <td>Wage/Salaries</td>\n",
       "      <td>0</td>\n",
       "      <td>15833</td>\n",
       "      <td>13937</td>\n",
       "      <td>3438</td>\n",
       "      <td>2434</td>\n",
       "      <td>900</td>\n",
       "      <td>...</td>\n",
       "      <td>0</td>\n",
       "      <td>0</td>\n",
       "      <td>0</td>\n",
       "      <td>2</td>\n",
       "      <td>0</td>\n",
       "      <td>0</td>\n",
       "      <td>0</td>\n",
       "      <td>0</td>\n",
       "      <td>0</td>\n",
       "      <td>0</td>\n",
       "    </tr>\n",
       "  </tbody>\n",
       "</table>\n",
       "<p>2000 rows × 62 columns</p>\n",
       "</div>"
      ],
      "text/plain": [
       "       Total Household Income                    Region  \\\n",
       "37038                  371690                       NCR   \n",
       "38804                  256386                       NCR   \n",
       "39028                  100575                       NCR   \n",
       "20774                  893492                       NCR   \n",
       "36799                  398546                       NCR   \n",
       "...                       ...                       ...   \n",
       "1993                   199920      VI - Western Visayas   \n",
       "1154                    96002             XIII - Caraga   \n",
       "17238                  139164                       NaN   \n",
       "35820                   74711  IX - Zamboanga Peninsula   \n",
       "19039                  100066    VIII - Eastern Visayas   \n",
       "\n",
       "       Total Food Expenditure       Main Source of Income  \\\n",
       "37038                  130204               Wage/Salaries   \n",
       "38804                  116040               Wage/Salaries   \n",
       "39028                   32928     Other sources of Income   \n",
       "20774                  217123               Wage/Salaries   \n",
       "36799                  175908               Wage/Salaries   \n",
       "...                       ...                         ...   \n",
       "1993                   115506               Wage/Salaries   \n",
       "1154                    46373     Other sources of Income   \n",
       "17238                   78881               Wage/Salaries   \n",
       "35820                   58256  Enterpreneurial Activities   \n",
       "19039                   32773               Wage/Salaries   \n",
       "\n",
       "       Agricultural Household indicator  Bread and Cereals Expenditure  \\\n",
       "37038                                 2                          22630   \n",
       "38804                                 2                          24316   \n",
       "39028                                 2                           8274   \n",
       "20774                                 0                          27519   \n",
       "36799                                 2                          32304   \n",
       "...                                 ...                            ...   \n",
       "1993                                  0                          40904   \n",
       "1154                                  0                          22672   \n",
       "17238                                 0                          19190   \n",
       "35820                                 1                          32699   \n",
       "19039                                 0                          15833   \n",
       "\n",
       "       Total Rice Expenditure  Meat Expenditure  \\\n",
       "37038                   15288             20499   \n",
       "38804                   19140             11042   \n",
       "39028                    3840              2273   \n",
       "20774                   16618             39102   \n",
       "36799                   14023             26469   \n",
       "...                       ...               ...   \n",
       "1993                    36114             19498   \n",
       "1154                    12480              2740   \n",
       "17238                    7961             11522   \n",
       "35820                       0               510   \n",
       "19039                   13937              3438   \n",
       "\n",
       "       Total Fish and  marine products Expenditure  Fruit Expenditure  ...  \\\n",
       "37038                                        14400               3632  ...   \n",
       "38804                                        11051               2670  ...   \n",
       "39028                                         1301                620  ...   \n",
       "20774                                        13353              10960  ...   \n",
       "36799                                        10558               5985  ...   \n",
       "...                                            ...                ...  ...   \n",
       "1993                                         10533               3400  ...   \n",
       "1154                                          7790                890  ...   \n",
       "17238                                         6205               1463  ...   \n",
       "35820                                         5682               1042  ...   \n",
       "19039                                         2434                900  ...   \n",
       "\n",
       "       Number of Airconditioner  Number of Car, Jeep, Van  \\\n",
       "37038                         0                         0   \n",
       "38804                         0                         0   \n",
       "39028                         0                         0   \n",
       "20774                         1                         0   \n",
       "36799                         0                         0   \n",
       "...                         ...                       ...   \n",
       "1993                          0                         0   \n",
       "1154                          0                         0   \n",
       "17238                         0                         0   \n",
       "35820                         0                         0   \n",
       "19039                         0                         0   \n",
       "\n",
       "       Number of Landline/wireless telephones  Number of Cellular phone  \\\n",
       "37038                                       0                         4   \n",
       "38804                                       0                         1   \n",
       "39028                                       0                         1   \n",
       "20774                                       1                         6   \n",
       "36799                                       0                         2   \n",
       "...                                       ...                       ...   \n",
       "1993                                        0                         4   \n",
       "1154                                        0                         1   \n",
       "17238                                       0                         2   \n",
       "35820                                       0                         0   \n",
       "19039                                       0                         2   \n",
       "\n",
       "       Number of Personal Computer  Number of Stove with Oven/Gas Range  \\\n",
       "37038                            0                                    0   \n",
       "38804                            0                                    0   \n",
       "39028                            0                                    0   \n",
       "20774                            1                                    0   \n",
       "36799                            1                                    0   \n",
       "...                            ...                                  ...   \n",
       "1993                             0                                    0   \n",
       "1154                             0                                    0   \n",
       "17238                            0                                    0   \n",
       "35820                            0                                    0   \n",
       "19039                            0                                    0   \n",
       "\n",
       "       Number of Motorized Banca  Number of Motorcycle/Tricycle  \\\n",
       "37038                          0                              0   \n",
       "38804                          0                              0   \n",
       "39028                          0                              0   \n",
       "20774                          0                              0   \n",
       "36799                          0                              0   \n",
       "...                          ...                            ...   \n",
       "1993                           0                              0   \n",
       "1154                           0                              0   \n",
       "17238                          0                              1   \n",
       "35820                          0                              0   \n",
       "19039                          0                              0   \n",
       "\n",
       "       Household with Minors (0-17yrs)  Members that are minors  \n",
       "37038                                1                        1  \n",
       "38804                                1                        1  \n",
       "39028                                0                        0  \n",
       "20774                                0                        0  \n",
       "36799                                1                        2  \n",
       "...                                ...                      ...  \n",
       "1993                                 1                        2  \n",
       "1154                                 0                        0  \n",
       "17238                                0                        0  \n",
       "35820                                1                        7  \n",
       "19039                                0                        0  \n",
       "\n",
       "[2000 rows x 62 columns]"
      ]
     },
     "execution_count": 131,
     "metadata": {},
     "output_type": "execute_result"
    }
   ],
   "source": [
    "n = 1000 # sample size\n",
    "income_urban_sample2 = income_df[income_df['Region'] == \"NCR\"].sample(n, random_state = 1)\n",
    "income_rural_sample2 = income_df[income_df['Region'] != \"NCR\"].sample(n, random_state = 1)\n",
    "\n",
    "frames = [income_urban_sample2, income_rural_sample2]\n",
    "income_sample_df2 = pd.concat(frames)\n",
    "income_sample_df2\n"
   ]
  },
  {
   "cell_type": "markdown",
   "id": "ea5f884f",
   "metadata": {},
   "source": [
    "We will now us the `where` function of numpy to determine the household classification of the sample data."
   ]
  },
  {
   "cell_type": "code",
   "execution_count": 132,
   "id": "b95d3945",
   "metadata": {},
   "outputs": [
    {
     "data": {
      "text/html": [
       "<div>\n",
       "<style scoped>\n",
       "    .dataframe tbody tr th:only-of-type {\n",
       "        vertical-align: middle;\n",
       "    }\n",
       "\n",
       "    .dataframe tbody tr th {\n",
       "        vertical-align: top;\n",
       "    }\n",
       "\n",
       "    .dataframe thead th {\n",
       "        text-align: right;\n",
       "    }\n",
       "</style>\n",
       "<table border=\"1\" class=\"dataframe\">\n",
       "  <thead>\n",
       "    <tr style=\"text-align: right;\">\n",
       "      <th></th>\n",
       "      <th>Total Household Income</th>\n",
       "      <th>Region</th>\n",
       "      <th>Total Food Expenditure</th>\n",
       "      <th>Main Source of Income</th>\n",
       "      <th>Agricultural Household indicator</th>\n",
       "      <th>Bread and Cereals Expenditure</th>\n",
       "      <th>Total Rice Expenditure</th>\n",
       "      <th>Meat Expenditure</th>\n",
       "      <th>Total Fish and  marine products Expenditure</th>\n",
       "      <th>Fruit Expenditure</th>\n",
       "      <th>...</th>\n",
       "      <th>Number of Car, Jeep, Van</th>\n",
       "      <th>Number of Landline/wireless telephones</th>\n",
       "      <th>Number of Cellular phone</th>\n",
       "      <th>Number of Personal Computer</th>\n",
       "      <th>Number of Stove with Oven/Gas Range</th>\n",
       "      <th>Number of Motorized Banca</th>\n",
       "      <th>Number of Motorcycle/Tricycle</th>\n",
       "      <th>Household with Minors (0-17yrs)</th>\n",
       "      <th>Members that are minors</th>\n",
       "      <th>Household Classification</th>\n",
       "    </tr>\n",
       "  </thead>\n",
       "  <tbody>\n",
       "    <tr>\n",
       "      <th>37038</th>\n",
       "      <td>371690</td>\n",
       "      <td>NCR</td>\n",
       "      <td>130204</td>\n",
       "      <td>Wage/Salaries</td>\n",
       "      <td>2</td>\n",
       "      <td>22630</td>\n",
       "      <td>15288</td>\n",
       "      <td>20499</td>\n",
       "      <td>14400</td>\n",
       "      <td>3632</td>\n",
       "      <td>...</td>\n",
       "      <td>0</td>\n",
       "      <td>0</td>\n",
       "      <td>4</td>\n",
       "      <td>0</td>\n",
       "      <td>0</td>\n",
       "      <td>0</td>\n",
       "      <td>0</td>\n",
       "      <td>1</td>\n",
       "      <td>1</td>\n",
       "      <td>Urban</td>\n",
       "    </tr>\n",
       "    <tr>\n",
       "      <th>38804</th>\n",
       "      <td>256386</td>\n",
       "      <td>NCR</td>\n",
       "      <td>116040</td>\n",
       "      <td>Wage/Salaries</td>\n",
       "      <td>2</td>\n",
       "      <td>24316</td>\n",
       "      <td>19140</td>\n",
       "      <td>11042</td>\n",
       "      <td>11051</td>\n",
       "      <td>2670</td>\n",
       "      <td>...</td>\n",
       "      <td>0</td>\n",
       "      <td>0</td>\n",
       "      <td>1</td>\n",
       "      <td>0</td>\n",
       "      <td>0</td>\n",
       "      <td>0</td>\n",
       "      <td>0</td>\n",
       "      <td>1</td>\n",
       "      <td>1</td>\n",
       "      <td>Urban</td>\n",
       "    </tr>\n",
       "    <tr>\n",
       "      <th>39028</th>\n",
       "      <td>100575</td>\n",
       "      <td>NCR</td>\n",
       "      <td>32928</td>\n",
       "      <td>Other sources of Income</td>\n",
       "      <td>2</td>\n",
       "      <td>8274</td>\n",
       "      <td>3840</td>\n",
       "      <td>2273</td>\n",
       "      <td>1301</td>\n",
       "      <td>620</td>\n",
       "      <td>...</td>\n",
       "      <td>0</td>\n",
       "      <td>0</td>\n",
       "      <td>1</td>\n",
       "      <td>0</td>\n",
       "      <td>0</td>\n",
       "      <td>0</td>\n",
       "      <td>0</td>\n",
       "      <td>0</td>\n",
       "      <td>0</td>\n",
       "      <td>Urban</td>\n",
       "    </tr>\n",
       "    <tr>\n",
       "      <th>20774</th>\n",
       "      <td>893492</td>\n",
       "      <td>NCR</td>\n",
       "      <td>217123</td>\n",
       "      <td>Wage/Salaries</td>\n",
       "      <td>0</td>\n",
       "      <td>27519</td>\n",
       "      <td>16618</td>\n",
       "      <td>39102</td>\n",
       "      <td>13353</td>\n",
       "      <td>10960</td>\n",
       "      <td>...</td>\n",
       "      <td>0</td>\n",
       "      <td>1</td>\n",
       "      <td>6</td>\n",
       "      <td>1</td>\n",
       "      <td>0</td>\n",
       "      <td>0</td>\n",
       "      <td>0</td>\n",
       "      <td>0</td>\n",
       "      <td>0</td>\n",
       "      <td>Urban</td>\n",
       "    </tr>\n",
       "    <tr>\n",
       "      <th>36799</th>\n",
       "      <td>398546</td>\n",
       "      <td>NCR</td>\n",
       "      <td>175908</td>\n",
       "      <td>Wage/Salaries</td>\n",
       "      <td>2</td>\n",
       "      <td>32304</td>\n",
       "      <td>14023</td>\n",
       "      <td>26469</td>\n",
       "      <td>10558</td>\n",
       "      <td>5985</td>\n",
       "      <td>...</td>\n",
       "      <td>0</td>\n",
       "      <td>0</td>\n",
       "      <td>2</td>\n",
       "      <td>1</td>\n",
       "      <td>0</td>\n",
       "      <td>0</td>\n",
       "      <td>0</td>\n",
       "      <td>1</td>\n",
       "      <td>2</td>\n",
       "      <td>Urban</td>\n",
       "    </tr>\n",
       "    <tr>\n",
       "      <th>...</th>\n",
       "      <td>...</td>\n",
       "      <td>...</td>\n",
       "      <td>...</td>\n",
       "      <td>...</td>\n",
       "      <td>...</td>\n",
       "      <td>...</td>\n",
       "      <td>...</td>\n",
       "      <td>...</td>\n",
       "      <td>...</td>\n",
       "      <td>...</td>\n",
       "      <td>...</td>\n",
       "      <td>...</td>\n",
       "      <td>...</td>\n",
       "      <td>...</td>\n",
       "      <td>...</td>\n",
       "      <td>...</td>\n",
       "      <td>...</td>\n",
       "      <td>...</td>\n",
       "      <td>...</td>\n",
       "      <td>...</td>\n",
       "      <td>...</td>\n",
       "    </tr>\n",
       "    <tr>\n",
       "      <th>1993</th>\n",
       "      <td>199920</td>\n",
       "      <td>VI - Western Visayas</td>\n",
       "      <td>115506</td>\n",
       "      <td>Wage/Salaries</td>\n",
       "      <td>0</td>\n",
       "      <td>40904</td>\n",
       "      <td>36114</td>\n",
       "      <td>19498</td>\n",
       "      <td>10533</td>\n",
       "      <td>3400</td>\n",
       "      <td>...</td>\n",
       "      <td>0</td>\n",
       "      <td>0</td>\n",
       "      <td>4</td>\n",
       "      <td>0</td>\n",
       "      <td>0</td>\n",
       "      <td>0</td>\n",
       "      <td>0</td>\n",
       "      <td>1</td>\n",
       "      <td>2</td>\n",
       "      <td>Rural</td>\n",
       "    </tr>\n",
       "    <tr>\n",
       "      <th>1154</th>\n",
       "      <td>96002</td>\n",
       "      <td>XIII - Caraga</td>\n",
       "      <td>46373</td>\n",
       "      <td>Other sources of Income</td>\n",
       "      <td>0</td>\n",
       "      <td>22672</td>\n",
       "      <td>12480</td>\n",
       "      <td>2740</td>\n",
       "      <td>7790</td>\n",
       "      <td>890</td>\n",
       "      <td>...</td>\n",
       "      <td>0</td>\n",
       "      <td>0</td>\n",
       "      <td>1</td>\n",
       "      <td>0</td>\n",
       "      <td>0</td>\n",
       "      <td>0</td>\n",
       "      <td>0</td>\n",
       "      <td>0</td>\n",
       "      <td>0</td>\n",
       "      <td>Rural</td>\n",
       "    </tr>\n",
       "    <tr>\n",
       "      <th>17238</th>\n",
       "      <td>139164</td>\n",
       "      <td>NaN</td>\n",
       "      <td>78881</td>\n",
       "      <td>Wage/Salaries</td>\n",
       "      <td>0</td>\n",
       "      <td>19190</td>\n",
       "      <td>7961</td>\n",
       "      <td>11522</td>\n",
       "      <td>6205</td>\n",
       "      <td>1463</td>\n",
       "      <td>...</td>\n",
       "      <td>0</td>\n",
       "      <td>0</td>\n",
       "      <td>2</td>\n",
       "      <td>0</td>\n",
       "      <td>0</td>\n",
       "      <td>0</td>\n",
       "      <td>1</td>\n",
       "      <td>0</td>\n",
       "      <td>0</td>\n",
       "      <td>Rural</td>\n",
       "    </tr>\n",
       "    <tr>\n",
       "      <th>35820</th>\n",
       "      <td>74711</td>\n",
       "      <td>IX - Zamboanga Peninsula</td>\n",
       "      <td>58256</td>\n",
       "      <td>Enterpreneurial Activities</td>\n",
       "      <td>1</td>\n",
       "      <td>32699</td>\n",
       "      <td>0</td>\n",
       "      <td>510</td>\n",
       "      <td>5682</td>\n",
       "      <td>1042</td>\n",
       "      <td>...</td>\n",
       "      <td>0</td>\n",
       "      <td>0</td>\n",
       "      <td>0</td>\n",
       "      <td>0</td>\n",
       "      <td>0</td>\n",
       "      <td>0</td>\n",
       "      <td>0</td>\n",
       "      <td>1</td>\n",
       "      <td>7</td>\n",
       "      <td>Rural</td>\n",
       "    </tr>\n",
       "    <tr>\n",
       "      <th>19039</th>\n",
       "      <td>100066</td>\n",
       "      <td>VIII - Eastern Visayas</td>\n",
       "      <td>32773</td>\n",
       "      <td>Wage/Salaries</td>\n",
       "      <td>0</td>\n",
       "      <td>15833</td>\n",
       "      <td>13937</td>\n",
       "      <td>3438</td>\n",
       "      <td>2434</td>\n",
       "      <td>900</td>\n",
       "      <td>...</td>\n",
       "      <td>0</td>\n",
       "      <td>0</td>\n",
       "      <td>2</td>\n",
       "      <td>0</td>\n",
       "      <td>0</td>\n",
       "      <td>0</td>\n",
       "      <td>0</td>\n",
       "      <td>0</td>\n",
       "      <td>0</td>\n",
       "      <td>Rural</td>\n",
       "    </tr>\n",
       "  </tbody>\n",
       "</table>\n",
       "<p>2000 rows × 63 columns</p>\n",
       "</div>"
      ],
      "text/plain": [
       "       Total Household Income                    Region  \\\n",
       "37038                  371690                       NCR   \n",
       "38804                  256386                       NCR   \n",
       "39028                  100575                       NCR   \n",
       "20774                  893492                       NCR   \n",
       "36799                  398546                       NCR   \n",
       "...                       ...                       ...   \n",
       "1993                   199920      VI - Western Visayas   \n",
       "1154                    96002             XIII - Caraga   \n",
       "17238                  139164                       NaN   \n",
       "35820                   74711  IX - Zamboanga Peninsula   \n",
       "19039                  100066    VIII - Eastern Visayas   \n",
       "\n",
       "       Total Food Expenditure       Main Source of Income  \\\n",
       "37038                  130204               Wage/Salaries   \n",
       "38804                  116040               Wage/Salaries   \n",
       "39028                   32928     Other sources of Income   \n",
       "20774                  217123               Wage/Salaries   \n",
       "36799                  175908               Wage/Salaries   \n",
       "...                       ...                         ...   \n",
       "1993                   115506               Wage/Salaries   \n",
       "1154                    46373     Other sources of Income   \n",
       "17238                   78881               Wage/Salaries   \n",
       "35820                   58256  Enterpreneurial Activities   \n",
       "19039                   32773               Wage/Salaries   \n",
       "\n",
       "       Agricultural Household indicator  Bread and Cereals Expenditure  \\\n",
       "37038                                 2                          22630   \n",
       "38804                                 2                          24316   \n",
       "39028                                 2                           8274   \n",
       "20774                                 0                          27519   \n",
       "36799                                 2                          32304   \n",
       "...                                 ...                            ...   \n",
       "1993                                  0                          40904   \n",
       "1154                                  0                          22672   \n",
       "17238                                 0                          19190   \n",
       "35820                                 1                          32699   \n",
       "19039                                 0                          15833   \n",
       "\n",
       "       Total Rice Expenditure  Meat Expenditure  \\\n",
       "37038                   15288             20499   \n",
       "38804                   19140             11042   \n",
       "39028                    3840              2273   \n",
       "20774                   16618             39102   \n",
       "36799                   14023             26469   \n",
       "...                       ...               ...   \n",
       "1993                    36114             19498   \n",
       "1154                    12480              2740   \n",
       "17238                    7961             11522   \n",
       "35820                       0               510   \n",
       "19039                   13937              3438   \n",
       "\n",
       "       Total Fish and  marine products Expenditure  Fruit Expenditure  ...  \\\n",
       "37038                                        14400               3632  ...   \n",
       "38804                                        11051               2670  ...   \n",
       "39028                                         1301                620  ...   \n",
       "20774                                        13353              10960  ...   \n",
       "36799                                        10558               5985  ...   \n",
       "...                                            ...                ...  ...   \n",
       "1993                                         10533               3400  ...   \n",
       "1154                                          7790                890  ...   \n",
       "17238                                         6205               1463  ...   \n",
       "35820                                         5682               1042  ...   \n",
       "19039                                         2434                900  ...   \n",
       "\n",
       "       Number of Car, Jeep, Van  Number of Landline/wireless telephones  \\\n",
       "37038                         0                                       0   \n",
       "38804                         0                                       0   \n",
       "39028                         0                                       0   \n",
       "20774                         0                                       1   \n",
       "36799                         0                                       0   \n",
       "...                         ...                                     ...   \n",
       "1993                          0                                       0   \n",
       "1154                          0                                       0   \n",
       "17238                         0                                       0   \n",
       "35820                         0                                       0   \n",
       "19039                         0                                       0   \n",
       "\n",
       "       Number of Cellular phone  Number of Personal Computer  \\\n",
       "37038                         4                            0   \n",
       "38804                         1                            0   \n",
       "39028                         1                            0   \n",
       "20774                         6                            1   \n",
       "36799                         2                            1   \n",
       "...                         ...                          ...   \n",
       "1993                          4                            0   \n",
       "1154                          1                            0   \n",
       "17238                         2                            0   \n",
       "35820                         0                            0   \n",
       "19039                         2                            0   \n",
       "\n",
       "       Number of Stove with Oven/Gas Range  Number of Motorized Banca  \\\n",
       "37038                                    0                          0   \n",
       "38804                                    0                          0   \n",
       "39028                                    0                          0   \n",
       "20774                                    0                          0   \n",
       "36799                                    0                          0   \n",
       "...                                    ...                        ...   \n",
       "1993                                     0                          0   \n",
       "1154                                     0                          0   \n",
       "17238                                    0                          0   \n",
       "35820                                    0                          0   \n",
       "19039                                    0                          0   \n",
       "\n",
       "       Number of Motorcycle/Tricycle  Household with Minors (0-17yrs)  \\\n",
       "37038                              0                                1   \n",
       "38804                              0                                1   \n",
       "39028                              0                                0   \n",
       "20774                              0                                0   \n",
       "36799                              0                                1   \n",
       "...                              ...                              ...   \n",
       "1993                               0                                1   \n",
       "1154                               0                                0   \n",
       "17238                              1                                0   \n",
       "35820                              0                                1   \n",
       "19039                              0                                0   \n",
       "\n",
       "       Members that are minors  Household Classification  \n",
       "37038                        1                     Urban  \n",
       "38804                        1                     Urban  \n",
       "39028                        0                     Urban  \n",
       "20774                        0                     Urban  \n",
       "36799                        2                     Urban  \n",
       "...                        ...                       ...  \n",
       "1993                         2                     Rural  \n",
       "1154                         0                     Rural  \n",
       "17238                        0                     Rural  \n",
       "35820                        7                     Rural  \n",
       "19039                        0                     Rural  \n",
       "\n",
       "[2000 rows x 63 columns]"
      ]
     },
     "execution_count": 132,
     "metadata": {},
     "output_type": "execute_result"
    }
   ],
   "source": [
    "income_sample_df2[\"Household Classification\"] = np.where(income_sample_df2[\"Region\"] == \"NCR\", \"Urban\", \"Rural\")\n",
    "income_sample_df2"
   ]
  },
  {
   "cell_type": "markdown",
   "id": "a69ef63b",
   "metadata": {},
   "source": [
    "After classifying the households based on their region, we will also classify the educational attainment of the household head, the classification are as follows:\n",
    "- `Preschool` - The household head has at least attended/finished preschool education.\n",
    "- `Elementary` - The household head has at least attended/finished elementary education.\n",
    "- `Highschool` - The household head has at least attended/finished secondary education.\n",
    "- `College` - The household head has at least attended/finished college.\n",
    "- `Postgraduate` - The household head has at least attended/finished graduate school.\n",
    "- `Other Programs` - The household head has at least attended/finished other programs such as technical programs, art programs, vocational programs, etc.\n",
    "\n",
    "We will also use a function called `classify_education` to identify which classification the household head belongs to."
   ]
  },
  {
   "cell_type": "code",
   "execution_count": 133,
   "id": "c0b6ae32",
   "metadata": {},
   "outputs": [
    {
     "data": {
      "text/html": [
       "<div>\n",
       "<style scoped>\n",
       "    .dataframe tbody tr th:only-of-type {\n",
       "        vertical-align: middle;\n",
       "    }\n",
       "\n",
       "    .dataframe tbody tr th {\n",
       "        vertical-align: top;\n",
       "    }\n",
       "\n",
       "    .dataframe thead th {\n",
       "        text-align: right;\n",
       "    }\n",
       "</style>\n",
       "<table border=\"1\" class=\"dataframe\">\n",
       "  <thead>\n",
       "    <tr style=\"text-align: right;\">\n",
       "      <th></th>\n",
       "      <th>Household Head Highest Grade Completed</th>\n",
       "      <th>Household Head Highest Grade Completed Classification</th>\n",
       "    </tr>\n",
       "  </thead>\n",
       "  <tbody>\n",
       "    <tr>\n",
       "      <th>37038</th>\n",
       "      <td>Security Services Programs</td>\n",
       "      <td>Other Programs</td>\n",
       "    </tr>\n",
       "    <tr>\n",
       "      <th>38804</th>\n",
       "      <td>High School Graduate</td>\n",
       "      <td>High School</td>\n",
       "    </tr>\n",
       "    <tr>\n",
       "      <th>39028</th>\n",
       "      <td>Computing/Information Technology Programs</td>\n",
       "      <td>Other Programs</td>\n",
       "    </tr>\n",
       "    <tr>\n",
       "      <th>20774</th>\n",
       "      <td>Engineering and Engineering Trades Programs</td>\n",
       "      <td>Other Programs</td>\n",
       "    </tr>\n",
       "    <tr>\n",
       "      <th>36799</th>\n",
       "      <td>Personal Services Programs</td>\n",
       "      <td>Other Programs</td>\n",
       "    </tr>\n",
       "    <tr>\n",
       "      <th>...</th>\n",
       "      <td>...</td>\n",
       "      <td>...</td>\n",
       "    </tr>\n",
       "    <tr>\n",
       "      <th>1993</th>\n",
       "      <td>First Year Post Secondary</td>\n",
       "      <td>College</td>\n",
       "    </tr>\n",
       "    <tr>\n",
       "      <th>1154</th>\n",
       "      <td>Elementary Graduate</td>\n",
       "      <td>Elementary</td>\n",
       "    </tr>\n",
       "    <tr>\n",
       "      <th>17238</th>\n",
       "      <td>High School Graduate</td>\n",
       "      <td>High School</td>\n",
       "    </tr>\n",
       "    <tr>\n",
       "      <th>35820</th>\n",
       "      <td>Grade 1</td>\n",
       "      <td>Elementary</td>\n",
       "    </tr>\n",
       "    <tr>\n",
       "      <th>19039</th>\n",
       "      <td>High School Graduate</td>\n",
       "      <td>High School</td>\n",
       "    </tr>\n",
       "  </tbody>\n",
       "</table>\n",
       "<p>2000 rows × 2 columns</p>\n",
       "</div>"
      ],
      "text/plain": [
       "            Household Head Highest Grade Completed  \\\n",
       "37038                   Security Services Programs   \n",
       "38804                         High School Graduate   \n",
       "39028    Computing/Information Technology Programs   \n",
       "20774  Engineering and Engineering Trades Programs   \n",
       "36799                   Personal Services Programs   \n",
       "...                                            ...   \n",
       "1993                     First Year Post Secondary   \n",
       "1154                           Elementary Graduate   \n",
       "17238                         High School Graduate   \n",
       "35820                                      Grade 1   \n",
       "19039                         High School Graduate   \n",
       "\n",
       "      Household Head Highest Grade Completed Classification  \n",
       "37038                                     Other Programs     \n",
       "38804                                        High School     \n",
       "39028                                     Other Programs     \n",
       "20774                                     Other Programs     \n",
       "36799                                     Other Programs     \n",
       "...                                                  ...     \n",
       "1993                                             College     \n",
       "1154                                          Elementary     \n",
       "17238                                        High School     \n",
       "35820                                         Elementary     \n",
       "19039                                        High School     \n",
       "\n",
       "[2000 rows x 2 columns]"
      ]
     },
     "execution_count": 133,
     "metadata": {},
     "output_type": "execute_result"
    }
   ],
   "source": [
    "def classify_education(string):\n",
    "    if \"Grade\" in string or \"Elementary\" in string:\n",
    "        return \"Elementary\"\n",
    "    elif \"High School\" in string:\n",
    "        return \"High School\"\n",
    "    elif \"College\" in string or \"Post Secondary\" in string:\n",
    "        return \"College\"\n",
    "    elif \"Program\" in string:\n",
    "        return \"Other Programs\"\n",
    "    elif \"Preschool\" in string:\n",
    "        return \"Preschool\"\n",
    "    elif \"Baccalaureate\" in string:\n",
    "        return \"Postgraduate\"\n",
    "    else:\n",
    "        return \"No Grade Completed\"\n",
    "\n",
    "income_sample_df2[\"Household Head Highest Grade Completed Classification\"] = income_sample_df2[\"Household Head Highest Grade Completed\"].apply(classify_education)\n",
    "income_sample_df2.loc[:,[\"Household Head Highest Grade Completed\", \"Household Head Highest Grade Completed Classification\"]]\n",
    "\n"
   ]
  },
  {
   "cell_type": "markdown",
   "id": "06b0725a",
   "metadata": {},
   "source": [
    "After the classifications, we will now count the number of people in each group for each `Household Classification`."
   ]
  },
  {
   "cell_type": "code",
   "execution_count": 135,
   "id": "a1fc7f91",
   "metadata": {},
   "outputs": [
    {
     "data": {
      "text/plain": [
       "Household Classification  Household Head Highest Grade Completed Classification\n",
       "Rural                     Elementary                                               477\n",
       "                          High School                                              323\n",
       "                          Other Programs                                           120\n",
       "                          College                                                   73\n",
       "                          Postgraduate                                               6\n",
       "                          Preschool                                                  1\n",
       "Urban                     High School                                              469\n",
       "                          Other Programs                                           234\n",
       "                          Elementary                                               147\n",
       "                          College                                                  144\n",
       "                          Postgraduate                                               6\n",
       "Name: Household Head Highest Grade Completed Classification, dtype: int64"
      ]
     },
     "execution_count": 135,
     "metadata": {},
     "output_type": "execute_result"
    }
   ],
   "source": [
    "counts = income_sample_df2.groupby(\"Household Classification\")[\"Household Head Highest Grade Completed Classification\"].value_counts()\n",
    "counts"
   ]
  },
  {
   "cell_type": "markdown",
   "id": "6b176ebc",
   "metadata": {},
   "source": [
    "As you can see, it seems that a lot of household heads in the rural regions attained at least an elementary education compared to urban regions where there are many household heads who have attained at least an secondary education. But aside from this observation, we should ask ourselves if the difference between two groups is statiscally significant."
   ]
  },
  {
   "cell_type": "markdown",
   "id": "09d63d04",
   "metadata": {},
   "source": [
    "With that said, we will use a Chi-square test to determine if there is a difference between the two groups based on the sample the we got."
   ]
  },
  {
   "cell_type": "markdown",
   "id": "dfe47345",
   "metadata": {},
   "source": [
    "Our first step for this test would be to convert our counts into a table format."
   ]
  },
  {
   "cell_type": "code",
   "execution_count": 136,
   "id": "9bade447",
   "metadata": {},
   "outputs": [
    {
     "data": {
      "text/html": [
       "<div>\n",
       "<style scoped>\n",
       "    .dataframe tbody tr th:only-of-type {\n",
       "        vertical-align: middle;\n",
       "    }\n",
       "\n",
       "    .dataframe tbody tr th {\n",
       "        vertical-align: top;\n",
       "    }\n",
       "\n",
       "    .dataframe thead th {\n",
       "        text-align: right;\n",
       "    }\n",
       "</style>\n",
       "<table border=\"1\" class=\"dataframe\">\n",
       "  <thead>\n",
       "    <tr style=\"text-align: right;\">\n",
       "      <th></th>\n",
       "      <th>Rural</th>\n",
       "      <th>Urban</th>\n",
       "    </tr>\n",
       "    <tr>\n",
       "      <th>Household Head Highest Grade Completed Classification</th>\n",
       "      <th></th>\n",
       "      <th></th>\n",
       "    </tr>\n",
       "  </thead>\n",
       "  <tbody>\n",
       "    <tr>\n",
       "      <th>Elementary</th>\n",
       "      <td>477</td>\n",
       "      <td>147</td>\n",
       "    </tr>\n",
       "    <tr>\n",
       "      <th>High School</th>\n",
       "      <td>323</td>\n",
       "      <td>469</td>\n",
       "    </tr>\n",
       "    <tr>\n",
       "      <th>Other Programs</th>\n",
       "      <td>120</td>\n",
       "      <td>234</td>\n",
       "    </tr>\n",
       "    <tr>\n",
       "      <th>College</th>\n",
       "      <td>73</td>\n",
       "      <td>144</td>\n",
       "    </tr>\n",
       "    <tr>\n",
       "      <th>Postgraduate</th>\n",
       "      <td>6</td>\n",
       "      <td>6</td>\n",
       "    </tr>\n",
       "    <tr>\n",
       "      <th>Preschool</th>\n",
       "      <td>1</td>\n",
       "      <td>0</td>\n",
       "    </tr>\n",
       "  </tbody>\n",
       "</table>\n",
       "</div>"
      ],
      "text/plain": [
       "                                                    Rural  Urban\n",
       "Household Head Highest Grade Completed Classifi...              \n",
       "Elementary                                            477    147\n",
       "High School                                           323    469\n",
       "Other Programs                                        120    234\n",
       "College                                                73    144\n",
       "Postgraduate                                            6      6\n",
       "Preschool                                               1      0"
      ]
     },
     "execution_count": 136,
     "metadata": {},
     "output_type": "execute_result"
    }
   ],
   "source": [
    "# Convert to table\n",
    "\n",
    "table = pd.DataFrame([counts[\"Rural\"], counts[\"Urban\"]], index=[\"Rural\", \"Urban\"]).transpose()\n",
    "table[\"Urban\"] = table[\"Urban\"].fillna(0).apply(np.int64)\n",
    "table[\"Rural\"] = table[\"Rural\"].apply(np.int64)\n",
    "table"
   ]
  },
  {
   "cell_type": "markdown",
   "id": "18c7c7fd",
   "metadata": {},
   "source": [
    "We will now then use the `chi2_contigency` function fron `scipy` to perform a Chi-square test on this sample. By using the function we will be able to get the follow:\n",
    "- The test statistic.\n",
    "- The $p$-value of the test.\n",
    "- Degrees of freedom of the test."
   ]
  },
  {
   "cell_type": "markdown",
   "id": "5f448632",
   "metadata": {},
   "source": [
    "Compute the $p$-value."
   ]
  },
  {
   "cell_type": "code",
   "execution_count": 138,
   "id": "3831e301",
   "metadata": {},
   "outputs": [
    {
     "data": {
      "text/plain": [
       "(262.3756513366956,\n",
       " 1.2134209956031353e-54,\n",
       " 5,\n",
       " array([[312. , 312. ],\n",
       "        [396. , 396. ],\n",
       "        [177. , 177. ],\n",
       "        [108.5, 108.5],\n",
       "        [  6. ,   6. ],\n",
       "        [  0.5,   0.5]]))"
      ]
     },
     "execution_count": 138,
     "metadata": {},
     "output_type": "execute_result"
    }
   ],
   "source": [
    "st.chi2_contingency(table)"
   ]
  },
  {
   "cell_type": "markdown",
   "id": "fe2f8556",
   "metadata": {},
   "source": [
    "Based on the results of the chi2_contigency function, since the  𝑝 -value is < 0.05, we can conclude that there is significant difference on the educational attainment of the household heads between urban households and rural households."
   ]
  },
  {
   "cell_type": "markdown",
   "id": "b5a2af27",
   "metadata": {},
   "source": [
    "### Average Food Expenditure of Household by Region"
   ]
  },
  {
   "cell_type": "markdown",
   "id": "aae0a420",
   "metadata": {},
   "source": [
    "To answer this question, the variables of interest are: <br>\n",
    "- `Total Food Expenditure`<br>\n",
    "- `Region`<br>"
   ]
  },
  {
   "cell_type": "markdown",
   "id": "394d40d8",
   "metadata": {},
   "source": [
    "We can select a specific column from a `DataFrame` as a `Series` by using square brackets. For example, we can get the total food expenditures of the households involved by accessing the `Total Food Expenditure` column."
   ]
  },
  {
   "cell_type": "code",
   "execution_count": 101,
   "id": "06c3002a",
   "metadata": {},
   "outputs": [
    {
     "data": {
      "text/plain": [
       "0        117848\n",
       "1         67766\n",
       "2         61609\n",
       "3         78189\n",
       "4         94625\n",
       "          ...  \n",
       "41539     44875\n",
       "41540     31157\n",
       "41541     45882\n",
       "41542     81416\n",
       "41543     78195\n",
       "Name: Total Food Expenditure, Length: 41543, dtype: int64"
      ]
     },
     "execution_count": 101,
     "metadata": {},
     "output_type": "execute_result"
    }
   ],
   "source": [
    "income_df[\"Total Food Expenditure\"]"
   ]
  },
  {
   "cell_type": "markdown",
   "id": "fcb9bb61",
   "metadata": {},
   "source": [
    "In order to get an understanding of numerical values in the dataset, a histogram may be used. Let us try to use one to visualize the total food expenditures across all households in the dataset. To do this, we call the `hist` function of the `DataFrame` which in turn calls the appropriate matplotlib function.\n",
    "\n",
    "We also call the show function to display the graph."
   ]
  },
  {
   "cell_type": "code",
   "execution_count": 102,
   "id": "3bbd32f1",
   "metadata": {},
   "outputs": [
    {
     "data": {
      "image/png": "[encoded data removed]",
      "text/plain": [
       "<Figure size 432x288 with 1 Axes>"
      ]
     },
     "metadata": {
      "needs_background": "light"
     },
     "output_type": "display_data"
    }
   ],
   "source": [
    "income_df.hist(\"Total Food Expenditure\", bins = 30) \n",
    "plt.show()"
   ]
  },
  {
   "cell_type": "markdown",
   "id": "14375c29",
   "metadata": {},
   "source": [
    "As you can see, the `Total Food Expenditure` for all households is positively skewed. This means that most of the values are clustered on the left hand side of the histogram."
   ]
  },
  {
   "cell_type": "markdown",
   "id": "245838fe",
   "metadata": {},
   "source": [
    "How about we try to investigate the total food expenditures for households in NCR only? In order to do this, we have to consider **only the observations in which the region is NCR**."
   ]
  },
  {
   "cell_type": "code",
   "execution_count": 104,
   "id": "d1f55246",
   "metadata": {},
   "outputs": [
    {
     "data": {
      "text/html": [
       "<div>\n",
       "<style scoped>\n",
       "    .dataframe tbody tr th:only-of-type {\n",
       "        vertical-align: middle;\n",
       "    }\n",
       "\n",
       "    .dataframe tbody tr th {\n",
       "        vertical-align: top;\n",
       "    }\n",
       "\n",
       "    .dataframe thead th {\n",
       "        text-align: right;\n",
       "    }\n",
       "</style>\n",
       "<table border=\"1\" class=\"dataframe\">\n",
       "  <thead>\n",
       "    <tr style=\"text-align: right;\">\n",
       "      <th></th>\n",
       "      <th>Total Household Income</th>\n",
       "      <th>Region</th>\n",
       "      <th>Total Food Expenditure</th>\n",
       "      <th>Main Source of Income</th>\n",
       "      <th>Agricultural Household indicator</th>\n",
       "      <th>Bread and Cereals Expenditure</th>\n",
       "      <th>Total Rice Expenditure</th>\n",
       "      <th>Meat Expenditure</th>\n",
       "      <th>Total Fish and  marine products Expenditure</th>\n",
       "      <th>Fruit Expenditure</th>\n",
       "      <th>...</th>\n",
       "      <th>Number of Washing Machine</th>\n",
       "      <th>Number of Airconditioner</th>\n",
       "      <th>Number of Car, Jeep, Van</th>\n",
       "      <th>Number of Landline/wireless telephones</th>\n",
       "      <th>Number of Cellular phone</th>\n",
       "      <th>Number of Personal Computer</th>\n",
       "      <th>Number of Stove with Oven/Gas Range</th>\n",
       "      <th>Number of Motorized Banca</th>\n",
       "      <th>Number of Motorcycle/Tricycle</th>\n",
       "      <th>Household with Minors (0-17yrs)</th>\n",
       "    </tr>\n",
       "  </thead>\n",
       "  <tbody>\n",
       "    <tr>\n",
       "      <th>20475</th>\n",
       "      <td>623738</td>\n",
       "      <td>NCR</td>\n",
       "      <td>133762</td>\n",
       "      <td>Wage/Salaries</td>\n",
       "      <td>0</td>\n",
       "      <td>21969</td>\n",
       "      <td>13000</td>\n",
       "      <td>15192</td>\n",
       "      <td>10438</td>\n",
       "      <td>3690</td>\n",
       "      <td>...</td>\n",
       "      <td>1</td>\n",
       "      <td>1</td>\n",
       "      <td>0</td>\n",
       "      <td>1</td>\n",
       "      <td>3</td>\n",
       "      <td>1</td>\n",
       "      <td>1</td>\n",
       "      <td>0</td>\n",
       "      <td>0</td>\n",
       "      <td>0</td>\n",
       "    </tr>\n",
       "    <tr>\n",
       "      <th>20476</th>\n",
       "      <td>301900</td>\n",
       "      <td>NCR</td>\n",
       "      <td>109815</td>\n",
       "      <td>Wage/Salaries</td>\n",
       "      <td>0</td>\n",
       "      <td>22158</td>\n",
       "      <td>17550</td>\n",
       "      <td>14679</td>\n",
       "      <td>4260</td>\n",
       "      <td>3420</td>\n",
       "      <td>...</td>\n",
       "      <td>1</td>\n",
       "      <td>0</td>\n",
       "      <td>0</td>\n",
       "      <td>0</td>\n",
       "      <td>2</td>\n",
       "      <td>1</td>\n",
       "      <td>0</td>\n",
       "      <td>0</td>\n",
       "      <td>0</td>\n",
       "      <td>0</td>\n",
       "    </tr>\n",
       "    <tr>\n",
       "      <th>20477</th>\n",
       "      <td>169200</td>\n",
       "      <td>NCR</td>\n",
       "      <td>47653</td>\n",
       "      <td>Other sources of Income</td>\n",
       "      <td>0</td>\n",
       "      <td>13260</td>\n",
       "      <td>8450</td>\n",
       "      <td>3370</td>\n",
       "      <td>1080</td>\n",
       "      <td>120</td>\n",
       "      <td>...</td>\n",
       "      <td>1</td>\n",
       "      <td>0</td>\n",
       "      <td>0</td>\n",
       "      <td>0</td>\n",
       "      <td>2</td>\n",
       "      <td>1</td>\n",
       "      <td>0</td>\n",
       "      <td>0</td>\n",
       "      <td>0</td>\n",
       "      <td>0</td>\n",
       "    </tr>\n",
       "    <tr>\n",
       "      <th>20478</th>\n",
       "      <td>428200</td>\n",
       "      <td>NCR</td>\n",
       "      <td>179808</td>\n",
       "      <td>Wage/Salaries</td>\n",
       "      <td>0</td>\n",
       "      <td>20996</td>\n",
       "      <td>12350</td>\n",
       "      <td>24016</td>\n",
       "      <td>7920</td>\n",
       "      <td>3550</td>\n",
       "      <td>...</td>\n",
       "      <td>1</td>\n",
       "      <td>1</td>\n",
       "      <td>0</td>\n",
       "      <td>0</td>\n",
       "      <td>2</td>\n",
       "      <td>1</td>\n",
       "      <td>0</td>\n",
       "      <td>0</td>\n",
       "      <td>0</td>\n",
       "      <td>1</td>\n",
       "    </tr>\n",
       "    <tr>\n",
       "      <th>20479</th>\n",
       "      <td>283100</td>\n",
       "      <td>NCR</td>\n",
       "      <td>123872</td>\n",
       "      <td>Other sources of Income</td>\n",
       "      <td>0</td>\n",
       "      <td>17060</td>\n",
       "      <td>13350</td>\n",
       "      <td>18478</td>\n",
       "      <td>13320</td>\n",
       "      <td>3830</td>\n",
       "      <td>...</td>\n",
       "      <td>1</td>\n",
       "      <td>0</td>\n",
       "      <td>0</td>\n",
       "      <td>0</td>\n",
       "      <td>2</td>\n",
       "      <td>1</td>\n",
       "      <td>0</td>\n",
       "      <td>0</td>\n",
       "      <td>0</td>\n",
       "      <td>0</td>\n",
       "    </tr>\n",
       "    <tr>\n",
       "      <th>...</th>\n",
       "      <td>...</td>\n",
       "      <td>...</td>\n",
       "      <td>...</td>\n",
       "      <td>...</td>\n",
       "      <td>...</td>\n",
       "      <td>...</td>\n",
       "      <td>...</td>\n",
       "      <td>...</td>\n",
       "      <td>...</td>\n",
       "      <td>...</td>\n",
       "      <td>...</td>\n",
       "      <td>...</td>\n",
       "      <td>...</td>\n",
       "      <td>...</td>\n",
       "      <td>...</td>\n",
       "      <td>...</td>\n",
       "      <td>...</td>\n",
       "      <td>...</td>\n",
       "      <td>...</td>\n",
       "      <td>...</td>\n",
       "      <td>...</td>\n",
       "    </tr>\n",
       "    <tr>\n",
       "      <th>40206</th>\n",
       "      <td>396152</td>\n",
       "      <td>NCR</td>\n",
       "      <td>151505</td>\n",
       "      <td>Other sources of Income</td>\n",
       "      <td>2</td>\n",
       "      <td>39398</td>\n",
       "      <td>29860</td>\n",
       "      <td>25700</td>\n",
       "      <td>42725</td>\n",
       "      <td>1520</td>\n",
       "      <td>...</td>\n",
       "      <td>1</td>\n",
       "      <td>0</td>\n",
       "      <td>0</td>\n",
       "      <td>0</td>\n",
       "      <td>3</td>\n",
       "      <td>0</td>\n",
       "      <td>0</td>\n",
       "      <td>0</td>\n",
       "      <td>0</td>\n",
       "      <td>1</td>\n",
       "    </tr>\n",
       "    <tr>\n",
       "      <th>40207</th>\n",
       "      <td>369677</td>\n",
       "      <td>NCR</td>\n",
       "      <td>129728</td>\n",
       "      <td>Other sources of Income</td>\n",
       "      <td>2</td>\n",
       "      <td>27567</td>\n",
       "      <td>10350</td>\n",
       "      <td>24396</td>\n",
       "      <td>11540</td>\n",
       "      <td>3005</td>\n",
       "      <td>...</td>\n",
       "      <td>1</td>\n",
       "      <td>0</td>\n",
       "      <td>0</td>\n",
       "      <td>0</td>\n",
       "      <td>2</td>\n",
       "      <td>2</td>\n",
       "      <td>0</td>\n",
       "      <td>0</td>\n",
       "      <td>1</td>\n",
       "      <td>1</td>\n",
       "    </tr>\n",
       "    <tr>\n",
       "      <th>40208</th>\n",
       "      <td>358172</td>\n",
       "      <td>NCR</td>\n",
       "      <td>95769</td>\n",
       "      <td>Wage/Salaries</td>\n",
       "      <td>2</td>\n",
       "      <td>28797</td>\n",
       "      <td>19940</td>\n",
       "      <td>13270</td>\n",
       "      <td>11043</td>\n",
       "      <td>3050</td>\n",
       "      <td>...</td>\n",
       "      <td>1</td>\n",
       "      <td>0</td>\n",
       "      <td>0</td>\n",
       "      <td>0</td>\n",
       "      <td>3</td>\n",
       "      <td>0</td>\n",
       "      <td>0</td>\n",
       "      <td>0</td>\n",
       "      <td>0</td>\n",
       "      <td>0</td>\n",
       "    </tr>\n",
       "    <tr>\n",
       "      <th>40209</th>\n",
       "      <td>287135</td>\n",
       "      <td>NCR</td>\n",
       "      <td>88197</td>\n",
       "      <td>Wage/Salaries</td>\n",
       "      <td>2</td>\n",
       "      <td>25695</td>\n",
       "      <td>15385</td>\n",
       "      <td>6810</td>\n",
       "      <td>3678</td>\n",
       "      <td>1315</td>\n",
       "      <td>...</td>\n",
       "      <td>0</td>\n",
       "      <td>0</td>\n",
       "      <td>0</td>\n",
       "      <td>0</td>\n",
       "      <td>2</td>\n",
       "      <td>0</td>\n",
       "      <td>0</td>\n",
       "      <td>0</td>\n",
       "      <td>0</td>\n",
       "      <td>1</td>\n",
       "    </tr>\n",
       "    <tr>\n",
       "      <th>40210</th>\n",
       "      <td>381848</td>\n",
       "      <td>NCR</td>\n",
       "      <td>136774</td>\n",
       "      <td>Wage/Salaries</td>\n",
       "      <td>2</td>\n",
       "      <td>36683</td>\n",
       "      <td>22200</td>\n",
       "      <td>19440</td>\n",
       "      <td>9888</td>\n",
       "      <td>1510</td>\n",
       "      <td>...</td>\n",
       "      <td>1</td>\n",
       "      <td>0</td>\n",
       "      <td>0</td>\n",
       "      <td>0</td>\n",
       "      <td>5</td>\n",
       "      <td>0</td>\n",
       "      <td>0</td>\n",
       "      <td>0</td>\n",
       "      <td>1</td>\n",
       "      <td>1</td>\n",
       "    </tr>\n",
       "  </tbody>\n",
       "</table>\n",
       "<p>4129 rows × 61 columns</p>\n",
       "</div>"
      ],
      "text/plain": [
       "       Total Household Income Region  Total Food Expenditure  \\\n",
       "20475                  623738    NCR                  133762   \n",
       "20476                  301900    NCR                  109815   \n",
       "20477                  169200    NCR                   47653   \n",
       "20478                  428200    NCR                  179808   \n",
       "20479                  283100    NCR                  123872   \n",
       "...                       ...    ...                     ...   \n",
       "40206                  396152    NCR                  151505   \n",
       "40207                  369677    NCR                  129728   \n",
       "40208                  358172    NCR                   95769   \n",
       "40209                  287135    NCR                   88197   \n",
       "40210                  381848    NCR                  136774   \n",
       "\n",
       "         Main Source of Income  Agricultural Household indicator  \\\n",
       "20475            Wage/Salaries                                 0   \n",
       "20476            Wage/Salaries                                 0   \n",
       "20477  Other sources of Income                                 0   \n",
       "20478            Wage/Salaries                                 0   \n",
       "20479  Other sources of Income                                 0   \n",
       "...                        ...                               ...   \n",
       "40206  Other sources of Income                                 2   \n",
       "40207  Other sources of Income                                 2   \n",
       "40208            Wage/Salaries                                 2   \n",
       "40209            Wage/Salaries                                 2   \n",
       "40210            Wage/Salaries                                 2   \n",
       "\n",
       "       Bread and Cereals Expenditure  Total Rice Expenditure  \\\n",
       "20475                          21969                   13000   \n",
       "20476                          22158                   17550   \n",
       "20477                          13260                    8450   \n",
       "20478                          20996                   12350   \n",
       "20479                          17060                   13350   \n",
       "...                              ...                     ...   \n",
       "40206                          39398                   29860   \n",
       "40207                          27567                   10350   \n",
       "40208                          28797                   19940   \n",
       "40209                          25695                   15385   \n",
       "40210                          36683                   22200   \n",
       "\n",
       "       Meat Expenditure  Total Fish and  marine products Expenditure  \\\n",
       "20475             15192                                        10438   \n",
       "20476             14679                                         4260   \n",
       "20477              3370                                         1080   \n",
       "20478             24016                                         7920   \n",
       "20479             18478                                        13320   \n",
       "...                 ...                                          ...   \n",
       "40206             25700                                        42725   \n",
       "40207             24396                                        11540   \n",
       "40208             13270                                        11043   \n",
       "40209              6810                                         3678   \n",
       "40210             19440                                         9888   \n",
       "\n",
       "       Fruit Expenditure  ...  Number of Washing Machine  \\\n",
       "20475               3690  ...                          1   \n",
       "20476               3420  ...                          1   \n",
       "20477                120  ...                          1   \n",
       "20478               3550  ...                          1   \n",
       "20479               3830  ...                          1   \n",
       "...                  ...  ...                        ...   \n",
       "40206               1520  ...                          1   \n",
       "40207               3005  ...                          1   \n",
       "40208               3050  ...                          1   \n",
       "40209               1315  ...                          0   \n",
       "40210               1510  ...                          1   \n",
       "\n",
       "       Number of Airconditioner  Number of Car, Jeep, Van  \\\n",
       "20475                         1                         0   \n",
       "20476                         0                         0   \n",
       "20477                         0                         0   \n",
       "20478                         1                         0   \n",
       "20479                         0                         0   \n",
       "...                         ...                       ...   \n",
       "40206                         0                         0   \n",
       "40207                         0                         0   \n",
       "40208                         0                         0   \n",
       "40209                         0                         0   \n",
       "40210                         0                         0   \n",
       "\n",
       "       Number of Landline/wireless telephones  Number of Cellular phone  \\\n",
       "20475                                       1                         3   \n",
       "20476                                       0                         2   \n",
       "20477                                       0                         2   \n",
       "20478                                       0                         2   \n",
       "20479                                       0                         2   \n",
       "...                                       ...                       ...   \n",
       "40206                                       0                         3   \n",
       "40207                                       0                         2   \n",
       "40208                                       0                         3   \n",
       "40209                                       0                         2   \n",
       "40210                                       0                         5   \n",
       "\n",
       "       Number of Personal Computer  Number of Stove with Oven/Gas Range  \\\n",
       "20475                            1                                    1   \n",
       "20476                            1                                    0   \n",
       "20477                            1                                    0   \n",
       "20478                            1                                    0   \n",
       "20479                            1                                    0   \n",
       "...                            ...                                  ...   \n",
       "40206                            0                                    0   \n",
       "40207                            2                                    0   \n",
       "40208                            0                                    0   \n",
       "40209                            0                                    0   \n",
       "40210                            0                                    0   \n",
       "\n",
       "       Number of Motorized Banca  Number of Motorcycle/Tricycle  \\\n",
       "20475                          0                              0   \n",
       "20476                          0                              0   \n",
       "20477                          0                              0   \n",
       "20478                          0                              0   \n",
       "20479                          0                              0   \n",
       "...                          ...                            ...   \n",
       "40206                          0                              0   \n",
       "40207                          0                              1   \n",
       "40208                          0                              0   \n",
       "40209                          0                              0   \n",
       "40210                          0                              1   \n",
       "\n",
       "       Household with Minors (0-17yrs)  \n",
       "20475                                0  \n",
       "20476                                0  \n",
       "20477                                0  \n",
       "20478                                1  \n",
       "20479                                0  \n",
       "...                                ...  \n",
       "40206                                1  \n",
       "40207                                1  \n",
       "40208                                0  \n",
       "40209                                1  \n",
       "40210                                1  \n",
       "\n",
       "[4129 rows x 61 columns]"
      ]
     },
     "execution_count": 104,
     "metadata": {},
     "output_type": "execute_result"
    }
   ],
   "source": [
    "income_df[income_df[\"Region\"] == \"NCR\"]"
   ]
  },
  {
   "cell_type": "markdown",
   "id": "20ea91fe",
   "metadata": {},
   "source": [
    "As you can see, the above query resulted into a new `DataFrame` containing only the households whose `Region` is \"NCR\". However, for convenience, it is better to assign this new `DataFrame` to a new variable."
   ]
  },
  {
   "cell_type": "code",
   "execution_count": 105,
   "id": "72e5bc39",
   "metadata": {},
   "outputs": [],
   "source": [
    "households_in_ncr_df = income_df[income_df[\"Region\"] == \"NCR\"]"
   ]
  },
  {
   "cell_type": "markdown",
   "id": "57bf2886",
   "metadata": {},
   "source": [
    "Once we have loaded our reduced `DataFrame`, let us plot a histogram based on total food expenditures of households in NCR."
   ]
  },
  {
   "cell_type": "code",
   "execution_count": 106,
   "id": "2f27c943",
   "metadata": {},
   "outputs": [
    {
     "data": {
      "text/plain": [
       "array([[<AxesSubplot:title={'center':'Total Food Expenditure'}>]],\n",
       "      dtype=object)"
      ]
     },
     "execution_count": 106,
     "metadata": {},
     "output_type": "execute_result"
    },
    {
     "data": {
      "image/png": "[encoded data removed]",
      "text/plain": [
       "<Figure size 432x288 with 1 Axes>"
      ]
     },
     "metadata": {
      "needs_background": "light"
     },
     "output_type": "display_data"
    }
   ],
   "source": [
    "households_in_ncr_df.hist(\"Total Food Expenditure\", bins = 30)"
   ]
  },
  {
   "cell_type": "markdown",
   "id": "f5a66bb8",
   "metadata": {},
   "source": [
    "For households in NCR, the `Total Food Expenditure` for all households is positively skewed as well."
   ]
  },
  {
   "cell_type": "markdown",
   "id": "06bb0fd4",
   "metadata": {},
   "source": [
    "In order to get the average of the `Total Food Expenditure` of all households in NCR, we will make use of the `agg` function or the aggregate function. For this function, we pass a dictionary where the key is a column name and the corresponding value is a list of functions to be applied to that column. For this case, we want to get the mean of the `Total Food Expenditure` column."
   ]
  },
  {
   "cell_type": "code",
   "execution_count": 109,
   "id": "982638d9",
   "metadata": {},
   "outputs": [
    {
     "data": {
      "text/html": [
       "<div>\n",
       "<style scoped>\n",
       "    .dataframe tbody tr th:only-of-type {\n",
       "        vertical-align: middle;\n",
       "    }\n",
       "\n",
       "    .dataframe tbody tr th {\n",
       "        vertical-align: top;\n",
       "    }\n",
       "\n",
       "    .dataframe thead th {\n",
       "        text-align: right;\n",
       "    }\n",
       "</style>\n",
       "<table border=\"1\" class=\"dataframe\">\n",
       "  <thead>\n",
       "    <tr style=\"text-align: right;\">\n",
       "      <th></th>\n",
       "      <th>Total Food Expenditure</th>\n",
       "    </tr>\n",
       "  </thead>\n",
       "  <tbody>\n",
       "    <tr>\n",
       "      <th>mean</th>\n",
       "      <td>127093.40712</td>\n",
       "    </tr>\n",
       "  </tbody>\n",
       "</table>\n",
       "</div>"
      ],
      "text/plain": [
       "      Total Food Expenditure\n",
       "mean            127093.40712"
      ]
     },
     "execution_count": 109,
     "metadata": {},
     "output_type": "execute_result"
    }
   ],
   "source": [
    "households_in_ncr_df.agg({\"Total Food Expenditure\": [\"mean\"]})"
   ]
  },
  {
   "cell_type": "markdown",
   "id": "7c87779b",
   "metadata": {},
   "source": [
    "As you can see, the average `Total Food Expenditure` of households in NCR is **Php 127093.41**"
   ]
  },
  {
   "cell_type": "markdown",
   "id": "69d5c0eb",
   "metadata": {},
   "source": [
    "### Average Total Income of Households with at Least One Minor"
   ]
  },
  {
   "cell_type": "markdown",
   "id": "72788bc9",
   "metadata": {},
   "source": [
    "For this question, the variables of interest are:\n",
    "    - Members with age less than 5 year old\n",
    "    - Members with age 5-17 years old\n",
    "    - Total Household Income"
   ]
  },
  {
   "cell_type": "markdown",
   "id": "349aac24",
   "metadata": {},
   "source": [
    "For this notebook, a minor would be defined as someone who is **below 18 years old**. Since there are 2 variables that make up members with age of 0 - 17 years old, it is better to make a new column combining the two variables."
   ]
  },
  {
   "cell_type": "code",
   "execution_count": 111,
   "id": "af1d1f8e",
   "metadata": {},
   "outputs": [],
   "source": [
    "income_df[\"Members that are minors\"] = income_df[\"Members with age less than 5 year old\"] + income_df[\"Members with age 5 - 17 years old\"]"
   ]
  },
  {
   "cell_type": "markdown",
   "id": "285e41bc",
   "metadata": {},
   "source": [
    "This code basically combines the values of members with age less than 5 years old and members with age 5 - 17 years old into a new column in the dataset. We called it `Members that are minors`. We then define a new `DataFrame` containing all households with at least one minor."
   ]
  },
  {
   "cell_type": "code",
   "execution_count": 112,
   "id": "4e0e87df",
   "metadata": {},
   "outputs": [
    {
     "data": {
      "text/html": [
       "<div>\n",
       "<style scoped>\n",
       "    .dataframe tbody tr th:only-of-type {\n",
       "        vertical-align: middle;\n",
       "    }\n",
       "\n",
       "    .dataframe tbody tr th {\n",
       "        vertical-align: top;\n",
       "    }\n",
       "\n",
       "    .dataframe thead th {\n",
       "        text-align: right;\n",
       "    }\n",
       "</style>\n",
       "<table border=\"1\" class=\"dataframe\">\n",
       "  <thead>\n",
       "    <tr style=\"text-align: right;\">\n",
       "      <th></th>\n",
       "      <th>Total Household Income</th>\n",
       "      <th>Region</th>\n",
       "      <th>Total Food Expenditure</th>\n",
       "      <th>Main Source of Income</th>\n",
       "      <th>Agricultural Household indicator</th>\n",
       "      <th>Bread and Cereals Expenditure</th>\n",
       "      <th>Total Rice Expenditure</th>\n",
       "      <th>Meat Expenditure</th>\n",
       "      <th>Total Fish and  marine products Expenditure</th>\n",
       "      <th>Fruit Expenditure</th>\n",
       "      <th>...</th>\n",
       "      <th>Number of Airconditioner</th>\n",
       "      <th>Number of Car, Jeep, Van</th>\n",
       "      <th>Number of Landline/wireless telephones</th>\n",
       "      <th>Number of Cellular phone</th>\n",
       "      <th>Number of Personal Computer</th>\n",
       "      <th>Number of Stove with Oven/Gas Range</th>\n",
       "      <th>Number of Motorized Banca</th>\n",
       "      <th>Number of Motorcycle/Tricycle</th>\n",
       "      <th>Household with Minors (0-17yrs)</th>\n",
       "      <th>Members that are minors</th>\n",
       "    </tr>\n",
       "  </thead>\n",
       "  <tbody>\n",
       "    <tr>\n",
       "      <th>0</th>\n",
       "      <td>480332</td>\n",
       "      <td>CAR</td>\n",
       "      <td>117848</td>\n",
       "      <td>Wage/Salaries</td>\n",
       "      <td>0</td>\n",
       "      <td>42140</td>\n",
       "      <td>38300</td>\n",
       "      <td>24676</td>\n",
       "      <td>16806</td>\n",
       "      <td>3325</td>\n",
       "      <td>...</td>\n",
       "      <td>0</td>\n",
       "      <td>0</td>\n",
       "      <td>0</td>\n",
       "      <td>2</td>\n",
       "      <td>1</td>\n",
       "      <td>0</td>\n",
       "      <td>0</td>\n",
       "      <td>1</td>\n",
       "      <td>1</td>\n",
       "      <td>1</td>\n",
       "    </tr>\n",
       "    <tr>\n",
       "      <th>1</th>\n",
       "      <td>198235</td>\n",
       "      <td>CAR</td>\n",
       "      <td>67766</td>\n",
       "      <td>Wage/Salaries</td>\n",
       "      <td>0</td>\n",
       "      <td>17329</td>\n",
       "      <td>13008</td>\n",
       "      <td>17434</td>\n",
       "      <td>11073</td>\n",
       "      <td>2035</td>\n",
       "      <td>...</td>\n",
       "      <td>0</td>\n",
       "      <td>0</td>\n",
       "      <td>0</td>\n",
       "      <td>3</td>\n",
       "      <td>1</td>\n",
       "      <td>0</td>\n",
       "      <td>0</td>\n",
       "      <td>2</td>\n",
       "      <td>1</td>\n",
       "      <td>1</td>\n",
       "    </tr>\n",
       "    <tr>\n",
       "      <th>2</th>\n",
       "      <td>82785</td>\n",
       "      <td>CAR</td>\n",
       "      <td>61609</td>\n",
       "      <td>Wage/Salaries</td>\n",
       "      <td>1</td>\n",
       "      <td>34182</td>\n",
       "      <td>32001</td>\n",
       "      <td>7783</td>\n",
       "      <td>2590</td>\n",
       "      <td>1730</td>\n",
       "      <td>...</td>\n",
       "      <td>0</td>\n",
       "      <td>0</td>\n",
       "      <td>0</td>\n",
       "      <td>0</td>\n",
       "      <td>0</td>\n",
       "      <td>0</td>\n",
       "      <td>0</td>\n",
       "      <td>0</td>\n",
       "      <td>1</td>\n",
       "      <td>4</td>\n",
       "    </tr>\n",
       "    <tr>\n",
       "      <th>3</th>\n",
       "      <td>107589</td>\n",
       "      <td>CAR</td>\n",
       "      <td>78189</td>\n",
       "      <td>Wage/Salaries</td>\n",
       "      <td>0</td>\n",
       "      <td>34030</td>\n",
       "      <td>28659</td>\n",
       "      <td>10914</td>\n",
       "      <td>10812</td>\n",
       "      <td>690</td>\n",
       "      <td>...</td>\n",
       "      <td>0</td>\n",
       "      <td>0</td>\n",
       "      <td>0</td>\n",
       "      <td>1</td>\n",
       "      <td>0</td>\n",
       "      <td>0</td>\n",
       "      <td>0</td>\n",
       "      <td>0</td>\n",
       "      <td>1</td>\n",
       "      <td>3</td>\n",
       "    </tr>\n",
       "    <tr>\n",
       "      <th>6</th>\n",
       "      <td>198621</td>\n",
       "      <td>CAR</td>\n",
       "      <td>104644</td>\n",
       "      <td>Wage/Salaries</td>\n",
       "      <td>0</td>\n",
       "      <td>40992</td>\n",
       "      <td>36312</td>\n",
       "      <td>12968</td>\n",
       "      <td>12310</td>\n",
       "      <td>2565</td>\n",
       "      <td>...</td>\n",
       "      <td>0</td>\n",
       "      <td>0</td>\n",
       "      <td>0</td>\n",
       "      <td>2</td>\n",
       "      <td>0</td>\n",
       "      <td>0</td>\n",
       "      <td>0</td>\n",
       "      <td>1</td>\n",
       "      <td>1</td>\n",
       "      <td>1</td>\n",
       "    </tr>\n",
       "    <tr>\n",
       "      <th>...</th>\n",
       "      <td>...</td>\n",
       "      <td>...</td>\n",
       "      <td>...</td>\n",
       "      <td>...</td>\n",
       "      <td>...</td>\n",
       "      <td>...</td>\n",
       "      <td>...</td>\n",
       "      <td>...</td>\n",
       "      <td>...</td>\n",
       "      <td>...</td>\n",
       "      <td>...</td>\n",
       "      <td>...</td>\n",
       "      <td>...</td>\n",
       "      <td>...</td>\n",
       "      <td>...</td>\n",
       "      <td>...</td>\n",
       "      <td>...</td>\n",
       "      <td>...</td>\n",
       "      <td>...</td>\n",
       "      <td>...</td>\n",
       "      <td>...</td>\n",
       "    </tr>\n",
       "    <tr>\n",
       "      <th>41538</th>\n",
       "      <td>130636</td>\n",
       "      <td>XII - SOCCSKSARGEN</td>\n",
       "      <td>81469</td>\n",
       "      <td>Wage/Salaries</td>\n",
       "      <td>2</td>\n",
       "      <td>28563</td>\n",
       "      <td>23457</td>\n",
       "      <td>4728</td>\n",
       "      <td>12496</td>\n",
       "      <td>3508</td>\n",
       "      <td>...</td>\n",
       "      <td>0</td>\n",
       "      <td>0</td>\n",
       "      <td>0</td>\n",
       "      <td>3</td>\n",
       "      <td>0</td>\n",
       "      <td>1</td>\n",
       "      <td>0</td>\n",
       "      <td>0</td>\n",
       "      <td>1</td>\n",
       "      <td>2</td>\n",
       "    </tr>\n",
       "    <tr>\n",
       "      <th>41539</th>\n",
       "      <td>119773</td>\n",
       "      <td>XII - SOCCSKSARGEN</td>\n",
       "      <td>44875</td>\n",
       "      <td>Enterpreneurial Activities</td>\n",
       "      <td>1</td>\n",
       "      <td>23675</td>\n",
       "      <td>21542</td>\n",
       "      <td>1476</td>\n",
       "      <td>6120</td>\n",
       "      <td>1632</td>\n",
       "      <td>...</td>\n",
       "      <td>0</td>\n",
       "      <td>0</td>\n",
       "      <td>0</td>\n",
       "      <td>1</td>\n",
       "      <td>0</td>\n",
       "      <td>0</td>\n",
       "      <td>0</td>\n",
       "      <td>0</td>\n",
       "      <td>1</td>\n",
       "      <td>2</td>\n",
       "    </tr>\n",
       "    <tr>\n",
       "      <th>41540</th>\n",
       "      <td>137320</td>\n",
       "      <td>XII - SOCCSKSARGEN</td>\n",
       "      <td>31157</td>\n",
       "      <td>Enterpreneurial Activities</td>\n",
       "      <td>1</td>\n",
       "      <td>2691</td>\n",
       "      <td>1273</td>\n",
       "      <td>1886</td>\n",
       "      <td>4386</td>\n",
       "      <td>1840</td>\n",
       "      <td>...</td>\n",
       "      <td>0</td>\n",
       "      <td>0</td>\n",
       "      <td>0</td>\n",
       "      <td>3</td>\n",
       "      <td>0</td>\n",
       "      <td>0</td>\n",
       "      <td>0</td>\n",
       "      <td>0</td>\n",
       "      <td>1</td>\n",
       "      <td>3</td>\n",
       "    </tr>\n",
       "    <tr>\n",
       "      <th>41542</th>\n",
       "      <td>129500</td>\n",
       "      <td>XII - SOCCSKSARGEN</td>\n",
       "      <td>81416</td>\n",
       "      <td>Enterpreneurial Activities</td>\n",
       "      <td>1</td>\n",
       "      <td>29996</td>\n",
       "      <td>26655</td>\n",
       "      <td>2359</td>\n",
       "      <td>17730</td>\n",
       "      <td>2923</td>\n",
       "      <td>...</td>\n",
       "      <td>0</td>\n",
       "      <td>0</td>\n",
       "      <td>0</td>\n",
       "      <td>2</td>\n",
       "      <td>0</td>\n",
       "      <td>0</td>\n",
       "      <td>0</td>\n",
       "      <td>0</td>\n",
       "      <td>1</td>\n",
       "      <td>3</td>\n",
       "    </tr>\n",
       "    <tr>\n",
       "      <th>41543</th>\n",
       "      <td>128598</td>\n",
       "      <td>XII - SOCCSKSARGEN</td>\n",
       "      <td>78195</td>\n",
       "      <td>Enterpreneurial Activities</td>\n",
       "      <td>1</td>\n",
       "      <td>43485</td>\n",
       "      <td>41205</td>\n",
       "      <td>1985</td>\n",
       "      <td>7735</td>\n",
       "      <td>2062</td>\n",
       "      <td>...</td>\n",
       "      <td>0</td>\n",
       "      <td>0</td>\n",
       "      <td>0</td>\n",
       "      <td>1</td>\n",
       "      <td>0</td>\n",
       "      <td>0</td>\n",
       "      <td>0</td>\n",
       "      <td>0</td>\n",
       "      <td>1</td>\n",
       "      <td>2</td>\n",
       "    </tr>\n",
       "  </tbody>\n",
       "</table>\n",
       "<p>30060 rows × 62 columns</p>\n",
       "</div>"
      ],
      "text/plain": [
       "       Total Household Income              Region  Total Food Expenditure  \\\n",
       "0                      480332                 CAR                  117848   \n",
       "1                      198235                 CAR                   67766   \n",
       "2                       82785                 CAR                   61609   \n",
       "3                      107589                 CAR                   78189   \n",
       "6                      198621                 CAR                  104644   \n",
       "...                       ...                 ...                     ...   \n",
       "41538                  130636  XII - SOCCSKSARGEN                   81469   \n",
       "41539                  119773  XII - SOCCSKSARGEN                   44875   \n",
       "41540                  137320  XII - SOCCSKSARGEN                   31157   \n",
       "41542                  129500  XII - SOCCSKSARGEN                   81416   \n",
       "41543                  128598  XII - SOCCSKSARGEN                   78195   \n",
       "\n",
       "            Main Source of Income  Agricultural Household indicator  \\\n",
       "0                   Wage/Salaries                                 0   \n",
       "1                   Wage/Salaries                                 0   \n",
       "2                   Wage/Salaries                                 1   \n",
       "3                   Wage/Salaries                                 0   \n",
       "6                   Wage/Salaries                                 0   \n",
       "...                           ...                               ...   \n",
       "41538               Wage/Salaries                                 2   \n",
       "41539  Enterpreneurial Activities                                 1   \n",
       "41540  Enterpreneurial Activities                                 1   \n",
       "41542  Enterpreneurial Activities                                 1   \n",
       "41543  Enterpreneurial Activities                                 1   \n",
       "\n",
       "       Bread and Cereals Expenditure  Total Rice Expenditure  \\\n",
       "0                              42140                   38300   \n",
       "1                              17329                   13008   \n",
       "2                              34182                   32001   \n",
       "3                              34030                   28659   \n",
       "6                              40992                   36312   \n",
       "...                              ...                     ...   \n",
       "41538                          28563                   23457   \n",
       "41539                          23675                   21542   \n",
       "41540                           2691                    1273   \n",
       "41542                          29996                   26655   \n",
       "41543                          43485                   41205   \n",
       "\n",
       "       Meat Expenditure  Total Fish and  marine products Expenditure  \\\n",
       "0                 24676                                        16806   \n",
       "1                 17434                                        11073   \n",
       "2                  7783                                         2590   \n",
       "3                 10914                                        10812   \n",
       "6                 12968                                        12310   \n",
       "...                 ...                                          ...   \n",
       "41538              4728                                        12496   \n",
       "41539              1476                                         6120   \n",
       "41540              1886                                         4386   \n",
       "41542              2359                                        17730   \n",
       "41543              1985                                         7735   \n",
       "\n",
       "       Fruit Expenditure  ...  Number of Airconditioner  \\\n",
       "0                   3325  ...                         0   \n",
       "1                   2035  ...                         0   \n",
       "2                   1730  ...                         0   \n",
       "3                    690  ...                         0   \n",
       "6                   2565  ...                         0   \n",
       "...                  ...  ...                       ...   \n",
       "41538               3508  ...                         0   \n",
       "41539               1632  ...                         0   \n",
       "41540               1840  ...                         0   \n",
       "41542               2923  ...                         0   \n",
       "41543               2062  ...                         0   \n",
       "\n",
       "       Number of Car, Jeep, Van  Number of Landline/wireless telephones  \\\n",
       "0                             0                                       0   \n",
       "1                             0                                       0   \n",
       "2                             0                                       0   \n",
       "3                             0                                       0   \n",
       "6                             0                                       0   \n",
       "...                         ...                                     ...   \n",
       "41538                         0                                       0   \n",
       "41539                         0                                       0   \n",
       "41540                         0                                       0   \n",
       "41542                         0                                       0   \n",
       "41543                         0                                       0   \n",
       "\n",
       "       Number of Cellular phone  Number of Personal Computer  \\\n",
       "0                             2                            1   \n",
       "1                             3                            1   \n",
       "2                             0                            0   \n",
       "3                             1                            0   \n",
       "6                             2                            0   \n",
       "...                         ...                          ...   \n",
       "41538                         3                            0   \n",
       "41539                         1                            0   \n",
       "41540                         3                            0   \n",
       "41542                         2                            0   \n",
       "41543                         1                            0   \n",
       "\n",
       "       Number of Stove with Oven/Gas Range  Number of Motorized Banca  \\\n",
       "0                                        0                          0   \n",
       "1                                        0                          0   \n",
       "2                                        0                          0   \n",
       "3                                        0                          0   \n",
       "6                                        0                          0   \n",
       "...                                    ...                        ...   \n",
       "41538                                    1                          0   \n",
       "41539                                    0                          0   \n",
       "41540                                    0                          0   \n",
       "41542                                    0                          0   \n",
       "41543                                    0                          0   \n",
       "\n",
       "       Number of Motorcycle/Tricycle  Household with Minors (0-17yrs)  \\\n",
       "0                                  1                                1   \n",
       "1                                  2                                1   \n",
       "2                                  0                                1   \n",
       "3                                  0                                1   \n",
       "6                                  1                                1   \n",
       "...                              ...                              ...   \n",
       "41538                              0                                1   \n",
       "41539                              0                                1   \n",
       "41540                              0                                1   \n",
       "41542                              0                                1   \n",
       "41543                              0                                1   \n",
       "\n",
       "       Members that are minors  \n",
       "0                            1  \n",
       "1                            1  \n",
       "2                            4  \n",
       "3                            3  \n",
       "6                            1  \n",
       "...                        ...  \n",
       "41538                        2  \n",
       "41539                        2  \n",
       "41540                        3  \n",
       "41542                        3  \n",
       "41543                        2  \n",
       "\n",
       "[30060 rows x 62 columns]"
      ]
     },
     "execution_count": 112,
     "metadata": {},
     "output_type": "execute_result"
    }
   ],
   "source": [
    "households_w_minor_df = income_df[(income_df[\"Members that are minors\"] > 0)]\n",
    "households_w_minor_df"
   ]
  },
  {
   "cell_type": "markdown",
   "id": "e07c14ad",
   "metadata": {},
   "source": [
    "Now we plot the `Total Household Income` of all households with at least one minor in a histogram."
   ]
  },
  {
   "cell_type": "code",
   "execution_count": 114,
   "id": "9db5137a",
   "metadata": {},
   "outputs": [
    {
     "data": {
      "image/png": "[encoded data removed]",
      "text/plain": [
       "<Figure size 432x288 with 1 Axes>"
      ]
     },
     "metadata": {
      "needs_background": "light"
     },
     "output_type": "display_data"
    }
   ],
   "source": [
    "households_w_minor_df.hist(\"Total Household Income\", bins = 60)\n",
    "plt.show()"
   ]
  },
  {
   "cell_type": "markdown",
   "id": "4e0d2c6d",
   "metadata": {},
   "source": [
    "As you can see, the `Total Household Income` of all households with at least one minor is positively skewed."
   ]
  },
  {
   "cell_type": "markdown",
   "id": "8b630497",
   "metadata": {},
   "source": [
    "We then find the mean of the `Total Household Income` by once again using the aggregate (`agg`) function."
   ]
  },
  {
   "cell_type": "code",
   "execution_count": 116,
   "id": "0f451674",
   "metadata": {},
   "outputs": [
    {
     "data": {
      "text/html": [
       "<div>\n",
       "<style scoped>\n",
       "    .dataframe tbody tr th:only-of-type {\n",
       "        vertical-align: middle;\n",
       "    }\n",
       "\n",
       "    .dataframe tbody tr th {\n",
       "        vertical-align: top;\n",
       "    }\n",
       "\n",
       "    .dataframe thead th {\n",
       "        text-align: right;\n",
       "    }\n",
       "</style>\n",
       "<table border=\"1\" class=\"dataframe\">\n",
       "  <thead>\n",
       "    <tr style=\"text-align: right;\">\n",
       "      <th></th>\n",
       "      <th>Total Household Income</th>\n",
       "    </tr>\n",
       "  </thead>\n",
       "  <tbody>\n",
       "    <tr>\n",
       "      <th>mean</th>\n",
       "      <td>247928.404757</td>\n",
       "    </tr>\n",
       "  </tbody>\n",
       "</table>\n",
       "</div>"
      ],
      "text/plain": [
       "      Total Household Income\n",
       "mean           247928.404757"
      ]
     },
     "execution_count": 116,
     "metadata": {},
     "output_type": "execute_result"
    }
   ],
   "source": [
    "households_w_minor_df.agg({\"Total Household Income\": [\"mean\"]})"
   ]
  },
  {
   "cell_type": "markdown",
   "id": "f4ffb3a2",
   "metadata": {},
   "source": [
    "Based on the value that the aggregate function returned, the average `Total Household Income` for all households with at least one minor is **Php 247928.40**."
   ]
  },
  {
   "cell_type": "markdown",
   "id": "611149fc",
   "metadata": {},
   "source": [
    "### Average Expenditures on Clothing, Footwear, and Other Wear by Region"
   ]
  },
  {
   "cell_type": "markdown",
   "id": "3200ee8c",
   "metadata": {},
   "source": [
    "Lastly, let us try to find which region spends the most, on average, on clothing, footwear, and other wear expenditures. \n",
    "\n",
    "The variables of interest are:\n",
    "    - Region\n",
    "    - Clothing, Footwear and Other Wear Expenditure"
   ]
  },
  {
   "cell_type": "markdown",
   "id": "87b3e774",
   "metadata": {},
   "source": [
    "Before working on the question, let us first sort the regions starting with those that have no region number (ARMM, CAR, and NCR), followed by ones with a region number. A function called `CategoricalDtype` will be used to sort values in a certain column in a certain manner."
   ]
  },
  {
   "cell_type": "code",
   "execution_count": 118,
   "id": "167c4f72",
   "metadata": {},
   "outputs": [],
   "source": [
    "region_order = pd.CategoricalDtype(\n",
    "    [\"ARMM\", \"CAR\", \"NCR\", \"I - Ilocos Region\", \"II - Cagayan Valley\", \"III - Central Luzon\", \"IVA - Calabarzon\", \"IVB - MIMAROPA\", \"V - Bicol Region\",\n",
    "     \"VI - Western Visayas\", \"VII - Central Visayas\", \"VIII - Eastern Visayas\", \"IX - Zamboanga Peninsula\", \"X - Northern Mindanao\", \"XI - Davao Region\",\n",
    "     \"XII - Soccsksargen\", \"XIII - Caraga\"],\n",
    "    ordered = True\n",
    ")\n",
    "\n",
    "income_df[\"Region\"] = income_df[\"Region\"].astype(region_order)"
   ]
  },
  {
   "cell_type": "markdown",
   "id": "497b19ea",
   "metadata": {},
   "source": [
    "There are cases where we want to form groups in datasets. In order to determine the region that spends the most on average clothing, footwear, and other wear expenditures. To do this, we can use the groupby function. This function groups the dataset based on the value of each observation for that function. We then call the aggregate function in order to perform aggregation per group."
   ]
  },
  {
   "cell_type": "code",
   "execution_count": 119,
   "id": "2d3bdae5",
   "metadata": {},
   "outputs": [
    {
     "data": {
      "text/html": [
       "<div>\n",
       "<style scoped>\n",
       "    .dataframe tbody tr th:only-of-type {\n",
       "        vertical-align: middle;\n",
       "    }\n",
       "\n",
       "    .dataframe tbody tr th {\n",
       "        vertical-align: top;\n",
       "    }\n",
       "\n",
       "    .dataframe thead tr th {\n",
       "        text-align: left;\n",
       "    }\n",
       "\n",
       "    .dataframe thead tr:last-of-type th {\n",
       "        text-align: right;\n",
       "    }\n",
       "</style>\n",
       "<table border=\"1\" class=\"dataframe\">\n",
       "  <thead>\n",
       "    <tr>\n",
       "      <th></th>\n",
       "      <th>Clothing, Footwear and Other Wear Expenditure</th>\n",
       "    </tr>\n",
       "    <tr>\n",
       "      <th></th>\n",
       "      <th>mean</th>\n",
       "    </tr>\n",
       "    <tr>\n",
       "      <th>Region</th>\n",
       "      <th></th>\n",
       "    </tr>\n",
       "  </thead>\n",
       "  <tbody>\n",
       "    <tr>\n",
       "      <th>ARMM</th>\n",
       "      <td>2719.066281</td>\n",
       "    </tr>\n",
       "    <tr>\n",
       "      <th>CAR</th>\n",
       "      <td>5720.245797</td>\n",
       "    </tr>\n",
       "    <tr>\n",
       "      <th>NCR</th>\n",
       "      <td>6978.329620</td>\n",
       "    </tr>\n",
       "    <tr>\n",
       "      <th>I - Ilocos Region</th>\n",
       "      <td>5185.354344</td>\n",
       "    </tr>\n",
       "    <tr>\n",
       "      <th>II - Cagayan Valley</th>\n",
       "      <td>3758.884633</td>\n",
       "    </tr>\n",
       "    <tr>\n",
       "      <th>III - Central Luzon</th>\n",
       "      <td>5635.670992</td>\n",
       "    </tr>\n",
       "    <tr>\n",
       "      <th>IVA - Calabarzon</th>\n",
       "      <td>NaN</td>\n",
       "    </tr>\n",
       "    <tr>\n",
       "      <th>IVB - MIMAROPA</th>\n",
       "      <td>4989.000000</td>\n",
       "    </tr>\n",
       "    <tr>\n",
       "      <th>V - Bicol Region</th>\n",
       "      <td>4263.286812</td>\n",
       "    </tr>\n",
       "    <tr>\n",
       "      <th>VI - Western Visayas</th>\n",
       "      <td>4820.843914</td>\n",
       "    </tr>\n",
       "    <tr>\n",
       "      <th>VII - Central Visayas</th>\n",
       "      <td>4376.978355</td>\n",
       "    </tr>\n",
       "    <tr>\n",
       "      <th>VIII - Eastern Visayas</th>\n",
       "      <td>3816.723149</td>\n",
       "    </tr>\n",
       "    <tr>\n",
       "      <th>IX - Zamboanga Peninsula</th>\n",
       "      <td>4414.360179</td>\n",
       "    </tr>\n",
       "    <tr>\n",
       "      <th>X - Northern Mindanao</th>\n",
       "      <td>4813.401166</td>\n",
       "    </tr>\n",
       "    <tr>\n",
       "      <th>XI - Davao Region</th>\n",
       "      <td>4769.494685</td>\n",
       "    </tr>\n",
       "    <tr>\n",
       "      <th>XII - Soccsksargen</th>\n",
       "      <td>NaN</td>\n",
       "    </tr>\n",
       "    <tr>\n",
       "      <th>XIII - Caraga</th>\n",
       "      <td>4888.465208</td>\n",
       "    </tr>\n",
       "  </tbody>\n",
       "</table>\n",
       "</div>"
      ],
      "text/plain": [
       "                         Clothing, Footwear and Other Wear Expenditure\n",
       "                                                                  mean\n",
       "Region                                                                \n",
       "ARMM                                                       2719.066281\n",
       "CAR                                                        5720.245797\n",
       "NCR                                                        6978.329620\n",
       "I - Ilocos Region                                          5185.354344\n",
       "II - Cagayan Valley                                        3758.884633\n",
       "III - Central Luzon                                        5635.670992\n",
       "IVA - Calabarzon                                                   NaN\n",
       "IVB - MIMAROPA                                             4989.000000\n",
       "V - Bicol Region                                           4263.286812\n",
       "VI - Western Visayas                                       4820.843914\n",
       "VII - Central Visayas                                      4376.978355\n",
       "VIII - Eastern Visayas                                     3816.723149\n",
       "IX - Zamboanga Peninsula                                   4414.360179\n",
       "X - Northern Mindanao                                      4813.401166\n",
       "XI - Davao Region                                          4769.494685\n",
       "XII - Soccsksargen                                                 NaN\n",
       "XIII - Caraga                                              4888.465208"
      ]
     },
     "execution_count": 119,
     "metadata": {},
     "output_type": "execute_result"
    }
   ],
   "source": [
    "income_df.groupby(\"Region\")\n",
    "income_df.groupby(\"Region\").agg({\"Clothing, Footwear and Other Wear Expenditure\": [\"mean\"]})"
   ]
  },
  {
   "cell_type": "markdown",
   "id": "6dd25d90",
   "metadata": {},
   "source": [
    "Based on the table presented above, the means of clothing expenditures are shown per region. \n",
    "\n",
    "We can also visualize the clothing expenditures by using a side-by-side boxplot using the `boxplot` function of matplotlib."
   ]
  },
  {
   "cell_type": "code",
   "execution_count": 120,
   "id": "c4c9e3a9",
   "metadata": {},
   "outputs": [
    {
     "data": {
      "text/plain": [
       "<AxesSubplot:title={'center':'Clothing, Footwear and Other Wear Expenditure'}, xlabel='Region'>"
      ]
     },
     "execution_count": 120,
     "metadata": {},
     "output_type": "execute_result"
    },
    {
     "data": {
      "image/png": "[encoded data removed]",
      "text/plain": [
       "<Figure size 2880x720 with 1 Axes>"
      ]
     },
     "metadata": {
      "needs_background": "light"
     },
     "output_type": "display_data"
    }
   ],
   "source": [
    "income_df.boxplot(\"Clothing, Footwear and Other Wear Expenditure\", by = \"Region\", figsize = (40, 10))"
   ]
  },
  {
   "cell_type": "markdown",
   "id": "7e741205",
   "metadata": {},
   "source": [
    "The boxplot above shows that all our columns have outliers which are outside of the inter-quartile range. \n",
    "\n",
    "All we have to do now is to sort the values so that the first row will show the region with the most average expenditures on clothing, footwear, and other wear. To do this, the `sort_values` function will be used. It accepts a variable to be sorted as its parameter. In this case, since we are looking for the region with the most average expenditures on clothing, we will be sorting the mean in descending order."
   ]
  },
  {
   "cell_type": "code",
   "execution_count": 121,
   "id": "2aed7b61",
   "metadata": {},
   "outputs": [
    {
     "data": {
      "text/html": [
       "<div>\n",
       "<style scoped>\n",
       "    .dataframe tbody tr th:only-of-type {\n",
       "        vertical-align: middle;\n",
       "    }\n",
       "\n",
       "    .dataframe tbody tr th {\n",
       "        vertical-align: top;\n",
       "    }\n",
       "\n",
       "    .dataframe thead tr th {\n",
       "        text-align: left;\n",
       "    }\n",
       "\n",
       "    .dataframe thead tr:last-of-type th {\n",
       "        text-align: right;\n",
       "    }\n",
       "</style>\n",
       "<table border=\"1\" class=\"dataframe\">\n",
       "  <thead>\n",
       "    <tr>\n",
       "      <th></th>\n",
       "      <th>Clothing, Footwear and Other Wear Expenditure</th>\n",
       "    </tr>\n",
       "    <tr>\n",
       "      <th></th>\n",
       "      <th>mean</th>\n",
       "    </tr>\n",
       "    <tr>\n",
       "      <th>Region</th>\n",
       "      <th></th>\n",
       "    </tr>\n",
       "  </thead>\n",
       "  <tbody>\n",
       "    <tr>\n",
       "      <th>NCR</th>\n",
       "      <td>6978.329620</td>\n",
       "    </tr>\n",
       "    <tr>\n",
       "      <th>CAR</th>\n",
       "      <td>5720.245797</td>\n",
       "    </tr>\n",
       "    <tr>\n",
       "      <th>III - Central Luzon</th>\n",
       "      <td>5635.670992</td>\n",
       "    </tr>\n",
       "    <tr>\n",
       "      <th>I - Ilocos Region</th>\n",
       "      <td>5185.354344</td>\n",
       "    </tr>\n",
       "    <tr>\n",
       "      <th>IVB - MIMAROPA</th>\n",
       "      <td>4989.000000</td>\n",
       "    </tr>\n",
       "    <tr>\n",
       "      <th>XIII - Caraga</th>\n",
       "      <td>4888.465208</td>\n",
       "    </tr>\n",
       "    <tr>\n",
       "      <th>VI - Western Visayas</th>\n",
       "      <td>4820.843914</td>\n",
       "    </tr>\n",
       "    <tr>\n",
       "      <th>X - Northern Mindanao</th>\n",
       "      <td>4813.401166</td>\n",
       "    </tr>\n",
       "    <tr>\n",
       "      <th>XI - Davao Region</th>\n",
       "      <td>4769.494685</td>\n",
       "    </tr>\n",
       "    <tr>\n",
       "      <th>IX - Zamboanga Peninsula</th>\n",
       "      <td>4414.360179</td>\n",
       "    </tr>\n",
       "    <tr>\n",
       "      <th>VII - Central Visayas</th>\n",
       "      <td>4376.978355</td>\n",
       "    </tr>\n",
       "    <tr>\n",
       "      <th>V - Bicol Region</th>\n",
       "      <td>4263.286812</td>\n",
       "    </tr>\n",
       "    <tr>\n",
       "      <th>VIII - Eastern Visayas</th>\n",
       "      <td>3816.723149</td>\n",
       "    </tr>\n",
       "    <tr>\n",
       "      <th>II - Cagayan Valley</th>\n",
       "      <td>3758.884633</td>\n",
       "    </tr>\n",
       "    <tr>\n",
       "      <th>ARMM</th>\n",
       "      <td>2719.066281</td>\n",
       "    </tr>\n",
       "    <tr>\n",
       "      <th>IVA - Calabarzon</th>\n",
       "      <td>NaN</td>\n",
       "    </tr>\n",
       "    <tr>\n",
       "      <th>XII - Soccsksargen</th>\n",
       "      <td>NaN</td>\n",
       "    </tr>\n",
       "  </tbody>\n",
       "</table>\n",
       "</div>"
      ],
      "text/plain": [
       "                         Clothing, Footwear and Other Wear Expenditure\n",
       "                                                                  mean\n",
       "Region                                                                \n",
       "NCR                                                        6978.329620\n",
       "CAR                                                        5720.245797\n",
       "III - Central Luzon                                        5635.670992\n",
       "I - Ilocos Region                                          5185.354344\n",
       "IVB - MIMAROPA                                             4989.000000\n",
       "XIII - Caraga                                              4888.465208\n",
       "VI - Western Visayas                                       4820.843914\n",
       "X - Northern Mindanao                                      4813.401166\n",
       "XI - Davao Region                                          4769.494685\n",
       "IX - Zamboanga Peninsula                                   4414.360179\n",
       "VII - Central Visayas                                      4376.978355\n",
       "V - Bicol Region                                           4263.286812\n",
       "VIII - Eastern Visayas                                     3816.723149\n",
       "II - Cagayan Valley                                        3758.884633\n",
       "ARMM                                                       2719.066281\n",
       "IVA - Calabarzon                                                   NaN\n",
       "XII - Soccsksargen                                                 NaN"
      ]
     },
     "execution_count": 121,
     "metadata": {},
     "output_type": "execute_result"
    }
   ],
   "source": [
    "income_df.groupby(\"Region\").agg({\"Clothing, Footwear and Other Wear Expenditure\": [\"mean\"]}).sort_values((\"Clothing, Footwear and Other Wear Expenditure\", \"mean\"), ascending = False)"
   ]
  },
  {
   "cell_type": "markdown",
   "id": "d6551160",
   "metadata": {},
   "source": [
    "As you can see, NCR spends the most on average on clothing, footwear, and other wear expenditures with an average of **Php 6978.33**."
   ]
  },
  {
   "cell_type": "markdown",
   "id": "9dcc26ad",
   "metadata": {},
   "source": [
    "## Summary of Findings"
   ]
  },
  {
   "cell_type": "markdown",
   "id": "afb239cd",
   "metadata": {},
   "source": [
    "INSERT SUMMARY"
   ]
  },
  {
   "cell_type": "markdown",
   "id": "186358d9",
   "metadata": {},
   "source": [
    "## Recommendations"
   ]
  },
  {
   "cell_type": "markdown",
   "id": "9f1fbf23",
   "metadata": {},
   "source": [
    "## References"
   ]
  },
  {
   "cell_type": "markdown",
   "id": "9c1ce0e7",
   "metadata": {},
   "source": [
    "- American Psychological Association. (2015a). APA Dictionary of Psychology (2nd ed.).\n",
    "- American Psychological Association (2015b). Measuring Socioeconomic Status and Subjective Social Status. Https://Www.apa.org. https://www.apa.org/pi/ses/resources/class/measuring-status/#:~:text=These%20measures%20generally%20ask%20participants,wealth%2C%20and%20SES%20composite%20scores.\n",
    "- Francis Paul Flores. (2017). Filipino Family Income and Expenditure. Kaggle.com. https://www.kaggle.com/datasets/grosvenpaul/family-income-and-expenditure\n",
    "- Philippine Statistics Authority (2018). 2018 Family Income and Expenditure Survey.\n"
   ]
  },
  {
   "cell_type": "markdown",
   "id": "d9c15882",
   "metadata": {},
   "source": []
  }
 ],
 "metadata": {
  "kernelspec": {
   "display_name": "Python 3 (ipykernel)",
   "language": "python",
   "name": "python3"
  },
  "language_info": {
   "codemirror_mode": {
    "name": "ipython",
    "version": 3
   },
   "file_extension": ".py",
   "mimetype": "text/x-python",
   "name": "python",
   "nbconvert_exporter": "python",
   "pygments_lexer": "ipython3",
   "version": "3.9.12"
  }
 },
 "nbformat": 4,
 "nbformat_minor": 5
}
