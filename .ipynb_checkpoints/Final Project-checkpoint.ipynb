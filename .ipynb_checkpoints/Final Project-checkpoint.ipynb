{
 "cells": [
  {
   "cell_type": "markdown",
   "id": "af3c8c41",
   "metadata": {},
   "source": [
    "# Filipino Family Income and Expenditure"
   ]
  },
  {
   "cell_type": "markdown",
   "id": "954d2194",
   "metadata": {},
   "source": [
    "### Members:\n",
    "- Fernando Magallenes Jr.\n",
    "- Heinze Kristian Moneda\n",
    "- Azriel Matthew Ortega\n",
    "- Caleb James Sonoy\n",
    "- Darren Tan"
   ]
  },
  {
   "cell_type": "markdown",
   "id": "3ca533fe",
   "metadata": {},
   "source": [
    "## The Dataset"
   ]
  },
  {
   "cell_type": "markdown",
   "id": "be820373",
   "metadata": {},
   "source": [
    "## Importing Libraries\n",
    "\n",
    "In order to analyze the dataset the following modules are required to be imported in python.\n",
    "\n",
    "- numpy is a library made up of multidimensional array objects and a collection of routines for processing those arrays.\n",
    "- pandas is a software library for Python that is designed for data manipulation and data analysis.\n",
    "- matplotlib is a software libary for data visualization, which allows us to easily render various types of graphs."
   ]
  },
  {
   "cell_type": "code",
   "execution_count": 1,
   "id": "c4d321fe",
   "metadata": {},
   "outputs": [],
   "source": [
    "import numpy as np\n",
    "import pandas as pd\n",
    "import matplotlib.pyplot as plt"
   ]
  },
  {
   "cell_type": "markdown",
   "id": "814c793c",
   "metadata": {},
   "source": [
    "## Importing the Dataset\n",
    "\n",
    "First step is to load the dataset using the pandas library. To load the dataset into a pandas Dataframe object, we call the `read_csv` function. The arguments needed for the function is the path to the csv file."
   ]
  },
  {
   "cell_type": "code",
   "execution_count": 2,
   "id": "54c296bc",
   "metadata": {},
   "outputs": [],
   "source": [
    "income_df = pd.read_csv(\"Family Income and Expenditure.csv\")"
   ]
  },
  {
   "cell_type": "code",
   "execution_count": 3,
   "id": "8c89fcb4",
   "metadata": {},
   "outputs": [
    {
     "name": "stdout",
     "output_type": "stream",
     "text": [
      "<class 'pandas.core.frame.DataFrame'>\n",
      "RangeIndex: 41544 entries, 0 to 41543\n",
      "Data columns (total 60 columns):\n",
      " #   Column                                         Non-Null Count  Dtype \n",
      "---  ------                                         --------------  ----- \n",
      " 0   Total Household Income                         41544 non-null  int64 \n",
      " 1   Region                                         41544 non-null  object\n",
      " 2   Total Food Expenditure                         41544 non-null  int64 \n",
      " 3   Main Source of Income                          41544 non-null  object\n",
      " 4   Agricultural Household indicator               41544 non-null  int64 \n",
      " 5   Bread and Cereals Expenditure                  41544 non-null  int64 \n",
      " 6   Total Rice Expenditure                         41544 non-null  int64 \n",
      " 7   Meat Expenditure                               41544 non-null  int64 \n",
      " 8   Total Fish and  marine products Expenditure    41544 non-null  int64 \n",
      " 9   Fruit Expenditure                              41544 non-null  int64 \n",
      " 10  Vegetables Expenditure                         41544 non-null  int64 \n",
      " 11  Restaurant and hotels Expenditure              41544 non-null  int64 \n",
      " 12  Alcoholic Beverages Expenditure                41544 non-null  int64 \n",
      " 13  Tobacco Expenditure                            41544 non-null  int64 \n",
      " 14  Clothing, Footwear and Other Wear Expenditure  41544 non-null  int64 \n",
      " 15  Housing and water Expenditure                  41544 non-null  int64 \n",
      " 16  Imputed House Rental Value                     41544 non-null  int64 \n",
      " 17  Medical Care Expenditure                       41544 non-null  int64 \n",
      " 18  Transportation Expenditure                     41544 non-null  int64 \n",
      " 19  Communication Expenditure                      41544 non-null  int64 \n",
      " 20  Education Expenditure                          41544 non-null  int64 \n",
      " 21  Miscellaneous Goods and Services Expenditure   41544 non-null  int64 \n",
      " 22  Special Occasions Expenditure                  41544 non-null  int64 \n",
      " 23  Crop Farming and Gardening expenses            41544 non-null  int64 \n",
      " 24  Total Income from Entrepreneurial Acitivites   41544 non-null  int64 \n",
      " 25  Household Head Sex                             41544 non-null  object\n",
      " 26  Household Head Age                             41544 non-null  int64 \n",
      " 27  Household Head Marital Status                  41544 non-null  object\n",
      " 28  Household Head Highest Grade Completed         41544 non-null  object\n",
      " 29  Household Head Job or Business Indicator       41544 non-null  object\n",
      " 30  Household Head Occupation                      34008 non-null  object\n",
      " 31  Household Head Class of Worker                 34008 non-null  object\n",
      " 32  Type of Household                              41544 non-null  object\n",
      " 33  Total Number of Family members                 41544 non-null  int64 \n",
      " 34  Members with age less than 5 year old          41544 non-null  int64 \n",
      " 35  Members with age 5 - 17 years old              41544 non-null  int64 \n",
      " 36  Total number of family members employed        41544 non-null  int64 \n",
      " 37  Type of Building/House                         41544 non-null  object\n",
      " 38  Type of Roof                                   41544 non-null  object\n",
      " 39  Type of Walls                                  41544 non-null  object\n",
      " 40  House Floor Area                               41544 non-null  int64 \n",
      " 41  House Age                                      41544 non-null  int64 \n",
      " 42  Number of bedrooms                             41544 non-null  int64 \n",
      " 43  Tenure Status                                  41544 non-null  object\n",
      " 44  Toilet Facilities                              41544 non-null  object\n",
      " 45  Electricity                                    41544 non-null  int64 \n",
      " 46  Main Source of Water Supply                    41544 non-null  object\n",
      " 47  Number of Television                           41544 non-null  int64 \n",
      " 48  Number of CD/VCD/DVD                           41544 non-null  int64 \n",
      " 49  Number of Component/Stereo set                 41544 non-null  int64 \n",
      " 50  Number of Refrigerator/Freezer                 41544 non-null  int64 \n",
      " 51  Number of Washing Machine                      41544 non-null  int64 \n",
      " 52  Number of Airconditioner                       41544 non-null  int64 \n",
      " 53  Number of Car, Jeep, Van                       41544 non-null  int64 \n",
      " 54  Number of Landline/wireless telephones         41544 non-null  int64 \n",
      " 55  Number of Cellular phone                       41544 non-null  int64 \n",
      " 56  Number of Personal Computer                    41544 non-null  int64 \n",
      " 57  Number of Stove with Oven/Gas Range            41544 non-null  int64 \n",
      " 58  Number of Motorized Banca                      41544 non-null  int64 \n",
      " 59  Number of Motorcycle/Tricycle                  41544 non-null  int64 \n",
      "dtypes: int64(45), object(15)\n",
      "memory usage: 19.0+ MB\n"
     ]
    }
   ],
   "source": [
    "income_df.info()"
   ]
  },
  {
   "cell_type": "markdown",
   "id": "3c681df0",
   "metadata": {},
   "source": [
    "## Exploratory Data Analysis"
   ]
  },
  {
   "cell_type": "markdown",
   "id": "77089418",
   "metadata": {},
   "source": [
    "## Data Cleaning\n",
    "In this step, we will check if the dataset contains some errors or issues like null values, wrong encodings/spelling, duplicates, and inconsistencies. It is important to clean our data in order to avoid problems when performing analyses."
   ]
  },
  {
   "cell_type": "markdown",
   "id": "278bb165",
   "metadata": {},
   "source": [
    "### Checking for Nulls"
   ]
  },
  {
   "cell_type": "code",
   "execution_count": null,
   "id": "bc314c61",
   "metadata": {},
   "outputs": [],
   "source": [
    "income_df.isna().sum()"
   ]
  },
  {
   "cell_type": "markdown",
   "id": "a5804117",
   "metadata": {},
   "source": [
    "After performing null checking, we can see that there are null values in 2 variables like `Household Head Occupation` and `Household Head Class of Worker`. "
   ]
  },
  {
   "cell_type": "markdown",
   "id": "1f5af721",
   "metadata": {},
   "source": [
    "### Replacing of Nulls\n",
    "It is shown that there is a significant number of observations with null values for both variables. Instead of removing them, we will replace them with a sentinent value of `Other` to identify these observations as they can still be used for analysis."
   ]
  },
  {
   "cell_type": "markdown",
   "id": "d0aaa124",
   "metadata": {},
   "source": [
    "### `Household Head Occupation` variable"
   ]
  },
  {
   "cell_type": "code",
   "execution_count": null,
   "id": "0cfa76fa",
   "metadata": {},
   "outputs": [],
   "source": [
    "income_df['Household Head Occupation'].value_counts()"
   ]
  },
  {
   "cell_type": "code",
   "execution_count": null,
   "id": "3264d7e8",
   "metadata": {},
   "outputs": [],
   "source": [
    "income_df['Household Head Occupation'].unique()"
   ]
  },
  {
   "cell_type": "code",
   "execution_count": null,
   "id": "35ae1b15",
   "metadata": {},
   "outputs": [],
   "source": [
    "income_df['Household Head Occupation'] = income_df['Household Head Occupation'].replace(np.nan, 'Other')"
   ]
  },
  {
   "cell_type": "markdown",
   "id": "27cdd2ee",
   "metadata": {},
   "source": [
    "### `Household Head Class of Worker` variable"
   ]
  },
  {
   "cell_type": "code",
   "execution_count": null,
   "id": "24a73e58",
   "metadata": {},
   "outputs": [],
   "source": [
    "income_df['Household Head Class of Worker'].value_counts()"
   ]
  },
  {
   "cell_type": "code",
   "execution_count": null,
   "id": "3b6f72f8",
   "metadata": {},
   "outputs": [],
   "source": [
    "income_df['Household Head Class of Worker'] = income_df['Household Head Class of Worker'].replace(np.nan, 'Other')"
   ]
  },
  {
   "cell_type": "code",
   "execution_count": null,
   "id": "1d1f5d73",
   "metadata": {},
   "outputs": [],
   "source": [
    "income_df.isna().sum()"
   ]
  },
  {
   "cell_type": "markdown",
   "id": "d2b5837d",
   "metadata": {},
   "source": [
    "After performing another null checking, we can see there are no more null values found in all variables."
   ]
  },
  {
   "cell_type": "markdown",
   "id": "3a0c1ce8",
   "metadata": {},
   "source": [
    "### Checking for Wrong Encodings, Duplicates, and Inconsistencies\n",
    "Since all the null values are taken care of, we will now check the representations of the values in each categorical variable."
   ]
  },
  {
   "cell_type": "markdown",
   "id": "23e9c225",
   "metadata": {},
   "source": [
    "### `Region` variable"
   ]
  },
  {
   "cell_type": "code",
   "execution_count": null,
   "id": "01aff89a",
   "metadata": {},
   "outputs": [],
   "source": [
    "income_df['Region'].value_counts()"
   ]
  },
  {
   "cell_type": "markdown",
   "id": "0aa0f9d0",
   "metadata": {},
   "source": [
    "After checking the `Region` variable, we can see that there are misrepresentations of whitespacing, wrong spelling, and inconsistency in the values such as ` ARMM`, `IX - Zasmboanga Peninsula`, and, `Caraga`, respectively, which are found to be dirty. We will replace these values with the appropriate representations.  "
   ]
  },
  {
   "cell_type": "code",
   "execution_count": null,
   "id": "bcaa7b83",
   "metadata": {},
   "outputs": [],
   "source": [
    "income_df['Region'] = income_df['Region'].replace(' ARMM', 'ARMM')\n",
    "income_df['Region'] = income_df['Region'].replace('IX - Zasmboanga Peninsula', 'IX - Zamboanga Peninsula')\n",
    "income_df['Region'] = income_df['Region'].replace('Caraga', 'XIII - Caraga')"
   ]
  },
  {
   "cell_type": "code",
   "execution_count": null,
   "id": "3d4bf760",
   "metadata": {},
   "outputs": [],
   "source": [
    "income_df['Region'].value_counts()"
   ]
  },
  {
   "cell_type": "markdown",
   "id": "a9f363ec",
   "metadata": {},
   "source": [
    "### `Main Source of Income` variable"
   ]
  },
  {
   "cell_type": "code",
   "execution_count": null,
   "id": "726bcec6",
   "metadata": {},
   "outputs": [],
   "source": [
    "income_df['Main Source of Income'].value_counts()"
   ]
  },
  {
   "cell_type": "markdown",
   "id": "516f4251",
   "metadata": {},
   "source": [
    "There seems to be no misrepresentations in `Main Source of Income variable` upon checking."
   ]
  },
  {
   "cell_type": "markdown",
   "id": "1fb0d0c2",
   "metadata": {},
   "source": [
    "### `Agricultural Household indicator` variable"
   ]
  },
  {
   "cell_type": "code",
   "execution_count": null,
   "id": "c8feab5f",
   "metadata": {},
   "outputs": [],
   "source": [
    "income_df['Agricultural Household indicator'].value_counts()"
   ]
  },
  {
   "cell_type": "markdown",
   "id": "9e792581",
   "metadata": {},
   "source": [
    "There seems to be no misrepresentations in `Agricultural Household indicator` variable upon checking."
   ]
  },
  {
   "cell_type": "markdown",
   "id": "b7851ec3",
   "metadata": {},
   "source": [
    "### `Household Head Sex` variable"
   ]
  },
  {
   "cell_type": "code",
   "execution_count": null,
   "id": "a3eca59a",
   "metadata": {},
   "outputs": [],
   "source": [
    "income_df['Household Head Sex'].value_counts()"
   ]
  },
  {
   "cell_type": "markdown",
   "id": "a71cea45",
   "metadata": {},
   "source": [
    "There seems to be no misrepresentations in `Household Head Sex variable` variable upon checking."
   ]
  },
  {
   "cell_type": "markdown",
   "id": "3edbcc99",
   "metadata": {},
   "source": [
    "### `Household Head Marital Status` variable"
   ]
  },
  {
   "cell_type": "code",
   "execution_count": null,
   "id": "623aac91",
   "metadata": {},
   "outputs": [],
   "source": [
    "income_df['Household Head Marital Status'].value_counts()"
   ]
  },
  {
   "cell_type": "markdown",
   "id": "bbca2840",
   "metadata": {},
   "source": [
    "We can see that there is a value `Unknown` as the very least observation compared to other values upon checking so we decided to drop its entire row from the dataset by replacing it with a null value then calling the `dropna` function. "
   ]
  },
  {
   "cell_type": "code",
   "execution_count": null,
   "id": "933935b2",
   "metadata": {},
   "outputs": [],
   "source": [
    "income_df['Household Head Marital Status'] = income_df['Household Head Marital Status'].replace('Unknown', np.nan) "
   ]
  },
  {
   "cell_type": "code",
   "execution_count": null,
   "id": "2cd3175a",
   "metadata": {},
   "outputs": [],
   "source": [
    "income_df = income_df.dropna()"
   ]
  },
  {
   "cell_type": "markdown",
   "id": "d53e6b6b",
   "metadata": {},
   "source": [
    "### `Household Head Highest Grade Completed` variable"
   ]
  },
  {
   "cell_type": "code",
   "execution_count": null,
   "id": "5f122858",
   "metadata": {},
   "outputs": [],
   "source": [
    "income_df['Household Head Highest Grade Completed'].value_counts()"
   ]
  },
  {
   "cell_type": "markdown",
   "id": "6b20bfdd",
   "metadata": {},
   "source": [
    "We can see that there is a dirty duplicate value with letter casing issue surrounding the word `trades` between `Engineering and Engineering Trades Programs` and `Engineering and Engineering trades Programs` upon checking, so we decided to filter it by replacing the one with the lower case letter 't' with upper case 'T'."
   ]
  },
  {
   "cell_type": "code",
   "execution_count": null,
   "id": "a82d9670",
   "metadata": {},
   "outputs": [],
   "source": [
    "income_df['Household Head Highest Grade Completed'] = income_df['Household Head Highest Grade Completed'].replace('Engineering and Engineering trades Programs', 'Engineering and Engineering Trades Programs')"
   ]
  },
  {
   "cell_type": "code",
   "execution_count": null,
   "id": "41cb79d8",
   "metadata": {},
   "outputs": [],
   "source": [
    "income_df['Household Head Highest Grade Completed'].value_counts()"
   ]
  },
  {
   "cell_type": "markdown",
   "id": "9e01804b",
   "metadata": {},
   "source": [
    "### `Household Head Job or Business Indicator`"
   ]
  },
  {
   "cell_type": "code",
   "execution_count": null,
   "id": "bee18fba",
   "metadata": {},
   "outputs": [],
   "source": [
    "income_df['Household Head Job or Business Indicator'].value_counts()"
   ]
  },
  {
   "cell_type": "markdown",
   "id": "ea237c6e",
   "metadata": {},
   "source": [
    "There seems to be no misrepresentations in `Household Head Job or Business Indicator` variable upon checking."
   ]
  },
  {
   "cell_type": "markdown",
   "id": "ec49f2ee",
   "metadata": {},
   "source": [
    "### `Household Head Occupation` variable"
   ]
  },
  {
   "cell_type": "code",
   "execution_count": null,
   "id": "afd5819a",
   "metadata": {},
   "outputs": [],
   "source": [
    "income_df['Household Head Occupation'].unique()"
   ]
  },
  {
   "cell_type": "markdown",
   "id": "84e4830a",
   "metadata": {},
   "source": [
    "There seems to be no misrepresentations in `Household Head Occupation` variable upon checking. This is the variable earlier that had significant number of observations with null values"
   ]
  },
  {
   "cell_type": "markdown",
   "id": "0d1d6d11",
   "metadata": {},
   "source": [
    "### `Household Head Class of Worker` variable"
   ]
  },
  {
   "cell_type": "code",
   "execution_count": null,
   "id": "e4299fde",
   "metadata": {},
   "outputs": [],
   "source": [
    "income_df['Household Head Class of Worker'].value_counts()"
   ]
  },
  {
   "cell_type": "markdown",
   "id": "5a737f16",
   "metadata": {},
   "source": [
    "There seems to be no misrepresentations in `Household Head Class of Worker` variable upon checking. This is also another variable earlier that had significant number of observations with null values"
   ]
  },
  {
   "cell_type": "markdown",
   "id": "19914406",
   "metadata": {},
   "source": [
    "### `Type of Household` variable"
   ]
  },
  {
   "cell_type": "code",
   "execution_count": null,
   "id": "cfea05ac",
   "metadata": {},
   "outputs": [],
   "source": [
    "income_df['Type of Household'].value_counts()"
   ]
  },
  {
   "cell_type": "markdown",
   "id": "da13e61d",
   "metadata": {},
   "source": [
    "There seems to be no misrepresentations in `Type of Household` variable upon checking."
   ]
  },
  {
   "cell_type": "markdown",
   "id": "5dca0f05",
   "metadata": {},
   "source": [
    "### `Type of Building/House` variable"
   ]
  },
  {
   "cell_type": "code",
   "execution_count": null,
   "id": "c7ec339c",
   "metadata": {},
   "outputs": [],
   "source": [
    "income_df['Type of Building/House'].value_counts()"
   ]
  },
  {
   "cell_type": "markdown",
   "id": "77b5987a",
   "metadata": {},
   "source": [
    "There seems to be no misrepresentations in `Type of Building/House` variable upon checking."
   ]
  },
  {
   "cell_type": "markdown",
   "id": "0f506f61",
   "metadata": {},
   "source": [
    "### `Type of Roof` variable"
   ]
  },
  {
   "cell_type": "code",
   "execution_count": null,
   "id": "273aadf0",
   "metadata": {},
   "outputs": [],
   "source": [
    "income_df['Type of Roof'].value_counts()"
   ]
  },
  {
   "cell_type": "markdown",
   "id": "4faa2102",
   "metadata": {},
   "source": [
    "There seems to be no misrepresentations in `Type of Roof` variable upon checking."
   ]
  },
  {
   "cell_type": "markdown",
   "id": "6e045ed3",
   "metadata": {},
   "source": [
    "### `Type of Walls` variable"
   ]
  },
  {
   "cell_type": "code",
   "execution_count": null,
   "id": "e9222a3f",
   "metadata": {},
   "outputs": [],
   "source": [
    "income_df['Type of Walls'].value_counts()"
   ]
  },
  {
   "cell_type": "markdown",
   "id": "bc73640e",
   "metadata": {},
   "source": [
    "We can see that there is an inconsistency in the value `NOt applicable` so we decided to fix it following how it is represented in other variables."
   ]
  },
  {
   "cell_type": "markdown",
   "id": "b25c71f9",
   "metadata": {},
   "source": [
    "### `Tenure Status` variable"
   ]
  },
  {
   "cell_type": "code",
   "execution_count": null,
   "id": "60f9d0d4",
   "metadata": {},
   "outputs": [],
   "source": [
    "income_df['Tenure Status'].value_counts()"
   ]
  },
  {
   "cell_type": "markdown",
   "id": "ddbe85ce",
   "metadata": {},
   "source": [
    "There seems to be no misrepresentations in `Tenure Status` variable upon checking."
   ]
  },
  {
   "cell_type": "markdown",
   "id": "4a03db9b",
   "metadata": {},
   "source": [
    "### `Toilet Facilities` variable"
   ]
  },
  {
   "cell_type": "code",
   "execution_count": null,
   "id": "fcd7da80",
   "metadata": {},
   "outputs": [],
   "source": [
    "income_df['Toilet Facilities'].value_counts()"
   ]
  },
  {
   "cell_type": "markdown",
   "id": "f2b0c747",
   "metadata": {},
   "source": [
    "There seems to be no misrepresentations in `Toilet Facilities` variable upon checking."
   ]
  },
  {
   "cell_type": "markdown",
   "id": "5565e2b3",
   "metadata": {},
   "source": [
    "### `Main Source of Water Supply` variable"
   ]
  },
  {
   "cell_type": "code",
   "execution_count": null,
   "id": "3f23e2a8",
   "metadata": {},
   "outputs": [],
   "source": [
    "income_df['Main Source of Water Supply'].value_counts()"
   ]
  },
  {
   "cell_type": "markdown",
   "id": "8ebaac8a",
   "metadata": {},
   "source": [
    "There seems to be no misrepresentations in `Main Source of Water Supply` variable upon checking."
   ]
  },
  {
   "cell_type": "markdown",
   "id": "dc597c80",
   "metadata": {},
   "source": [
    "## Feature Extraction"
   ]
  },
  {
   "cell_type": "markdown",
   "id": "16cab6cd",
   "metadata": {},
   "source": [
    "## Data Visualization and Analysis"
   ]
  },
  {
   "cell_type": "markdown",
   "id": "9dcc26ad",
   "metadata": {},
   "source": [
    "## Summary of Findings"
   ]
  },
  {
   "cell_type": "markdown",
   "id": "186358d9",
   "metadata": {},
   "source": [
    "## Recommendations"
   ]
  },
  {
   "cell_type": "markdown",
   "id": "9f1fbf23",
   "metadata": {},
   "source": [
    "## References"
   ]
  },
  {
   "cell_type": "code",
   "execution_count": null,
   "id": "9c1ce0e7",
   "metadata": {},
   "outputs": [],
   "source": []
  }
 ],
 "metadata": {
  "kernelspec": {
   "display_name": "Python 3 (ipykernel)",
   "language": "python",
   "name": "python3"
  },
  "language_info": {
   "codemirror_mode": {
    "name": "ipython",
    "version": 3
   },
   "file_extension": ".py",
   "mimetype": "text/x-python",
   "name": "python",
   "nbconvert_exporter": "python",
   "pygments_lexer": "ipython3",
   "version": "3.9.12"
  }
 },
 "nbformat": 4,
 "nbformat_minor": 5
}
